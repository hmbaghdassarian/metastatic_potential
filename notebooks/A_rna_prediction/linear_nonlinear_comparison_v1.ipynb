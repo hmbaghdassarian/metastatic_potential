{
 "cells": [
  {
   "cell_type": "markdown",
   "id": "2b3ba685",
   "metadata": {},
   "source": [
    "In Notebook 02A, we saw that our linear models seemd to perform atleast as well as our non-linear models. Here, we formally evaluate this. We use sklearn's default hyperparameters on each model type. "
   ]
  },
  {
   "cell_type": "code",
   "execution_count": 1,
   "id": "4dba7a76",
   "metadata": {},
   "outputs": [],
   "source": [
    "# import torch\n",
    "import argparse\n",
    "import joblib\n",
    "from pathlib import Path\n",
    "import os\n",
    "\n",
    "from tqdm import tqdm\n",
    "\n",
    "import numpy as np\n",
    "import pandas as pd\n",
    "\n",
    "from sklearn.model_selection import KFold\n",
    "from sklearn.svm import SVR, LinearSVR\n",
    "from sklearn.linear_model import Lasso,Ridge,ElasticNet\n",
    "from sklearn.cross_decomposition import PLSRegression\n",
    "from sklearn.ensemble import RandomForestRegressor\n",
    "from sklearn.neighbors import KNeighborsRegressor as KNN\n",
    "from sklearn.model_selection import GridSearchCV\n",
    "import xgboost as XGB\n",
    "\n",
    "import plotnine as p9\n",
    "import matplotlib.pyplot as plt\n",
    "import seaborn as sns"
   ]
  },
  {
   "cell_type": "code",
   "execution_count": 17,
   "id": "8322d199",
   "metadata": {},
   "outputs": [],
   "source": [
    "random_state = 42\n",
    "seed = random_state\n",
    "\n",
    "data_path = '/nobackup/users/hmbaghda/metastatic_potential/'\n",
    "\n",
    "cv_folds = 10\n",
    "\n",
    "n_cores = 30\n",
    "os.environ[\"OMP_NUM_THREADS\"] = str(n_cores)\n",
    "os.environ[\"MKL_NUM_THREADS\"] = str(n_cores)\n",
    "os.environ[\"OPENBLAS_NUM_THREADS\"] = str(n_cores)\n",
    "os.environ[\"VECLIB_MAXIMUM_THREADS\"] = str(n_cores)\n",
    "os.environ[\"NUMEXPR_NUM_THREADS\"] = str(n_cores)"
   ]
  },
  {
   "cell_type": "code",
   "execution_count": 18,
   "id": "c952a1ce",
   "metadata": {},
   "outputs": [],
   "source": [
    "model_types = {'KNN': KNN(n_jobs = int(n_cores/cv_folds)),\n",
    "               'RF': RandomForestRegressor(n_jobs = int(n_cores/cv_folds), random_state = random_state),\n",
    "               'poly_SVR': SVR(kernel = 'poly'), \n",
    "               'rbf_SVR': SVR(kernel = 'rbf'),\n",
    "               'XGB': XGB.XGBRegressor(n_jobs = int(n_cores/cv_folds), random_state = random_state), \n",
    "               'linear_SVR': SVR(kernel = 'linear'), \n",
    "               'Ridge': Ridge(random_state = random_state), \n",
    "               'Lasso': Lasso(random_state = random_state),\n",
    "               'PLSR': PLSRegression(scale=False),\n",
    "              }"
   ]
  },
  {
   "cell_type": "code",
   "execution_count": 19,
   "id": "6688b661",
   "metadata": {},
   "outputs": [],
   "source": [
    "X = pd.read_csv(os.path.join(data_path, 'processed',  'expr.csv'), index_col = 0).values\n",
    "y = pd.read_csv(os.path.join(data_path, 'processed', 'metastatic_potential.csv'), index_col = 0)['mean'].values.ravel()"
   ]
  },
  {
   "cell_type": "code",
   "execution_count": null,
   "id": "17b40b58",
   "metadata": {},
   "outputs": [],
   "source": []
  },
  {
   "cell_type": "code",
   "execution_count": null,
   "id": "868df890",
   "metadata": {},
   "outputs": [],
   "source": []
  }
 ],
 "metadata": {
  "kernelspec": {
   "display_name": "Python [conda env:metastatic_potential]",
   "language": "python",
   "name": "conda-env-metastatic_potential-py"
  },
  "language_info": {
   "codemirror_mode": {
    "name": "ipython",
    "version": 3
   },
   "file_extension": ".py",
   "mimetype": "text/x-python",
   "name": "python",
   "nbconvert_exporter": "python",
   "pygments_lexer": "ipython3",
   "version": "3.13.0"
  }
 },
 "nbformat": 4,
 "nbformat_minor": 5
}
