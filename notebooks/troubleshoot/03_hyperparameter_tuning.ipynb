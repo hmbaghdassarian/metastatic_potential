{
 "cells": [
  {
   "cell_type": "code",
   "execution_count": 13,
   "id": "ad188124",
   "metadata": {},
   "outputs": [],
   "source": [
    "import os\n",
    "import itertools \n",
    "\n",
    "import pandas as pd\n",
    "import numpy as np\n",
    "\n",
    "import matplotlib.pyplot as plt\n",
    "import seaborn as sns\n",
    "\n",
    "from sklearn.ensemble import RandomForestRegressor\n",
    "from sklearn.model_selection import KFold\n",
    "from sklearn.metrics import mean_squared_error\n",
    "import scipy.stats as stats\n",
    "\n",
    "from multiprocessing import Pool\n",
    "import gc"
   ]
  },
  {
   "cell_type": "code",
   "execution_count": 14,
   "id": "d798d3c1",
   "metadata": {},
   "outputs": [],
   "source": [
    "n_cores = 24\n",
    "seed = 42\n",
    "data_path = '/nobackup/users/hmbaghda/metastatic_potential/'"
   ]
  },
  {
   "cell_type": "markdown",
   "id": "1a80b4fb",
   "metadata": {},
   "source": [
    "Load the data:"
   ]
  },
  {
   "cell_type": "code",
   "execution_count": 15,
   "id": "068c4126",
   "metadata": {},
   "outputs": [],
   "source": [
    "X_train_val = pd.read_csv(os.path.join(data_path, 'interim', 'X_train_val.csv'), index_col = 0)\n",
    "y_train_val = pd.read_csv(os.path.join(data_path, 'interim', 'y_train_val.csv'), index_col = 0)\n",
    "\n",
    "X_test = pd.read_csv(os.path.join(data_path, 'interim', 'X_test.csv'), index_col = 0)\n",
    "y_test = pd.read_csv(os.path.join(data_path, 'interim', 'y_test.csv'), index_col = 0)"
   ]
  },
  {
   "cell_type": "code",
   "execution_count": 16,
   "id": "ecc7d384",
   "metadata": {},
   "outputs": [
    {
     "name": "stdout",
     "output_type": "stream",
     "text": [
      "317 of 32144 features were selected by elastic net\n"
     ]
    },
    {
     "data": {
      "text/plain": [
       "''"
      ]
     },
     "execution_count": 16,
     "metadata": {},
     "output_type": "execute_result"
    },
    {
     "data": {
      "image/png": "[encoded data removed]",
      "text/plain": [
       "<Figure size 500x500 with 1 Axes>"
      ]
     },
     "metadata": {},
     "output_type": "display_data"
    }
   ],
   "source": [
    "selected_features = pd.read_csv(os.path.join(data_path, 'interim', 'selected_features.csv'), index_col = 0)\n",
    "print('{} of {} features were selected by elastic net'.format(selected_features.shape[0], X_train_val.shape[1]))\n",
    "\n",
    "fig, ax = plt.subplots(figsize = (5,5))\n",
    "sns.histplot(selected_features['V1'], ax = ax)\n",
    "ax.set_xlabel('No. of Selections per Feature Across 1000 Iterations')\n",
    ";\n"
   ]
  },
  {
   "cell_type": "markdown",
   "id": "30c8424b",
   "metadata": {},
   "source": [
    "Format and filter for selected features:"
   ]
  },
  {
   "cell_type": "code",
   "execution_count": 74,
   "id": "16f7ff18",
   "metadata": {},
   "outputs": [],
   "source": [
    "selected_feature_index = selected_features.index.tolist()\n",
    "selected_feature_index = ['-'.join(i.split('.')) for i in selected_feature_index] # formatting R --> python\n",
    "\n",
    "X_train_val.columns = ['-'.join(col.split('.')) for col in X_train_val.columns]\n",
    "X_test.columns = ['-'.join(col.split('.')) for col in X_test.columns]\n",
    "\n",
    "X_train_val = X_train_val.loc[:, selected_feature_index]\n",
    "X_test = X_test.loc[:, selected_feature_index]\n",
    "\n",
    "X_train_val.to_csv(os.path.join(data_path, 'interim', 'X_train_val_selected.csv'))\n",
    "X_test.to_csv(os.path.join(data_path, 'interim', 'X_test_selected.csv'))"
   ]
  },
  {
   "cell_type": "markdown",
   "id": "5e931bc5",
   "metadata": {},
   "source": [
    "Set the hyperparameters to iterate through"
   ]
  },
  {
   "cell_type": "code",
   "execution_count": 48,
   "id": "a9e65d11",
   "metadata": {},
   "outputs": [],
   "source": [
    "n_estimators_all = range(100, 1001, 250)\n",
    "max_features_all = ['sqrt', 'log2', 0.5, 0.75, 1]\n",
    "max_samples_all = [0.25, 0.5, 0.75, None]\n",
    "max_depth = [None, 10, 25, 50, 100, 200]\n",
    "min_samples_split_all = [2, 5, 10]\n",
    "min_samples_leaf_all = [1, 2, 4]\n",
    "\n",
    "\n",
    "combs = list(itertools.product(n_estimators_all, max_features_all,max_samples_all, \n",
    "                               max_depth, min_samples_split_all, min_samples_leaf_all))"
   ]
  },
  {
   "cell_type": "markdown",
   "id": "da31bf0d",
   "metadata": {},
   "source": [
    "The train/validation represents 80% of the total data. We will use 10-fold cross validation on this subset for hyperparameter tuning (72% training - 8% validation of the total data):"
   ]
  },
  {
   "cell_type": "code",
   "execution_count": 67,
   "id": "bb0a4502",
   "metadata": {},
   "outputs": [],
   "source": [
    "def par_hyperparam(hyperparams, kf, X_train_val, y_train_val):\n",
    "    \n",
    "    n_estimators, max_features, max_samples, max_depth, min_samples_split, min_samples_leaf = hyperparams\n",
    "    k_mses = []\n",
    "    for k, (train_index, test_index) in enumerate(kf.split(X_train_val, y_train_val)):\n",
    "        X_train, X_val = X_train_val.iloc[train_index], X_train_val.iloc[test_index]\n",
    "        y_train, y_val = y_train_val.iloc[train_index], y_train_val.iloc[test_index]\n",
    "\n",
    "        model = RandomForestRegressor(n_estimators = n_estimators,\n",
    "                                    max_features = max_features,\n",
    "                                    max_samples = max_samples,\n",
    "                                    bootstrap = True,\n",
    "                                    max_depth = max_depth,\n",
    "                                    min_samples_split = min_samples_split,\n",
    "                                    min_samples_leaf = min_samples_leaf,\n",
    "                                    n_jobs = 1,\n",
    "                                    random_state = seed)\n",
    "\n",
    "        model = model.fit(X_train, y_train.values.reshape(-1))\n",
    "        y_pred = model.predict(X_val)\n",
    "        y_val_values = y_val.values.reshape(-1)\n",
    "\n",
    "        k_mses.append(mean_squared_error(y_val_values, y_pred))\n",
    "    return k_mses"
   ]
  },
  {
   "cell_type": "code",
   "execution_count": null,
   "id": "5f3f27d4",
   "metadata": {},
   "outputs": [],
   "source": [
    "# #initialize dataframe to store hyperparameters and metrics in:\n",
    "kf = KFold(n_splits = 10, shuffle = True, random_state=seed)\n",
    "\n",
    "# best_mse_val = -np.inf\n",
    "# best_pearson_val = 0\n",
    "# best_spearman_val = 0\n",
    "# best_mse_params = [0, 0, 0]\n",
    "# best_mse_models = None\n",
    "\n",
    "hyperparam_names = ['n_estimators', 'max_features', 'max_samples', 'max_depth',  'min_samples_split', \n",
    "                'min_samples_leaf']\n",
    "\n",
    "# bestmodels = pd.DataFrame(index=range(10), columns=['models'])\n",
    "\n",
    "if n_cores <= 1: \n",
    "    values_index = hyperparam_names +  ['k', 'mse']#, 'pearson', 'spearman']\n",
    "    res = pd.DataFrame(columns = values_index)\n",
    "    for hyperparams in tqdm(combs):\n",
    "#         k_mses = []\n",
    "#         k_pearson = []\n",
    "#         k_spearman = []\n",
    "#         k_models = []\n",
    "\n",
    "        n_estimators, max_features, max_samples, max_depth, min_samples_split, min_samples_leaf = hyperparams\n",
    "        for k, (train_index, test_index) in enumerate(kf.split(X_train_val, y_train_val)):\n",
    "            X_train, X_val = X_train_val.iloc[train_index], X_train_val.iloc[test_index]\n",
    "            y_train, y_val = y_train_val.iloc[train_index], y_train_val.iloc[test_index]\n",
    "\n",
    "            model = RandomForestRegressor(n_estimators = n_estimators,\n",
    "                                        max_features = max_features,\n",
    "                                        max_samples = max_samples,\n",
    "                                        bootstrap = True,\n",
    "                                        max_depth = max_depth,\n",
    "                                        min_samples_split = min_samples_split,\n",
    "                                        min_samples_leaf = min_samples_leaf,\n",
    "                                        n_jobs = n_cores,\n",
    "                                        random_state = seed)\n",
    "\n",
    "            model = model.fit(X_train, y_train.values.reshape(-1))\n",
    "            y_pred = model.predict(X_val)\n",
    "            y_val_values = y_val.values.reshape(-1)\n",
    "            \n",
    "            k_mse = mean_squared_error(y_val_values, y_pred)\n",
    "#             k_pearson = stats.pearsonr(y_val_values, y_pred).statistic\n",
    "#             k_spearman = stats.spearmanr(y_val_values, y_pred).statistic\n",
    "            \n",
    "            res.loc[res.shape[0],:] = list(hyperparams) + [k, k_mse]#, k_pearson, k_spearman]\n",
    "\n",
    "#           k_mses.append(msq(y_val_values, y_pred))\n",
    "#           k_pearson.append(pearson(y_val_values, y_pred))\n",
    "#           k_spearman.append(spearman(y_val_values, y_pred))\n",
    "#           k_models.append(model)\n",
    "\n",
    "#         curr_mse = np.mean(k_mses)\n",
    "#         curr_pearson = np.mean(k_pearson)\n",
    "#         curr_spearman = np.mean(k_spearman)\n",
    "\n",
    "#         if curr_mse > best_mse_val:\n",
    "#           best_mse_val = curr_mse\n",
    "#           best_pearson_val = curr_pearson\n",
    "#           best_spearman_val = curr_spearman\n",
    "#           best_mse_params = hyperparams\n",
    "#           best_mse_models = k_models\n",
    "        # do your standard k-fold CV assessment on each of the hyperparameter combinations as before and get metrics\n",
    "else:\n",
    "    pool = Pool(processes = min(n_cores, len(combs)))\n",
    "    par_inputs = [(hyperparams, kf, X_train_val, y_train_val) for hyperparams in combs]\n",
    "    par_res = pool.starmap(par_hyperparam, par_inputs)\n",
    "    del par_inputs\n",
    "    pool.close()\n",
    "    pool.join()\n",
    "    gc.collect()\n",
    "    \n",
    "    # format results\n",
    "    rows = []\n",
    "    for k, (hyperparams, res) in enumerate(zip(combs, par_res)):\n",
    "        for value in res:\n",
    "            rows.append({**{hn: hp for hn, hp in zip(hyperparam_names, hyperparams)}, \"k\": k, \"mse\": value})\n",
    "    res = pd.DataFrame(rows)\n",
    "    \n",
    "# # # store results in a dataframe:\n",
    "# res.iloc[0, :] = list(best_mse_params) + [best_mse_val, best_pearson_val, best_spearman_val]\n",
    "# for i in range(10):\n",
    "#   bestmodels.iloc[i, 0] = best_mse_models[i]\n",
    "# save res as a csv\n",
    "res.to_csv(os.path.join(data_path, 'interim', 'hyperparams.csv'))\n",
    "# bestmodels.to_csv(os.path.join(data_path, 'bestmodels.csv'))\n",
    "\n"
   ]
  }
 ],
 "metadata": {
  "kernelspec": {
   "display_name": "Python [conda env:metastatic_potential]",
   "language": "python",
   "name": "conda-env-metastatic_potential-py"
  },
  "language_info": {
   "codemirror_mode": {
    "name": "ipython",
    "version": 3
   },
   "file_extension": ".py",
   "mimetype": "text/x-python",
   "name": "python",
   "nbconvert_exporter": "python",
   "pygments_lexer": "ipython3",
   "version": "3.13.0"
  }
 },
 "nbformat": 4,
 "nbformat_minor": 5
}
