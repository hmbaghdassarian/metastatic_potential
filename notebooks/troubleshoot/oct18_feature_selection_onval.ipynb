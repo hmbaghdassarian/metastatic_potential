{
 "cells": [
  {
   "cell_type": "code",
   "execution_count": 1,
   "id": "23202acc",
   "metadata": {},
   "outputs": [],
   "source": [
    "import pandas as pd\n",
    "import os\n",
    "\n",
    "import seaborn as sns\n",
    "import matplotlib.pyplot as plt"
   ]
  },
  {
   "cell_type": "code",
   "execution_count": 2,
   "id": "15af4e2b",
   "metadata": {},
   "outputs": [],
   "source": [
    "data_path = '/nobackup/users/hmbaghda/metastatic_potential/'\n",
    "seed = 42"
   ]
  },
  {
   "cell_type": "code",
   "execution_count": 3,
   "id": "f6e6daf7",
   "metadata": {},
   "outputs": [],
   "source": [
    "expr = pd.read_csv(os.path.join(data_path, 'raw', '140331_VSDexport.txt'), sep = '\\t', index_col = 0)\n",
    "mp = pd.read_excel(os.path.join(data_path, 'raw', 'Supplementary Table 04 MetMap 500 met potential.xlsx'), sheet_name = 'metp500.all5', index_col = 0)\n",
    "\n"
   ]
  },
  {
   "cell_type": "code",
   "execution_count": 4,
   "id": "7454fbf4",
   "metadata": {},
   "outputs": [
    {
     "name": "stderr",
     "output_type": "stream",
     "text": [
      "/tmp/ipykernel_794108/2301871897.py:22: FutureWarning: Series.__getitem__ treating keys as positions is deprecated. In a future version, integer keys will always be treated as labels (consistent with DataFrame behavior). To access a value by position, use `ser.iloc[pos]`\n",
      "  nmp1[\"mean\"].append(mp.loc[cl][2])\n"
     ]
    }
   ],
   "source": [
    "rnaseq_cl = expr.columns.tolist()\n",
    "mp_cl = mp.index.tolist()\n",
    "\n",
    "nmp1 = {\n",
    "    \"mean\": []\n",
    "}\n",
    "# mp_cell_lines = [i.split('_')[0] for i in mp_cl] # makes it \"tissue independent\"\n",
    "\n",
    "# removes any cell lines that are not specific to a single tissue\n",
    "# cl_nonunique = []\n",
    "# for cl in list(set(mp_cell_lines)):\n",
    "#     if mp_cell_lines.count(cl) > 1: # only one instance, ['TT_OESOPHAGUS', 'TT_THYROID']\n",
    "#         cl_nonunique.append(cl)\n",
    "# mp_cell_lines = set(mp_cell_lines).difference(cl_nonunique)\n",
    "# mp_cell_lines.discard('TT')\n",
    "\n",
    "mp_cell_lines = []\n",
    "temp = ''\n",
    "for cl in mp_cl:\n",
    "  temp = cl.split('_')[0]\n",
    "  if cl.split('_')[0] != 'TT':\n",
    "    nmp1[\"mean\"].append(mp.loc[cl][2])\n",
    "    mp_cell_lines.append(temp)\n",
    "\n",
    "mp_cl = list(mp_cell_lines)\n",
    "\n",
    "nmp1 = pd.DataFrame(nmp1, index = list(mp_cell_lines))"
   ]
  },
  {
   "cell_type": "code",
   "execution_count": 5,
   "id": "b9d9b7f9",
   "metadata": {},
   "outputs": [
    {
     "name": "stdout",
     "output_type": "stream",
     "text": [
      "{'mean': [np.float64(0.723024153218342), np.float64(-1.68705327028521), np.float64(1.55314515369007), np.float64(0.746753807183284), np.float64(-2.31942512703103), np.float64(-3.53179120610096), np.float64(-0.838013907216091), np.float64(0.90942286787978), np.float64(2.10532121386483), np.float64(-1.34293193367258), np.float64(-3.61079894256501), np.float64(-0.346006517522256), np.float64(-2.91563332629069), np.float64(1.56474348785382), np.float64(-3.16409978158478), np.float64(-2.99328200017323), np.float64(-3.68316601449555), np.float64(-1.49344679025561), np.float64(-2.22109214437063), np.float64(-3.12539677018611), np.float64(-2.58344323899203), np.float64(-3.87612578180331), np.float64(0.302733690299297), np.float64(0.652226159764933), np.float64(-2.40084288238938), np.float64(-0.421958085316189), np.float64(-3.25183251081306), np.float64(-1.9830030564856), np.float64(0.0263427678049299), np.float64(-0.550246721764457), np.float64(-3.60753273653153), np.float64(-3.99882131778596), np.float64(-1.53458548948811), np.float64(-3.95915633264628), np.float64(-3.73159632023532), np.float64(-1.07250505490834), np.float64(-3.35269714744284), np.float64(-1.98622421527793), np.float64(-1.85048849306736), np.float64(-3.46070471966918), np.float64(-3.51508041036438), np.float64(-3.5978076700215)]}\n",
      "['A549', 'HCC827', 'HCC1806', 'PSN1', 'A172', 'SF539', 'RKO', 'KP4', 'A2780', 'AGS', 'OAW42', 'YAPC', 'KURAMOCHI', 'A2058', 'KELLY', 'OV7', 'BEN', 'HCC4006', 'HCC1359', 'OVTOKO', 'OVSAHO', 'HCC1419', 'HPAC', 'MCAS', 'HCC78', 'RKN', 'T98G', 'HCC44', 'ACHN', 'CAL51', 'RT4', 'HCC1428', 'COV644', 'HCC38', 'HCC366', 'COV362', 'HCC1937', 'OVISE', 'HCC1143', 'LS1034', 'COV434', 'OV56']\n",
      "{'mean': [np.float64(0.723024153218342), np.float64(-1.68705327028521), np.float64(1.55314515369007), np.float64(0.746753807183284), np.float64(-2.31942512703103), np.float64(-3.53179120610096), np.float64(-0.838013907216091), np.float64(0.90942286787978), np.float64(2.10532121386483), np.float64(-1.34293193367258), np.float64(-3.61079894256501), np.float64(-0.346006517522256), np.float64(-2.91563332629069), np.float64(1.56474348785382), np.float64(-3.16409978158478), np.float64(-2.99328200017323), np.float64(-3.68316601449555), np.float64(-1.49344679025561), np.float64(-2.22109214437063), np.float64(-3.12539677018611), np.float64(-2.58344323899203), np.float64(-3.87612578180331), np.float64(0.302733690299297), np.float64(0.652226159764933), np.float64(-2.40084288238938), np.float64(-0.421958085316189), np.float64(-3.25183251081306), np.float64(-1.9830030564856), np.float64(0.0263427678049299), np.float64(-0.550246721764457), np.float64(-3.60753273653153), np.float64(-3.99882131778596), np.float64(-1.53458548948811), np.float64(-3.95915633264628), np.float64(-3.73159632023532), np.float64(-1.07250505490834), np.float64(-3.35269714744284), np.float64(-1.98622421527793), np.float64(-1.85048849306736), np.float64(-3.46070471966918), np.float64(-3.51508041036438), np.float64(-3.5978076700215), np.float64(-0.39909430971522), np.float64(-3.58153327973193), np.float64(-0.358652682045304), np.float64(-1.59567063720269), np.float64(-3.15885312937317), np.float64(-3.79406167372038), np.float64(-1.74972154434271), np.float64(0.475868555330716), np.float64(0.716422375637456), np.float64(-0.725804159677352), np.float64(-1.69926137934707), np.float64(0.372318317459179), np.float64(1.41326792559411), np.float64(-0.357271536144589), np.float64(-1.78808891577533), np.float64(-1.20753642687984), np.float64(-3.58372366497209), np.float64(-3.55484753723586), np.float64(-3.80915936526129), np.float64(-3.42394585365389), np.float64(-2.85121159273834), np.float64(-3.64539414728806), np.float64(-2.3098893233181), np.float64(1.7670374389427), np.float64(-3.42461246081762), np.float64(-2.43678422258315), np.float64(0.92021832476875), np.float64(-0.243035673692559), np.float64(-1.32013629665466), np.float64(-1.87604269903736), np.float64(-3.7145104156397), np.float64(0.015024104539137), np.float64(-3.23512673550767), np.float64(-3.36318129627397), np.float64(-3.73714544209771), np.float64(-3.53360888371597), np.float64(-1.32352393555765), np.float64(2.02045460093697), np.float64(-1.17022461405263), np.float64(2.0033156329368), np.float64(2.75420950624386), np.float64(-3.75361846724531), np.float64(-2.39121522868457), np.float64(-3.86503376414062), np.float64(-1.49406150859005), np.float64(-0.403232511734663), np.float64(-0.0486713211893566), np.float64(-1.85162598592083), np.float64(-4.06022878980384), np.float64(-3.75973795557708), np.float64(-0.121873455171516), np.float64(-0.182462326885901), np.float64(-0.649687038111908), np.float64(-0.968606112640677), np.float64(0.102855338766438), np.float64(-1.99049951412884), np.float64(-3.50638594827139), np.float64(-1.13770313673537), np.float64(-0.444870139880517), np.float64(-0.980178549186157), np.float64(-0.557036563353076), np.float64(-0.466344850602546), np.float64(-2.34668000509964), np.float64(-2.60646415298497), np.float64(-1.65982309210794), np.float64(-4.19214391081416), np.float64(-2.78389861569689), np.float64(-1.15176699880048), np.float64(-3.44935641881698), np.float64(-1.40056063068077), np.float64(-2.20429287794597), np.float64(-2.07153455169495), np.float64(-1.00794274723669), np.float64(-3.60468201775533), np.float64(-2.59199714426312), np.float64(-1.2061696532556), np.float64(-3.73568344320922), np.float64(-3.80418489110181), np.float64(-1.2791941321101), np.float64(-2.25917830047364), np.float64(-1.14912024465639), np.float64(-2.10189286666533), np.float64(1.65415647849629), np.float64(-3.07797297066933), np.float64(-3.91063417961605), np.float64(-3.59036823666944), np.float64(-0.348713024760726), np.float64(1.3593368981895), np.float64(-2.07620343619719), np.float64(0.203627793307262), np.float64(1.47072621341462), np.float64(-1.05297325351677), np.float64(-2.79600779083913), np.float64(-0.74139522104463), np.float64(0.0559848624772503), np.float64(-0.549418902461287), np.float64(-3.01733265351975), np.float64(-3.53179120610096), np.float64(-1.33466950822744), np.float64(-2.24229996361452), np.float64(-1.14137642581427), np.float64(-2.04775390081516), np.float64(-3.80915936526129), np.float64(-0.26484755741983), np.float64(0.153340820571729), np.float64(-0.236350704321125), np.float64(-3.03114548463426), np.float64(0.223077616739241), np.float64(-2.58607976048506), np.float64(-0.448802959224871), np.float64(-3.7374696634505), np.float64(-0.843891305711531), np.float64(-2.86743928789078), np.float64(-1.3367491629935), np.float64(-1.35281277351551), np.float64(0.879682867631662), np.float64(0.00607893327835841), np.float64(1.04925999900471), np.float64(0.822273662288948), np.float64(0.358562099540579), np.float64(-1.61576411789679), np.float64(-3.37905337652715), np.float64(-1.48617887891143), np.float64(-3.97312999164112), np.float64(-0.299424552386255), np.float64(-1.45642401283751), np.float64(-1.19955267345141), np.float64(-1.40418829366361), np.float64(-2.53959098015564), np.float64(-2.48137012491532), np.float64(-1.6856459301426), np.float64(-3.54207693214245), np.float64(0.955377975085587), np.float64(-0.227384596105259), np.float64(-2.26122414082025), np.float64(-0.521310173515238), np.float64(-1.20284460988944), np.float64(-0.198490991288627), np.float64(0.811767166174676), np.float64(-0.808650388100945), np.float64(-1.6374530054124), np.float64(-4.05440966100377), np.float64(-3.83619085654759), np.float64(-4.0037645603788), np.float64(0.563632250252992), np.float64(1.02218659734795), np.float64(-3.35490160396961), np.float64(-2.00350090648784), np.float64(-0.645580067842331), np.float64(-4.03679479027962), np.float64(-1.20719576035305), np.float64(0.668408007978326), np.float64(0.50363219037133), np.float64(-0.330357460305708), np.float64(-3.47249624439873), np.float64(0.849455483282211), np.float64(-3.451411330495), np.float64(-3.29205825709026), np.float64(-1.7876953206504), np.float64(-1.13791570134807), np.float64(-0.637337530412686), np.float64(-0.691657579186204), np.float64(-3.75353585828587), np.float64(-0.905010913701998), np.float64(-3.08647082057821), np.float64(1.0716635955859), np.float64(-2.47551194205984), np.float64(-3.32217209412689), np.float64(-3.76433208673118), np.float64(-2.68987008235738), np.float64(-2.98419601015953), np.float64(-1.79998292214542), np.float64(-0.702670194595119), np.float64(-1.47026218812943), np.float64(-3.18843074892179), np.float64(-3.34074333367334), np.float64(-3.59736040481008), np.float64(-3.21543292303655), np.float64(-3.76721676615571), np.float64(-1.43312896049099), np.float64(-1.29269800392647)]}\n",
      "223\n"
     ]
    },
    {
     "name": "stderr",
     "output_type": "stream",
     "text": [
      "/tmp/ipykernel_794108/63198406.py:599: FutureWarning: Series.__getitem__ treating keys as positions is deprecated. In a future version, integer keys will always be treated as labels (consistent with DataFrame behavior). To access a value by position, use `ser.iloc[pos]`\n",
      "  nmp[\"mean\"].append(nmp1.loc['PANC1'][0])\n"
     ]
    }
   ],
   "source": [
    "# @title\n",
    "nmp = {\n",
    "    \"mean\": []\n",
    "}\n",
    "rows = []\n",
    "for i in range(len(mp_cl)):\n",
    "  cl = mp_cl[i]\n",
    "  if cl in rnaseq_cl:\n",
    "    nmp[\"mean\"].append(nmp1.iloc[i, 0])\n",
    "    rows.append(cl)\n",
    "print(nmp)\n",
    "print(rows)\n",
    "for i in range(len(mp_cl)):\n",
    "  cl = mp_cl[i]\n",
    "\n",
    "  if cl.startswith('NCI'):\n",
    "    temp = cl.split('NCI')[1]\n",
    "    temp = 'NCI-' + ''.join(temp)\n",
    "    if temp in rnaseq_cl:\n",
    "        rows.append(temp)\n",
    "        nmp[\"mean\"].append(nmp1.loc[cl, 'mean'])\n",
    "\n",
    "  if cl.startswith('SW'):\n",
    "    temp = cl.split('SW')[1]\n",
    "    temp = 'SW ' + ''.join(temp)\n",
    "    if temp in rnaseq_cl:\n",
    "        rows.append(temp)\n",
    "        nmp[\"mean\"].append(nmp1.loc[cl, 'mean'])\n",
    "\n",
    "  if cl.startswith('ABC'):\n",
    "    temp = cl.split('ABC')[1]\n",
    "    temp = 'ABC-' + ''.join(temp)\n",
    "    if temp in rnaseq_cl:\n",
    "        rows.append(temp)\n",
    "        nmp[\"mean\"].append(nmp1.loc[cl, 'mean'])\n",
    "\n",
    "  if cl.startswith('RERFLC'):\n",
    "    temp = cl.split('RERFLC')[1]\n",
    "    temp = 'RERF-LC-' + ''.join(temp)\n",
    "    if temp in rnaseq_cl:\n",
    "        rows.append(temp)\n",
    "        nmp[\"mean\"].append(nmp1.loc[cl, 'mean'])\n",
    "\n",
    "  if cl.startswith('UACC'):\n",
    "    temp = cl.split('UACC')[1]\n",
    "    temp = 'UACC-' + ''.join(temp)\n",
    "    if temp in rnaseq_cl:\n",
    "        rows.append(temp)\n",
    "        nmp[\"mean\"].append(nmp1.loc[cl, 'mean'])\n",
    "\n",
    "  if cl.startswith('LOU'):\n",
    "    temp = cl.split('LOU')[1]\n",
    "    temp = 'LOU-' + ''.join(temp)\n",
    "    if temp in rnaseq_cl:\n",
    "        rows.append(temp)\n",
    "        nmp[\"mean\"].append(nmp1.loc[cl, 'mean'])\n",
    "\n",
    "  if cl.startswith('MDAMB'):\n",
    "    temp = cl.split('MDAMB')[1]\n",
    "    temp = 'MDA-MB-' + ''.join(temp)\n",
    "    if temp in rnaseq_cl:\n",
    "        rows.append(temp)\n",
    "        nmp[\"mean\"].append(nmp1.loc[cl, 'mean'])\n",
    "\n",
    "  if cl.startswith('JIMT'):\n",
    "    temp = cl.split('JIMT')[1]\n",
    "    temp = 'JIMT-' + ''.join(temp)\n",
    "    if temp in rnaseq_cl:\n",
    "        rows.append(temp)\n",
    "        nmp[\"mean\"].append(nmp1.loc[cl, 'mean'])\n",
    "\n",
    "  if cl.startswith('HS852T'):\n",
    "    temp = 'Hs 852.T'\n",
    "    if temp in rnaseq_cl:\n",
    "        rows.append(temp)\n",
    "        nmp[\"mean\"].append(nmp1.loc[cl, 'mean'])\n",
    "\n",
    "  if cl.startswith('HS'):\n",
    "    temp = cl.split('HS')[1]\n",
    "    temp = 'Hs ' + ''.join(temp)\n",
    "    if temp in rnaseq_cl:\n",
    "        rows.append(temp)\n",
    "        nmp[\"mean\"].append(nmp1.loc[cl, 'mean'])\n",
    "\n",
    "  if cl.startswith('OVCAR'):\n",
    "    temp = cl.split('OVCAR')[1]\n",
    "    temp = 'OVCAR-' + ''.join(temp)\n",
    "    if temp in rnaseq_cl:\n",
    "        rows.append(temp)\n",
    "        nmp[\"mean\"].append(nmp1.loc[cl, 'mean'])\n",
    "\n",
    "  if cl.startswith('LS180'):\n",
    "    temp = cl.split('LS180')[1]\n",
    "    temp = 'LS 180' + ''.join(temp)\n",
    "    if temp in rnaseq_cl:\n",
    "        rows.append(temp)\n",
    "        nmp[\"mean\"].append(nmp1.loc[cl, 'mean'])\n",
    "\n",
    "  if cl.startswith('OUMS'):\n",
    "    temp = cl.split('OUMS')[1]\n",
    "    temp = 'OUMS-' + ''.join(temp)\n",
    "    if temp in rnaseq_cl:\n",
    "        rows.append(temp)\n",
    "        nmp[\"mean\"].append(nmp1.loc[cl, 'mean'])\n",
    "\n",
    "  if cl.startswith('MEWO'):\n",
    "    temp = 'MeWo'\n",
    "    if temp in rnaseq_cl:\n",
    "        rows.append(temp)\n",
    "        nmp[\"mean\"].append(nmp1.loc[cl, 'mean'])\n",
    "\n",
    "  if cl.startswith('COLO'):\n",
    "    temp = cl.split('COLO')[1]\n",
    "    temp = 'COLO ' + ''.join(temp)\n",
    "    if temp in rnaseq_cl:\n",
    "        rows.append(temp)\n",
    "        nmp[\"mean\"].append(nmp1.loc[cl, 'mean'])\n",
    "\n",
    "  if cl.startswith('COLO783'):\n",
    "    temp = 'COLO-783'\n",
    "    if temp in rnaseq_cl:\n",
    "        rows.append(temp)\n",
    "        nmp[\"mean\"].append(nmp1.loc[cl, 'mean'])\n",
    "\n",
    "  if cl.startswith('LN'):\n",
    "    temp = cl.split('LN')[1]\n",
    "    temp = 'LN-' + ''.join(temp)\n",
    "    if temp in rnaseq_cl:\n",
    "        rows.append(temp)\n",
    "        nmp[\"mean\"].append(nmp1.loc[cl, 'mean'])\n",
    "\n",
    "  if cl.startswith('LNCAPCLONEFGC'):\n",
    "    temp = 'LNCAP'\n",
    "    if temp in rnaseq_cl:\n",
    "        rows.append(temp)\n",
    "        nmp[\"mean\"].append(nmp1.loc[cl, 'mean'])\n",
    "\n",
    "  if cl.startswith('HCT'):\n",
    "    temp = cl.split('HCT')[1]\n",
    "    temp = 'HCT-' + ''.join(temp)\n",
    "    if temp in rnaseq_cl:\n",
    "        rows.append(temp)\n",
    "        nmp[\"mean\"].append(nmp1.loc[cl, 'mean'])\n",
    "\n",
    "  if cl.startswith('HCT116'):\n",
    "    temp = 'HCT 116'\n",
    "    if temp in rnaseq_cl:\n",
    "        rows.append(temp)\n",
    "        nmp[\"mean\"].append(nmp1.loc[cl, 'mean'])\n",
    "\n",
    "  if cl.startswith('HT'):\n",
    "    temp = cl.split('HT')[1]\n",
    "    temp = 'HT-' + ''.join(temp)\n",
    "    if temp in rnaseq_cl:\n",
    "        rows.append(temp)\n",
    "        nmp[\"mean\"].append(nmp1.loc[cl, 'mean'])\n",
    "\n",
    "  if cl.startswith('FADU'):\n",
    "    temp = 'FaDu'\n",
    "    if temp in rnaseq_cl:\n",
    "        rows.append(temp)\n",
    "        nmp[\"mean\"].append(nmp1.loc[cl, 'mean'])\n",
    "\n",
    "  if cl.startswith('DU'):\n",
    "    temp = cl.split('DU')[1]\n",
    "    temp = 'DU ' + ''.join(temp)\n",
    "    if temp in rnaseq_cl:\n",
    "        rows.append(temp)\n",
    "        nmp[\"mean\"].append(nmp1.loc[cl, 'mean'])\n",
    "\n",
    "  if cl.startswith('JHH'):\n",
    "    temp = cl.split('JHH')[1]\n",
    "    temp = 'JHH-' + ''.join(temp)\n",
    "    if temp in rnaseq_cl:\n",
    "        rows.append(temp)\n",
    "        nmp[\"mean\"].append(nmp1.loc[cl, 'mean'])\n",
    "\n",
    "  if cl.startswith('CAL'):\n",
    "    temp = cl.split('CAL')[1]\n",
    "    temp = 'CAL-' + ''.join(temp)\n",
    "    if temp in rnaseq_cl:\n",
    "        rows.append(temp)\n",
    "        nmp[\"mean\"].append(nmp1.loc[cl, 'mean'])\n",
    "\n",
    "  if cl.startswith('CAL'):\n",
    "    temp = cl.split('CAL')[1]\n",
    "    temp = 'CAL ' + ''.join(temp)\n",
    "    if temp in rnaseq_cl:\n",
    "        rows.append(temp)\n",
    "        nmp[\"mean\"].append(nmp1.loc[cl, 'mean'])\n",
    "\n",
    "  if cl.startswith('BFTC'):\n",
    "    temp = cl.split('BFTC')[1]\n",
    "    temp = 'BFTC-' + ''.join(temp)\n",
    "    if temp in rnaseq_cl:\n",
    "        rows.append(temp)\n",
    "        nmp[\"mean\"].append(nmp1.loc[cl, 'mean'])\n",
    "\n",
    "  if cl.startswith('MG'):\n",
    "    temp = cl.split('MG')[1]\n",
    "    temp = 'MG-' + ''.join(temp)\n",
    "    if temp in rnaseq_cl:\n",
    "        rows.append(temp)\n",
    "        nmp[\"mean\"].append(nmp1.loc[cl, 'mean'])\n",
    "\n",
    "  if cl.startswith('MHHES'):\n",
    "    temp = cl.split('MHHES')[1]\n",
    "    temp = 'MHH-ES-' + ''.join(temp)\n",
    "    if temp in rnaseq_cl:\n",
    "        rows.append(temp)\n",
    "        nmp[\"mean\"].append(nmp1.loc[cl, 'mean'])\n",
    "\n",
    "  if cl.startswith('MHHNB'):\n",
    "    temp = cl.split('MHHNB')[1]\n",
    "    temp = 'MHH-NB-' + ''.join(temp)\n",
    "    if temp in rnaseq_cl:\n",
    "        rows.append(temp)\n",
    "        nmp[\"mean\"].append(nmp1.loc[cl, 'mean'])\n",
    "\n",
    "  if cl.startswith('HUH'):\n",
    "    temp = cl.split('HUH')[1]\n",
    "    temp = 'HuH-' + ''.join(temp)\n",
    "    if temp in rnaseq_cl:\n",
    "        rows.append(temp)\n",
    "        nmp[\"mean\"].append(nmp1.loc[cl, 'mean'])\n",
    "\n",
    "  if cl.startswith('PC'):\n",
    "    temp = cl.split('PC')[1]\n",
    "    temp = 'PC-' + ''.join(temp)\n",
    "    if temp in rnaseq_cl:\n",
    "        rows.append(temp)\n",
    "        nmp[\"mean\"].append(nmp1.loc[cl, 'mean'])\n",
    "\n",
    "  if cl.startswith('SKMEL'):\n",
    "    temp = cl.split('SKMEL')[1]\n",
    "    temp = 'SK-MEL-' + ''.join(temp)\n",
    "    if temp in rnaseq_cl:\n",
    "        rows.append(temp)\n",
    "        nmp[\"mean\"].append(nmp1.loc[cl, 'mean'])\n",
    "\n",
    "  if cl.startswith('SKMES'):\n",
    "    temp = cl.split('SKMES')[1]\n",
    "    temp = 'SK-MES-' + ''.join(temp)\n",
    "    if temp in rnaseq_cl:\n",
    "        rows.append(temp)\n",
    "        nmp[\"mean\"].append(nmp1.loc[cl, 'mean'])\n",
    "\n",
    "  if cl.startswith('SKOV'):\n",
    "    temp = cl.split('SKOV')[1]\n",
    "    temp = 'SK-OV-' + ''.join(temp)\n",
    "    if temp in rnaseq_cl:\n",
    "        rows.append(temp)\n",
    "        nmp[\"mean\"].append(nmp1.loc[cl, 'mean'])\n",
    "\n",
    "  if cl.startswith('CALU'):\n",
    "    temp = cl.split('CALU')[1]\n",
    "    temp = 'Calu-' + ''.join(temp)\n",
    "    if temp in rnaseq_cl:\n",
    "        rows.append(temp)\n",
    "        nmp[\"mean\"].append(nmp1.loc[cl, 'mean'])\n",
    "\n",
    "  if cl.startswith('DETROIT'):\n",
    "    temp = cl.split('DETROIT')[1]\n",
    "    temp = 'Detroit ' + ''.join(temp)\n",
    "    if temp in rnaseq_cl:\n",
    "        rows.append(temp)\n",
    "        nmp[\"mean\"].append(nmp1.loc[cl, 'mean'])\n",
    "\n",
    "  if cl.startswith('IGROV'):\n",
    "    temp = cl.split('IGROV')[1]\n",
    "    temp = 'IGROV-' + ''.join(temp)\n",
    "    if temp in rnaseq_cl:\n",
    "        rows.append(temp)\n",
    "        nmp[\"mean\"].append(nmp1.loc[cl, 'mean'])\n",
    "\n",
    "  if cl.startswith('CAKI'):\n",
    "    temp = cl.split('CAKI')[1]\n",
    "    temp = 'Caki-' + ''.join(temp)\n",
    "    if temp in rnaseq_cl:\n",
    "        rows.append(temp)\n",
    "        nmp[\"mean\"].append(nmp1.loc[cl, 'mean'])\n",
    "\n",
    "  if cl.startswith('IM'):\n",
    "    temp = cl.split('IM')[1]\n",
    "    temp = 'IM-' + ''.join(temp)\n",
    "    if temp in rnaseq_cl:\n",
    "        rows.append(temp)\n",
    "        nmp[\"mean\"].append(nmp1.loc[cl, 'mean'])\n",
    "\n",
    "  if cl.startswith('UMUC'):\n",
    "    temp = cl.split('UMUC')[1]\n",
    "    temp = 'UM-UC-' + ''.join(temp)\n",
    "    if temp in rnaseq_cl:\n",
    "        rows.append(temp)\n",
    "        nmp[\"mean\"].append(nmp1.loc[cl, 'mean'])\n",
    "\n",
    "  if cl.startswith('DMS'):\n",
    "    temp = cl.split('DMS')[1]\n",
    "    temp = 'DMS ' + ''.join(temp)\n",
    "    if temp in rnaseq_cl:\n",
    "        rows.append(temp)\n",
    "        nmp[\"mean\"].append(nmp1.loc[cl, 'mean'])\n",
    "\n",
    "  if cl.startswith('MKN'):\n",
    "    temp = cl.split('MKN')[1]\n",
    "    temp = 'MKN-' + ''.join(temp)\n",
    "    if temp in rnaseq_cl:\n",
    "        rows.append(temp)\n",
    "        nmp[\"mean\"].append(nmp1.loc[cl, 'mean'])\n",
    "\n",
    "  if cl.startswith('HEC1'):\n",
    "    temp = cl.split('HEC1')[1]\n",
    "    temp = 'HEC-1-' + ''.join(temp)\n",
    "    if temp in rnaseq_cl:\n",
    "        rows.append(temp)\n",
    "        nmp[\"mean\"].append(nmp1.loc[cl, 'mean'])\n",
    "\n",
    "  if cl.startswith('SNU'):\n",
    "    temp = cl.split('SNU')[1]\n",
    "    temp = 'SNU-' + ''.join(temp)\n",
    "    if temp in rnaseq_cl:\n",
    "        rows.append(temp)\n",
    "        nmp[\"mean\"].append(nmp1.loc[cl, 'mean'])\n",
    "\n",
    "  if cl.startswith('BICR'):\n",
    "    temp = cl.split('BICR')[1]\n",
    "    temp = 'BICR ' + ''.join(temp)\n",
    "    if temp in rnaseq_cl:\n",
    "        rows.append(temp)\n",
    "        nmp[\"mean\"].append(nmp1.loc[cl, 'mean'])\n",
    "\n",
    "  if cl.startswith('SCC'):\n",
    "    temp = cl.split('SCC')[1]\n",
    "    temp = 'SCC-' + ''.join(temp)\n",
    "    if temp in rnaseq_cl:\n",
    "        rows.append(temp)\n",
    "        nmp[\"mean\"].append(nmp1.loc[cl, 'mean'])\n",
    "\n",
    "  if cl.startswith('DV'):\n",
    "    temp = cl.split('DV')[1]\n",
    "    temp = 'DV-' + ''.join(temp)\n",
    "    if temp in rnaseq_cl:\n",
    "        rows.append(temp)\n",
    "        nmp[\"mean\"].append(nmp1.loc[cl, 'mean'])\n",
    "\n",
    "  if cl.startswith('LCLC'):\n",
    "    temp = cl.split('LCLC')[1]\n",
    "    temp = 'LCLC-' + ''.join(temp)\n",
    "    if temp in rnaseq_cl:\n",
    "        rows.append(temp)\n",
    "        nmp[\"mean\"].append(nmp1.loc[cl, 'mean'])\n",
    "\n",
    "  if cl.startswith('LXF'):\n",
    "    temp = cl.split('LXF')[1]\n",
    "    temp = 'LXF-' + ''.join(temp)\n",
    "    if temp in rnaseq_cl:\n",
    "        rows.append(temp)\n",
    "        nmp[\"mean\"].append(nmp1.loc[cl, 'mean'])\n",
    "\n",
    "  if cl.startswith('CHL'):\n",
    "    temp = cl.split('CHL')[1]\n",
    "    temp = 'CHL-' + ''.join(temp)\n",
    "    if temp in rnaseq_cl:\n",
    "        rows.append(temp)\n",
    "        nmp[\"mean\"].append(nmp1.loc[cl, 'mean'])\n",
    "\n",
    "  if cl.startswith('EFM'):\n",
    "    temp = cl.split('EFM')[1]\n",
    "    temp = 'EFM-' + ''.join(temp)\n",
    "    if temp in rnaseq_cl:\n",
    "        rows.append(temp)\n",
    "        nmp[\"mean\"].append(nmp1.loc[cl, 'mean'])\n",
    "\n",
    "  if cl.startswith('WM266'):\n",
    "    temp = cl.split('WM266')[1]\n",
    "    temp = 'WM-266-' + ''.join(temp)\n",
    "    if temp in rnaseq_cl:\n",
    "        rows.append(temp)\n",
    "        nmp[\"mean\"].append(nmp1.loc[cl, 'mean'])\n",
    "\n",
    "  if cl.startswith('HUP'):\n",
    "    temp = cl.split('HUP')[1]\n",
    "    temp = 'HUP-' + ''.join(temp)\n",
    "    if temp in rnaseq_cl:\n",
    "        rows.append(temp)\n",
    "        nmp[\"mean\"].append(nmp1.loc[cl, 'mean'])\n",
    "\n",
    "  if cl.startswith('HGC'):\n",
    "    temp = cl.split('HGC')[1]\n",
    "    temp = 'HGC-' + ''.join(temp)\n",
    "    if temp in rnaseq_cl:\n",
    "        rows.append(temp)\n",
    "        nmp[\"mean\"].append(nmp1.loc[cl, 'mean'])\n",
    "\n",
    "  if cl.startswith('KP'):\n",
    "    temp = cl.split('KP')[1]\n",
    "    temp = 'KP-' + ''.join(temp)\n",
    "    if temp in rnaseq_cl:\n",
    "        rows.append(temp)\n",
    "        nmp[\"mean\"].append(nmp1.loc[cl, 'mean'])\n",
    "\n",
    "  if cl.startswith('KPL'):\n",
    "    temp = cl.split('KPL')[1]\n",
    "    temp = 'KPL-' + ''.join(temp)\n",
    "    if temp in rnaseq_cl:\n",
    "        rows.append(temp)\n",
    "        nmp[\"mean\"].append(nmp1.loc[cl, 'mean'])\n",
    "\n",
    "  if cl.startswith('PK'):\n",
    "    temp = cl.split('PK')[1]\n",
    "    temp = 'PK-' + ''.join(temp)\n",
    "    if temp in rnaseq_cl:\n",
    "        rows.append(temp)\n",
    "        nmp[\"mean\"].append(nmp1.loc[cl, 'mean'])\n",
    "\n",
    "  if cl.startswith('SUIT'):\n",
    "    temp = cl.split('SUIT')[1]\n",
    "    temp = 'SUIT-' + ''.join(temp)\n",
    "    if temp in rnaseq_cl:\n",
    "        rows.append(temp)\n",
    "        nmp[\"mean\"].append(nmp1.loc[cl, 'mean'])\n",
    "\n",
    "  if cl.startswith('TCC'):\n",
    "    temp = cl.split('TCC')[1]\n",
    "    temp = 'TCC-' + ''.join(temp)\n",
    "    if temp in rnaseq_cl:\n",
    "        rows.append(temp)\n",
    "        nmp[\"mean\"].append(nmp1.loc[cl, 'mean'])\n",
    "\n",
    "  if cl.startswith('IGR'):\n",
    "    temp = cl.split('IGR')[1]\n",
    "    temp = 'IGR-' + ''.join(temp)\n",
    "    if temp in rnaseq_cl:\n",
    "        rows.append(temp)\n",
    "        nmp[\"mean\"].append(nmp1.loc[cl, 'mean'])\n",
    "\n",
    "  if cl.startswith('RCM'):\n",
    "    temp = cl.split('RCM')[1]\n",
    "    temp = 'RCM-' + ''.join(temp)\n",
    "    if temp in rnaseq_cl:\n",
    "        rows.append(temp)\n",
    "        nmp[\"mean\"].append(nmp1.loc[cl, 'mean'])\n",
    "\n",
    "  if cl.startswith('KYSE'):\n",
    "    temp = cl.split('KYSE')[1]\n",
    "    temp = 'KYSE-' + ''.join(temp)\n",
    "    if temp in rnaseq_cl:\n",
    "        rows.append(temp)\n",
    "        nmp[\"mean\"].append(nmp1.loc[cl, 'mean'])\n",
    "\n",
    "  if cl.startswith('RMG'):\n",
    "    temp = cl.split('RMG')[1]\n",
    "    temp = 'RMG-' + ''.join(temp)\n",
    "    if temp in rnaseq_cl:\n",
    "        rows.append(temp)\n",
    "        nmp[\"mean\"].append(nmp1.loc[cl, 'mean'])\n",
    "\n",
    "  if cl.startswith('RMUG'):\n",
    "    temp = cl.split('RMUG')[1]\n",
    "    temp = 'RMUG-' + ''.join(temp)\n",
    "    if temp in rnaseq_cl:\n",
    "        rows.append(temp)\n",
    "        nmp[\"mean\"].append(nmp1.loc[cl, 'mean'])\n",
    "\n",
    "  if cl.startswith('IPC'):\n",
    "    temp = cl.split('IPC')[1]\n",
    "    temp = 'IPC-' + ''.join(temp)\n",
    "    if temp in rnaseq_cl:\n",
    "        rows.append(temp)\n",
    "        nmp[\"mean\"].append(nmp1.loc[cl, 'mean'])\n",
    "\n",
    "  if cl.startswith('MEL'):\n",
    "    temp = cl.split('MEL')[1]\n",
    "    temp = 'MEL-' + ''.join(temp)\n",
    "    if temp in rnaseq_cl:\n",
    "        rows.append(temp)\n",
    "        nmp[\"mean\"].append(nmp1.loc[cl, 'mean'])\n",
    "\n",
    "  if cl.startswith('NUGC'):\n",
    "    temp = cl.split('NUGC')[1]\n",
    "    temp = 'NUGC-' + ''.join(temp)\n",
    "    if temp in rnaseq_cl:\n",
    "        rows.append(temp)\n",
    "        nmp[\"mean\"].append(nmp1.loc[cl, 'mean'])\n",
    "\n",
    "  if cl.startswith('LOX'):\n",
    "    temp = cl.split('LOX')[1]\n",
    "    temp = 'LOX-' + ''.join(temp)\n",
    "    if temp in rnaseq_cl:\n",
    "        rows.append(temp)\n",
    "        nmp[\"mean\"].append(nmp1.loc[cl, 'mean'])\n",
    "\n",
    "  if cl.startswith('BT'):\n",
    "    temp = cl.split('BT')[1]\n",
    "    temp = 'BT-' + ''.join(temp)\n",
    "    if temp in rnaseq_cl:\n",
    "        rows.append(temp)\n",
    "        nmp[\"mean\"].append(nmp1.loc[cl, 'mean'])\n",
    "\n",
    "  if cl.startswith('CAMA'):\n",
    "    temp = cl.split('CAMA')[1]\n",
    "    temp = 'CAMA-' + ''.join(temp)\n",
    "    if temp in rnaseq_cl:\n",
    "        rows.append(temp)\n",
    "        nmp[\"mean\"].append(nmp1.loc[cl, 'mean'])\n",
    "\n",
    "  if cl.startswith('QGP'):\n",
    "    temp = cl.split('QGP')[1]\n",
    "    temp = 'QGP-' + ''.join(temp)\n",
    "    if temp in rnaseq_cl:\n",
    "        rows.append(temp)\n",
    "        nmp[\"mean\"].append(nmp1.loc[cl, 'mean'])\n",
    "\n",
    "  if cl.startswith('DAN'):\n",
    "    temp = cl.split('DAN')[1]\n",
    "    temp = 'DAN-' + ''.join(temp)\n",
    "    if temp in rnaseq_cl:\n",
    "        rows.append(temp)\n",
    "        nmp[\"mean\"].append(nmp1.loc[cl, 'mean'])\n",
    "\n",
    "  if cl.startswith('EBC'):\n",
    "    temp = cl.split('EBC')[1]\n",
    "    temp = 'EBC-' + ''.join(temp)\n",
    "    if temp in rnaseq_cl:\n",
    "        rows.append(temp)\n",
    "        nmp[\"mean\"].append(nmp1.loc[cl, 'mean'])\n",
    "\n",
    "  if cl.startswith('CAOV'):\n",
    "    temp = cl.split('CAOV')[1]\n",
    "    temp = 'Caov-' + ''.join(temp)\n",
    "    if temp in rnaseq_cl:\n",
    "        rows.append(temp)\n",
    "        nmp[\"mean\"].append(nmp1.loc[cl, 'mean'])\n",
    "\n",
    "  if cl.startswith('EFO'):\n",
    "    temp = cl.split('EFO')[1]\n",
    "    temp = 'EFO-' + ''.join(temp)\n",
    "    if temp in rnaseq_cl:\n",
    "        rows.append(temp)\n",
    "        nmp[\"mean\"].append(nmp1.loc[cl, 'mean'])\n",
    "\n",
    "  if cl.startswith('TOV'):\n",
    "    temp = cl.split('TOV')[1]\n",
    "    temp = 'TOV-' + ''.join(temp)\n",
    "    if temp in rnaseq_cl:\n",
    "        rows.append(temp)\n",
    "        nmp[\"mean\"].append(nmp1.loc[cl, 'mean'])\n",
    "\n",
    "  if cl.startswith('ASPC'):\n",
    "    temp = cl.split('ASPC')[1]\n",
    "    temp = 'AsPC-' + ''.join(temp)\n",
    "    if temp in rnaseq_cl:\n",
    "        rows.append(temp)\n",
    "        nmp[\"mean\"].append(nmp1.loc[cl, 'mean'])\n",
    "\n",
    "  if cl.startswith('CFPAC'):\n",
    "    temp = cl.split('CFPAC')[1]\n",
    "    temp = 'CFPAC-' + ''.join(temp)\n",
    "    if temp in rnaseq_cl:\n",
    "        rows.append(temp)\n",
    "        nmp[\"mean\"].append(nmp1.loc[cl, 'mean'])\n",
    "\n",
    "  if cl.startswith('MIAPACA2'):\n",
    "    temp = 'MIA Paca-2'\n",
    "    if temp in rnaseq_cl:\n",
    "        rows.append(temp)\n",
    "        nmp[\"mean\"].append(nmp1.loc[cl, 'mean'])\n",
    "\n",
    "  if cl.startswith('PANC0327'):\n",
    "    temp = 'Panc 03.27'\n",
    "    if temp in rnaseq_cl:\n",
    "        rows.append(temp)\n",
    "        nmp[\"mean\"].append(nmp1.loc[cl, 'mean'])\n",
    "\n",
    "  if cl.startswith('PANC0203'):\n",
    "    temp = 'Panc 02.03'\n",
    "    if temp in rnaseq_cl:\n",
    "        rows.append(temp)\n",
    "        nmp[\"mean\"].append(nmp1.loc[cl, 'mean'])\n",
    "\n",
    "  if cl.startswith('PANC0813'):\n",
    "    temp = 'Panc 08.13'\n",
    "    if temp in rnaseq_cl:\n",
    "        rows.append(temp)\n",
    "        nmp[\"mean\"].append(nmp1.loc[cl, 'mean'])\n",
    "\n",
    "  if cl.startswith('PANC0403'):\n",
    "    temp = 'Panc 04.03'\n",
    "    if temp in rnaseq_cl:\n",
    "        rows.append(temp)\n",
    "        nmp[\"mean\"].append(nmp1.loc[cl, 'mean'])\n",
    "\n",
    "  if cl.startswith('U2OS'):\n",
    "    temp = 'U-2 OS'\n",
    "    if temp in rnaseq_cl:\n",
    "        rows.append(temp)\n",
    "        nmp[\"mean\"].append(nmp1.loc[cl, 'mean'])\n",
    "\n",
    "nmp[\"mean\"].append(nmp1.loc['PANC1'][0])\n",
    "rows.append('PANC-1')\n",
    "mp_cl = rows\n",
    "print(nmp)\n",
    "nmp = pd.DataFrame(nmp, index = list(mp_cl))\n",
    "print(len(set(mp_cl).intersection(rnaseq_cl)))"
   ]
  },
  {
   "cell_type": "code",
   "execution_count": 6,
   "id": "a47311fa",
   "metadata": {},
   "outputs": [],
   "source": [
    "nexpr1 = {}\n",
    "\n",
    "for cl in mp_cl:\n",
    "  temp = expr[cl].tolist()\n",
    "  nexpr1[cl] = temp\n",
    "\n",
    "expridx = expr.index.tolist()\n",
    "nexpr = pd.DataFrame(nexpr1, index = expridx)"
   ]
  },
  {
   "cell_type": "code",
   "execution_count": 7,
   "id": "2610a37b",
   "metadata": {},
   "outputs": [
    {
     "data": {
      "text/plain": [
       "''"
      ]
     },
     "execution_count": 7,
     "metadata": {},
     "output_type": "execute_result"
    },
    {
     "data": {
      "image/png": "[encoded data removed]",
      "text/plain": [
       "<Figure size 640x480 with 1 Axes>"
      ]
     },
     "metadata": {},
     "output_type": "display_data"
    }
   ],
   "source": [
    "fig, ax = plt.subplots()\n",
    "\n",
    "stats = pd.DataFrame({'mean': expr.mean(axis = 1), 'variance': expr.var(axis = 1)})\n",
    "sns.scatterplot(data = stats, x = 'mean', y = 'variance', ax = ax)\n",
    "# ax.set_xscale('log')\n",
    "# ax.set_yscale('log')\n",
    "ax.set_title('Gene-wise mean vs variance')\n",
    ";"
   ]
  },
  {
   "cell_type": "code",
   "execution_count": 8,
   "id": "a76fafa1",
   "metadata": {},
   "outputs": [
    {
     "data": {
      "text/plain": [
       "''"
      ]
     },
     "execution_count": 8,
     "metadata": {},
     "output_type": "execute_result"
    },
    {
     "data": {
      "image/png": "[encoded data removed]",
      "text/plain": [
       "<Figure size 640x480 with 1 Axes>"
      ]
     },
     "metadata": {},
     "output_type": "display_data"
    }
   ],
   "source": [
    "fig, ax = plt.subplots()\n",
    "sns.histplot(expr.sum(), ax = ax)\n",
    "ax.set_xlabel('Sample-wise Gene Count Sum')\n",
    ";"
   ]
  },
  {
   "cell_type": "code",
   "execution_count": 9,
   "id": "3c316abf",
   "metadata": {},
   "outputs": [
    {
     "data": {
      "text/plain": [
       "<Axes: xlabel='mean', ylabel='Count'>"
      ]
     },
     "execution_count": 9,
     "metadata": {},
     "output_type": "execute_result"
    },
    {
     "data": {
      "image/png": "[encoded data removed]",
      "text/plain": [
       "<Figure size 640x480 with 1 Axes>"
      ]
     },
     "metadata": {},
     "output_type": "display_data"
    }
   ],
   "source": [
    "sns.histplot(data=mp, x='mean')"
   ]
  },
  {
   "cell_type": "markdown",
   "id": "24959aed",
   "metadata": {},
   "source": [
    "# lasso"
   ]
  },
  {
   "cell_type": "code",
   "execution_count": 12,
   "id": "bf8e8dc4",
   "metadata": {},
   "outputs": [],
   "source": [
    "from tqdm import trange\n",
    "from sklearn.linear_model import Lasso\n",
    "import numpy as np\n",
    "from sklearn.model_selection import train_test_split\n",
    "from sklearn.metrics import mean_squared_error\n",
    "from scipy.stats import pearsonr"
   ]
  },
  {
   "cell_type": "code",
   "execution_count": 15,
   "id": "dc77bf81",
   "metadata": {},
   "outputs": [],
   "source": [
    "X = nexpr.transpose().copy()\n",
    "y = nmp.copy()\n",
    "\n",
    "X_train_val, X_test, y_train_val, y_test = train_test_split(X, y, test_size = 0.15, random_state = 65)"
   ]
  },
  {
   "cell_type": "code",
   "execution_count": 16,
   "id": "d64bc514",
   "metadata": {},
   "outputs": [
    {
     "name": "stderr",
     "output_type": "stream",
     "text": [
      "  0%|                                                     | 0/100 [00:00<?, ?it/s]/nobackup/users/hmbaghda/Software/miniforge3/envs/metastatic_potential/lib/python3.13/site-packages/sklearn/linear_model/_coordinate_descent.py:697: ConvergenceWarning: Objective did not converge. You might want to increase the number of iterations, check the scale of the features or consider increasing regularisation. Duality gap: 6.733e-01, tolerance: 4.082e-02\n",
      "  model = cd_fast.enet_coordinate_descent(\n",
      "  1%|▍                                            | 1/100 [00:03<05:26,  3.30s/it]"
     ]
    },
    {
     "name": "stdout",
     "output_type": "stream",
     "text": [
      "[-0. -0. -0. ... -0.  0. -0.]\n",
      "[-2.14089279 -1.29337649 -2.16218805 -1.33633122  0.06318902 -1.0772314\n",
      "  0.06910685 -0.44254495 -2.03054691 -1.82685449 -1.61882643 -1.19175136\n",
      " -0.79365912 -0.88020581 -2.42792245 -0.70536892 -0.48844579 -3.27532598\n",
      " -2.33773588 -0.93467703 -1.9340197  -0.48488305 -1.07776332 -1.5228711\n",
      " -3.58824163 -2.9681957  -0.95298204 -2.92460288 -2.53007045 -1.83134867\n",
      " -1.43024986 -1.16272088 -2.35460583 -2.32725825 -1.82950728 -2.51921439\n",
      " -4.10549478 -2.56559301]\n"
     ]
    },
    {
     "name": "stderr",
     "output_type": "stream",
     "text": [
      "/nobackup/users/hmbaghda/Software/miniforge3/envs/metastatic_potential/lib/python3.13/site-packages/sklearn/linear_model/_coordinate_descent.py:697: ConvergenceWarning: Objective did not converge. You might want to increase the number of iterations, check the scale of the features or consider increasing regularisation. Duality gap: 3.730e-01, tolerance: 3.845e-02\n",
      "  model = cd_fast.enet_coordinate_descent(\n",
      "  2%|▉                                            | 2/100 [00:06<05:24,  3.31s/it]"
     ]
    },
    {
     "name": "stdout",
     "output_type": "stream",
     "text": [
      "[-0. -0. -0. ... -0.  0. -0.]\n",
      "[-1.92970035 -1.77889967 -1.66888452 -2.35225056  0.52612076 -0.98023788\n",
      " -1.56217901 -1.29276611 -3.32061897  0.33798142 -0.69424312 -1.17635659\n",
      " -1.82376376 -2.34935597 -1.41666624 -1.17780452 -2.49514356 -2.99457933\n",
      " -1.7311897  -3.01831001 -0.59661273 -1.80074979 -0.65222693 -0.65333497\n",
      " -0.36732856 -3.94308254 -0.06313931 -0.77112656 -1.66943535 -1.67702793\n",
      " -2.09519027 -2.74512272 -2.12949698 -3.22825694  0.40830678  0.199579\n",
      " -0.92018611 -2.95411148]\n"
     ]
    },
    {
     "name": "stderr",
     "output_type": "stream",
     "text": [
      "/nobackup/users/hmbaghda/Software/miniforge3/envs/metastatic_potential/lib/python3.13/site-packages/sklearn/linear_model/_coordinate_descent.py:697: ConvergenceWarning: Objective did not converge. You might want to increase the number of iterations, check the scale of the features or consider increasing regularisation. Duality gap: 6.205e-01, tolerance: 4.032e-02\n",
      "  model = cd_fast.enet_coordinate_descent(\n",
      "  3%|█▎                                           | 3/100 [00:09<05:21,  3.32s/it]"
     ]
    },
    {
     "name": "stdout",
     "output_type": "stream",
     "text": [
      "[-0. -0. -0. ... -0.  0. -0.]\n",
      "[-3.12040178 -0.79215928 -1.38235763 -2.33662941 -3.18414588 -0.89150197\n",
      " -1.00823323 -1.65656797 -1.88724203 -0.54614675 -2.20783338 -2.64997357\n",
      " -0.67402844 -2.49198454 -0.67780374 -1.82884441 -1.59798244 -2.74409719\n",
      " -0.29637305  1.18952572 -0.45364328 -2.84640347 -2.75267596 -1.50627868\n",
      " -0.28527731 -2.45276196 -0.16655073 -3.2077502  -0.86227389 -2.097379\n",
      " -0.71187337 -2.45939287 -2.63429001 -3.12256511 -0.99895384 -2.50794897\n",
      " -3.2398559  -1.59585622]\n"
     ]
    },
    {
     "name": "stderr",
     "output_type": "stream",
     "text": [
      "/nobackup/users/hmbaghda/Software/miniforge3/envs/metastatic_potential/lib/python3.13/site-packages/sklearn/linear_model/_coordinate_descent.py:697: ConvergenceWarning: Objective did not converge. You might want to increase the number of iterations, check the scale of the features or consider increasing regularisation. Duality gap: 2.693e-01, tolerance: 3.952e-02\n",
      "  model = cd_fast.enet_coordinate_descent(\n",
      "  4%|█▊                                           | 4/100 [00:13<05:18,  3.32s/it]"
     ]
    },
    {
     "name": "stdout",
     "output_type": "stream",
     "text": [
      "[-0.  0. -0. ... -0.  0. -0.]\n",
      "[-0.73064155 -1.74858259 -1.22720979 -1.14287423 -2.65105826 -1.67097259\n",
      " -4.1649199   0.42721217 -2.10311513 -4.21211113 -2.59616386 -3.98762957\n",
      " -0.14953232 -4.2242674   0.16777531 -2.1448463  -1.60902012 -1.50374187\n",
      " -2.59034756 -0.80585648 -0.11316202 -1.54282731 -3.33408632 -1.07719762\n",
      " -0.33333129 -2.12607304 -0.24903352 -2.3879561  -3.27569331 -4.33895008\n",
      "  1.79441776 -3.4562005  -1.95883366  0.43561756 -4.04387017 -1.44311042\n",
      " -2.39040187 -1.10341118]\n"
     ]
    },
    {
     "name": "stderr",
     "output_type": "stream",
     "text": [
      "/nobackup/users/hmbaghda/Software/miniforge3/envs/metastatic_potential/lib/python3.13/site-packages/sklearn/linear_model/_coordinate_descent.py:697: ConvergenceWarning: Objective did not converge. You might want to increase the number of iterations, check the scale of the features or consider increasing regularisation. Duality gap: 5.805e-01, tolerance: 3.782e-02\n",
      "  model = cd_fast.enet_coordinate_descent(\n",
      "  5%|██▎                                          | 5/100 [00:16<05:14,  3.31s/it]"
     ]
    },
    {
     "name": "stdout",
     "output_type": "stream",
     "text": [
      "[-0.  0. -0. ... -0.  0. -0.]\n",
      "[-0.24784087 -0.30730272 -2.31077937 -2.64308695 -1.55888712 -0.64646743\n",
      " -1.59372942 -1.28843764 -1.40003214 -3.37652805 -1.28898062 -0.54826529\n",
      " -0.36307185 -3.20087929 -2.79093019 -1.41521742 -3.11628021 -3.43464182\n",
      " -1.74139761  0.70662614  0.47116547 -2.14359518 -3.11178363 -3.52625592\n",
      " -0.54846289 -2.63384911 -2.44963541 -0.04130936 -0.21986229  0.62423191\n",
      " -1.46042339 -1.02712244 -0.13238835 -1.56883003 -1.40192875 -3.41893777\n",
      " -1.24305989 -2.38441099]\n"
     ]
    },
    {
     "name": "stderr",
     "output_type": "stream",
     "text": [
      "/nobackup/users/hmbaghda/Software/miniforge3/envs/metastatic_potential/lib/python3.13/site-packages/sklearn/linear_model/_coordinate_descent.py:697: ConvergenceWarning: Objective did not converge. You might want to increase the number of iterations, check the scale of the features or consider increasing regularisation. Duality gap: 4.328e-01, tolerance: 3.969e-02\n",
      "  model = cd_fast.enet_coordinate_descent(\n",
      "  6%|██▋                                          | 6/100 [00:19<05:12,  3.32s/it]"
     ]
    },
    {
     "name": "stdout",
     "output_type": "stream",
     "text": [
      "[ 0. -0. -0. ... -0.  0.  0.]\n",
      "[-4.15741138 -1.74033113 -0.9174527  -1.69785856 -3.86870433 -3.46743163\n",
      " -1.96611743 -2.67814076 -1.05239389 -4.29367796 -2.33302919 -1.23826332\n",
      " -3.82747455 -1.73582786 -3.26238401 -2.00596341 -1.31634976 -2.47598636\n",
      " -2.00002037 -3.50132257 -3.18401841 -2.77633686 -1.38546577  0.650779\n",
      " -0.97352631 -2.12332167 -1.45756299 -2.66521789  0.41844204 -1.83976718\n",
      " -0.79010007 -1.13608631 -0.44251357 -1.57352502 -0.81528257 -2.66003349\n",
      " -2.29373013 -1.53688841]\n"
     ]
    },
    {
     "name": "stderr",
     "output_type": "stream",
     "text": [
      "/nobackup/users/hmbaghda/Software/miniforge3/envs/metastatic_potential/lib/python3.13/site-packages/sklearn/linear_model/_coordinate_descent.py:697: ConvergenceWarning: Objective did not converge. You might want to increase the number of iterations, check the scale of the features or consider increasing regularisation. Duality gap: 4.275e-01, tolerance: 3.906e-02\n",
      "  model = cd_fast.enet_coordinate_descent(\n",
      "  7%|███▏                                         | 7/100 [00:23<05:09,  3.33s/it]"
     ]
    },
    {
     "name": "stdout",
     "output_type": "stream",
     "text": [
      "[ 0.  0. -0. ... -0.  0. -0.]\n",
      "[-3.54239772 -2.2262542  -2.16415598 -0.51931819 -1.25270918 -0.04097525\n",
      " -1.63890428 -1.00814441 -3.25174304 -0.65798044  0.08844037 -2.93293855\n",
      " -1.34285079 -2.72075812 -0.88491041 -1.56619155 -1.68767243 -3.37342558\n",
      " -4.04104673 -1.72088703 -1.95827051 -0.83863333 -2.63822356 -0.48375503\n",
      " -2.77402475 -1.80340189 -2.25409055 -2.29345276 -1.95984421 -0.74659137\n",
      " -3.13611348 -1.84331709 -3.36815822 -2.13608765 -4.32065049 -3.21783546\n",
      " -1.50955461 -1.35446088]\n"
     ]
    },
    {
     "name": "stderr",
     "output_type": "stream",
     "text": [
      "/nobackup/users/hmbaghda/Software/miniforge3/envs/metastatic_potential/lib/python3.13/site-packages/sklearn/linear_model/_coordinate_descent.py:697: ConvergenceWarning: Objective did not converge. You might want to increase the number of iterations, check the scale of the features or consider increasing regularisation. Duality gap: 4.265e-01, tolerance: 3.945e-02\n",
      "  model = cd_fast.enet_coordinate_descent(\n",
      "  8%|███▌                                         | 8/100 [00:26<05:06,  3.33s/it]"
     ]
    },
    {
     "name": "stdout",
     "output_type": "stream",
     "text": [
      "[-0. -0. -0. ... -0.  0. -0.]\n",
      "[-2.01101965 -0.92916359 -3.3456366  -1.69331513 -0.01440655 -1.50655917\n",
      " -3.9665284  -1.94446766 -0.04956829 -0.46836102 -2.24638033 -0.71987511\n",
      " -1.58930217 -1.83236984 -2.94565821 -2.71018156 -2.09192151 -1.289501\n",
      " -0.26201854 -2.36170587  0.481209   -2.91132806 -1.56180847 -0.97770487\n",
      " -0.22746249 -1.22480172 -1.28103634 -3.97387355 -0.57421312 -3.53025822\n",
      " -0.96270902 -1.95511533 -1.16237412 -1.81148904 -1.38670596 -2.32008167\n",
      " -0.91471352 -2.1508135 ]\n"
     ]
    },
    {
     "name": "stderr",
     "output_type": "stream",
     "text": [
      "/nobackup/users/hmbaghda/Software/miniforge3/envs/metastatic_potential/lib/python3.13/site-packages/sklearn/linear_model/_coordinate_descent.py:697: ConvergenceWarning: Objective did not converge. You might want to increase the number of iterations, check the scale of the features or consider increasing regularisation. Duality gap: 5.626e-01, tolerance: 3.790e-02\n",
      "  model = cd_fast.enet_coordinate_descent(\n",
      "  9%|████                                         | 9/100 [00:29<05:02,  3.32s/it]"
     ]
    },
    {
     "name": "stdout",
     "output_type": "stream",
     "text": [
      "[-0. -0. -0. ... -0.  0.  0.]\n",
      "[-2.32041288 -1.35007172 -1.58495344 -2.26269352 -1.42812096 -3.78412285\n",
      " -3.55705519 -1.65582889 -0.68387707 -1.11869046  0.41312248 -1.74514989\n",
      " -3.15316761 -2.79736199  0.53974573 -3.59320655 -2.63480079 -2.81677091\n",
      " -1.81288831 -2.15194717 -2.3037856   1.97606773 -1.67507016 -1.21751615\n",
      " -0.54509713 -1.87304457 -2.62448431 -3.03993801 -1.59945473 -2.11998637\n",
      " -1.29455045 -2.55663955 -3.09695808 -2.06245458 -3.01838058  0.45322197\n",
      " -2.84364358 -1.78569098]\n"
     ]
    },
    {
     "name": "stderr",
     "output_type": "stream",
     "text": [
      "/nobackup/users/hmbaghda/Software/miniforge3/envs/metastatic_potential/lib/python3.13/site-packages/sklearn/linear_model/_coordinate_descent.py:697: ConvergenceWarning: Objective did not converge. You might want to increase the number of iterations, check the scale of the features or consider increasing regularisation. Duality gap: 3.595e-01, tolerance: 3.889e-02\n",
      "  model = cd_fast.enet_coordinate_descent(\n",
      " 10%|████▍                                       | 10/100 [00:33<04:58,  3.32s/it]"
     ]
    },
    {
     "name": "stdout",
     "output_type": "stream",
     "text": [
      "[ 0. -0.  0. ... -0. -0.  0.]\n",
      "[-1.03269128 -0.15424191 -2.81682071 -1.27360628 -2.14480677 -1.55458515\n",
      " -1.04267856 -2.63266252 -2.66955457 -1.51590949 -2.78374919 -0.199854\n",
      " -1.23713795 -1.94247339 -3.02914814 -1.08119691 -1.255834   -2.98641305\n",
      " -1.0204435  -3.23451215 -3.01817156 -1.43247524 -1.31914911 -3.09883065\n",
      " -2.92881463  0.51045785 -2.49244908 -2.5711441  -1.40174047 -1.45267941\n",
      "  0.43628932 -1.2765054  -1.7410881  -1.25757083 -2.60892912 -2.07851517\n",
      " -1.06770749 -2.80918554]\n"
     ]
    },
    {
     "name": "stderr",
     "output_type": "stream",
     "text": [
      "/nobackup/users/hmbaghda/Software/miniforge3/envs/metastatic_potential/lib/python3.13/site-packages/sklearn/linear_model/_coordinate_descent.py:697: ConvergenceWarning: Objective did not converge. You might want to increase the number of iterations, check the scale of the features or consider increasing regularisation. Duality gap: 5.989e-01, tolerance: 3.845e-02\n",
      "  model = cd_fast.enet_coordinate_descent(\n",
      " 11%|████▊                                       | 11/100 [00:36<04:55,  3.32s/it]"
     ]
    },
    {
     "name": "stdout",
     "output_type": "stream",
     "text": [
      "[-0. -0. -0. ... -0.  0. -0.]\n",
      "[-2.70006137 -1.25890227 -1.8733918  -2.84856308 -2.2004231  -2.17985713\n",
      " -1.64986156 -3.67792802 -1.72344623  0.0591216  -1.45955775 -1.01125015\n",
      " -3.02750436 -2.41985578 -1.42838589 -0.60504215 -0.60049634 -3.52581342\n",
      " -3.88824438 -2.96158541  0.23836085 -0.35234381 -2.84618312 -0.45237588\n",
      " -0.63849596 -1.55024092 -1.18843055 -3.55376511 -2.64601726 -2.07413606\n",
      "  0.17712111 -0.8678677   0.2208145  -0.51078017  1.42950769 -0.8934092\n",
      " -0.6184019  -2.03713455]\n"
     ]
    },
    {
     "name": "stderr",
     "output_type": "stream",
     "text": [
      "/nobackup/users/hmbaghda/Software/miniforge3/envs/metastatic_potential/lib/python3.13/site-packages/sklearn/linear_model/_coordinate_descent.py:697: ConvergenceWarning: Objective did not converge. You might want to increase the number of iterations, check the scale of the features or consider increasing regularisation. Duality gap: 5.310e-01, tolerance: 3.982e-02\n",
      "  model = cd_fast.enet_coordinate_descent(\n",
      " 12%|█████▎                                      | 12/100 [00:39<04:51,  3.32s/it]"
     ]
    },
    {
     "name": "stdout",
     "output_type": "stream",
     "text": [
      "[-0.  0. -0. ... -0.  0. -0.]\n",
      "[-1.0807812  -3.41366285 -2.90541688 -2.42950936 -3.01024986 -3.57726015\n",
      " -0.99111061 -2.01862872  0.05631141  0.1917389  -0.44543318 -2.74314056\n",
      " -0.53041041 -0.91784695 -3.01154688 -3.22476311 -2.64248419 -1.35620278\n",
      " -3.60723843 -1.62894714 -1.72936374 -3.594884   -2.04947942 -0.85359005\n",
      " -2.20698382 -1.73460771 -3.01641745 -0.82405649 -2.43742202  0.17403769\n",
      " -2.60951347 -3.13971007 -2.91504736 -3.85864081  0.36301106 -1.68486366\n",
      " -0.1411449  -0.80382594]\n"
     ]
    },
    {
     "name": "stderr",
     "output_type": "stream",
     "text": [
      "/nobackup/users/hmbaghda/Software/miniforge3/envs/metastatic_potential/lib/python3.13/site-packages/sklearn/linear_model/_coordinate_descent.py:697: ConvergenceWarning: Objective did not converge. You might want to increase the number of iterations, check the scale of the features or consider increasing regularisation. Duality gap: 4.603e-01, tolerance: 3.930e-02\n",
      "  model = cd_fast.enet_coordinate_descent(\n",
      " 13%|█████▋                                      | 13/100 [00:43<04:54,  3.39s/it]"
     ]
    },
    {
     "name": "stdout",
     "output_type": "stream",
     "text": [
      "[ 0.  0. -0. ... -0.  0. -0.]\n",
      "[-1.55683206 -1.21773994 -2.54949706 -0.55241027 -2.05587059 -1.79154139\n",
      " -3.17308303 -2.42685359 -2.5273617  -1.92265371 -1.97451086 -1.27595152\n",
      " -2.32819119 -2.63841096 -2.46345852 -1.11865003 -1.94694156 -0.40614685\n",
      " -2.35816127 -2.47034499 -0.55199715 -2.80724328 -0.92221671 -1.12628761\n",
      " -2.35285742 -2.41746033 -0.66867987 -1.91230783 -0.19335409 -1.9536891\n",
      " -1.77886573 -0.60257339 -1.93288567 -2.7069992  -1.84796816 -1.88047151\n",
      " -0.87728502 -0.2440597 ]\n"
     ]
    },
    {
     "name": "stderr",
     "output_type": "stream",
     "text": [
      "/nobackup/users/hmbaghda/Software/miniforge3/envs/metastatic_potential/lib/python3.13/site-packages/sklearn/linear_model/_coordinate_descent.py:697: ConvergenceWarning: Objective did not converge. You might want to increase the number of iterations, check the scale of the features or consider increasing regularisation. Duality gap: 3.596e-01, tolerance: 4.131e-02\n",
      "  model = cd_fast.enet_coordinate_descent(\n",
      " 14%|██████▏                                     | 14/100 [00:46<04:49,  3.36s/it]"
     ]
    },
    {
     "name": "stdout",
     "output_type": "stream",
     "text": [
      "[ 0. -0. -0. ... -0.  0. -0.]\n",
      "[-1.58210021 -1.70992669 -1.38384435 -0.96686568 -2.48458148  0.07895383\n",
      " -2.51125168 -0.74147762 -2.5875933  -3.87181616 -1.78886368 -0.26024252\n",
      " -1.09196269 -1.24194731 -1.56421149 -3.16626158 -1.3569541  -1.94942249\n",
      " -2.89673894 -0.07446913 -2.24635885 -1.26074742 -2.38524731 -0.53650799\n",
      " -0.86460289 -0.29649723 -1.72483091 -2.55999203 -1.17282509 -2.08946023\n",
      " -1.8002897   0.55852635 -1.42941902  0.21026596 -0.2101754  -1.08468724\n",
      " -0.96302775 -1.01772274]\n"
     ]
    },
    {
     "name": "stderr",
     "output_type": "stream",
     "text": [
      "/nobackup/users/hmbaghda/Software/miniforge3/envs/metastatic_potential/lib/python3.13/site-packages/sklearn/linear_model/_coordinate_descent.py:697: ConvergenceWarning: Objective did not converge. You might want to increase the number of iterations, check the scale of the features or consider increasing regularisation. Duality gap: 5.062e-01, tolerance: 3.940e-02\n",
      "  model = cd_fast.enet_coordinate_descent(\n",
      " 15%|██████▌                                     | 15/100 [00:50<04:44,  3.35s/it]"
     ]
    },
    {
     "name": "stdout",
     "output_type": "stream",
     "text": [
      "[-0. -0. -0. ... -0.  0. -0.]\n",
      "[-2.63361185 -1.61900914 -0.27982123 -2.50031672 -2.28826799 -0.66015705\n",
      " -1.05993528 -0.37022704 -0.59912469 -3.1216451  -0.24771006 -1.23445087\n",
      " -4.01716669 -0.846891   -1.14272385 -3.13782504 -2.48484271 -2.62241128\n",
      " -1.40649076 -1.91760064 -2.07120176 -2.40910595 -3.82803558 -1.01988532\n",
      " -1.9210396  -1.90950242 -2.96977357 -2.76680081 -2.28807509 -2.55705509\n",
      " -2.01928211 -1.93747265 -1.72324846 -3.0337036  -2.07087272 -1.03144392\n",
      " -2.18149665 -0.75610355]\n"
     ]
    },
    {
     "name": "stderr",
     "output_type": "stream",
     "text": [
      "/nobackup/users/hmbaghda/Software/miniforge3/envs/metastatic_potential/lib/python3.13/site-packages/sklearn/linear_model/_coordinate_descent.py:697: ConvergenceWarning: Objective did not converge. You might want to increase the number of iterations, check the scale of the features or consider increasing regularisation. Duality gap: 5.663e-01, tolerance: 4.062e-02\n",
      "  model = cd_fast.enet_coordinate_descent(\n",
      " 16%|███████                                     | 16/100 [00:53<04:40,  3.34s/it]"
     ]
    },
    {
     "name": "stdout",
     "output_type": "stream",
     "text": [
      "[-0. -0. -0. ... -0.  0. -0.]\n",
      "[-1.69939559 -3.5509568  -0.91488838 -2.90857208 -0.32079845 -1.08766827\n",
      " -2.43789422 -4.08317151 -0.52285406 -2.86076341 -2.18588886 -0.9305631\n",
      " -0.19317    -2.65753123 -1.75448927 -0.37830573 -0.86971241 -3.48629084\n",
      "  0.03769334 -2.22072772 -2.38912813 -1.15020994 -1.87711701 -2.53129982\n",
      " -2.53370581 -1.67346605 -2.72006082 -1.21785318 -1.87621347 -2.42015109\n",
      " -3.41513655 -1.6764943  -2.25383496 -0.28038455 -2.19799455 -4.36647034\n",
      " -2.28152165 -1.7925798 ]\n"
     ]
    },
    {
     "name": "stderr",
     "output_type": "stream",
     "text": [
      "/nobackup/users/hmbaghda/Software/miniforge3/envs/metastatic_potential/lib/python3.13/site-packages/sklearn/linear_model/_coordinate_descent.py:697: ConvergenceWarning: Objective did not converge. You might want to increase the number of iterations, check the scale of the features or consider increasing regularisation. Duality gap: 4.774e-01, tolerance: 4.016e-02\n",
      "  model = cd_fast.enet_coordinate_descent(\n",
      " 17%|███████▍                                    | 17/100 [00:56<04:36,  3.34s/it]"
     ]
    },
    {
     "name": "stdout",
     "output_type": "stream",
     "text": [
      "[-0. -0.  0. ... -0.  0. -0.]\n",
      "[-0.90031555 -3.1340854  -2.05213066 -1.37069562 -1.20702965 -3.19267976\n",
      " -3.5447426  -1.90825345 -3.28852859 -0.2780382  -0.98470269 -1.49534597\n",
      " -2.96869926 -1.01657062 -2.99121295 -1.60812853 -2.8012243  -2.81420668\n",
      " -1.39706066  0.1113347  -0.8729459  -1.98991804 -0.02178903 -2.67437729\n",
      " -0.27768451 -3.02971808 -2.0415912  -0.6974812  -0.37399331 -1.11237659\n",
      "  0.19716704 -1.3095959  -2.84945881 -0.82000334 -2.24704409 -3.57848713\n",
      " -1.23302812 -0.91743727]\n"
     ]
    },
    {
     "name": "stderr",
     "output_type": "stream",
     "text": [
      "/nobackup/users/hmbaghda/Software/miniforge3/envs/metastatic_potential/lib/python3.13/site-packages/sklearn/linear_model/_coordinate_descent.py:697: ConvergenceWarning: Objective did not converge. You might want to increase the number of iterations, check the scale of the features or consider increasing regularisation. Duality gap: 4.157e-01, tolerance: 3.638e-02\n",
      "  model = cd_fast.enet_coordinate_descent(\n",
      " 18%|███████▉                                    | 18/100 [00:59<04:32,  3.33s/it]"
     ]
    },
    {
     "name": "stdout",
     "output_type": "stream",
     "text": [
      "[ 0.  0. -0. ... -0.  0. -0.]\n",
      "[-3.15327817 -1.54107489 -3.17097453 -1.0132376  -0.70242797 -1.54484715\n",
      " -1.48583852 -0.52716527 -2.54919544 -1.55270396 -1.32980644 -0.38565336\n",
      " -1.48553581 -0.23683943 -1.28616026 -0.85536032 -0.13777525 -0.353933\n",
      " -1.55558884 -0.6322794  -2.15401457 -1.12434535 -1.57128072 -1.01115015\n",
      " -2.03006369 -2.52912875 -1.93528737 -3.45051093 -2.12688073 -1.13096495\n",
      " -1.16700393 -2.16459012 -0.8723079  -1.15436411 -0.82518078 -3.29695807\n",
      " -2.15884145 -0.70378696]\n"
     ]
    },
    {
     "name": "stderr",
     "output_type": "stream",
     "text": [
      "/nobackup/users/hmbaghda/Software/miniforge3/envs/metastatic_potential/lib/python3.13/site-packages/sklearn/linear_model/_coordinate_descent.py:697: ConvergenceWarning: Objective did not converge. You might want to increase the number of iterations, check the scale of the features or consider increasing regularisation. Duality gap: 5.724e-01, tolerance: 3.704e-02\n",
      "  model = cd_fast.enet_coordinate_descent(\n",
      " 19%|████████▎                                   | 19/100 [01:03<04:29,  3.33s/it]"
     ]
    },
    {
     "name": "stdout",
     "output_type": "stream",
     "text": [
      "[-0. -0. -0. ... -0.  0. -0.]\n",
      "[-0.98239435  0.88694148  1.22860971 -2.10669862 -1.25211341 -0.93877509\n",
      " -0.85115573  0.54192365 -0.91488672 -1.55221292 -0.55382552 -0.88221923\n",
      " -1.1318651  -0.6474805  -2.39754609 -2.13033126 -1.32103695 -1.83712452\n",
      " -2.24086882 -0.38432382 -1.91846768 -2.39259245 -0.90360155 -3.17402341\n",
      " -1.90244    -3.18290718 -2.08206951 -4.06364622 -1.32664495 -1.6896711\n",
      " -4.6000097  -0.7367358  -2.70107418 -2.10049917 -1.75458977 -0.16755298\n",
      " -2.59951234 -2.83689686]\n"
     ]
    },
    {
     "name": "stderr",
     "output_type": "stream",
     "text": [
      "/nobackup/users/hmbaghda/Software/miniforge3/envs/metastatic_potential/lib/python3.13/site-packages/sklearn/linear_model/_coordinate_descent.py:697: ConvergenceWarning: Objective did not converge. You might want to increase the number of iterations, check the scale of the features or consider increasing regularisation. Duality gap: 5.835e-01, tolerance: 3.951e-02\n",
      "  model = cd_fast.enet_coordinate_descent(\n",
      " 20%|████████▊                                   | 20/100 [01:06<04:25,  3.32s/it]"
     ]
    },
    {
     "name": "stdout",
     "output_type": "stream",
     "text": [
      "[-0.  0. -0. ... -0.  0. -0.]\n",
      "[-0.94297536 -0.80583155 -2.95608086 -3.14184512 -2.12863885 -1.34103298\n",
      " -2.53491664 -3.5667991  -0.99108822 -0.75188752 -2.75578481 -2.6082263\n",
      " -1.15411351 -2.01859254 -1.51651793 -0.32478391 -2.70900699 -3.3886446\n",
      " -0.72911868 -2.74207259 -2.1720954  -1.3401417  -2.99102407  0.71059502\n",
      " -2.70738071 -1.64775871 -3.71449481 -1.50424629 -1.58820499 -3.53018771\n",
      " -0.8554075  -0.2459704  -2.09538761  0.06631882 -2.01990228 -1.76675506\n",
      " -3.74727394 -2.6062226 ]\n"
     ]
    },
    {
     "name": "stderr",
     "output_type": "stream",
     "text": [
      "/nobackup/users/hmbaghda/Software/miniforge3/envs/metastatic_potential/lib/python3.13/site-packages/sklearn/linear_model/_coordinate_descent.py:697: ConvergenceWarning: Objective did not converge. You might want to increase the number of iterations, check the scale of the features or consider increasing regularisation. Duality gap: 4.965e-01, tolerance: 3.908e-02\n",
      "  model = cd_fast.enet_coordinate_descent(\n",
      " 21%|█████████▏                                  | 21/100 [01:09<04:22,  3.32s/it]"
     ]
    },
    {
     "name": "stdout",
     "output_type": "stream",
     "text": [
      "[ 0.  0.  0. ... -0.  0. -0.]\n",
      "[-3.01541079 -3.31058555 -1.74999728 -1.8589096  -0.11409936 -0.53553153\n",
      "  0.42604131 -2.17717736 -2.27870504 -0.12284811 -1.11968257 -3.02628269\n",
      " -2.53498629 -1.11905753 -4.43788771 -2.07256981 -0.85273923 -1.64652396\n",
      " -1.8805212  -2.67137239 -1.87410394 -1.22294989 -1.35868594 -2.07925817\n",
      "  0.58387032  0.0120773  -1.23241469 -3.23523904 -1.77556456 -2.65789055\n",
      " -0.85042232 -2.31860241 -1.21973341 -3.0813236  -1.5063491  -2.13724648\n",
      "  0.24246356 -1.81043754]\n"
     ]
    },
    {
     "name": "stderr",
     "output_type": "stream",
     "text": [
      "/nobackup/users/hmbaghda/Software/miniforge3/envs/metastatic_potential/lib/python3.13/site-packages/sklearn/linear_model/_coordinate_descent.py:697: ConvergenceWarning: Objective did not converge. You might want to increase the number of iterations, check the scale of the features or consider increasing regularisation. Duality gap: 5.396e-01, tolerance: 4.008e-02\n",
      "  model = cd_fast.enet_coordinate_descent(\n",
      " 22%|█████████▋                                  | 22/100 [01:13<04:19,  3.32s/it]"
     ]
    },
    {
     "name": "stdout",
     "output_type": "stream",
     "text": [
      "[-0. -0.  0. ... -0.  0. -0.]\n",
      "[-2.15037645 -1.48737473 -0.34545367  0.60839951 -2.36855914 -1.47440562\n",
      " -1.48824527 -1.66103925 -1.77195454 -0.58251674 -3.35708724 -2.57013234\n",
      " -3.45246333 -2.5774521   0.67974738 -2.51666717 -3.20694405 -1.88085456\n",
      " -1.51169665 -2.03328179 -2.50368678 -2.95617567 -3.03835091 -2.39138459\n",
      " -3.0000173  -3.94084973 -2.67461924 -2.35190637 -1.78292004 -2.05311146\n",
      " -1.38659067 -1.49499253 -1.24291708 -2.22912766 -0.10757139 -1.15864085\n",
      " -1.63657496 -1.7170638 ]\n"
     ]
    },
    {
     "name": "stderr",
     "output_type": "stream",
     "text": [
      "/nobackup/users/hmbaghda/Software/miniforge3/envs/metastatic_potential/lib/python3.13/site-packages/sklearn/linear_model/_coordinate_descent.py:697: ConvergenceWarning: Objective did not converge. You might want to increase the number of iterations, check the scale of the features or consider increasing regularisation. Duality gap: 4.607e-01, tolerance: 4.116e-02\n",
      "  model = cd_fast.enet_coordinate_descent(\n",
      " 23%|██████████                                  | 23/100 [01:16<04:15,  3.32s/it]"
     ]
    },
    {
     "name": "stdout",
     "output_type": "stream",
     "text": [
      "[-0. -0. -0. ... -0.  0. -0.]\n",
      "[-0.1485038  -1.38969892 -1.17243888 -1.55617219  0.36730959 -0.72985582\n",
      " -2.32690059 -0.37789738 -1.39256401 -1.02274905 -2.1821899  -1.45600989\n",
      " -1.98037293 -0.81121747 -0.25747161 -0.94556612 -0.0355405  -0.79382118\n",
      " -2.41959844 -2.44925793 -2.54904136 -2.38991123 -2.60014884 -0.57230205\n",
      " -0.92000331 -1.18974078 -1.09773375 -0.41428196 -3.02549882 -2.0876744\n",
      " -1.79455046 -0.35904684 -3.58700864 -1.35167038 -2.63026679 -2.63423176\n",
      " -3.31831912 -2.41690439]\n"
     ]
    },
    {
     "name": "stderr",
     "output_type": "stream",
     "text": [
      "/nobackup/users/hmbaghda/Software/miniforge3/envs/metastatic_potential/lib/python3.13/site-packages/sklearn/linear_model/_coordinate_descent.py:697: ConvergenceWarning: Objective did not converge. You might want to increase the number of iterations, check the scale of the features or consider increasing regularisation. Duality gap: 3.961e-01, tolerance: 3.502e-02\n",
      "  model = cd_fast.enet_coordinate_descent(\n",
      " 24%|██████████▌                                 | 24/100 [01:19<04:11,  3.31s/it]"
     ]
    },
    {
     "name": "stdout",
     "output_type": "stream",
     "text": [
      "[-0.  0. -0. ... -0.  0. -0.]\n",
      "[-2.74621564 -2.56481757 -2.11015972  0.30074962 -1.25395554 -2.12099699\n",
      " -0.22171157 -2.32010146 -1.00535195 -2.67064875  0.07893436  0.07529837\n",
      " -3.7553194  -2.73422137  0.05575592 -0.71466157 -3.35852144 -0.30501493\n",
      " -2.59323174 -1.52835997 -0.53003944 -1.48404729 -2.79619412 -0.79623969\n",
      " -0.73744358 -0.09520468 -1.22087391 -1.45665431  0.45036925 -2.48131155\n",
      "  0.69429711 -1.67127887 -0.97118919 -2.14316685 -2.4665612  -0.83778312\n",
      " -1.30083717 -4.36034112]\n"
     ]
    },
    {
     "name": "stderr",
     "output_type": "stream",
     "text": [
      "/nobackup/users/hmbaghda/Software/miniforge3/envs/metastatic_potential/lib/python3.13/site-packages/sklearn/linear_model/_coordinate_descent.py:697: ConvergenceWarning: Objective did not converge. You might want to increase the number of iterations, check the scale of the features or consider increasing regularisation. Duality gap: 5.012e-01, tolerance: 3.886e-02\n",
      "  model = cd_fast.enet_coordinate_descent(\n",
      " 25%|███████████                                 | 25/100 [01:23<04:08,  3.31s/it]"
     ]
    },
    {
     "name": "stdout",
     "output_type": "stream",
     "text": [
      "[-0.  0. -0. ... -0.  0. -0.]\n",
      "[-2.84767128 -3.09577965 -1.50532818 -1.97942083 -0.38043881 -1.98825413\n",
      " -2.27126487 -1.48661448 -1.10225299 -0.6537839  -0.134731   -1.56407947\n",
      " -3.18233184 -1.3617166  -0.76794542 -1.59189966 -2.85177255 -0.90395209\n",
      " -1.01532594  1.45476272 -1.8544399  -1.3384305  -1.09845292 -0.78262014\n",
      " -2.02219852 -2.13648298 -2.00028916 -1.00629839 -2.43716683 -1.93153097\n",
      " -1.61645305 -0.70411693 -3.76613588 -1.71817306  0.48561521 -0.49799288\n",
      " -2.02585801 -2.23327704]\n"
     ]
    },
    {
     "name": "stderr",
     "output_type": "stream",
     "text": [
      "/nobackup/users/hmbaghda/Software/miniforge3/envs/metastatic_potential/lib/python3.13/site-packages/sklearn/linear_model/_coordinate_descent.py:697: ConvergenceWarning: Objective did not converge. You might want to increase the number of iterations, check the scale of the features or consider increasing regularisation. Duality gap: 4.726e-01, tolerance: 4.083e-02\n",
      "  model = cd_fast.enet_coordinate_descent(\n",
      " 26%|███████████▍                                | 26/100 [01:26<04:04,  3.30s/it]"
     ]
    },
    {
     "name": "stdout",
     "output_type": "stream",
     "text": [
      "[ 0. -0. -0. ... -0.  0. -0.]\n",
      "[-2.11946552 -0.69539515 -0.68168296 -1.31665475 -2.43473973 -1.80881574\n",
      " -3.39198005 -0.04156589 -4.0719703  -0.39618456 -3.1387382  -2.83591746\n",
      "  0.9947511  -1.73879215 -2.58375112 -1.96399009 -3.19344631 -3.15720816\n",
      " -0.5270767  -3.50094435 -3.98484204 -1.08684238 -1.41087537 -2.34571099\n",
      " -2.07142849 -2.64441818 -0.93562163 -4.40528597 -1.48687098 -0.59866345\n",
      " -3.69122308 -2.64262812 -0.82695304  0.79838683 -0.99227705 -0.45145216\n",
      "  0.17196195 -1.82943231]\n"
     ]
    },
    {
     "name": "stderr",
     "output_type": "stream",
     "text": [
      "/nobackup/users/hmbaghda/Software/miniforge3/envs/metastatic_potential/lib/python3.13/site-packages/sklearn/linear_model/_coordinate_descent.py:697: ConvergenceWarning: Objective did not converge. You might want to increase the number of iterations, check the scale of the features or consider increasing regularisation. Duality gap: 5.204e-01, tolerance: 3.889e-02\n",
      "  model = cd_fast.enet_coordinate_descent(\n",
      " 27%|███████████▉                                | 27/100 [01:29<04:00,  3.30s/it]"
     ]
    },
    {
     "name": "stdout",
     "output_type": "stream",
     "text": [
      "[ 0. -0. -0. ... -0.  0. -0.]\n",
      "[-0.15532467 -1.74407392 -3.50568124 -3.21788898 -2.38757277 -2.87399373\n",
      " -3.65654903  0.15562275 -2.05569213 -1.62173897 -3.39413837 -2.22839165\n",
      " -2.69307407 -1.12729623 -2.77631335 -1.90018196 -2.93691708 -0.02978444\n",
      " -1.06402482 -3.52240599 -0.76504666 -2.35648367 -0.92438152 -1.27312051\n",
      " -0.4556985  -0.29299797 -2.43987494 -2.68368034 -0.97612404 -2.76318551\n",
      " -2.21270974 -1.57884363 -1.16680446 -2.25271862 -2.13224097 -3.67939368\n",
      " -0.87147642 -1.2654629 ]\n"
     ]
    },
    {
     "name": "stderr",
     "output_type": "stream",
     "text": [
      "/nobackup/users/hmbaghda/Software/miniforge3/envs/metastatic_potential/lib/python3.13/site-packages/sklearn/linear_model/_coordinate_descent.py:697: ConvergenceWarning: Objective did not converge. You might want to increase the number of iterations, check the scale of the features or consider increasing regularisation. Duality gap: 4.818e-01, tolerance: 3.850e-02\n",
      "  model = cd_fast.enet_coordinate_descent(\n",
      " 28%|████████████▎                               | 28/100 [01:33<03:57,  3.30s/it]"
     ]
    },
    {
     "name": "stdout",
     "output_type": "stream",
     "text": [
      "[-0. -0. -0. ... -0.  0. -0.]\n",
      "[-0.64085021 -0.04258031 -3.74772869 -2.80372065 -3.14142512  0.1089522\n",
      " -1.40336041 -0.88848056 -0.10618173 -3.08382264 -3.66672623  0.32725136\n",
      " -1.58782596 -1.28052626 -2.45156403 -1.33766406 -2.32623917 -1.34061123\n",
      "  0.10377408 -4.10943144 -3.39952806 -2.37614661 -1.69093252 -0.18482412\n",
      " -1.88984403 -2.47429584 -1.83490802 -2.59729692 -0.40144685  0.06234833\n",
      " -0.27880829 -1.89003254 -2.07564316 -0.48546859 -1.1597771  -0.07676589\n",
      " -1.68562407 -0.65534467]\n"
     ]
    },
    {
     "name": "stderr",
     "output_type": "stream",
     "text": [
      "/nobackup/users/hmbaghda/Software/miniforge3/envs/metastatic_potential/lib/python3.13/site-packages/sklearn/linear_model/_coordinate_descent.py:697: ConvergenceWarning: Objective did not converge. You might want to increase the number of iterations, check the scale of the features or consider increasing regularisation. Duality gap: 4.788e-01, tolerance: 3.878e-02\n",
      "  model = cd_fast.enet_coordinate_descent(\n",
      " 29%|████████████▊                               | 29/100 [01:36<03:53,  3.29s/it]"
     ]
    },
    {
     "name": "stdout",
     "output_type": "stream",
     "text": [
      "[ 0. -0. -0. ... -0.  0. -0.]\n",
      "[-0.84942341 -2.44950251 -0.96449618 -3.36284684 -0.11319669 -1.84191351\n",
      " -1.06416423 -1.83902818 -0.94687964 -4.13175784 -1.16412668 -2.31544393\n",
      " -1.20577919 -3.75978554 -1.35643361 -1.54883753  0.1655521  -0.31807724\n",
      " -2.5674458  -2.12110773 -3.35843137 -3.13447666 -1.3041307  -0.28926186\n",
      " -3.43953044 -1.7571385  -2.50910464 -3.74954841 -3.15049037 -2.07469839\n",
      " -2.23258044 -1.7619751  -0.48219583 -2.99886065 -2.90082857 -1.37060244\n",
      " -1.37569701 -2.26544574]\n"
     ]
    },
    {
     "name": "stderr",
     "output_type": "stream",
     "text": [
      "/nobackup/users/hmbaghda/Software/miniforge3/envs/metastatic_potential/lib/python3.13/site-packages/sklearn/linear_model/_coordinate_descent.py:697: ConvergenceWarning: Objective did not converge. You might want to increase the number of iterations, check the scale of the features or consider increasing regularisation. Duality gap: 4.740e-01, tolerance: 3.977e-02\n",
      "  model = cd_fast.enet_coordinate_descent(\n",
      " 30%|█████████████▏                              | 30/100 [01:39<03:50,  3.29s/it]"
     ]
    },
    {
     "name": "stdout",
     "output_type": "stream",
     "text": [
      "[-0.  0.  0. ... -0.  0. -0.]\n",
      "[ 2.5455151  -3.72304344 -4.61869905 -1.91037306 -0.80146058 -0.80855231\n",
      "  0.47755623  1.75696498  0.28708498 -1.53659282 -0.73266049  1.11089115\n",
      " -3.16380656 -0.46714897 -3.04304168 -3.03584798 -1.22767068 -0.05148773\n",
      " -1.50374672 -1.7879505  -0.6004298  -2.85178008 -2.67727176 -3.74544839\n",
      " -2.26248142 -1.3679338   0.04600078 -1.78637902  0.26355972 -1.08914153\n",
      " -2.57786753 -3.11560621 -2.61705528  0.07170222 -1.97545511 -1.91687825\n",
      " -3.22282738 -1.02012925]\n"
     ]
    },
    {
     "name": "stderr",
     "output_type": "stream",
     "text": [
      "/nobackup/users/hmbaghda/Software/miniforge3/envs/metastatic_potential/lib/python3.13/site-packages/sklearn/linear_model/_coordinate_descent.py:697: ConvergenceWarning: Objective did not converge. You might want to increase the number of iterations, check the scale of the features or consider increasing regularisation. Duality gap: 4.437e-01, tolerance: 4.106e-02\n",
      "  model = cd_fast.enet_coordinate_descent(\n",
      " 31%|█████████████▋                              | 31/100 [01:42<03:47,  3.29s/it]"
     ]
    },
    {
     "name": "stdout",
     "output_type": "stream",
     "text": [
      "[ 0. -0. -0. ... -0.  0. -0.]\n",
      "[-1.46326155 -2.46362756 -2.97619398 -0.09118648 -0.13519315 -1.43074731\n",
      "  0.81873053 -1.48680696 -2.98060896 -0.96670651 -2.94000827 -0.87368463\n",
      " -1.84046257 -1.7220351  -2.15318835 -2.34468584 -3.17848447 -5.31036439\n",
      " -1.63640704 -2.70898742 -1.2953084  -3.10212079 -0.3103854  -1.72058452\n",
      " -2.8095191  -2.61010764  0.0218732  -1.43170807 -2.73447824 -1.72376493\n",
      " -0.59671631 -4.3933287  -1.0318665  -1.75854431  0.20175012 -2.15394573\n",
      " -1.32345751 -0.29138714]\n"
     ]
    },
    {
     "name": "stderr",
     "output_type": "stream",
     "text": [
      "/nobackup/users/hmbaghda/Software/miniforge3/envs/metastatic_potential/lib/python3.13/site-packages/sklearn/linear_model/_coordinate_descent.py:697: ConvergenceWarning: Objective did not converge. You might want to increase the number of iterations, check the scale of the features or consider increasing regularisation. Duality gap: 6.144e-01, tolerance: 4.187e-02\n",
      "  model = cd_fast.enet_coordinate_descent(\n",
      " 32%|██████████████                              | 32/100 [01:46<03:43,  3.29s/it]"
     ]
    },
    {
     "name": "stdout",
     "output_type": "stream",
     "text": [
      "[-0.  0. -0. ... -0.  0. -0.]\n",
      "[-0.45357627 -4.32781585  0.75297951 -1.03154614 -2.96006414 -0.91447356\n",
      "  1.11554742 -0.71223248 -1.55815451 -2.14605523 -1.24728488 -2.26003199\n",
      " -2.44464954 -1.44058742  0.48454286 -2.14732816 -3.06396683 -2.56930471\n",
      " -0.51498531 -0.45708277 -1.0827169  -1.64120937 -0.66287808 -3.55456747\n",
      " -2.61872796 -1.17513606 -1.19394094 -2.29404998 -3.06272157 -3.74294179\n",
      " -1.01859137 -0.84692923 -2.26245198 -3.44062966 -2.10811531 -2.27979975\n",
      " -3.46441458 -1.33553751]\n"
     ]
    },
    {
     "name": "stderr",
     "output_type": "stream",
     "text": [
      "/nobackup/users/hmbaghda/Software/miniforge3/envs/metastatic_potential/lib/python3.13/site-packages/sklearn/linear_model/_coordinate_descent.py:697: ConvergenceWarning: Objective did not converge. You might want to increase the number of iterations, check the scale of the features or consider increasing regularisation. Duality gap: 3.858e-01, tolerance: 3.912e-02\n",
      "  model = cd_fast.enet_coordinate_descent(\n",
      " 33%|██████████████▌                             | 33/100 [01:49<03:40,  3.29s/it]"
     ]
    },
    {
     "name": "stdout",
     "output_type": "stream",
     "text": [
      "[-0.  0. -0. ... -0.  0. -0.]\n",
      "[-3.3158234  -2.56366831 -1.67720947 -2.58609066 -2.16689353 -2.52213966\n",
      " -1.34137218 -3.37927088 -0.88841673 -0.71330079 -2.9604113  -2.33771524\n",
      " -2.61380545 -0.33197924 -0.98885783 -1.3694173  -2.63881434 -2.60893611\n",
      " -1.26785585 -1.96093986 -3.17009479 -2.21918178  0.56398959 -0.36873739\n",
      " -4.12824469 -2.45008637 -4.36987046 -3.43389084 -0.78865346 -1.08299635\n",
      " -3.08759721 -3.54548062 -1.85579152  0.7689496  -0.38909357 -2.84363082\n",
      " -2.33637114 -1.42222421]\n"
     ]
    },
    {
     "name": "stderr",
     "output_type": "stream",
     "text": [
      "/nobackup/users/hmbaghda/Software/miniforge3/envs/metastatic_potential/lib/python3.13/site-packages/sklearn/linear_model/_coordinate_descent.py:697: ConvergenceWarning: Objective did not converge. You might want to increase the number of iterations, check the scale of the features or consider increasing regularisation. Duality gap: 6.820e-01, tolerance: 3.567e-02\n",
      "  model = cd_fast.enet_coordinate_descent(\n",
      " 34%|██████████████▉                             | 34/100 [01:52<03:37,  3.29s/it]"
     ]
    },
    {
     "name": "stdout",
     "output_type": "stream",
     "text": [
      "[-0. -0. -0. ... -0.  0.  0.]\n",
      "[-0.91678035 -1.03944581 -2.88784212 -1.88353392 -2.63785468  0.06472295\n",
      " -2.88649276 -4.20170856 -2.42984053  0.40571745 -1.10775552 -1.65133881\n",
      " -1.41559426 -1.99235805 -0.45564066 -0.96704093 -1.32454896 -1.4645888\n",
      " -2.72437905 -3.80550256 -2.17392151  0.64515791 -0.80177716 -2.82473331\n",
      " -2.78290928 -3.07001922  0.58766113 -1.21636168 -1.9860987  -1.70281117\n",
      " -0.49797579 -1.38231    -1.71067561 -1.03185355 -1.36143626 -3.52500166\n",
      " -2.36343965 -1.12546729]\n"
     ]
    },
    {
     "name": "stderr",
     "output_type": "stream",
     "text": [
      "/nobackup/users/hmbaghda/Software/miniforge3/envs/metastatic_potential/lib/python3.13/site-packages/sklearn/linear_model/_coordinate_descent.py:697: ConvergenceWarning: Objective did not converge. You might want to increase the number of iterations, check the scale of the features or consider increasing regularisation. Duality gap: 3.865e-01, tolerance: 3.926e-02\n",
      "  model = cd_fast.enet_coordinate_descent(\n",
      " 35%|███████████████▍                            | 35/100 [01:56<03:33,  3.29s/it]"
     ]
    },
    {
     "name": "stdout",
     "output_type": "stream",
     "text": [
      "[-0. -0.  0. ... -0.  0.  0.]\n",
      "[-1.82275778 -1.94214012 -1.81096172  0.35574974 -2.8374457  -0.98165606\n",
      " -1.08418612  0.26657394 -2.42325677 -1.52326198 -1.22416054 -1.00526269\n",
      " -3.88390202 -1.67149304 -2.64003096  0.08336316 -0.97953604 -2.55026148\n",
      " -2.23530922 -0.31740043 -1.37253323 -1.95413642 -0.24004273 -2.04280333\n",
      " -3.00072575 -1.61804158 -0.2650828  -1.47003735  1.04726233 -2.2570121\n",
      " -1.86017298 -1.74594542 -2.84094561 -0.46710486 -2.279926   -1.900135\n",
      " -1.32525376 -1.53998824]\n"
     ]
    },
    {
     "name": "stderr",
     "output_type": "stream",
     "text": [
      "/nobackup/users/hmbaghda/Software/miniforge3/envs/metastatic_potential/lib/python3.13/site-packages/sklearn/linear_model/_coordinate_descent.py:697: ConvergenceWarning: Objective did not converge. You might want to increase the number of iterations, check the scale of the features or consider increasing regularisation. Duality gap: 3.523e-01, tolerance: 3.453e-02\n",
      "  model = cd_fast.enet_coordinate_descent(\n",
      " 36%|███████████████▊                            | 36/100 [01:59<03:30,  3.29s/it]"
     ]
    },
    {
     "name": "stdout",
     "output_type": "stream",
     "text": [
      "[-0. -0. -0. ... -0.  0. -0.]\n",
      "[ 0.39146051 -2.11248992 -0.5984303  -2.52695011 -2.09238202 -0.31009628\n",
      " -2.11446751 -2.88052003 -0.88581599 -3.34423295 -1.03627914 -0.67386793\n",
      " -4.30730565 -0.19556863 -2.25235368 -2.5722726  -0.41450003 -2.62731119\n",
      " -2.38168329 -1.51226301 -0.3166876  -4.03998457 -1.7835303  -2.72966557\n",
      " -1.16189329 -2.20108826 -1.40502794 -3.91310672 -0.50309577 -1.07749801\n",
      " -1.17694139 -2.60912669 -3.2979028  -0.99242866 -1.46506084 -0.01794857\n",
      " -2.43429131 -1.46997272]\n"
     ]
    },
    {
     "name": "stderr",
     "output_type": "stream",
     "text": [
      "/nobackup/users/hmbaghda/Software/miniforge3/envs/metastatic_potential/lib/python3.13/site-packages/sklearn/linear_model/_coordinate_descent.py:697: ConvergenceWarning: Objective did not converge. You might want to increase the number of iterations, check the scale of the features or consider increasing regularisation. Duality gap: 4.868e-01, tolerance: 3.933e-02\n",
      "  model = cd_fast.enet_coordinate_descent(\n",
      " 37%|████████████████▎                           | 37/100 [02:02<03:27,  3.29s/it]"
     ]
    },
    {
     "name": "stdout",
     "output_type": "stream",
     "text": [
      "[-0. -0. -0. ... -0.  0. -0.]\n",
      "[-2.44626684 -0.56665008 -2.57141655 -3.91544573 -1.81935609 -3.78848428\n",
      " -3.08306799 -1.02062169 -0.99869799 -2.20801109 -0.4185119  -1.88257818\n",
      " -1.41146743 -2.66702411 -2.56590985 -3.06166327 -1.40954593 -0.18257665\n",
      "  0.16212531 -3.46854883 -2.06231077 -3.69546469 -0.26650696 -1.61001622\n",
      " -2.36977136 -2.93035341 -0.22862474 -0.79277632 -3.14188658 -2.74934803\n",
      "  0.42323764 -2.68745365 -2.07719074  0.65621797 -2.35366475 -1.82596247\n",
      " -0.5977417   0.67856675]\n"
     ]
    },
    {
     "name": "stderr",
     "output_type": "stream",
     "text": [
      "/nobackup/users/hmbaghda/Software/miniforge3/envs/metastatic_potential/lib/python3.13/site-packages/sklearn/linear_model/_coordinate_descent.py:697: ConvergenceWarning: Objective did not converge. You might want to increase the number of iterations, check the scale of the features or consider increasing regularisation. Duality gap: 4.063e-01, tolerance: 4.006e-02\n",
      "  model = cd_fast.enet_coordinate_descent(\n",
      " 38%|████████████████▋                           | 38/100 [02:05<03:24,  3.29s/it]"
     ]
    },
    {
     "name": "stdout",
     "output_type": "stream",
     "text": [
      "[-0. -0. -0. ... -0.  0. -0.]\n",
      "[-0.941701   -1.78366454 -1.31305924 -3.78368853 -0.93719057 -2.79840711\n",
      " -2.5386045  -1.08063251 -1.1722278  -1.08738793 -0.36857261 -1.89138837\n",
      " -0.92138682  0.1330107  -2.97060832 -1.25527272 -3.21218132 -1.53320511\n",
      " -4.77948798 -1.02172374 -2.9279111  -1.49406448 -0.9363856  -2.85062548\n",
      " -0.9304955   0.20944717 -1.57178073 -2.33522426 -2.61245463 -2.93169457\n",
      " -1.99250762 -2.84044255 -1.97047086 -1.623807   -1.11245334 -1.8690421\n",
      " -3.39215966 -2.98034192]\n"
     ]
    },
    {
     "name": "stderr",
     "output_type": "stream",
     "text": [
      "/nobackup/users/hmbaghda/Software/miniforge3/envs/metastatic_potential/lib/python3.13/site-packages/sklearn/linear_model/_coordinate_descent.py:697: ConvergenceWarning: Objective did not converge. You might want to increase the number of iterations, check the scale of the features or consider increasing regularisation. Duality gap: 4.802e-01, tolerance: 4.078e-02\n",
      "  model = cd_fast.enet_coordinate_descent(\n",
      " 39%|█████████████████▏                          | 39/100 [02:09<03:20,  3.29s/it]"
     ]
    },
    {
     "name": "stdout",
     "output_type": "stream",
     "text": [
      "[-0.  0. -0. ... -0.  0.  0.]\n",
      "[-3.66136343 -2.24550269 -3.81881304 -1.00083986 -1.86409973 -3.03000965\n",
      "  0.32880115 -2.27335891 -1.45977409  0.35116261 -1.4978849  -0.96902937\n",
      " -2.68025925 -1.80368407 -2.04499724 -2.15734015 -1.62627269 -2.88816478\n",
      " -1.59845312 -1.42839638 -2.58084549 -1.48911679 -2.7423589  -1.4307863\n",
      " -0.29723393 -1.65706999 -5.29648083 -3.20790557 -3.44992135 -1.20743314\n",
      " -1.67165091 -0.86150646 -3.30340559 -2.42536143 -0.18435081 -1.95495212\n",
      " -2.24330949 -4.05389903]\n"
     ]
    },
    {
     "name": "stderr",
     "output_type": "stream",
     "text": [
      "/nobackup/users/hmbaghda/Software/miniforge3/envs/metastatic_potential/lib/python3.13/site-packages/sklearn/linear_model/_coordinate_descent.py:697: ConvergenceWarning: Objective did not converge. You might want to increase the number of iterations, check the scale of the features or consider increasing regularisation. Duality gap: 4.070e-01, tolerance: 3.882e-02\n",
      "  model = cd_fast.enet_coordinate_descent(\n",
      " 40%|█████████████████▌                          | 40/100 [02:12<03:17,  3.29s/it]"
     ]
    },
    {
     "name": "stdout",
     "output_type": "stream",
     "text": [
      "[ 0. -0. -0. ... -0.  0. -0.]\n",
      "[-0.13599289 -0.74457013 -1.7377455  -1.4479616  -1.93931195 -0.23163425\n",
      " -3.17851917 -2.47207114 -2.5016361  -1.72880214 -0.68045491 -1.84340516\n",
      " -2.48017275 -1.71834075 -1.12051339 -1.30218416 -3.36409462 -3.22307906\n",
      " -0.03368276 -0.89644302 -2.51928481 -0.95159968 -1.4107516  -1.42656584\n",
      " -1.83037726 -1.73092751 -0.82926011 -2.12160256 -3.68798556 -0.78783212\n",
      " -0.42118769 -0.57400552 -2.56978845 -0.74834223 -1.19681453 -0.86480608\n",
      " -3.23965504 -0.83704613]\n"
     ]
    },
    {
     "name": "stderr",
     "output_type": "stream",
     "text": [
      "/nobackup/users/hmbaghda/Software/miniforge3/envs/metastatic_potential/lib/python3.13/site-packages/sklearn/linear_model/_coordinate_descent.py:697: ConvergenceWarning: Objective did not converge. You might want to increase the number of iterations, check the scale of the features or consider increasing regularisation. Duality gap: 5.356e-01, tolerance: 3.618e-02\n",
      "  model = cd_fast.enet_coordinate_descent(\n",
      " 41%|██████████████████                          | 41/100 [02:15<03:13,  3.29s/it]"
     ]
    },
    {
     "name": "stdout",
     "output_type": "stream",
     "text": [
      "[-0.  0.  0. ... -0.  0.  0.]\n",
      "[-3.7848301  -1.58846362 -2.25408626 -0.08140278 -1.85549766 -2.82944061\n",
      " -1.50196346 -3.1801385  -1.49085461 -2.98884502 -1.50983421 -1.82733151\n",
      " -2.05997829 -2.32425136 -0.50995406 -2.50691234 -0.15776274 -2.7643011\n",
      " -2.92038994 -2.92933846 -0.86248567 -0.81342236 -1.74251567 -1.85873359\n",
      " -1.22150634 -2.29428001 -3.76325368 -0.84396701 -0.93503772 -2.18128883\n",
      " -3.09656758 -0.2856252  -0.83133103 -3.93025805 -3.35690455 -1.54399004\n",
      " -2.09928068 -1.91292985]\n"
     ]
    },
    {
     "name": "stderr",
     "output_type": "stream",
     "text": [
      "/nobackup/users/hmbaghda/Software/miniforge3/envs/metastatic_potential/lib/python3.13/site-packages/sklearn/linear_model/_coordinate_descent.py:697: ConvergenceWarning: Objective did not converge. You might want to increase the number of iterations, check the scale of the features or consider increasing regularisation. Duality gap: 4.190e-01, tolerance: 3.739e-02\n",
      "  model = cd_fast.enet_coordinate_descent(\n",
      " 42%|██████████████████▍                         | 42/100 [02:19<03:11,  3.29s/it]"
     ]
    },
    {
     "name": "stdout",
     "output_type": "stream",
     "text": [
      "[ 0.  0. -0. ... -0.  0. -0.]\n",
      "[-2.17844776 -2.02636439 -0.96465613 -1.62570737  0.1112719  -1.09457401\n",
      " -1.82666901 -0.89783969 -1.94744263 -1.80471413 -1.57484427 -2.21215835\n",
      " -3.24356013 -1.53844972 -2.06117512 -3.125729   -1.38066906 -1.57524663\n",
      " -0.97963454 -2.1791043   0.6587735  -1.90158266 -3.60540285 -1.16476228\n",
      " -0.35288664 -1.94653617 -1.20070048 -3.01625771 -2.26795888 -3.12430079\n",
      " -2.52791625 -1.8917242  -2.01089317 -2.39153792 -1.26922603 -2.01130473\n",
      " -2.17322029 -1.35396701]\n"
     ]
    },
    {
     "name": "stderr",
     "output_type": "stream",
     "text": [
      "/nobackup/users/hmbaghda/Software/miniforge3/envs/metastatic_potential/lib/python3.13/site-packages/sklearn/linear_model/_coordinate_descent.py:697: ConvergenceWarning: Objective did not converge. You might want to increase the number of iterations, check the scale of the features or consider increasing regularisation. Duality gap: 4.978e-01, tolerance: 3.817e-02\n",
      "  model = cd_fast.enet_coordinate_descent(\n",
      " 43%|██████████████████▉                         | 43/100 [02:22<03:07,  3.29s/it]"
     ]
    },
    {
     "name": "stdout",
     "output_type": "stream",
     "text": [
      "[ 0.  0. -0. ... -0.  0. -0.]\n",
      "[-1.30954215 -1.98258295  0.85273473 -1.95971065 -1.16380818 -1.09935497\n",
      " -1.85435861 -2.08147022 -0.65952723 -0.66005313 -3.52407778 -0.01910463\n",
      " -1.87987266 -0.34224216 -1.51782115 -2.8662532  -1.12238156 -2.69794206\n",
      " -1.30679872 -1.48742554 -2.42105567 -1.2478054  -1.59448813 -2.94040557\n",
      " -0.78563809 -0.61760104 -1.06106594 -1.73870319 -1.65648653  0.10355412\n",
      " -3.01364558  0.34876541 -0.61258891 -1.01770361 -1.83999679 -0.87269315\n",
      " -3.54673845 -2.32210333]\n"
     ]
    },
    {
     "name": "stderr",
     "output_type": "stream",
     "text": [
      "/nobackup/users/hmbaghda/Software/miniforge3/envs/metastatic_potential/lib/python3.13/site-packages/sklearn/linear_model/_coordinate_descent.py:697: ConvergenceWarning: Objective did not converge. You might want to increase the number of iterations, check the scale of the features or consider increasing regularisation. Duality gap: 4.397e-01, tolerance: 3.950e-02\n",
      "  model = cd_fast.enet_coordinate_descent(\n",
      " 44%|███████████████████▎                        | 44/100 [02:25<03:05,  3.30s/it]"
     ]
    },
    {
     "name": "stdout",
     "output_type": "stream",
     "text": [
      "[-0.  0. -0. ... -0.  0. -0.]\n",
      "[-2.56758993 -0.2125574  -0.91460047 -0.21038991 -0.59121075 -1.4866166\n",
      " -0.98405734 -1.76173429 -2.05052775 -0.62286083 -1.32603587 -1.63424883\n",
      " -0.45526576 -3.56678639 -1.92844549 -1.67338753 -2.48418959 -1.72956579\n",
      " -1.97327006 -0.43991014 -1.21623018 -1.942431   -2.50340558 -1.15672716\n",
      " -1.31270332 -2.2162757   0.11490735 -1.14275909 -1.67735089 -0.4319212\n",
      " -1.13769923 -0.87749326 -1.91947317 -2.75055983  0.29304323 -1.25248819\n",
      " -0.09328871 -1.81390454]\n"
     ]
    },
    {
     "name": "stderr",
     "output_type": "stream",
     "text": [
      "/nobackup/users/hmbaghda/Software/miniforge3/envs/metastatic_potential/lib/python3.13/site-packages/sklearn/linear_model/_coordinate_descent.py:697: ConvergenceWarning: Objective did not converge. You might want to increase the number of iterations, check the scale of the features or consider increasing regularisation. Duality gap: 4.177e-01, tolerance: 3.894e-02\n",
      "  model = cd_fast.enet_coordinate_descent(\n",
      " 45%|███████████████████▊                        | 45/100 [02:29<03:01,  3.31s/it]"
     ]
    },
    {
     "name": "stdout",
     "output_type": "stream",
     "text": [
      "[-0. -0. -0. ... -0.  0. -0.]\n",
      "[ 1.3349901  -3.00634453 -2.44587862 -2.84234844 -2.88346756 -2.33933277\n",
      " -2.42033621 -1.19915554 -4.28160394  0.96665503 -1.02042761 -2.03025048\n",
      " -3.39998422 -1.55321356 -2.66451448 -0.13133543 -0.29857306 -0.91402216\n",
      " -0.94405826 -2.7559173  -2.51537415 -3.12074039 -1.23458453 -1.36935586\n",
      " -2.52850738 -0.99492015 -2.42197413 -1.82153747 -1.27177156 -0.63571879\n",
      " -2.14410549 -3.19906862 -1.57479205 -1.12851299 -2.69909727 -1.79211903\n",
      " -2.09735313 -1.58307688]\n"
     ]
    },
    {
     "name": "stderr",
     "output_type": "stream",
     "text": [
      "/nobackup/users/hmbaghda/Software/miniforge3/envs/metastatic_potential/lib/python3.13/site-packages/sklearn/linear_model/_coordinate_descent.py:697: ConvergenceWarning: Objective did not converge. You might want to increase the number of iterations, check the scale of the features or consider increasing regularisation. Duality gap: 4.675e-01, tolerance: 3.781e-02\n",
      "  model = cd_fast.enet_coordinate_descent(\n",
      " 46%|████████████████████▏                       | 46/100 [02:32<02:58,  3.31s/it]"
     ]
    },
    {
     "name": "stdout",
     "output_type": "stream",
     "text": [
      "[-0. -0. -0. ... -0.  0. -0.]\n",
      "[-1.68699958 -3.27715403 -1.49087878 -0.70346018 -3.10092992 -1.07887757\n",
      " -2.08595017 -2.88076872 -2.60775544 -2.51710946 -0.88411181 -2.60197864\n",
      " -1.28399664 -2.1492758  -1.00891339 -1.44100958 -0.98450989 -0.33290589\n",
      " -3.8098173  -1.50351555 -3.09411718 -1.07891752 -2.5171154  -2.08520289\n",
      " -2.79490314 -2.69751491 -1.23395914 -1.20684959 -2.96739793 -2.93420809\n",
      " -1.65896282 -2.34493795 -0.97136328 -3.84749674 -1.89528181 -0.56452492\n",
      " -1.40351248 -0.43213232]\n"
     ]
    },
    {
     "name": "stderr",
     "output_type": "stream",
     "text": [
      "/nobackup/users/hmbaghda/Software/miniforge3/envs/metastatic_potential/lib/python3.13/site-packages/sklearn/linear_model/_coordinate_descent.py:697: ConvergenceWarning: Objective did not converge. You might want to increase the number of iterations, check the scale of the features or consider increasing regularisation. Duality gap: 7.323e-01, tolerance: 3.963e-02\n",
      "  model = cd_fast.enet_coordinate_descent(\n",
      " 47%|████████████████████▋                       | 47/100 [02:35<02:55,  3.32s/it]"
     ]
    },
    {
     "name": "stdout",
     "output_type": "stream",
     "text": [
      "[ 0.  0. -0. ... -0.  0.  0.]\n",
      "[-1.54816704e+00 -1.98539786e+00 -1.41141029e+00 -1.59726436e+00\n",
      " -3.31339493e+00 -3.20172635e+00  1.98684615e-04 -1.50223777e-01\n",
      " -8.01215002e-02  6.13247936e-01 -2.79517302e-01 -1.81209850e+00\n",
      " -9.98741146e-01 -1.62470335e+00 -3.49250774e+00 -1.61069785e+00\n",
      " -1.21878077e+00 -2.16150801e+00 -2.10278222e+00 -2.11933625e+00\n",
      " -6.53539642e-01  6.16094412e-01 -1.83566141e+00 -2.10545064e+00\n",
      " -1.88468240e+00 -1.49234605e+00 -1.52556528e+00 -3.04817169e+00\n",
      " -1.47717312e+00 -3.30190752e-01 -1.48965404e+00 -2.84411776e-01\n",
      " -4.21430865e-01 -1.50302446e+00  4.63696973e-01 -1.75279600e-01\n",
      " -1.62604620e+00 -2.57791956e+00]\n"
     ]
    },
    {
     "name": "stderr",
     "output_type": "stream",
     "text": [
      "/nobackup/users/hmbaghda/Software/miniforge3/envs/metastatic_potential/lib/python3.13/site-packages/sklearn/linear_model/_coordinate_descent.py:697: ConvergenceWarning: Objective did not converge. You might want to increase the number of iterations, check the scale of the features or consider increasing regularisation. Duality gap: 4.300e-01, tolerance: 4.174e-02\n",
      "  model = cd_fast.enet_coordinate_descent(\n",
      " 48%|█████████████████████                       | 48/100 [02:39<02:52,  3.32s/it]"
     ]
    },
    {
     "name": "stdout",
     "output_type": "stream",
     "text": [
      "[ 0. -0. -0. ... -0.  0. -0.]\n",
      "[-0.08807535 -1.33193915 -0.38632277 -2.49803432 -1.44810659 -0.8377249\n",
      " -1.29370016 -2.44815972 -4.20270113 -2.63463793 -2.90899243 -2.40885883\n",
      "  0.0934587  -1.12570118 -1.78978603 -0.84988456 -1.27506775 -2.06830829\n",
      " -0.13934561 -0.79004026 -3.45486172 -1.44279428 -1.41875376 -1.37844227\n",
      " -3.07590695 -1.7493225  -0.25342779 -1.42579965 -1.30539955 -2.37234811\n",
      " -1.51836067 -1.00504925 -1.11270249 -1.28967729 -1.40986044 -1.55283886\n",
      " -0.74855372 -1.52059206]\n"
     ]
    },
    {
     "name": "stderr",
     "output_type": "stream",
     "text": [
      "/nobackup/users/hmbaghda/Software/miniforge3/envs/metastatic_potential/lib/python3.13/site-packages/sklearn/linear_model/_coordinate_descent.py:697: ConvergenceWarning: Objective did not converge. You might want to increase the number of iterations, check the scale of the features or consider increasing regularisation. Duality gap: 4.006e-01, tolerance: 3.888e-02\n",
      "  model = cd_fast.enet_coordinate_descent(\n",
      " 49%|█████████████████████▌                      | 49/100 [02:42<02:49,  3.32s/it]"
     ]
    },
    {
     "name": "stdout",
     "output_type": "stream",
     "text": [
      "[-0. -0. -0. ... -0.  0.  0.]\n",
      "[-1.8001369  -2.82134362 -2.43534475 -1.72085733 -0.26941902 -0.53160747\n",
      " -2.75912274 -2.31737931 -0.55887773 -2.99894771 -1.62859009 -1.76265659\n",
      " -0.50717673 -3.41994407 -2.95328045 -4.57164758 -0.47175079 -2.06084167\n",
      " -1.84885626 -0.40290918 -1.65130285 -2.94371014 -1.23037226 -2.13871164\n",
      " -0.83891443 -1.14948232 -1.8618854  -1.67503173 -1.27658042 -3.06052092\n",
      " -1.06308402 -1.69795868 -2.34249614 -1.92468713 -2.05996755 -0.74749563\n",
      " -2.67963751 -1.75299146]\n"
     ]
    },
    {
     "name": "stderr",
     "output_type": "stream",
     "text": [
      "/nobackup/users/hmbaghda/Software/miniforge3/envs/metastatic_potential/lib/python3.13/site-packages/sklearn/linear_model/_coordinate_descent.py:697: ConvergenceWarning: Objective did not converge. You might want to increase the number of iterations, check the scale of the features or consider increasing regularisation. Duality gap: 4.088e-01, tolerance: 3.748e-02\n",
      "  model = cd_fast.enet_coordinate_descent(\n",
      " 50%|██████████████████████                      | 50/100 [02:45<02:45,  3.32s/it]"
     ]
    },
    {
     "name": "stdout",
     "output_type": "stream",
     "text": [
      "[-0. -0. -0. ... -0.  0. -0.]\n",
      "[-2.50753906 -1.76730115 -2.82570551 -2.11697486 -2.40355662 -4.45442124\n",
      " -1.52992814 -1.14396436 -3.23556543 -0.19820891 -2.28299    -0.10248243\n",
      " -2.4736714   0.08026505 -4.61958868 -1.24602114  0.16927382 -1.43435412\n",
      " -0.98707322 -1.55641469 -4.16789102 -1.44125186 -1.69253716 -0.1490035\n",
      " -1.71395978 -3.00509814 -2.47651141 -3.12696137 -1.68487913 -2.97663894\n",
      " -1.01346505 -2.39488836 -1.31400794 -1.63464454 -0.86295753 -0.15264392\n",
      " -1.45720319  0.44666443]\n"
     ]
    },
    {
     "name": "stderr",
     "output_type": "stream",
     "text": [
      "/nobackup/users/hmbaghda/Software/miniforge3/envs/metastatic_potential/lib/python3.13/site-packages/sklearn/linear_model/_coordinate_descent.py:697: ConvergenceWarning: Objective did not converge. You might want to increase the number of iterations, check the scale of the features or consider increasing regularisation. Duality gap: 4.557e-01, tolerance: 3.997e-02\n",
      "  model = cd_fast.enet_coordinate_descent(\n",
      " 51%|██████████████████████▍                     | 51/100 [02:48<02:42,  3.33s/it]"
     ]
    },
    {
     "name": "stdout",
     "output_type": "stream",
     "text": [
      "[-0. -0. -0. ... -0.  0.  0.]\n",
      "[ 0.20117711 -2.52724751 -2.20214205 -1.41124251 -2.96448841  0.52199692\n",
      " -1.84023917 -3.13339487 -0.85618967 -0.96440558 -2.93550635 -3.19929289\n",
      "  1.37629243  0.45295968 -2.56004238 -0.880508   -1.55940652 -1.21961746\n",
      " -2.20731665 -1.91995094 -1.11131138 -0.20733646 -2.67012679 -2.10165045\n",
      " -1.32712226 -1.51906686 -1.3264734  -1.11309512 -2.58278974 -1.18500938\n",
      " -1.70217408 -3.78876474 -2.39645309 -1.91777491 -2.15943637 -2.06393669\n",
      "  1.14503535 -2.16429123]\n"
     ]
    },
    {
     "name": "stderr",
     "output_type": "stream",
     "text": [
      "/nobackup/users/hmbaghda/Software/miniforge3/envs/metastatic_potential/lib/python3.13/site-packages/sklearn/linear_model/_coordinate_descent.py:697: ConvergenceWarning: Objective did not converge. You might want to increase the number of iterations, check the scale of the features or consider increasing regularisation. Duality gap: 4.268e-01, tolerance: 3.995e-02\n",
      "  model = cd_fast.enet_coordinate_descent(\n",
      " 52%|██████████████████████▉                     | 52/100 [02:52<02:39,  3.33s/it]"
     ]
    },
    {
     "name": "stdout",
     "output_type": "stream",
     "text": [
      "[-0. -0. -0. ... -0.  0. -0.]\n",
      "[-3.24371316 -3.99397988 -1.36594014 -2.05498765 -1.12674565  0.78122566\n",
      " -1.61341745 -2.20150591 -1.27284399 -2.5107543  -0.46321084 -3.0176385\n",
      " -3.31088967 -2.85395303 -2.61260166 -0.56139555 -2.91797904 -2.40776645\n",
      " -1.34582948 -0.01565269 -0.614878   -1.70094453 -1.02820759 -0.51788942\n",
      " -2.85054758  1.77817899 -1.73162427 -1.0537635  -0.21425588 -2.31790965\n",
      "  1.0726717  -2.58891119 -3.12736945 -3.07194233 -1.1392157  -0.41980129\n",
      " -3.5416995  -3.46592522]\n"
     ]
    },
    {
     "name": "stderr",
     "output_type": "stream",
     "text": [
      "/nobackup/users/hmbaghda/Software/miniforge3/envs/metastatic_potential/lib/python3.13/site-packages/sklearn/linear_model/_coordinate_descent.py:697: ConvergenceWarning: Objective did not converge. You might want to increase the number of iterations, check the scale of the features or consider increasing regularisation. Duality gap: 4.456e-01, tolerance: 4.054e-02\n",
      "  model = cd_fast.enet_coordinate_descent(\n",
      " 53%|███████████████████████▎                    | 53/100 [02:55<02:36,  3.33s/it]"
     ]
    },
    {
     "name": "stdout",
     "output_type": "stream",
     "text": [
      "[-0.  0.  0. ... -0.  0. -0.]\n",
      "[-2.81103756  0.23369757  1.31760435 -2.43223533 -1.22818377 -2.13623625\n",
      " -3.01511513 -1.47594342 -1.00224641 -2.30874976 -1.15662438 -2.33887612\n",
      " -3.82639991 -1.90413278 -0.17042452 -1.70879534 -2.5374431  -2.71213491\n",
      " -1.78227047 -1.54474013 -1.32346391  0.6612271  -2.75663095 -1.6072574\n",
      "  0.12847365 -2.75320361  0.78450723 -3.20543175 -1.9825457  -2.0658644\n",
      " -2.41260999 -2.02197254 -1.05309025 -0.14958717 -1.20773491  0.2498058\n",
      " -1.26336107 -0.04392829]\n"
     ]
    },
    {
     "name": "stderr",
     "output_type": "stream",
     "text": [
      "/nobackup/users/hmbaghda/Software/miniforge3/envs/metastatic_potential/lib/python3.13/site-packages/sklearn/linear_model/_coordinate_descent.py:697: ConvergenceWarning: Objective did not converge. You might want to increase the number of iterations, check the scale of the features or consider increasing regularisation. Duality gap: 7.228e-01, tolerance: 3.862e-02\n",
      "  model = cd_fast.enet_coordinate_descent(\n",
      " 54%|███████████████████████▊                    | 54/100 [02:58<02:33,  3.33s/it]"
     ]
    },
    {
     "name": "stdout",
     "output_type": "stream",
     "text": [
      "[-0. -0. -0. ... -0.  0. -0.]\n",
      "[-3.62932894 -0.77701744 -1.32286623 -3.57891713 -2.37690928 -2.56526366\n",
      " -3.53201291 -2.49875809 -1.92360918 -1.66943093 -0.34616485 -1.74956733\n",
      " -2.27452611 -3.4223409  -1.38242714 -1.29101418 -2.63269152 -1.09443219\n",
      "  0.03968108 -2.05068588 -3.2061394  -1.24015427 -2.52785881 -2.28313357\n",
      " -1.4683855  -2.88570712 -2.57068144 -1.9433459  -0.81789215 -1.27522929\n",
      " -0.26747528  0.19331926 -1.11073482 -3.56295003 -3.05657137 -2.09078575\n",
      " -2.06331064 -1.61788589]\n"
     ]
    },
    {
     "name": "stderr",
     "output_type": "stream",
     "text": [
      "/nobackup/users/hmbaghda/Software/miniforge3/envs/metastatic_potential/lib/python3.13/site-packages/sklearn/linear_model/_coordinate_descent.py:697: ConvergenceWarning: Objective did not converge. You might want to increase the number of iterations, check the scale of the features or consider increasing regularisation. Duality gap: 4.387e-01, tolerance: 3.975e-02\n",
      "  model = cd_fast.enet_coordinate_descent(\n",
      " 55%|████████████████████████▏                   | 55/100 [03:02<02:29,  3.32s/it]"
     ]
    },
    {
     "name": "stdout",
     "output_type": "stream",
     "text": [
      "[ 0.  0. -0. ... -0.  0. -0.]\n",
      "[-0.72431939 -0.53439276 -3.54674363 -0.77093572 -2.7785285  -2.98333488\n",
      " -3.29086651 -3.13671733 -1.09074366 -0.66764326 -1.00263182 -1.27586979\n",
      " -1.36874502 -2.78980024 -1.84756848  0.83142214 -1.77033948 -0.0088737\n",
      " -2.99327458 -2.26475527 -2.58439308 -1.67451174 -1.33727655 -0.39771798\n",
      " -1.67787086 -2.12193608 -2.05206371 -2.1817099  -3.20194497 -0.17648625\n",
      " -1.07772479 -2.98524389  0.29644985 -2.00561148 -1.36224618 -1.12117385\n",
      " -2.26348817  0.16316316]\n"
     ]
    },
    {
     "name": "stderr",
     "output_type": "stream",
     "text": [
      "/nobackup/users/hmbaghda/Software/miniforge3/envs/metastatic_potential/lib/python3.13/site-packages/sklearn/linear_model/_coordinate_descent.py:697: ConvergenceWarning: Objective did not converge. You might want to increase the number of iterations, check the scale of the features or consider increasing regularisation. Duality gap: 4.923e-01, tolerance: 3.879e-02\n",
      "  model = cd_fast.enet_coordinate_descent(\n",
      " 56%|████████████████████████▋                   | 56/100 [03:05<02:25,  3.31s/it]"
     ]
    },
    {
     "name": "stdout",
     "output_type": "stream",
     "text": [
      "[ 0.  0. -0. ... -0.  0. -0.]\n",
      "[-1.69138669 -1.57246913 -0.51669644 -2.56648225 -2.16571108 -0.29259145\n",
      " -2.5306914  -2.03493752 -1.56123237 -1.59334285 -0.58445976 -2.0602718\n",
      " -3.09274434 -3.19020771 -2.20673774  0.27819573 -1.75914326 -0.93724705\n",
      " -4.49969867 -4.20597491 -0.38186503 -0.81357496 -0.72495975 -2.98945429\n",
      " -1.38105965 -0.36477717 -1.17261622  0.08979573 -1.37000867 -2.11752578\n",
      " -2.17236895 -0.046918    0.07109385  0.12038861 -2.35591772 -1.78682414\n",
      " -1.00655819 -0.78756606]\n"
     ]
    },
    {
     "name": "stderr",
     "output_type": "stream",
     "text": [
      "/nobackup/users/hmbaghda/Software/miniforge3/envs/metastatic_potential/lib/python3.13/site-packages/sklearn/linear_model/_coordinate_descent.py:697: ConvergenceWarning: Objective did not converge. You might want to increase the number of iterations, check the scale of the features or consider increasing regularisation. Duality gap: 4.022e-01, tolerance: 3.866e-02\n",
      "  model = cd_fast.enet_coordinate_descent(\n",
      " 57%|█████████████████████████                   | 57/100 [03:08<02:22,  3.30s/it]"
     ]
    },
    {
     "name": "stdout",
     "output_type": "stream",
     "text": [
      "[-0. -0. -0. ... -0.  0. -0.]\n",
      "[-1.27714173 -1.17305416 -1.42426524 -0.6678039  -0.24520829 -1.56082416\n",
      " -1.77903587 -2.29273646 -3.41771887 -2.39374362 -0.67932463 -1.98294549\n",
      " -0.7269046  -2.20296262  0.09371428 -2.13206511 -0.71879914 -2.39602869\n",
      " -1.45625657 -0.74413132 -2.94284207 -1.46381949 -1.9901475  -0.7947568\n",
      " -1.84454931 -3.3604032  -2.48538822 -0.70564323 -2.54841004 -1.00380288\n",
      " -1.77669225  0.14349755 -2.96849063 -0.11960668 -0.84618004 -1.73316803\n",
      " -0.6114512  -1.13030028]\n"
     ]
    },
    {
     "name": "stderr",
     "output_type": "stream",
     "text": [
      "/nobackup/users/hmbaghda/Software/miniforge3/envs/metastatic_potential/lib/python3.13/site-packages/sklearn/linear_model/_coordinate_descent.py:697: ConvergenceWarning: Objective did not converge. You might want to increase the number of iterations, check the scale of the features or consider increasing regularisation. Duality gap: 5.284e-01, tolerance: 4.013e-02\n",
      "  model = cd_fast.enet_coordinate_descent(\n",
      " 58%|█████████████████████████▌                  | 58/100 [03:12<02:18,  3.30s/it]"
     ]
    },
    {
     "name": "stdout",
     "output_type": "stream",
     "text": [
      "[-0.  0.  0. ... -0.  0. -0.]\n",
      "[-4.23570998 -3.76224639 -2.73620347 -2.81772893  0.24184194 -1.29228794\n",
      " -2.23069536 -0.64519098 -2.28791377 -1.08388756 -2.52280839 -3.85837718\n",
      " -3.60341811 -3.18427577 -3.46575292 -2.12660644 -1.81319966 -4.05884567\n",
      " -1.36721069 -3.08536787 -0.90362878 -4.46087853  0.01276578 -0.99305744\n",
      " -1.11527102 -0.63275548 -2.72180622 -2.27239869 -0.03331667  0.28390595\n",
      " -3.07657938 -2.50388671 -2.59415286 -3.18583311 -1.8980834  -0.62442657\n",
      " -0.73728353 -1.09736827]\n"
     ]
    },
    {
     "name": "stderr",
     "output_type": "stream",
     "text": [
      "/nobackup/users/hmbaghda/Software/miniforge3/envs/metastatic_potential/lib/python3.13/site-packages/sklearn/linear_model/_coordinate_descent.py:697: ConvergenceWarning: Objective did not converge. You might want to increase the number of iterations, check the scale of the features or consider increasing regularisation. Duality gap: 7.204e-01, tolerance: 4.056e-02\n",
      "  model = cd_fast.enet_coordinate_descent(\n",
      " 59%|█████████████████████████▉                  | 59/100 [03:15<02:14,  3.29s/it]"
     ]
    },
    {
     "name": "stdout",
     "output_type": "stream",
     "text": [
      "[-0. -0. -0. ... -0.  0. -0.]\n",
      "[-1.0152915  -3.17285342 -3.10901814 -2.51760106 -4.5923464  -0.69017984\n",
      " -1.47634318 -1.50002704 -3.25903668 -2.04572644 -2.66033019 -1.26552856\n",
      " -1.95073385 -3.43591754 -2.39182237 -3.2051664  -3.47997011 -2.11611804\n",
      " -3.03414602 -2.18359366 -1.3507212  -2.16051518 -2.29554701 -0.57298478\n",
      " -1.10076229 -2.07582424 -1.52686386 -1.39734856  0.92671602 -1.89299352\n",
      " -3.08707062 -0.63675042 -1.32806481 -3.40143378 -2.42997661 -1.7615034\n",
      " -2.33097172 -2.64760634]\n"
     ]
    },
    {
     "name": "stderr",
     "output_type": "stream",
     "text": [
      "/nobackup/users/hmbaghda/Software/miniforge3/envs/metastatic_potential/lib/python3.13/site-packages/sklearn/linear_model/_coordinate_descent.py:697: ConvergenceWarning: Objective did not converge. You might want to increase the number of iterations, check the scale of the features or consider increasing regularisation. Duality gap: 4.266e-01, tolerance: 4.165e-02\n",
      "  model = cd_fast.enet_coordinate_descent(\n",
      " 60%|██████████████████████████▍                 | 60/100 [03:18<02:11,  3.29s/it]"
     ]
    },
    {
     "name": "stdout",
     "output_type": "stream",
     "text": [
      "[ 0.  0. -0. ... -0.  0. -0.]\n",
      "[ 1.17915257 -1.68586855 -0.78330874 -1.6542418   0.82262901 -3.58803574\n",
      " -0.79215278 -2.12758533 -0.78094044 -3.04653087 -2.28647675 -0.56534118\n",
      "  0.28404081 -0.08044117 -1.12073531 -0.19227836  1.71241763 -0.92978023\n",
      " -0.37199748 -0.8152969  -0.93868171 -3.7869983  -1.00402367 -3.70431561\n",
      " -1.95217517 -3.15054262 -1.19288012  0.53376781 -0.38950108 -2.60919913\n",
      " -3.19584505 -0.85822909 -1.66849526 -3.44736982 -3.5998007  -1.96144242\n",
      " -0.26720193 -1.0774945 ]\n"
     ]
    },
    {
     "name": "stderr",
     "output_type": "stream",
     "text": [
      "/nobackup/users/hmbaghda/Software/miniforge3/envs/metastatic_potential/lib/python3.13/site-packages/sklearn/linear_model/_coordinate_descent.py:697: ConvergenceWarning: Objective did not converge. You might want to increase the number of iterations, check the scale of the features or consider increasing regularisation. Duality gap: 6.431e-01, tolerance: 3.987e-02\n",
      "  model = cd_fast.enet_coordinate_descent(\n",
      " 61%|██████████████████████████▊                 | 61/100 [03:21<02:08,  3.29s/it]"
     ]
    },
    {
     "name": "stdout",
     "output_type": "stream",
     "text": [
      "[-0. -0. -0. ... -0.  0.  0.]\n",
      "[-3.32973536 -2.00901658 -1.61747926 -2.58002866 -2.8529992  -0.86417615\n",
      " -2.63349738  0.83992045 -2.86632348  1.09525647 -2.04876391 -1.03069949\n",
      " -2.33164929 -2.04179358 -3.02688302 -2.17472916 -3.26946835  0.18114062\n",
      " -3.85074263 -2.75420622 -0.25544675 -0.52929078 -0.22424349 -0.91306306\n",
      " -2.07161843 -0.74939004 -1.59250347 -1.72997862 -2.25370288 -2.86480267\n",
      " -1.20178532 -2.84811761 -0.67914566 -0.89236772 -2.13081647 -1.82742416\n",
      " -1.19529209 -2.39917368]\n"
     ]
    },
    {
     "name": "stderr",
     "output_type": "stream",
     "text": [
      "/nobackup/users/hmbaghda/Software/miniforge3/envs/metastatic_potential/lib/python3.13/site-packages/sklearn/linear_model/_coordinate_descent.py:697: ConvergenceWarning: Objective did not converge. You might want to increase the number of iterations, check the scale of the features or consider increasing regularisation. Duality gap: 5.538e-01, tolerance: 3.830e-02\n",
      "  model = cd_fast.enet_coordinate_descent(\n",
      " 62%|███████████████████████████▎                | 62/100 [03:25<02:04,  3.29s/it]"
     ]
    },
    {
     "name": "stdout",
     "output_type": "stream",
     "text": [
      "[-0. -0. -0. ... -0.  0. -0.]\n",
      "[-2.18471084 -0.69480226 -1.27964415  0.22269174 -1.03245458 -1.4157383\n",
      " -2.74693155 -1.32601941 -3.08983175 -3.01332376 -3.12548763 -2.95640461\n",
      " -0.77160042 -0.92022729 -1.45700765 -1.46644462  0.70204895 -2.51977392\n",
      " -1.4436876  -1.69790182 -1.5769774  -2.35239683  0.11267585 -1.77771688\n",
      " -2.12050913 -1.69540152 -2.93544252 -3.22202477 -2.86469317 -2.94710985\n",
      " -0.89455889 -1.35659722 -2.97243988 -2.69778778 -2.11072215 -1.582992\n",
      " -1.81667135 -3.08727406]\n"
     ]
    },
    {
     "name": "stderr",
     "output_type": "stream",
     "text": [
      "/nobackup/users/hmbaghda/Software/miniforge3/envs/metastatic_potential/lib/python3.13/site-packages/sklearn/linear_model/_coordinate_descent.py:697: ConvergenceWarning: Objective did not converge. You might want to increase the number of iterations, check the scale of the features or consider increasing regularisation. Duality gap: 3.292e-01, tolerance: 3.874e-02\n",
      "  model = cd_fast.enet_coordinate_descent(\n",
      " 63%|███████████████████████████▋                | 63/100 [03:28<02:01,  3.29s/it]"
     ]
    },
    {
     "name": "stdout",
     "output_type": "stream",
     "text": [
      "[-0.  0. -0. ... -0.  0. -0.]\n",
      "[-2.81125112 -1.02733407 -1.75196419 -3.35799951 -3.33128568 -0.38746064\n",
      " -1.02566671 -1.7944521  -3.33391436 -2.82153753 -1.13439964 -0.99848168\n",
      " -1.62245508 -3.36945495 -2.65064406 -1.30416117  0.49152119 -1.33401617\n",
      " -2.09138228 -3.34380963 -0.68706834 -2.35394141 -1.00575456 -1.39771276\n",
      " -1.95421533 -1.94814378  0.26668951 -1.56713226 -0.58688642 -1.70203376\n",
      " -0.36448322  0.06770673 -1.1109068  -2.15712471 -1.2064607  -3.69474326\n",
      " -1.75399775 -1.73034307]\n"
     ]
    },
    {
     "name": "stderr",
     "output_type": "stream",
     "text": [
      "/nobackup/users/hmbaghda/Software/miniforge3/envs/metastatic_potential/lib/python3.13/site-packages/sklearn/linear_model/_coordinate_descent.py:697: ConvergenceWarning: Objective did not converge. You might want to increase the number of iterations, check the scale of the features or consider increasing regularisation. Duality gap: 5.685e-01, tolerance: 3.768e-02\n",
      "  model = cd_fast.enet_coordinate_descent(\n",
      " 64%|████████████████████████████▏               | 64/100 [03:31<01:58,  3.29s/it]"
     ]
    },
    {
     "name": "stdout",
     "output_type": "stream",
     "text": [
      "[-0. -0. -0. ... -0.  0. -0.]\n",
      "[-0.52245812 -2.25797664 -3.79776295 -1.93191394 -2.2640232  -0.96563698\n",
      " -2.05582795 -1.44866719  0.02337101 -2.44645876 -1.32457171 -1.64914332\n",
      " -3.21276462 -0.97116812 -2.17454459 -1.04928199  0.15421824  0.71652068\n",
      " -1.0928905  -3.12179924 -1.71771642 -2.92404184 -1.3494845  -1.11808676\n",
      " -1.57968883 -1.15475758 -2.46343551 -0.96411717 -0.70409051 -1.33338774\n",
      " -1.89121768 -0.98826153 -0.18137824 -1.00170422 -2.46959771 -2.7375844\n",
      " -2.40664536 -2.15067262]\n"
     ]
    },
    {
     "name": "stderr",
     "output_type": "stream",
     "text": [
      "/nobackup/users/hmbaghda/Software/miniforge3/envs/metastatic_potential/lib/python3.13/site-packages/sklearn/linear_model/_coordinate_descent.py:697: ConvergenceWarning: Objective did not converge. You might want to increase the number of iterations, check the scale of the features or consider increasing regularisation. Duality gap: 2.772e-01, tolerance: 3.618e-02\n",
      "  model = cd_fast.enet_coordinate_descent(\n",
      " 65%|████████████████████████████▌               | 65/100 [03:35<01:55,  3.29s/it]"
     ]
    },
    {
     "name": "stdout",
     "output_type": "stream",
     "text": [
      "[-0. -0. -0. ... -0.  0. -0.]\n",
      "[-0.65428479 -3.19146679 -1.99562283 -1.02659176 -1.43543283 -1.12738623\n",
      "  0.51454429 -1.81945768 -2.53926687 -2.82313181  0.51420249 -3.63921507\n",
      " -0.01548828 -2.51606223 -1.88391067 -1.76203328 -1.37838573 -2.5177189\n",
      " -2.48716302 -2.18339885 -2.80224462 -1.04132979 -1.43516018 -3.86555422\n",
      " -3.50093563 -1.58791982 -3.15938454 -2.08999295 -1.36594523 -2.36901311\n",
      " -2.00148936 -0.81185907 -2.51171099 -1.20577174 -3.22658945 -2.76994695\n",
      " -2.70656104 -1.22837915]\n"
     ]
    },
    {
     "name": "stderr",
     "output_type": "stream",
     "text": [
      "/nobackup/users/hmbaghda/Software/miniforge3/envs/metastatic_potential/lib/python3.13/site-packages/sklearn/linear_model/_coordinate_descent.py:697: ConvergenceWarning: Objective did not converge. You might want to increase the number of iterations, check the scale of the features or consider increasing regularisation. Duality gap: 5.887e-01, tolerance: 3.904e-02\n",
      "  model = cd_fast.enet_coordinate_descent(\n",
      " 66%|█████████████████████████████               | 66/100 [03:38<01:51,  3.29s/it]"
     ]
    },
    {
     "name": "stdout",
     "output_type": "stream",
     "text": [
      "[-0. -0.  0. ... -0.  0. -0.]\n",
      "[-1.52013635 -0.98039684 -4.4416433  -2.9236419  -1.66430553 -0.65825345\n",
      " -1.11614436 -1.26958051 -0.0665374   0.74702987 -2.58288288 -1.07155753\n",
      " -1.0255369  -0.75748324 -0.25072458  0.62815786 -1.83234719 -4.06032176\n",
      "  0.20048246 -3.53292979 -1.53466071 -1.55612553 -1.9964294  -1.86380431\n",
      " -1.28356356 -2.64353457 -0.9388785  -2.48769163 -0.80711371 -1.37753279\n",
      " -1.33665723 -1.33074428 -1.5013238  -4.29978939 -1.56213128 -1.69813688\n",
      "  0.09022081 -0.32463307]\n"
     ]
    },
    {
     "name": "stderr",
     "output_type": "stream",
     "text": [
      "/nobackup/users/hmbaghda/Software/miniforge3/envs/metastatic_potential/lib/python3.13/site-packages/sklearn/linear_model/_coordinate_descent.py:697: ConvergenceWarning: Objective did not converge. You might want to increase the number of iterations, check the scale of the features or consider increasing regularisation. Duality gap: 5.119e-01, tolerance: 3.796e-02\n",
      "  model = cd_fast.enet_coordinate_descent(\n",
      " 67%|█████████████████████████████▍              | 67/100 [03:41<01:48,  3.28s/it]"
     ]
    },
    {
     "name": "stdout",
     "output_type": "stream",
     "text": [
      "[-0. -0. -0. ... -0.  0.  0.]\n",
      "[-1.20129471 -0.27456395 -2.63304143 -1.75737027 -0.37452447 -2.77277878\n",
      " -1.5587403  -1.8814082  -3.10849915 -0.34635606 -2.68618507 -2.14646123\n",
      " -2.61995287 -2.44841367 -1.32474922 -1.41622735 -2.81894153 -0.88575956\n",
      " -1.37241991 -3.46796677 -0.96504948 -2.81353589 -1.36308525 -3.59172349\n",
      " -1.65044438 -2.86926368 -4.2769016   1.88413753 -1.77223339 -2.366309\n",
      "  1.33854448 -2.71080254 -3.02054367 -3.22918142 -1.66153626 -1.00356643\n",
      " -2.57805038 -1.53562876]\n"
     ]
    },
    {
     "name": "stderr",
     "output_type": "stream",
     "text": [
      "/nobackup/users/hmbaghda/Software/miniforge3/envs/metastatic_potential/lib/python3.13/site-packages/sklearn/linear_model/_coordinate_descent.py:697: ConvergenceWarning: Objective did not converge. You might want to increase the number of iterations, check the scale of the features or consider increasing regularisation. Duality gap: 6.168e-01, tolerance: 3.933e-02\n",
      "  model = cd_fast.enet_coordinate_descent(\n",
      " 68%|█████████████████████████████▉              | 68/100 [03:44<01:45,  3.29s/it]"
     ]
    },
    {
     "name": "stdout",
     "output_type": "stream",
     "text": [
      "[ 0. -0. -0. ... -0.  0. -0.]\n",
      "[-2.94815578 -0.97321676 -3.2317743  -3.65482395 -2.70585562 -2.45800858\n",
      " -1.54587879 -1.57885583 -2.55164005 -1.56916389 -1.69730074 -1.66727116\n",
      " -2.55243307 -3.56428553  0.87815022 -0.03884797 -5.00560689 -0.4981474\n",
      " -2.10046625 -3.69635632 -0.35971216 -1.47130894 -2.4964601  -2.5961753\n",
      " -1.74122264 -1.34238777 -3.52384705 -1.45235365 -2.00254076 -2.94128595\n",
      " -0.87513499 -1.04647863 -3.58868262 -2.26772327 -1.61158071 -1.16590006\n",
      " -0.46197826 -1.23664603]\n"
     ]
    },
    {
     "name": "stderr",
     "output_type": "stream",
     "text": [
      "/nobackup/users/hmbaghda/Software/miniforge3/envs/metastatic_potential/lib/python3.13/site-packages/sklearn/linear_model/_coordinate_descent.py:697: ConvergenceWarning: Objective did not converge. You might want to increase the number of iterations, check the scale of the features or consider increasing regularisation. Duality gap: 4.826e-01, tolerance: 3.889e-02\n",
      "  model = cd_fast.enet_coordinate_descent(\n",
      " 69%|██████████████████████████████▎             | 69/100 [03:48<01:41,  3.28s/it]"
     ]
    },
    {
     "name": "stdout",
     "output_type": "stream",
     "text": [
      "[-0. -0. -0. ... -0.  0. -0.]\n",
      "[ 6.20425015e-01 -4.33490349e+00 -1.85686265e+00 -7.80599410e-01\n",
      " -1.35433059e+00 -8.13772609e-01 -5.75896345e-04 -1.95343081e+00\n",
      " -1.72363413e+00 -3.22127437e+00 -2.20287234e+00 -1.16742092e+00\n",
      " -1.65531221e+00 -2.07230301e+00 -2.83243360e+00 -1.39861221e+00\n",
      " -1.87773483e+00 -2.91603929e+00 -3.35464327e+00 -1.15277143e+00\n",
      " -1.78616841e+00 -2.37243567e+00 -1.85502646e+00 -3.08590602e+00\n",
      " -2.28744381e+00 -3.37935763e+00 -3.44761280e+00 -2.94570944e+00\n",
      " -1.51876918e+00 -4.90472067e-01 -8.10280732e-01 -3.91006901e+00\n",
      " -8.07419037e-01 -1.89480789e+00  7.44674181e-01 -1.84679863e+00\n",
      " -2.22185916e+00 -2.04344316e+00]\n"
     ]
    },
    {
     "name": "stderr",
     "output_type": "stream",
     "text": [
      "/nobackup/users/hmbaghda/Software/miniforge3/envs/metastatic_potential/lib/python3.13/site-packages/sklearn/linear_model/_coordinate_descent.py:697: ConvergenceWarning: Objective did not converge. You might want to increase the number of iterations, check the scale of the features or consider increasing regularisation. Duality gap: 4.007e-01, tolerance: 3.918e-02\n",
      "  model = cd_fast.enet_coordinate_descent(\n",
      " 70%|██████████████████████████████▊             | 70/100 [03:51<01:38,  3.29s/it]"
     ]
    },
    {
     "name": "stdout",
     "output_type": "stream",
     "text": [
      "[-0. -0. -0. ... -0.  0. -0.]\n",
      "[-1.12765300e+00  1.24249924e+00 -2.18042262e+00 -2.41098434e+00\n",
      " -3.04613239e+00 -2.73136930e+00 -1.73230893e-01  1.08373187e-03\n",
      " -9.78759483e-01 -2.44938075e+00 -1.80974354e+00 -1.76140792e-01\n",
      " -2.01118542e+00 -3.00791240e+00 -2.53535032e-01 -2.57319340e+00\n",
      " -2.63712888e+00 -2.55275577e+00 -1.09799551e+00  6.19346944e-01\n",
      " -2.67662621e+00 -2.21759263e+00 -6.93175462e-01 -3.05689693e+00\n",
      " -1.32666063e+00 -1.79061752e+00 -3.40472030e+00 -1.64608414e+00\n",
      " -5.66098754e-01 -7.98122481e-01 -3.07470553e+00  9.22523562e-01\n",
      " -1.39498887e+00 -4.40880773e+00 -3.61076762e+00 -4.50502021e+00\n",
      "  2.60727939e-01 -4.02667211e+00]\n"
     ]
    },
    {
     "name": "stderr",
     "output_type": "stream",
     "text": [
      "/nobackup/users/hmbaghda/Software/miniforge3/envs/metastatic_potential/lib/python3.13/site-packages/sklearn/linear_model/_coordinate_descent.py:697: ConvergenceWarning: Objective did not converge. You might want to increase the number of iterations, check the scale of the features or consider increasing regularisation. Duality gap: 4.095e-01, tolerance: 3.739e-02\n",
      "  model = cd_fast.enet_coordinate_descent(\n",
      " 71%|███████████████████████████████▏            | 71/100 [03:54<01:35,  3.29s/it]"
     ]
    },
    {
     "name": "stdout",
     "output_type": "stream",
     "text": [
      "[-0. -0. -0. ... -0.  0. -0.]\n",
      "[-1.87586448 -1.74359537 -1.85553949 -1.62345721 -2.75829917 -2.45567265\n",
      " -3.18479647 -0.98036868  0.08617665 -1.08127444 -0.4587738  -3.30992788\n",
      " -4.04485744 -1.59692762 -1.79119648 -0.60270111 -1.64440729 -1.26285645\n",
      " -2.74724365 -0.62520457 -0.60757037 -1.23762095 -1.0472128  -1.31391048\n",
      "  0.06154298 -1.84640816 -2.77165249 -4.43092257  0.11916395 -1.38107699\n",
      " -2.13640022  0.93893951 -0.69076008 -0.54501648 -2.34783995 -0.66404914\n",
      " -1.17062182 -0.69645923]\n"
     ]
    },
    {
     "name": "stderr",
     "output_type": "stream",
     "text": [
      "/nobackup/users/hmbaghda/Software/miniforge3/envs/metastatic_potential/lib/python3.13/site-packages/sklearn/linear_model/_coordinate_descent.py:697: ConvergenceWarning: Objective did not converge. You might want to increase the number of iterations, check the scale of the features or consider increasing regularisation. Duality gap: 5.579e-01, tolerance: 3.884e-02\n",
      "  model = cd_fast.enet_coordinate_descent(\n",
      " 72%|███████████████████████████████▋            | 72/100 [03:58<01:32,  3.29s/it]"
     ]
    },
    {
     "name": "stdout",
     "output_type": "stream",
     "text": [
      "[ 0. -0. -0. ... -0.  0. -0.]\n",
      "[-2.35802389 -2.1871506  -4.56075885 -4.82258533 -1.51513846 -1.41548254\n",
      " -0.37305596 -4.52032005 -1.41155236 -1.52654354 -2.83078261 -2.23927422\n",
      " -1.90723164 -2.41013273 -1.47691799 -1.78694026 -1.03404857 -3.03388503\n",
      " -2.00512728 -3.93165252 -2.93601304  0.40781529 -1.45951543 -2.80987243\n",
      " -1.61491973 -1.3554442  -1.17615527 -0.56396223 -2.93899824 -1.22255722\n",
      " -3.31617727 -1.16273456 -4.27449875 -0.91972705 -3.84541308 -0.49719978\n",
      " -2.07590131 -2.93908771]\n"
     ]
    },
    {
     "name": "stderr",
     "output_type": "stream",
     "text": [
      "/nobackup/users/hmbaghda/Software/miniforge3/envs/metastatic_potential/lib/python3.13/site-packages/sklearn/linear_model/_coordinate_descent.py:697: ConvergenceWarning: Objective did not converge. You might want to increase the number of iterations, check the scale of the features or consider increasing regularisation. Duality gap: 7.598e-01, tolerance: 4.070e-02\n",
      "  model = cd_fast.enet_coordinate_descent(\n",
      " 73%|████████████████████████████████            | 73/100 [04:01<01:28,  3.29s/it]"
     ]
    },
    {
     "name": "stdout",
     "output_type": "stream",
     "text": [
      "[ 0. -0. -0. ... -0.  0. -0.]\n",
      "[-0.77127145  0.04564522 -1.56980146 -2.89554619 -0.20778308 -1.92194034\n",
      " -0.69060157 -2.15056053 -2.6680964  -1.37378987 -2.00379112 -2.53122619\n",
      " -0.66496976 -1.01587476 -3.81727001  0.39297004 -1.77315598  0.67455315\n",
      " -4.10346118 -0.94110188 -0.93239366  0.04561059 -2.15754701 -2.2783681\n",
      " -1.5757383  -1.96760886 -0.55388704 -1.67564853  0.56844154 -2.45030819\n",
      " -0.76656917 -2.4913855  -1.30400715 -0.49719895 -3.06787412 -0.5726009\n",
      " -2.15620978 -3.48807468]\n"
     ]
    },
    {
     "name": "stderr",
     "output_type": "stream",
     "text": [
      "/nobackup/users/hmbaghda/Software/miniforge3/envs/metastatic_potential/lib/python3.13/site-packages/sklearn/linear_model/_coordinate_descent.py:697: ConvergenceWarning: Objective did not converge. You might want to increase the number of iterations, check the scale of the features or consider increasing regularisation. Duality gap: 5.467e-01, tolerance: 3.808e-02\n",
      "  model = cd_fast.enet_coordinate_descent(\n",
      " 74%|████████████████████████████████▌           | 74/100 [04:04<01:25,  3.30s/it]"
     ]
    },
    {
     "name": "stdout",
     "output_type": "stream",
     "text": [
      "[-0. -0. -0. ... -0.  0. -0.]\n",
      "[-0.76053868 -2.82176946 -3.38428858  0.17606919 -4.41858345 -3.28770485\n",
      " -0.2565008  -2.53668673  0.4868655  -1.5026893  -1.52193989 -1.42138126\n",
      " -1.63896919 -2.19578117 -0.78734595 -1.3179544  -1.38946731 -0.52629391\n",
      " -0.42979842  1.65614663 -0.71058847 -0.89724789 -1.49566928 -1.68330687\n",
      " -0.94040684 -1.85204856 -2.83575105 -0.8509075  -1.71348106 -3.53691867\n",
      " -2.3408481  -1.79446733  0.33889503  0.28903416 -0.78211337 -2.56107666\n",
      "  0.76534774 -1.3098656 ]\n"
     ]
    },
    {
     "name": "stderr",
     "output_type": "stream",
     "text": [
      "/nobackup/users/hmbaghda/Software/miniforge3/envs/metastatic_potential/lib/python3.13/site-packages/sklearn/linear_model/_coordinate_descent.py:697: ConvergenceWarning: Objective did not converge. You might want to increase the number of iterations, check the scale of the features or consider increasing regularisation. Duality gap: 5.384e-01, tolerance: 3.831e-02\n",
      "  model = cd_fast.enet_coordinate_descent(\n",
      " 75%|█████████████████████████████████           | 75/100 [04:08<01:22,  3.29s/it]"
     ]
    },
    {
     "name": "stdout",
     "output_type": "stream",
     "text": [
      "[-0.  0. -0. ... -0.  0. -0.]\n",
      "[-0.27704081 -2.43377452 -1.07290212 -1.15261951 -2.07088957 -0.99343846\n",
      " -3.77331374 -0.55452189 -3.12854243 -2.96595711 -2.23397988 -3.14011921\n",
      " -2.05171117 -3.61750827 -2.96352942 -0.12761137 -0.37896764 -0.97735799\n",
      " -1.58253318 -3.45623411 -3.21627887 -0.79924794 -2.12727077 -2.97707726\n",
      " -0.45516954 -1.54963323 -3.6270873  -2.95817839 -2.3286957  -0.59629758\n",
      " -0.95624791 -2.65852568 -2.6349342  -2.95518962 -3.750675   -3.10939985\n",
      " -3.42803445 -1.20253083]\n"
     ]
    },
    {
     "name": "stderr",
     "output_type": "stream",
     "text": [
      "/nobackup/users/hmbaghda/Software/miniforge3/envs/metastatic_potential/lib/python3.13/site-packages/sklearn/linear_model/_coordinate_descent.py:697: ConvergenceWarning: Objective did not converge. You might want to increase the number of iterations, check the scale of the features or consider increasing regularisation. Duality gap: 4.345e-01, tolerance: 3.923e-02\n",
      "  model = cd_fast.enet_coordinate_descent(\n",
      " 76%|█████████████████████████████████▍          | 76/100 [04:11<01:18,  3.29s/it]"
     ]
    },
    {
     "name": "stdout",
     "output_type": "stream",
     "text": [
      "[-0. -0. -0. ... -0.  0.  0.]\n",
      "[-1.69845081 -2.71350085 -1.30375715 -3.27468268 -2.3943287  -1.87395099\n",
      " -1.44548708 -3.25224005 -2.42121463 -1.69020372 -3.12406981 -0.8697929\n",
      " -1.61513118 -0.67779636 -1.34055103 -3.97827186 -1.469465   -1.14780514\n",
      " -2.47096083 -1.93078743 -1.79172785 -1.06287469 -0.50562187 -2.60875142\n",
      " -3.53463681 -0.04711929 -1.03827842 -2.27087611 -4.02962085 -0.10197995\n",
      " -1.55051789 -2.30745969 -2.26228386 -1.57887031 -0.30655412 -2.04702361\n",
      " -2.58982331 -2.74785393]\n"
     ]
    },
    {
     "name": "stderr",
     "output_type": "stream",
     "text": [
      "/nobackup/users/hmbaghda/Software/miniforge3/envs/metastatic_potential/lib/python3.13/site-packages/sklearn/linear_model/_coordinate_descent.py:697: ConvergenceWarning: Objective did not converge. You might want to increase the number of iterations, check the scale of the features or consider increasing regularisation. Duality gap: 4.002e-01, tolerance: 4.009e-02\n",
      "  model = cd_fast.enet_coordinate_descent(\n",
      " 77%|█████████████████████████████████▉          | 77/100 [04:14<01:15,  3.29s/it]"
     ]
    },
    {
     "name": "stdout",
     "output_type": "stream",
     "text": [
      "[-0. -0. -0. ... -0.  0. -0.]\n",
      "[-1.19822204 -2.78231899 -2.54489664 -2.7975444  -2.86961248 -1.32886017\n",
      " -1.30314598 -1.66016402 -1.95654686 -1.18499547 -0.36078782 -1.90542416\n",
      " -4.56513029 -0.96699911 -1.78845797 -2.91922198 -1.17168068 -0.28027692\n",
      " -0.30931666  0.07682867 -2.19826911 -2.60673271  0.15210853 -0.54220855\n",
      " -0.93313152 -2.73733902 -0.77527273  2.63163268 -0.86211512 -2.27125836\n",
      " -1.42993729 -3.15648331 -2.14575741 -1.83431346 -2.14592006 -1.70084467\n",
      " -2.02287403 -3.03345525]\n"
     ]
    },
    {
     "name": "stderr",
     "output_type": "stream",
     "text": [
      "/nobackup/users/hmbaghda/Software/miniforge3/envs/metastatic_potential/lib/python3.13/site-packages/sklearn/linear_model/_coordinate_descent.py:697: ConvergenceWarning: Objective did not converge. You might want to increase the number of iterations, check the scale of the features or consider increasing regularisation. Duality gap: 6.794e-01, tolerance: 3.690e-02\n",
      "  model = cd_fast.enet_coordinate_descent(\n",
      " 78%|██████████████████████████████████▎         | 78/100 [04:17<01:12,  3.29s/it]"
     ]
    },
    {
     "name": "stdout",
     "output_type": "stream",
     "text": [
      "[-0.  0. -0. ... -0.  0. -0.]\n",
      "[-1.40510002 -3.1445522  -3.0565524  -0.96433869 -2.92913068  0.40739098\n",
      " -2.91072831 -1.09313875 -1.00394011 -1.52868354 -1.04497403 -2.58725864\n",
      " -2.06823126 -4.64295421 -0.60641723 -1.58133477  0.58983947 -1.46215186\n",
      " -1.68807534 -2.2632004  -2.59993833 -1.38563169 -3.37399355 -1.15139822\n",
      " -0.66662962 -1.03837798 -0.46453053 -0.2187929  -2.60809189 -1.88736739\n",
      " -1.18054695 -0.87107362 -2.49420165 -3.389113   -3.19647847  0.324303\n",
      " -2.20398538 -3.83010733]\n"
     ]
    },
    {
     "name": "stderr",
     "output_type": "stream",
     "text": [
      "/nobackup/users/hmbaghda/Software/miniforge3/envs/metastatic_potential/lib/python3.13/site-packages/sklearn/linear_model/_coordinate_descent.py:697: ConvergenceWarning: Objective did not converge. You might want to increase the number of iterations, check the scale of the features or consider increasing regularisation. Duality gap: 4.834e-01, tolerance: 3.965e-02\n",
      "  model = cd_fast.enet_coordinate_descent(\n",
      " 79%|██████████████████████████████████▊         | 79/100 [04:21<01:09,  3.29s/it]"
     ]
    },
    {
     "name": "stdout",
     "output_type": "stream",
     "text": [
      "[ 0. -0. -0. ... -0.  0. -0.]\n",
      "[-0.32906458 -1.43618138 -1.20894069  1.34995764 -1.49926976 -0.50933169\n",
      " -1.85620976 -1.51666152 -3.23262759 -0.07105273 -2.17014315 -0.89994254\n",
      " -1.65111972 -2.72876879 -2.0698663  -2.61588192 -1.23734182 -1.01168907\n",
      " -2.94495224 -1.10025668 -0.47231161 -1.01514333 -1.41127028 -1.41528666\n",
      "  0.24690685 -2.3450972  -1.10270925 -1.72944776 -2.4075742  -2.75898112\n",
      " -0.47769606 -1.41506485 -2.15281901 -1.31037915 -2.97286862 -0.98406203\n",
      " -1.94866446 -2.67716452]\n"
     ]
    },
    {
     "name": "stderr",
     "output_type": "stream",
     "text": [
      "/nobackup/users/hmbaghda/Software/miniforge3/envs/metastatic_potential/lib/python3.13/site-packages/sklearn/linear_model/_coordinate_descent.py:697: ConvergenceWarning: Objective did not converge. You might want to increase the number of iterations, check the scale of the features or consider increasing regularisation. Duality gap: 4.382e-01, tolerance: 4.221e-02\n",
      "  model = cd_fast.enet_coordinate_descent(\n",
      " 80%|███████████████████████████████████▏        | 80/100 [04:24<01:05,  3.29s/it]"
     ]
    },
    {
     "name": "stdout",
     "output_type": "stream",
     "text": [
      "[-0. -0. -0. ... -0.  0. -0.]\n",
      "[-2.02134775 -0.57748755 -2.38845996 -0.92834197 -1.67137382 -2.36058169\n",
      " -2.68328108 -2.20713104 -0.51672899 -2.93435616 -1.83020177 -4.31479219\n",
      " -0.65529945 -2.66636241 -1.47919913 -0.65696444 -2.28807382 -1.21957489\n",
      " -2.38082164 -1.55723598  1.42692931 -2.76889281 -1.43732121 -3.49679457\n",
      " -2.24081782 -2.11873669 -2.45165156 -1.66497636 -1.08673725 -1.55989825\n",
      " -1.1648857  -2.49814602 -1.91265269 -2.0821898   0.20711546 -2.0715934\n",
      " -2.28270794 -1.49462587]\n"
     ]
    },
    {
     "name": "stderr",
     "output_type": "stream",
     "text": [
      "/nobackup/users/hmbaghda/Software/miniforge3/envs/metastatic_potential/lib/python3.13/site-packages/sklearn/linear_model/_coordinate_descent.py:697: ConvergenceWarning: Objective did not converge. You might want to increase the number of iterations, check the scale of the features or consider increasing regularisation. Duality gap: 3.417e-01, tolerance: 4.069e-02\n",
      "  model = cd_fast.enet_coordinate_descent(\n",
      " 81%|███████████████████████████████████▋        | 81/100 [04:27<01:02,  3.29s/it]"
     ]
    },
    {
     "name": "stdout",
     "output_type": "stream",
     "text": [
      "[-0.  0. -0. ... -0.  0.  0.]\n",
      "[-0.42511929 -0.69335571 -4.23598008 -2.45166818 -2.81288181  1.05527344\n",
      " -0.33837265 -2.73057227 -2.58808273 -2.04175727 -3.82324834 -3.19443634\n",
      " -0.23933712 -1.14626651 -2.24153079 -2.17222964 -3.07787652 -3.32611894\n",
      " -2.13520035 -3.63277603 -2.74381388 -2.42493592 -1.47469858 -0.73983379\n",
      " -2.11530548 -2.44909789  1.41537371 -3.46980198 -1.9440635   2.14156745\n",
      " -3.03604482 -2.87533666 -2.19188943 -0.45956812 -3.28013519 -3.14287986\n",
      " -1.23165648 -3.27012965]\n"
     ]
    },
    {
     "name": "stderr",
     "output_type": "stream",
     "text": [
      "/nobackup/users/hmbaghda/Software/miniforge3/envs/metastatic_potential/lib/python3.13/site-packages/sklearn/linear_model/_coordinate_descent.py:697: ConvergenceWarning: Objective did not converge. You might want to increase the number of iterations, check the scale of the features or consider increasing regularisation. Duality gap: 4.696e-01, tolerance: 3.763e-02\n",
      "  model = cd_fast.enet_coordinate_descent(\n",
      " 82%|████████████████████████████████████        | 82/100 [04:31<00:59,  3.29s/it]"
     ]
    },
    {
     "name": "stdout",
     "output_type": "stream",
     "text": [
      "[-0.  0. -0. ... -0.  0. -0.]\n",
      "[-2.98160863 -0.62568885 -1.70210468 -3.04609774 -2.59356757 -1.63023698\n",
      " -0.96741507 -1.84526414 -2.48898119  0.81095735 -4.72361989 -1.80385497\n",
      " -1.05111121 -1.64407759 -2.5723442  -1.56916351 -0.9085087  -1.87161207\n",
      " -0.84934157 -3.20803201 -0.84313872 -1.5443897  -1.57312648 -0.82634705\n",
      " -1.8569843  -3.44781146 -2.44047226 -1.64846591 -3.88195301 -1.80347862\n",
      " -0.14702555 -2.11896774 -0.22091098 -1.43635126 -3.45502071 -0.28027715\n",
      " -1.69871615 -1.13425755]\n"
     ]
    },
    {
     "name": "stderr",
     "output_type": "stream",
     "text": [
      "/nobackup/users/hmbaghda/Software/miniforge3/envs/metastatic_potential/lib/python3.13/site-packages/sklearn/linear_model/_coordinate_descent.py:697: ConvergenceWarning: Objective did not converge. You might want to increase the number of iterations, check the scale of the features or consider increasing regularisation. Duality gap: 3.698e-01, tolerance: 4.091e-02\n",
      "  model = cd_fast.enet_coordinate_descent(\n",
      " 83%|████████████████████████████████████▌       | 83/100 [04:34<00:55,  3.29s/it]"
     ]
    },
    {
     "name": "stdout",
     "output_type": "stream",
     "text": [
      "[-0. -0. -0. ... -0.  0.  0.]\n",
      "[-1.59163576 -2.47435902 -1.45810723 -1.79080008 -2.64839665 -1.18532667\n",
      " -1.91884836 -2.0708098  -2.35476402  1.49798027 -2.71309334 -2.7627143\n",
      " -2.78211179 -2.13598289 -3.57571207 -4.37863099 -1.77528953 -1.28878831\n",
      " -1.32242399 -1.47326017 -0.92173679 -3.87388506 -3.65028019 -0.92490937\n",
      " -2.17221913 -0.35551549 -0.65565628 -1.96520246 -1.19591828  0.24818891\n",
      " -4.18572344 -2.9346213  -3.07888719 -0.85223621 -1.47167571 -0.87622666\n",
      " -1.72836638 -1.58631934]\n"
     ]
    },
    {
     "name": "stderr",
     "output_type": "stream",
     "text": [
      "/nobackup/users/hmbaghda/Software/miniforge3/envs/metastatic_potential/lib/python3.13/site-packages/sklearn/linear_model/_coordinate_descent.py:697: ConvergenceWarning: Objective did not converge. You might want to increase the number of iterations, check the scale of the features or consider increasing regularisation. Duality gap: 4.701e-01, tolerance: 3.873e-02\n",
      "  model = cd_fast.enet_coordinate_descent(\n",
      " 84%|████████████████████████████████████▉       | 84/100 [04:37<00:52,  3.29s/it]"
     ]
    },
    {
     "name": "stdout",
     "output_type": "stream",
     "text": [
      "[-0. -0. -0. ... -0.  0. -0.]\n",
      "[-1.5579304  -3.59022396 -2.50558158 -1.63842747 -0.98111064 -1.22560356\n",
      " -2.03890508 -2.07414207 -2.70571719 -1.23840199 -0.43251964 -1.46490995\n",
      " -3.04206601 -1.22421322 -2.58402408 -1.53922082 -0.92515704 -1.72189811\n",
      " -1.07759255 -4.16766963 -1.20752067 -0.09071232 -2.38428507 -0.156993\n",
      "  0.22665809 -1.79924905 -0.86688583 -0.66869724 -1.99906057 -2.79958064\n",
      " -1.5122049  -0.28724193 -2.04310581 -0.790648   -0.56803721 -1.86350227\n",
      " -3.64240844 -0.43910452]\n"
     ]
    },
    {
     "name": "stderr",
     "output_type": "stream",
     "text": [
      "/nobackup/users/hmbaghda/Software/miniforge3/envs/metastatic_potential/lib/python3.13/site-packages/sklearn/linear_model/_coordinate_descent.py:697: ConvergenceWarning: Objective did not converge. You might want to increase the number of iterations, check the scale of the features or consider increasing regularisation. Duality gap: 3.491e-01, tolerance: 3.729e-02\n",
      "  model = cd_fast.enet_coordinate_descent(\n",
      " 85%|█████████████████████████████████████▍      | 85/100 [04:40<00:49,  3.29s/it]"
     ]
    },
    {
     "name": "stdout",
     "output_type": "stream",
     "text": [
      "[ 0. -0. -0. ... -0.  0. -0.]\n",
      "[-0.93147641 -1.19776498 -1.78481941 -1.2659438  -2.57154708 -2.97655418\n",
      " -0.77343517 -0.62437317 -1.4932087  -1.82258385 -0.9956158  -0.64013418\n",
      " -1.73931088 -3.19243963 -0.43016386 -1.13524277 -2.52623934 -1.13253876\n",
      " -2.11206845 -0.72261486 -3.73948133 -1.46227344 -3.07836736 -2.950901\n",
      " -0.68576999 -3.53584662 -0.22241034 -1.18223289 -2.38537026 -1.95895678\n",
      "  0.38153623 -1.023967   -1.73755142 -4.98737694 -1.67711174 -1.6650923\n",
      " -2.17165913 -2.32975171]\n"
     ]
    },
    {
     "name": "stderr",
     "output_type": "stream",
     "text": [
      "/nobackup/users/hmbaghda/Software/miniforge3/envs/metastatic_potential/lib/python3.13/site-packages/sklearn/linear_model/_coordinate_descent.py:697: ConvergenceWarning: Objective did not converge. You might want to increase the number of iterations, check the scale of the features or consider increasing regularisation. Duality gap: 4.286e-01, tolerance: 3.810e-02\n",
      "  model = cd_fast.enet_coordinate_descent(\n",
      " 86%|█████████████████████████████████████▊      | 86/100 [04:44<00:46,  3.29s/it]"
     ]
    },
    {
     "name": "stdout",
     "output_type": "stream",
     "text": [
      "[ 0. -0. -0. ... -0.  0. -0.]\n",
      "[-1.7775561  -3.0886703  -1.69258719 -3.83446515 -1.89440538 -2.56255257\n",
      " -1.24282914 -1.35426531 -1.77185557 -2.50887625 -2.39209987 -1.47321277\n",
      " -0.38384251 -2.83236325  1.31503723 -1.0206546  -6.2476778  -2.27850529\n",
      " -0.71767421 -4.96181132  0.1570437  -2.49628951 -2.09575463 -0.71028172\n",
      "  0.05571806 -3.03099871 -1.98977567  0.95589793 -2.0221033  -0.21382709\n",
      " -2.77447258 -1.40100222 -0.16224153 -3.81220039 -1.88680201  0.39045918\n",
      " -1.52524501 -2.04868883]\n"
     ]
    },
    {
     "name": "stderr",
     "output_type": "stream",
     "text": [
      "/nobackup/users/hmbaghda/Software/miniforge3/envs/metastatic_potential/lib/python3.13/site-packages/sklearn/linear_model/_coordinate_descent.py:697: ConvergenceWarning: Objective did not converge. You might want to increase the number of iterations, check the scale of the features or consider increasing regularisation. Duality gap: 3.804e-01, tolerance: 3.701e-02\n",
      "  model = cd_fast.enet_coordinate_descent(\n",
      " 87%|██████████████████████████████████████▎     | 87/100 [04:47<00:42,  3.29s/it]"
     ]
    },
    {
     "name": "stdout",
     "output_type": "stream",
     "text": [
      "[ 0. -0. -0. ... -0.  0. -0.]\n",
      "[-1.25984859 -0.7104983  -2.26287489 -0.79742624  0.66704516 -4.1161429\n",
      " -2.41975024 -1.69662415 -3.55825523 -0.92605067 -2.51385343  0.18901881\n",
      "  1.35138807 -0.89228414 -0.45374063 -0.65988828 -0.87198852 -2.06311765\n",
      " -0.61571895 -2.08154112 -0.32964155 -3.60788523 -2.56687498 -1.72395997\n",
      " -1.98859416 -1.16785198 -0.92445459 -1.8666206  -2.29081981 -2.83148912\n",
      " -3.61100213 -1.72025201 -1.68817937 -1.07592204 -1.29675351 -0.99812179\n",
      " -1.95346341 -1.52741992]\n"
     ]
    },
    {
     "name": "stderr",
     "output_type": "stream",
     "text": [
      "/nobackup/users/hmbaghda/Software/miniforge3/envs/metastatic_potential/lib/python3.13/site-packages/sklearn/linear_model/_coordinate_descent.py:697: ConvergenceWarning: Objective did not converge. You might want to increase the number of iterations, check the scale of the features or consider increasing regularisation. Duality gap: 5.041e-01, tolerance: 4.056e-02\n",
      "  model = cd_fast.enet_coordinate_descent(\n",
      " 88%|██████████████████████████████████████▋     | 88/100 [04:50<00:39,  3.29s/it]"
     ]
    },
    {
     "name": "stdout",
     "output_type": "stream",
     "text": [
      "[-0. -0. -0. ... -0.  0. -0.]\n",
      "[-0.43185041 -2.330435   -2.11207057 -1.83724516 -2.70711338 -1.19165206\n",
      " -1.67854524 -1.27995929 -0.55453456 -2.72921358 -1.51711002 -1.86665068\n",
      " -0.82847326 -2.57332693 -2.65343739 -0.90966572 -1.96747055 -3.16287784\n",
      " -2.46990899 -1.05036218 -3.11463974 -2.80619727 -0.67993146 -1.55257656\n",
      " -2.34589064 -1.72953487 -1.77341601 -1.35586609 -1.36315448 -2.86785568\n",
      "  0.32275595 -1.53001393 -2.7721616  -2.26985029 -0.54179303 -0.04927371\n",
      " -1.65145211 -1.97676277]\n"
     ]
    },
    {
     "name": "stderr",
     "output_type": "stream",
     "text": [
      "/nobackup/users/hmbaghda/Software/miniforge3/envs/metastatic_potential/lib/python3.13/site-packages/sklearn/linear_model/_coordinate_descent.py:697: ConvergenceWarning: Objective did not converge. You might want to increase the number of iterations, check the scale of the features or consider increasing regularisation. Duality gap: 5.763e-01, tolerance: 4.008e-02\n",
      "  model = cd_fast.enet_coordinate_descent(\n",
      " 89%|███████████████████████████████████████▏    | 89/100 [04:54<00:36,  3.29s/it]"
     ]
    },
    {
     "name": "stdout",
     "output_type": "stream",
     "text": [
      "[-0.  0. -0. ... -0.  0. -0.]\n",
      "[-2.45128051 -0.62213842 -1.46855698 -1.67111069 -1.82256706 -1.22295851\n",
      " -2.51781358 -2.09420302 -0.34477025 -1.27634641 -1.24880282 -1.83384064\n",
      " -1.37309398 -2.66100042 -2.28182345 -0.76497051 -0.54695523 -1.89530251\n",
      " -1.26149873 -1.24285974 -1.32455328  1.37828162 -0.99018769 -0.10809801\n",
      " -4.40167018 -2.07099485 -1.73473531 -1.15438044  1.08204042 -1.32604319\n",
      " -2.83733422  0.30117454 -2.29886902 -0.94926502 -1.72588012 -2.74664015\n",
      "  0.2181363  -2.24501038]\n"
     ]
    },
    {
     "name": "stderr",
     "output_type": "stream",
     "text": [
      "/nobackup/users/hmbaghda/Software/miniforge3/envs/metastatic_potential/lib/python3.13/site-packages/sklearn/linear_model/_coordinate_descent.py:697: ConvergenceWarning: Objective did not converge. You might want to increase the number of iterations, check the scale of the features or consider increasing regularisation. Duality gap: 5.263e-01, tolerance: 3.604e-02\n",
      "  model = cd_fast.enet_coordinate_descent(\n",
      " 90%|███████████████████████████████████████▌    | 90/100 [04:57<00:32,  3.29s/it]"
     ]
    },
    {
     "name": "stdout",
     "output_type": "stream",
     "text": [
      "[-0.  0. -0. ... -0.  0. -0.]\n",
      "[-1.03795552 -0.03094536 -1.43293211 -0.86084919 -2.10083709 -0.59922046\n",
      " -1.02376059 -2.265972   -1.86044103 -3.07849467 -2.16702037 -2.03467731\n",
      "  1.40506791 -2.74825554 -0.3476257  -1.7401428  -1.15764213 -2.06319744\n",
      " -3.47681942 -2.63947227 -0.44230917 -1.41441202 -0.7172216  -1.41429123\n",
      " -1.31878789 -0.02375222 -2.99669927 -0.77150532 -1.22641233 -1.4451515\n",
      " -1.67289058 -2.09127826 -3.38134145 -1.75667662 -1.62952577 -3.61690796\n",
      " -1.72736177 -1.78250036]\n"
     ]
    },
    {
     "name": "stderr",
     "output_type": "stream",
     "text": [
      "/nobackup/users/hmbaghda/Software/miniforge3/envs/metastatic_potential/lib/python3.13/site-packages/sklearn/linear_model/_coordinate_descent.py:697: ConvergenceWarning: Objective did not converge. You might want to increase the number of iterations, check the scale of the features or consider increasing regularisation. Duality gap: 4.816e-01, tolerance: 4.055e-02\n",
      "  model = cd_fast.enet_coordinate_descent(\n",
      " 91%|████████████████████████████████████████    | 91/100 [05:00<00:29,  3.29s/it]"
     ]
    },
    {
     "name": "stdout",
     "output_type": "stream",
     "text": [
      "[-0.  0. -0. ... -0.  0. -0.]\n",
      "[-0.34218938 -1.88493669 -1.41038524 -3.94255423  0.11477311 -1.52406395\n",
      " -1.63025232 -2.28415824 -1.83093258 -1.72538909  0.09315397 -2.52571256\n",
      " -1.74420562 -2.33082862 -0.51547564 -0.59945348 -2.24515039 -1.26413586\n",
      " -1.81771664 -2.50170364 -0.82936137 -1.8189993  -1.85435104 -2.8471525\n",
      " -0.74554936 -3.38757559 -1.34022877 -2.84875307 -1.62063398 -0.19053718\n",
      " -0.85353116 -0.36734647 -3.5116676  -1.764496   -2.67550061 -1.24869721\n",
      " -1.23100441 -0.45293764]\n"
     ]
    },
    {
     "name": "stderr",
     "output_type": "stream",
     "text": [
      "/nobackup/users/hmbaghda/Software/miniforge3/envs/metastatic_potential/lib/python3.13/site-packages/sklearn/linear_model/_coordinate_descent.py:697: ConvergenceWarning: Objective did not converge. You might want to increase the number of iterations, check the scale of the features or consider increasing regularisation. Duality gap: 5.060e-01, tolerance: 4.012e-02\n",
      "  model = cd_fast.enet_coordinate_descent(\n",
      " 92%|████████████████████████████████████████▍   | 92/100 [05:03<00:26,  3.29s/it]"
     ]
    },
    {
     "name": "stdout",
     "output_type": "stream",
     "text": [
      "[ 0. -0. -0. ... -0.  0. -0.]\n",
      "[ 0.46716777 -0.73243603 -2.93615051 -1.79546557 -2.25380827 -0.37989078\n",
      " -2.19329486 -1.92787374 -0.54725517 -1.76006604 -3.53012338 -1.35869479\n",
      " -2.26034974 -1.40497457 -3.9274595   0.00631392 -3.39237873 -1.39034652\n",
      " -0.82340286 -1.52256144 -0.33565086 -3.53461234 -0.97837631 -0.69969528\n",
      " -0.75420248 -2.62178735 -3.74000188 -1.60430798 -0.8894927  -1.503902\n",
      " -1.99558901  0.65088258 -2.05183687 -2.2838424  -0.74396118 -1.61284382\n",
      " -2.20615914  1.07211081]\n"
     ]
    },
    {
     "name": "stderr",
     "output_type": "stream",
     "text": [
      "/nobackup/users/hmbaghda/Software/miniforge3/envs/metastatic_potential/lib/python3.13/site-packages/sklearn/linear_model/_coordinate_descent.py:697: ConvergenceWarning: Objective did not converge. You might want to increase the number of iterations, check the scale of the features or consider increasing regularisation. Duality gap: 5.840e-01, tolerance: 4.025e-02\n",
      "  model = cd_fast.enet_coordinate_descent(\n",
      " 93%|████████████████████████████████████████▉   | 93/100 [05:07<00:23,  3.29s/it]"
     ]
    },
    {
     "name": "stdout",
     "output_type": "stream",
     "text": [
      "[ 0. -0. -0. ... -0.  0. -0.]\n",
      "[ 0.31506524 -0.63124883 -3.09526651 -1.2650451  -0.94765017 -0.03962223\n",
      " -1.60937496 -3.45965564 -3.02131059 -3.81549056 -0.85819806 -1.70478317\n",
      " -2.27106517 -3.58066622 -0.41716751 -1.72145797  0.87622443 -2.05457131\n",
      " -1.7420091  -0.44126433 -2.24207704 -1.52426398 -1.43285318 -1.11034493\n",
      " -1.21107614 -2.80988524 -1.55677969 -0.33132878 -3.9199343  -2.77890072\n",
      " -3.31858842 -3.28825649 -2.67544697 -3.44061441  0.83348022 -3.09915494\n",
      " -1.17692189 -2.77337538]\n"
     ]
    },
    {
     "name": "stderr",
     "output_type": "stream",
     "text": [
      "/nobackup/users/hmbaghda/Software/miniforge3/envs/metastatic_potential/lib/python3.13/site-packages/sklearn/linear_model/_coordinate_descent.py:697: ConvergenceWarning: Objective did not converge. You might want to increase the number of iterations, check the scale of the features or consider increasing regularisation. Duality gap: 7.021e-01, tolerance: 4.021e-02\n",
      "  model = cd_fast.enet_coordinate_descent(\n",
      " 94%|█████████████████████████████████████████▎  | 94/100 [05:10<00:19,  3.29s/it]"
     ]
    },
    {
     "name": "stdout",
     "output_type": "stream",
     "text": [
      "[-0. -0. -0. ... -0.  0. -0.]\n",
      "[-1.50416705 -1.15346051 -3.79438562 -1.13693464 -1.2100809  -2.67831514\n",
      " -1.90976496 -1.93372746 -1.68020731 -2.1568548  -0.98946995 -2.17096641\n",
      " -2.36718672 -0.32226401 -3.01874205 -0.63355054 -0.93808958 -0.29906117\n",
      " -2.73219503 -0.38764961 -3.59428853 -0.76413416 -0.13208853 -1.21410048\n",
      " -1.33243739 -0.3179641  -2.72892077 -0.97462773 -3.67373313 -0.6094589\n",
      " -1.58542953 -1.9463579  -3.28525226 -1.44041324 -3.21534785 -1.83080053\n",
      "  0.87967103 -1.36874174]\n"
     ]
    },
    {
     "name": "stderr",
     "output_type": "stream",
     "text": [
      "/nobackup/users/hmbaghda/Software/miniforge3/envs/metastatic_potential/lib/python3.13/site-packages/sklearn/linear_model/_coordinate_descent.py:697: ConvergenceWarning: Objective did not converge. You might want to increase the number of iterations, check the scale of the features or consider increasing regularisation. Duality gap: 4.860e-01, tolerance: 3.852e-02\n",
      "  model = cd_fast.enet_coordinate_descent(\n",
      " 95%|█████████████████████████████████████████▊  | 95/100 [05:13<00:16,  3.29s/it]"
     ]
    },
    {
     "name": "stdout",
     "output_type": "stream",
     "text": [
      "[ 0. -0. -0. ... -0.  0. -0.]\n",
      "[-2.56380346 -2.97790143 -2.58575582 -0.52551176 -2.97577164 -1.13239565\n",
      " -2.29472515 -1.12620492 -1.25785427 -1.13221292 -2.82978154 -2.59537187\n",
      "  0.74081765 -4.48150825 -1.83281592 -2.99504572 -3.6094748  -2.10020947\n",
      "  0.41875518 -2.83527986  1.2382996  -2.40312288 -4.68322223 -2.61314602\n",
      " -0.9401317  -4.04278424 -0.85089387 -2.09206721 -0.28183033 -1.66878334\n",
      " -0.81623188 -2.35566814 -2.29829696 -1.25276588 -1.65233956 -2.60433381\n",
      " -0.28131978 -1.1372422 ]\n"
     ]
    },
    {
     "name": "stderr",
     "output_type": "stream",
     "text": [
      "/nobackup/users/hmbaghda/Software/miniforge3/envs/metastatic_potential/lib/python3.13/site-packages/sklearn/linear_model/_coordinate_descent.py:697: ConvergenceWarning: Objective did not converge. You might want to increase the number of iterations, check the scale of the features or consider increasing regularisation. Duality gap: 5.744e-01, tolerance: 3.667e-02\n",
      "  model = cd_fast.enet_coordinate_descent(\n",
      " 96%|██████████████████████████████████████████▏ | 96/100 [05:17<00:13,  3.29s/it]"
     ]
    },
    {
     "name": "stdout",
     "output_type": "stream",
     "text": [
      "[ 0. -0. -0. ... -0.  0. -0.]\n",
      "[-3.3725613  -0.28058801 -3.8503271  -3.01999764 -2.6131913   0.30955868\n",
      " -1.50039101 -2.21625471 -0.5641882  -2.22804692 -1.69329429  0.60250777\n",
      " -0.87873205 -0.29275872 -2.98164822 -2.30914402 -0.37122546 -2.21405986\n",
      " -0.57249132 -0.88638838 -2.45579238 -3.5412647  -3.77642901 -2.41284358\n",
      " -2.18645707 -0.48767388 -4.73559377 -3.31399627 -2.8823023   0.57987039\n",
      " -1.08347192 -0.98419443 -0.49452957 -1.55420036 -2.04321861 -1.07138047\n",
      " -1.11250051 -4.14771301]\n"
     ]
    },
    {
     "name": "stderr",
     "output_type": "stream",
     "text": [
      "/nobackup/users/hmbaghda/Software/miniforge3/envs/metastatic_potential/lib/python3.13/site-packages/sklearn/linear_model/_coordinate_descent.py:697: ConvergenceWarning: Objective did not converge. You might want to increase the number of iterations, check the scale of the features or consider increasing regularisation. Duality gap: 7.078e-01, tolerance: 4.035e-02\n",
      "  model = cd_fast.enet_coordinate_descent(\n",
      " 97%|██████████████████████████████████████████▋ | 97/100 [05:20<00:09,  3.29s/it]"
     ]
    },
    {
     "name": "stdout",
     "output_type": "stream",
     "text": [
      "[ 0. -0. -0. ... -0.  0. -0.]\n",
      "[-1.9935491  -2.48529567 -4.20368642 -1.1253225  -1.52003753  0.13008891\n",
      " -2.89292793  0.17475777 -3.14171528 -2.544908   -4.09437926 -0.76731429\n",
      " -1.00319513 -1.42686362 -1.67204082 -0.76046386  0.57499294 -3.29849952\n",
      " -3.32402604 -4.54478476 -2.08821079 -1.94397128 -2.9797251  -0.60460408\n",
      " -1.72854943 -1.68937706 -2.14240017  0.17833557 -1.16440639 -0.22375257\n",
      " -1.62619576 -1.92614332  0.52515156 -2.01385974 -1.64352906 -0.56589457\n",
      "  1.1673678  -1.94670427]\n"
     ]
    },
    {
     "name": "stderr",
     "output_type": "stream",
     "text": [
      "/nobackup/users/hmbaghda/Software/miniforge3/envs/metastatic_potential/lib/python3.13/site-packages/sklearn/linear_model/_coordinate_descent.py:697: ConvergenceWarning: Objective did not converge. You might want to increase the number of iterations, check the scale of the features or consider increasing regularisation. Duality gap: 4.505e-01, tolerance: 3.959e-02\n",
      "  model = cd_fast.enet_coordinate_descent(\n",
      " 98%|███████████████████████████████████████████ | 98/100 [05:23<00:06,  3.29s/it]"
     ]
    },
    {
     "name": "stdout",
     "output_type": "stream",
     "text": [
      "[-0. -0. -0. ... -0.  0. -0.]\n",
      "[-1.96180691 -0.74272773 -0.37119274 -1.47212893 -1.42804689 -0.54312614\n",
      " -1.69980174 -2.4565515  -0.59591561 -1.64410749 -1.0260088  -1.88800365\n",
      " -1.83259375 -3.61826708 -0.7020609  -2.1682823  -3.01850652 -1.8827517\n",
      " -2.01935935 -2.4873369   0.60515093 -0.66278331 -1.69466682 -2.92017494\n",
      " -2.37270139 -1.39505168 -2.86945691 -1.45872231 -1.35044042 -2.33166475\n",
      " -4.46504696 -2.96199373 -1.70107682 -0.47036694 -2.06859418 -3.91255782\n",
      " -3.55922842 -1.12885153]\n"
     ]
    },
    {
     "name": "stderr",
     "output_type": "stream",
     "text": [
      "/nobackup/users/hmbaghda/Software/miniforge3/envs/metastatic_potential/lib/python3.13/site-packages/sklearn/linear_model/_coordinate_descent.py:697: ConvergenceWarning: Objective did not converge. You might want to increase the number of iterations, check the scale of the features or consider increasing regularisation. Duality gap: 2.791e-01, tolerance: 3.673e-02\n",
      "  model = cd_fast.enet_coordinate_descent(\n",
      " 99%|███████████████████████████████████████████▌| 99/100 [05:26<00:03,  3.29s/it]"
     ]
    },
    {
     "name": "stdout",
     "output_type": "stream",
     "text": [
      "[-0. -0. -0. ... -0.  0. -0.]\n",
      "[-0.89825371 -2.45469843 -0.44259488 -2.92108979 -2.30892927 -4.15256994\n",
      " -0.44143277 -2.47161239 -2.72556091 -1.08390849 -1.74655355 -1.1045691\n",
      " -1.58522136 -0.7438434  -1.52737279 -3.36054026 -3.19475337 -1.91370999\n",
      " -2.38382899 -1.12168806 -3.97896606  0.91388633 -0.40086815 -2.0902055\n",
      " -2.82157161 -1.80296334 -1.43675544  0.26566472 -1.29991075 -2.01247399\n",
      " -1.35360851 -2.12302705 -1.2883718   0.12606224 -0.92830108 -1.07439895\n",
      " -1.30437615 -3.21699086]\n"
     ]
    },
    {
     "name": "stderr",
     "output_type": "stream",
     "text": [
      "/nobackup/users/hmbaghda/Software/miniforge3/envs/metastatic_potential/lib/python3.13/site-packages/sklearn/linear_model/_coordinate_descent.py:697: ConvergenceWarning: Objective did not converge. You might want to increase the number of iterations, check the scale of the features or consider increasing regularisation. Duality gap: 4.671e-01, tolerance: 3.924e-02\n",
      "  model = cd_fast.enet_coordinate_descent(\n",
      "100%|███████████████████████████████████████████| 100/100 [05:30<00:00,  3.30s/it]"
     ]
    },
    {
     "name": "stdout",
     "output_type": "stream",
     "text": [
      "[-0. -0. -0. ... -0.  0. -0.]\n",
      "[ 0.16778677  0.30075668 -1.09955524 -0.65517626 -5.18473543 -1.74074132\n",
      " -0.23766409 -1.70290881  0.36079367  0.31305892 -4.24418918 -1.98332057\n",
      " -2.29145582 -0.27436003 -3.27112162 -2.28190883 -0.8214869  -0.61878279\n",
      "  0.4160154  -2.90127585 -0.92691191 -1.56349531 -0.80689759 -1.86455112\n",
      " -1.89215941 -4.78491572 -0.92074519 -0.08582711 -0.87316829 -0.86239126\n",
      " -3.27351301 -3.05219792  1.35175538 -0.05694203 -1.0256222  -1.89662965\n",
      "  0.16056145 -0.680039  ]\n"
     ]
    },
    {
     "name": "stderr",
     "output_type": "stream",
     "text": [
      "\n"
     ]
    }
   ],
   "source": [
    "from tqdm import trange\n",
    "from sklearn.linear_model import Lasso\n",
    "import numpy as np\n",
    "from sklearn.model_selection import train_test_split\n",
    "from sklearn.metrics import mean_squared_error\n",
    "from scipy.stats import pearsonr\n",
    "\n",
    "\n",
    "n_trials = 100\n",
    "coefficients_index = np.array([0 for i in range(len(X.columns))])\n",
    "for i in trange(n_trials):\n",
    "  X_train, X_val, y_train, y_val = train_test_split(X_train_val, y_train_val, test_size = 0.2, random_state = i)\n",
    "  model = Lasso(alpha=0.001, random_state = i)\n",
    "\n",
    "  model.fit(X_train, y_train)\n",
    "\n",
    "  nonzero_indeces = np.where(np.logical_not(np.isclose(model.coef_, 0)))[0] # get those coefficients that are > 1e-8\n",
    "  coefficients_index[nonzero_indeces] += 1\n",
    "\n",
    "  y_pred = model.predict(X_val)\n",
    "\n",
    "  mse = mean_squared_error(y_val, y_pred)\n",
    "  # print(\"MSE:\", mse)\n",
    "  print(model.coef_)\n",
    "  for i in range(len(model.coef_)):\n",
    "    if model.coef_[i] != 0:\n",
    "      coefficients_index[i] += 1\n",
    "  print(y_pred)\n",
    "with open(os.path.join(data_path, 'interim', 'depr_selected_features.txt'), 'w') as file:\n",
    "    for item in list(coefficients_index):\n",
    "        file.write(f\"{item}\\n\")\n",
    "### comment out all above, once run once"
   ]
  },
  {
   "cell_type": "code",
   "execution_count": 17,
   "id": "df73d5d7",
   "metadata": {},
   "outputs": [],
   "source": [
    "import numpy as np\n",
    "\n",
    "with open(os.path.join(data_path, 'interim', 'depr_selected_features.txt'), 'r') as file:\n",
    "    coefficients_index = np.array([int(line.strip()) for line in file])"
   ]
  },
  {
   "cell_type": "code",
   "execution_count": 18,
   "id": "4979321f",
   "metadata": {},
   "outputs": [],
   "source": [
    "# select only those features with non-zero coefficients > 80% of the iterations\n",
    "n_trials = 100\n",
    "threshold = 0.8\n",
    "selected_feature_index = np.where(coefficients_index >= (threshold*n_trials))[0]"
   ]
  },
  {
   "cell_type": "code",
   "execution_count": 19,
   "id": "ceb9c5af",
   "metadata": {},
   "outputs": [
    {
     "data": {
      "text/plain": [
       "157"
      ]
     },
     "execution_count": 19,
     "metadata": {},
     "output_type": "execute_result"
    }
   ],
   "source": [
    "len(selected_feature_index)"
   ]
  },
  {
   "cell_type": "code",
   "execution_count": 23,
   "id": "4f8ed1ae",
   "metadata": {},
   "outputs": [],
   "source": [
    "X = nexpr.transpose().copy().iloc[:, selected_feature_index]\n",
    "y = nmp.copy()"
   ]
  },
  {
   "cell_type": "code",
   "execution_count": 24,
   "id": "42f8d394",
   "metadata": {},
   "outputs": [],
   "source": [
    "def msq(y_test, y_pred):\n",
    "  mse = mean_squared_error(y_test, y_pred)\n",
    "  return mse\n",
    "def pearson(y_test, y_pred):\n",
    "  pearson_r = pearsonr(y_test, y_pred)\n",
    "  return pearson_r\n",
    "def spearman(y_test, y_pred):\n",
    "  spearmans = stats.spearmanr(y_test, y_pred)\n",
    "  return spearmans"
   ]
  },
  {
   "cell_type": "code",
   "execution_count": 25,
   "id": "24d8d4e1",
   "metadata": {},
   "outputs": [],
   "source": [
    "import numpy as np\n",
    "from sklearn.model_selection import train_test_split\n",
    "from sklearn.ensemble import RandomForestRegressor\n",
    "from sklearn.model_selection import KFold\n",
    "from sklearn.metrics import mean_squared_error\n",
    "from scipy.stats import pearsonr\n",
    "import scipy.stats as stats"
   ]
  },
  {
   "cell_type": "code",
   "execution_count": 26,
   "id": "864894c9",
   "metadata": {},
   "outputs": [
    {
     "name": "stderr",
     "output_type": "stream",
     "text": [
      "100%|██████████████████████████████████████████████| 4/4 [07:04<00:00, 106.10s/it]\n"
     ]
    }
   ],
   "source": [
    "import numpy as np\n",
    "from sklearn.model_selection import train_test_split\n",
    "from sklearn.ensemble import RandomForestRegressor\n",
    "from tqdm import tqdm\n",
    "\n",
    "# X_train_val, X_test, y_train_val, y_test = train_test_split(X, y, test_size = 0.15, random_state = 65)\n",
    "\n",
    "# X_train, X_val, y_train, y_val = train_test_split(X_train_val, y_train_val, test_size = 3/17, random_state = 42) # 15% of original dataset\n",
    "\n",
    "kf = KFold(n_splits=10, shuffle = True) # TODO: may need to make shuffle = True, need to check\n",
    "\n",
    "# change 0: disregard Pearson for now for simplicity (sections are commented out, leave as commented out do not delete)\n",
    "# best_pearson_val = -np.inf\n",
    "best_mse_val = np.inf # <-- change: this was negative, should be positive (lower mse is better)\n",
    "# best_pearson_models = None\n",
    "best_mse_models = None\n",
    "best_mse_params = [0, 0, 0]\n",
    "\n",
    "\n",
    "for estimator in tqdm([i for i in range(100, 1001, 250)]): #<--if taking long, can adjust to [250, 500, 1000]\n",
    "  for feature in ['sqrt', 'log2']:\n",
    "    for sample in [0.25, 0.5, 0.75]:\n",
    "      # change 1: move k folds loop to be the inner loop\n",
    "\n",
    "      # store the metrics across folds\n",
    "      k_pearson = []\n",
    "      k_mses = []\n",
    "      k_models = []\n",
    "\n",
    "      for train_index, val_index in kf.split(X_train_val, y_train_val): # iterate through folds for train-val split and do the below loop for each fold\n",
    "        X_train, X_val = X_train_val.iloc[train_index], X_train_val.iloc[val_index]\n",
    "        y_train, y_val = y_train_val.iloc[train_index], y_train_val.iloc[val_index]\n",
    "\n",
    "        model = RandomForestRegressor(n_estimators = estimator, max_features = feature, max_samples = sample, n_jobs = os.cpu_count())\n",
    "        model.fit(X_train, y_train.values.reshape(-1)) # change 2: eliminates the sklearn warning about y_train shape\n",
    "        y_pred = model.predict(X_val)\n",
    "        y_val_values = y_val.values.reshape(-1)\n",
    "\n",
    "        # change 3: store metrics across the k folds\n",
    "        k_mses.append(msq(y_val_values, y_pred))\n",
    "        # k_pearsons.append(pearson(y_val_values, y_pred))\n",
    "        k_models.append(model)\n",
    "\n",
    "\n",
    "      # change 4: take the average across folds\n",
    "      # pearson_r = np.mean(k_pearsons)\n",
    "      mse = np.mean(k_mses)\n",
    "\n",
    "      # if pearson_r > best_pearson_val:\n",
    "      #   best_pearson_models = k_models # change 4: store all k models\n",
    "      #   best_pearson_samples = [estimator, feature, sample]\n",
    "      #   best_pearson_val = pearson_r\n",
    "      if mse < best_mse_val:\n",
    "        best_mse_model = k_models\n",
    "        best_mse_params = [estimator, feature, sample]\n",
    "        best_mse_val = mse\n",
    "\n",
    "y_test = y_test.values.reshape(-1)"
   ]
  },
  {
   "cell_type": "code",
   "execution_count": 27,
   "id": "7111b539",
   "metadata": {},
   "outputs": [
    {
     "data": {
      "text/plain": [
       "[350, 'sqrt', 0.5]"
      ]
     },
     "execution_count": 27,
     "metadata": {},
     "output_type": "execute_result"
    }
   ],
   "source": [
    "best_mse_params"
   ]
  },
  {
   "cell_type": "code",
   "execution_count": 28,
   "id": "01345955",
   "metadata": {},
   "outputs": [],
   "source": [
    "# second CV\n",
    "import numpy as np\n",
    "from sklearn.model_selection import train_test_split\n",
    "from sklearn.ensemble import RandomForestRegressor\n",
    "\n",
    "# kf = KFold(n_splits=10)\n",
    "\n",
    "mse_list = []\n",
    "pearson_list = []\n",
    "spearman_list = []\n",
    "y_preds = []\n",
    "\n",
    "for model in best_mse_model:\n",
    "# for train_index, test_index in kf.split(X, y):\n",
    "#   X_train, X_test = X.iloc[train_index], X.iloc[test_index]\n",
    "#   y_train, y_test = y.iloc[train_index], y.iloc[test_index]\n",
    "\n",
    "  # model.fit(X_test, y_train)\n",
    "  y_pred = model.predict(X_test)\n",
    "\n",
    "  mse_list.append(msq(y_test, y_pred))\n",
    "  pearson_list.append(pearson(y_test, y_pred))\n",
    "  spearman_list.append(spearman(y_test, y_pred))\n",
    "  y_preds.append(y_pred)"
   ]
  },
  {
   "cell_type": "code",
   "execution_count": 29,
   "id": "beca8176",
   "metadata": {},
   "outputs": [
    {
     "data": {
      "text/plain": [
       "np.float64(0.31832923121927353)"
      ]
     },
     "execution_count": 29,
     "metadata": {},
     "output_type": "execute_result"
    }
   ],
   "source": [
    "np.mean([p.statistic for p in pearson_list])"
   ]
  },
  {
   "cell_type": "code",
   "execution_count": null,
   "id": "0c25db0e",
   "metadata": {},
   "outputs": [],
   "source": []
  }
 ],
 "metadata": {
  "kernelspec": {
   "display_name": "Python [conda env:metastatic_potential]",
   "language": "python",
   "name": "conda-env-metastatic_potential-py"
  },
  "language_info": {
   "codemirror_mode": {
    "name": "ipython",
    "version": 3
   },
   "file_extension": ".py",
   "mimetype": "text/x-python",
   "name": "python",
   "nbconvert_exporter": "python",
   "pygments_lexer": "ipython3",
   "version": "3.13.0"
  }
 },
 "nbformat": 4,
 "nbformat_minor": 5
}
