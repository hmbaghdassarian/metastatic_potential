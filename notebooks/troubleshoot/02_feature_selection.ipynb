{
 "cells": [
  {
   "cell_type": "markdown",
   "id": "5548932f",
   "metadata": {},
   "source": [
    "Here we select a subset of the most informative features using elastic net regression:"
   ]
  },
  {
   "cell_type": "code",
   "execution_count": 27,
   "id": "fd620529",
   "metadata": {},
   "outputs": [],
   "source": [
    "suppressMessages({\n",
    "    suppressWarnings({\n",
    "        library(glmnet, quietly = TRUE)\n",
    "        library(RhpcBLASctl, quietly = TRUE)\n",
    "        library(foreach, quietly = TRUE)\n",
    "        library(doSNOW, quietly = TRUE)\n",
    "    })\n",
    "})"
   ]
  },
  {
   "cell_type": "code",
   "execution_count": 28,
   "id": "053eea5d",
   "metadata": {},
   "outputs": [],
   "source": [
    "data_path = '/nobackup/users/hmbaghda/metastatic_potential/'\n",
    "seed = 42"
   ]
  },
  {
   "cell_type": "code",
   "execution_count": 29,
   "id": "7f6a20ad",
   "metadata": {},
   "outputs": [],
   "source": [
    "feature_select_reg <- function(X, y, options = list(alpha = 1, subfolds = 3, error.measure = 'mse'), ...) {\n",
    "    # select features based on non-zero coefs returns from CV glm\n",
    "    # documentation: https://glmnet.stanford.edu/reference/glmnet.html, https://glmnet.stanford.edu/reference/cv.glmnet.html\n",
    "\n",
    "    # GLM type\n",
    "    if (is.factor(y)) {\n",
    "        if (nlevels(y) == 1) {\n",
    "          stop(\"y is a factor with only one level\")\n",
    "        } else if (nlevels(y) == 2) {\n",
    "          fam <- \"binomial\"\n",
    "        } else {\n",
    "          fam <- \"multinomial\"\n",
    "        }\n",
    "    } else if (is.numeric(y)) {\n",
    "        fam <- \"gaussian\"\n",
    "    } else {\n",
    "        stop(\"y must be of type factor or numeric vector\")\n",
    "    }\n",
    "    \n",
    "    if (!(\"alpha\" %in% names(options))) {\n",
    "        options$alpha <- 1 # lasso\n",
    "    }\n",
    "    if (!(\"error.measure\" %in% names(options))) {\n",
    "        options$error.measure <- 'mse' # lasso\n",
    "    }\n",
    "    \n",
    "    # cv.glmnet needs at least 3 folds, so we need at least three features\n",
    "    n_samples <- nrow(X)\n",
    "    if (n_samples < 3) {\n",
    "        stop(\"select_lasso() requires more than three samples for internal cross-validation\")\n",
    "    }\n",
    "\n",
    "    if (!(\"subfolds\" %in% names(options))) {\n",
    "    if (n_samples >= 5) {\n",
    "      options$subfolds <- 5\n",
    "    } else {\n",
    "      options$subfolds <- 3\n",
    "    }\n",
    "    } else {\n",
    "        if (options$subfolds > n_samples) {\n",
    "          message(\"Warning in select_lasso():\")\n",
    "          message(\"    options$subfolds greater than number of samples\")\n",
    "          message(\"    setting options$subfolds = number of samples\")\n",
    "          options$subfolds <- n_samples\n",
    "        }\n",
    "        if (options$subfolds < 3) {\n",
    "          message(\"Warning in select_lasso():\")\n",
    "          message(\"    options$subfolds was less than 3\")\n",
    "          message(\"    setting options$subfolds = 3\")\n",
    "          options$subfolds <- 3\n",
    "        }\n",
    "    }\n",
    "    \n",
    "    # fit an appropriate lasso model with cv validation\n",
    "    mod <- glmnet::cv.glmnet(X, y, type.measure = options$error.measure, alpha = options$alpha,\n",
    "                             family = fam, type.multinomial = \"grouped\",\n",
    "                             nfolds = options$subfolds, ...)\n",
    "        \n",
    "    # ID best fit model\n",
    "    indices <- which(mod$nzero > 0) # lambdas that generated atleast one non-zero coefficients\n",
    "    lambdas <- mod$lambda[indices] # lambda value \n",
    "    scores <- mod$cvm[indices] # mean cv score at that lambda\n",
    "    best <- which.min(scores) # if a tie, chooses the one with fewer features\n",
    "    mod_coeffs <- coef(mod, s = lambdas[best]) # ths can maybe be replaced with s = 'lambda.min'\n",
    "    \n",
    "    if (fam == \"multinomial\") {\n",
    "        # if the data has multiple responses, the coefficients are a matrix\n",
    "        # that is returned as a list of columns. type.multinomial = \"grouped\"\n",
    "        # forced features to be selected for all responses or for none, so we\n",
    "        # can get the selected features also by only considering the first\n",
    "        # column. we just replace lasso_coeffs by this column and proceed as usual\n",
    "        mod_coeffs <- mod_coeffs[[1]]\n",
    "    }\n",
    "    \n",
    "    mod_coeffs <- mod_coeffs[-1,] # remove intercept\n",
    "    mod_coeffs <- mod_coeffs[which(mod_coeffs != 0)] # remove non-zero coefs \n",
    "\n",
    "    return (names(mod_coeffs))\n",
    "}\n",
    "\n",
    "feature_select_iter <- function(X, y, options = list(n_trials = 100, threshold = 0.8, force_select = TRUE, \n",
    "                                                        alpha = 1, subfolds = 3, error.measure = 'mse'),\n",
    "                                par = F, n.cores = 1, ...) {\n",
    "  \n",
    "    # ----------------- BEGIN OPTIONS ----------------- #\n",
    "    # How often it should be repeated\n",
    "    if (!(\"n_trials\" %in% names(options))) {\n",
    "        options$n_trials <- 100\n",
    "    }\n",
    "    if (!(\"threshold\" %in% names(options))) {\n",
    "        options$threshold <- 0.8\n",
    "    }\n",
    "    # returns the whole data frame of how often a feature was selected\n",
    "    if (!(\"force_select\" %in% names(options))) {\n",
    "        options$force_select <- TRUE\n",
    "    }\n",
    "    if (!(\"alpha\" %in% names(options))) {\n",
    "        options$alpha <- 1\n",
    "    }\n",
    "    if (!(\"subfolds\" %in% names(options))) {\n",
    "        options$subfolds <- 3\n",
    "    }\n",
    "    if (!(\"error.measure\" %in% names(options))) {\n",
    "        options$error.measure <- 'mse'\n",
    "    }\n",
    "    # ----------------- END OPTIONS ----------------- #\n",
    "\n",
    "    # vector counting how often each feature is selected\n",
    "    if (is.null(colnames(X))){colnames(X)<-sapply(1:dim(X)[[2]], function(x) paste0('V', x))}\n",
    "    feature_count <- rep(0, ncol(X))\n",
    "    names(feature_count) <- colnames(X)\n",
    "  \n",
    "    # run the feature selector trials times and increment the counters\n",
    "    # for the features that are selected\n",
    "    if (!par){\n",
    "        for (trial in 1:options$n_trials) {\n",
    "            features <- feature_select_reg(X, y, options = list(alpha = options$alpha, subfolds = options$subfolds, \n",
    "                                                            error.measure = options$error.measure), ...)\n",
    "            feature_count[features] <- 1 + feature_count[features]\n",
    "            }\n",
    "    }\n",
    "    else{\n",
    "        RhpcBLASctl::blas_set_num_threads(round(n.cores/2)) # limit core usage\n",
    "        cl <- makeCluster(n.cores)\n",
    "        registerDoSNOW(cl)\n",
    "        pb <- txtProgressBar(max = options$n_trials, style = 3)\n",
    "        progress <- function(n_) setTxtProgressBar(pb, n_)\n",
    "        opts <- list(progress = progress)\n",
    "\n",
    "        features.all = foreach(trial = 1:options$n_trials, .combine = 'c', .packages = c('glmnet'), .export = c('feature_select_reg'),  \n",
    "                    .verbose = TRUE, .options.snow = opts) %dopar% {\n",
    "            features<-feature_select_reg(X, y, options = list(alpha = options$alpha, subfolds = options$subfolds, \n",
    "                                                            error.measure = options$error.measure), ...)\n",
    "        }\n",
    "        close(pb)\n",
    "        stopCluster(cl)\n",
    "\n",
    "        for (features in features.all) {\n",
    "                feature_count[features] <- 1 + feature_count[features]\n",
    "            }\n",
    "        }\n",
    "                                                \n",
    "    selected <- feature_count[-which(feature_count <= options$threshold * options$n_trials)] # those above thresh\n",
    "    if (length(selected) == 0 & options$force_select) {\n",
    "        selected <- feature_count[which(feature_count == max(feature_count))]\n",
    "    }\n",
    "    return(selected)\n",
    "}"
   ]
  },
  {
   "cell_type": "markdown",
   "id": "2715d691",
   "metadata": {},
   "source": [
    "Load files:"
   ]
  },
  {
   "cell_type": "code",
   "execution_count": 230,
   "id": "e0cc01a8",
   "metadata": {},
   "outputs": [],
   "source": [
    "y<-read.csv(file.path(data_path,'interim', 'depr_y_train_val.csv'), row.names = 1)\n",
    "X<-read.csv(file.path(data_path,'interim', 'depr_X_train_val.csv'), row.names = 1)\n",
    "\n",
    "X<-as.matrix(do.call(cbind, X))\n",
    "y<-as.matrix(do.call(cbind, y))"
   ]
  },
  {
   "cell_type": "markdown",
   "id": "7a5124c1",
   "metadata": {},
   "source": [
    "Run the lasso:"
   ]
  },
  {
   "cell_type": "code",
   "execution_count": 231,
   "id": "5b9b351f",
   "metadata": {
    "scrolled": true
   },
   "outputs": [
    {
     "name": "stdout",
     "output_type": "stream",
     "text": [
      "  |                                                                      |   0%progress will be called as each result is returned\n",
      "discovered package(s): \n",
      "automatically exporting the following variables from the local environment:\n",
      "  options, X, y \n",
      "explicitly exporting variables(s): feature_select_reg\n",
      "explicitly exporting package(s): glmnet\n",
      "numValues: 10, numResults: 0, stopped: TRUE\n",
      "numValues: 10, numResults: 1, stopped: TRUE\n",
      "returning status FALSE\n",
      "  |=======                                                               |  10%numValues: 10, numResults: 2, stopped: TRUE\n",
      "returning status FALSE\n",
      "  |==============                                                        |  20%numValues: 10, numResults: 3, stopped: TRUE\n",
      "returning status FALSE\n",
      "  |=====================                                                 |  30%numValues: 10, numResults: 4, stopped: TRUE\n",
      "returning status FALSE\n",
      "  |============================                                          |  40%numValues: 10, numResults: 5, stopped: TRUE\n",
      "returning status FALSE\n",
      "  |===================================                                   |  50%numValues: 10, numResults: 6, stopped: TRUE\n",
      "returning status FALSE\n",
      "  |==========================================                            |  60%numValues: 10, numResults: 7, stopped: TRUE\n",
      "returning status FALSE\n",
      "  |=================================================                     |  70%numValues: 10, numResults: 8, stopped: TRUE\n",
      "returning status FALSE\n",
      "  |========================================================              |  80%numValues: 10, numResults: 9, stopped: TRUE\n",
      "returning status FALSE\n",
      "  |===============================================================       |  90%numValues: 10, numResults: 10, stopped: TRUE\n",
      "first call to combine function\n",
      "evaluating call object to combine results:\n",
      "  fun(result.1, result.2, result.3, result.4, result.5, result.6, \n",
      "    result.7, result.8, result.9, result.10)\n",
      "returning status TRUE\n",
      "  |======================================================================| 100%\n"
     ]
    }
   ],
   "source": [
    "options = list(n_trials = 10, \n",
    "               threshold = 0.8, \n",
    "               force_select = TRUE, \n",
    "               alpha = 0.05, \n",
    "               subfolds = 10, \n",
    "               error.measure = 'mse')\n",
    "selected<-feature_select_iter(X, y, options = options,\n",
    "                              par = T, n.cores = 20) \n",
    "write.csv(as.matrix(selected), paste0(data_path, 'interim/', 'depr_selected_features.csv'))"
   ]
  },
  {
   "cell_type": "code",
   "execution_count": 232,
   "id": "84741c05",
   "metadata": {},
   "outputs": [
    {
     "data": {
      "text/html": [
       "341"
      ],
      "text/latex": [
       "341"
      ],
      "text/markdown": [
       "341"
      ],
      "text/plain": [
       "[1] 341"
      ]
     },
     "metadata": {},
     "output_type": "display_data"
    }
   ],
   "source": [
    "length(selected)"
   ]
  },
  {
   "cell_type": "code",
   "execution_count": 208,
   "id": "4904f6e1",
   "metadata": {},
   "outputs": [
    {
     "data": {
      "text/html": [
       "246"
      ],
      "text/latex": [
       "246"
      ],
      "text/markdown": [
       "246"
      ],
      "text/plain": [
       "[1] 246"
      ]
     },
     "metadata": {},
     "output_type": "display_data"
    }
   ],
   "source": [
    "length(selected)"
   ]
  },
  {
   "cell_type": "code",
   "execution_count": 209,
   "id": "e3b0a872",
   "metadata": {},
   "outputs": [
    {
     "data": {
      "text/html": [
       "420"
      ],
      "text/latex": [
       "420"
      ],
      "text/markdown": [
       "420"
      ],
      "text/plain": [
       "[1] 420"
      ]
     },
     "metadata": {},
     "output_type": "display_data"
    }
   ],
   "source": [
    "length(selected_all)"
   ]
  },
  {
   "cell_type": "code",
   "execution_count": 233,
   "id": "5e4d6fd6",
   "metadata": {},
   "outputs": [],
   "source": [
    "y_all<-read.csv(file.path(data_path, 'processed', 'metastatic_potential.csv'), row.names = 1)\n",
    "X_all<-read.csv(file.path(data_path, 'processed', 'expr.csv'), row.names = 1)\n",
    "\n",
    "row_names <-row.names(X_all)\n",
    "X_all<-as.matrix(do.call(cbind, X_all))\n",
    "X_all<-t(X_all)\n",
    "row.names(X_all)<-NULL\n",
    "colnames(X_all)<-row_names\n",
    "\n",
    "y_all<-as.matrix(do.call(cbind, y_all))"
   ]
  },
  {
   "cell_type": "code",
   "execution_count": 234,
   "id": "fd77f104",
   "metadata": {},
   "outputs": [
    {
     "name": "stdout",
     "output_type": "stream",
     "text": [
      "  |                                                                      |   0%progress will be called as each result is returned\n",
      "discovered package(s): \n",
      "automatically exporting the following variables from the local environment:\n",
      "  options, X, y \n",
      "explicitly exporting variables(s): feature_select_reg\n",
      "explicitly exporting package(s): glmnet\n",
      "numValues: 10, numResults: 0, stopped: TRUE\n",
      "numValues: 10, numResults: 1, stopped: TRUE\n",
      "returning status FALSE\n",
      "  |=======                                                               |  10%numValues: 10, numResults: 2, stopped: TRUE\n",
      "returning status FALSE\n",
      "  |==============                                                        |  20%numValues: 10, numResults: 3, stopped: TRUE\n",
      "returning status FALSE\n",
      "  |=====================                                                 |  30%numValues: 10, numResults: 4, stopped: TRUE\n",
      "returning status FALSE\n",
      "  |============================                                          |  40%numValues: 10, numResults: 5, stopped: TRUE\n",
      "returning status FALSE\n",
      "  |===================================                                   |  50%numValues: 10, numResults: 6, stopped: TRUE\n",
      "returning status FALSE\n",
      "  |==========================================                            |  60%numValues: 10, numResults: 7, stopped: TRUE\n",
      "returning status FALSE\n",
      "  |=================================================                     |  70%numValues: 10, numResults: 8, stopped: TRUE\n",
      "returning status FALSE\n",
      "  |========================================================              |  80%numValues: 10, numResults: 9, stopped: TRUE\n",
      "returning status FALSE\n",
      "  |===============================================================       |  90%numValues: 10, numResults: 10, stopped: TRUE\n",
      "first call to combine function\n",
      "evaluating call object to combine results:\n",
      "  fun(result.1, result.2, result.3, result.4, result.5, result.6, \n",
      "    result.7, result.8, result.9, result.10)\n",
      "returning status TRUE\n",
      "  |======================================================================| 100%\n"
     ]
    }
   ],
   "source": [
    "options = list(n_trials = 10, \n",
    "               threshold = 0.8, \n",
    "               force_select = TRUE, \n",
    "               alpha = 0.01, \n",
    "               subfolds = 10, \n",
    "               error.measure = 'mse')\n",
    "selected_all<-feature_select_iter(X_all, y_all, options = options,\n",
    "                              par = T, n.cores = 20) \n",
    "write.csv(as.matrix(selected_all), paste0(data_path, 'interim/', 'depr_selected_all_features.csv'))"
   ]
  },
  {
   "cell_type": "code",
   "execution_count": 236,
   "id": "4ada56b7",
   "metadata": {},
   "outputs": [
    {
     "data": {
      "text/html": [
       "1918"
      ],
      "text/latex": [
       "1918"
      ],
      "text/markdown": [
       "1918"
      ],
      "text/plain": [
       "[1] 1918"
      ]
     },
     "metadata": {},
     "output_type": "display_data"
    }
   ],
   "source": [
    "length(selected_all)"
   ]
  },
  {
   "cell_type": "code",
   "execution_count": null,
   "id": "cf5c8ba1",
   "metadata": {},
   "outputs": [],
   "source": []
  },
  {
   "cell_type": "markdown",
   "id": "d56fce0d",
   "metadata": {},
   "source": [
    "To prevent overfitting to validation, we will run the feature selection separately on each fold's training data, leaving out the validation which will be used for hyperparameter tuning. Since RF does internally do a psuedo feature selection as well, we will take the union of selected features across all folds."
   ]
  },
  {
   "cell_type": "code",
   "execution_count": null,
   "id": "e928c373",
   "metadata": {},
   "outputs": [],
   "source": [
    "y_all<-read.csv(file.path(data_path, 'processed', 'metastatic_potential.csv'), row.names = 1)\n",
    "X_all<-read.csv(file.path(data_path, 'processed', 'expr.csv'), row.names = 1)\n",
    "\n",
    "row_names <-row.names(X_all)\n",
    "X_all<-as.matrix(do.call(cbind, X_all))\n",
    "X_all<-t(X_all)\n",
    "row.names(X_all)<-NULL\n",
    "colnames(X_all)<-row_names\n",
    "\n",
    "y_all<-as.matrix(do.call(cbind, y_all))"
   ]
  },
  {
   "cell_type": "code",
   "execution_count": null,
   "id": "de78688a",
   "metadata": {},
   "outputs": [],
   "source": []
  },
  {
   "cell_type": "code",
   "execution_count": null,
   "id": "ed23b39c",
   "metadata": {},
   "outputs": [],
   "source": []
  },
  {
   "cell_type": "code",
   "execution_count": 117,
   "id": "3b8953b1",
   "metadata": {},
   "outputs": [],
   "source": [
    "library(jsonlite)\n"
   ]
  },
  {
   "cell_type": "code",
   "execution_count": 122,
   "id": "5ba38eca",
   "metadata": {},
   "outputs": [],
   "source": [
    "k_fold_split = fromJSON(file.path(data_path, 'processed', 'depr_k_fold_split.json'))"
   ]
  },
  {
   "cell_type": "code",
   "execution_count": 123,
   "id": "ded711ee",
   "metadata": {},
   "outputs": [],
   "source": [
    "k = 0"
   ]
  },
  {
   "cell_type": "code",
   "execution_count": 129,
   "id": "2cf4740d",
   "metadata": {},
   "outputs": [
    {
     "data": {
      "text/html": [
       "'0'"
      ],
      "text/latex": [
       "'0'"
      ],
      "text/markdown": [
       "'0'"
      ],
      "text/plain": [
       "[1] \"0\""
      ]
     },
     "metadata": {},
     "output_type": "display_data"
    }
   ],
   "source": []
  },
  {
   "cell_type": "code",
   "execution_count": 179,
   "id": "a75a9107",
   "metadata": {},
   "outputs": [],
   "source": [
    "options = list(n_trials = 10, \n",
    "               threshold = 0.8, \n",
    "               force_select = TRUE, \n",
    "               alpha = 0.2, \n",
    "               subfolds = 10, \n",
    "               error.measure = 'mse')"
   ]
  },
  {
   "cell_type": "code",
   "execution_count": 180,
   "id": "19cc9d20",
   "metadata": {
    "scrolled": true
   },
   "outputs": [
    {
     "name": "stdout",
     "output_type": "stream",
     "text": [
      "  |                                                                      |   0%progress will be called as each result is returned\n",
      "discovered package(s): \n",
      "automatically exporting the following variables from the local environment:\n",
      "  options, X, y \n",
      "explicitly exporting variables(s): feature_select_reg\n",
      "explicitly exporting package(s): glmnet\n",
      "numValues: 10, numResults: 0, stopped: TRUE\n",
      "numValues: 10, numResults: 1, stopped: TRUE\n",
      "returning status FALSE\n",
      "  |=======                                                               |  10%numValues: 10, numResults: 2, stopped: TRUE\n",
      "returning status FALSE\n",
      "  |==============                                                        |  20%numValues: 10, numResults: 3, stopped: TRUE\n",
      "returning status FALSE\n",
      "  |=====================                                                 |  30%numValues: 10, numResults: 4, stopped: TRUE\n",
      "returning status FALSE\n",
      "  |============================                                          |  40%numValues: 10, numResults: 5, stopped: TRUE\n",
      "returning status FALSE\n",
      "  |===================================                                   |  50%numValues: 10, numResults: 6, stopped: TRUE\n",
      "returning status FALSE\n",
      "  |==========================================                            |  60%numValues: 10, numResults: 7, stopped: TRUE\n",
      "returning status FALSE\n",
      "  |=================================================                     |  70%numValues: 10, numResults: 8, stopped: TRUE\n",
      "returning status FALSE\n",
      "  |========================================================              |  80%numValues: 10, numResults: 9, stopped: TRUE\n",
      "returning status FALSE\n",
      "  |===============================================================       |  90%numValues: 10, numResults: 10, stopped: TRUE\n",
      "first call to combine function\n",
      "evaluating call object to combine results:\n",
      "  fun(result.1, result.2, result.3, result.4, result.5, result.6, \n",
      "    result.7, result.8, result.9, result.10)\n",
      "returning status TRUE\n",
      "  |======================================================================| 100%\n",
      "  |                                                                      |   0%progress will be called as each result is returned\n",
      "discovered package(s): \n",
      "automatically exporting the following variables from the local environment:\n",
      "  options, X, y \n",
      "explicitly exporting variables(s): feature_select_reg\n",
      "explicitly exporting package(s): glmnet\n",
      "numValues: 10, numResults: 0, stopped: TRUE\n",
      "numValues: 10, numResults: 1, stopped: TRUE\n",
      "returning status FALSE\n",
      "  |=======                                                               |  10%numValues: 10, numResults: 2, stopped: TRUE\n",
      "returning status FALSE\n",
      "  |==============                                                        |  20%numValues: 10, numResults: 3, stopped: TRUE\n",
      "returning status FALSE\n",
      "  |=====================                                                 |  30%numValues: 10, numResults: 4, stopped: TRUE\n",
      "returning status FALSE\n",
      "  |============================                                          |  40%numValues: 10, numResults: 5, stopped: TRUE\n",
      "returning status FALSE\n",
      "  |===================================                                   |  50%numValues: 10, numResults: 6, stopped: TRUE\n",
      "returning status FALSE\n",
      "  |==========================================                            |  60%numValues: 10, numResults: 7, stopped: TRUE\n",
      "returning status FALSE\n",
      "  |=================================================                     |  70%numValues: 10, numResults: 8, stopped: TRUE\n",
      "returning status FALSE\n",
      "  |========================================================              |  80%numValues: 10, numResults: 9, stopped: TRUE\n",
      "returning status FALSE\n",
      "  |===============================================================       |  90%numValues: 10, numResults: 10, stopped: TRUE\n",
      "first call to combine function\n",
      "evaluating call object to combine results:\n",
      "  fun(result.1, result.2, result.3, result.4, result.5, result.6, \n",
      "    result.7, result.8, result.9, result.10)\n",
      "returning status TRUE\n",
      "  |======================================================================| 100%\n",
      "  |                                                                      |   0%progress will be called as each result is returned\n",
      "discovered package(s): \n",
      "automatically exporting the following variables from the local environment:\n",
      "  options, X, y \n",
      "explicitly exporting variables(s): feature_select_reg\n",
      "explicitly exporting package(s): glmnet\n",
      "numValues: 10, numResults: 0, stopped: TRUE\n",
      "numValues: 10, numResults: 1, stopped: TRUE\n",
      "returning status FALSE\n",
      "  |=======                                                               |  10%numValues: 10, numResults: 2, stopped: TRUE\n",
      "returning status FALSE\n",
      "  |==============                                                        |  20%numValues: 10, numResults: 3, stopped: TRUE\n",
      "returning status FALSE\n",
      "  |=====================                                                 |  30%numValues: 10, numResults: 4, stopped: TRUE\n",
      "returning status FALSE\n",
      "  |============================                                          |  40%numValues: 10, numResults: 5, stopped: TRUE\n",
      "returning status FALSE\n",
      "  |===================================                                   |  50%numValues: 10, numResults: 6, stopped: TRUE\n",
      "returning status FALSE\n",
      "  |==========================================                            |  60%numValues: 10, numResults: 7, stopped: TRUE\n",
      "returning status FALSE\n",
      "  |=================================================                     |  70%numValues: 10, numResults: 8, stopped: TRUE\n",
      "returning status FALSE\n",
      "  |========================================================              |  80%numValues: 10, numResults: 9, stopped: TRUE\n",
      "returning status FALSE\n",
      "  |===============================================================       |  90%numValues: 10, numResults: 10, stopped: TRUE\n",
      "first call to combine function\n",
      "evaluating call object to combine results:\n",
      "  fun(result.1, result.2, result.3, result.4, result.5, result.6, \n",
      "    result.7, result.8, result.9, result.10)\n",
      "returning status TRUE\n",
      "  |======================================================================| 100%\n",
      "  |                                                                      |   0%progress will be called as each result is returned\n",
      "discovered package(s): \n",
      "automatically exporting the following variables from the local environment:\n",
      "  options, X, y \n",
      "explicitly exporting variables(s): feature_select_reg\n",
      "explicitly exporting package(s): glmnet\n",
      "numValues: 10, numResults: 0, stopped: TRUE\n",
      "numValues: 10, numResults: 1, stopped: TRUE\n",
      "returning status FALSE\n",
      "  |=======                                                               |  10%numValues: 10, numResults: 2, stopped: TRUE\n",
      "returning status FALSE\n",
      "  |==============                                                        |  20%numValues: 10, numResults: 3, stopped: TRUE\n",
      "returning status FALSE\n",
      "  |=====================                                                 |  30%numValues: 10, numResults: 4, stopped: TRUE\n",
      "returning status FALSE\n",
      "  |============================                                          |  40%numValues: 10, numResults: 5, stopped: TRUE\n",
      "returning status FALSE\n",
      "  |===================================                                   |  50%numValues: 10, numResults: 6, stopped: TRUE\n",
      "returning status FALSE\n",
      "  |==========================================                            |  60%numValues: 10, numResults: 7, stopped: TRUE\n",
      "returning status FALSE\n",
      "  |=================================================                     |  70%numValues: 10, numResults: 8, stopped: TRUE\n",
      "returning status FALSE\n",
      "  |========================================================              |  80%numValues: 10, numResults: 9, stopped: TRUE\n",
      "returning status FALSE\n",
      "  |===============================================================       |  90%numValues: 10, numResults: 10, stopped: TRUE\n",
      "first call to combine function\n",
      "evaluating call object to combine results:\n",
      "  fun(result.1, result.2, result.3, result.4, result.5, result.6, \n",
      "    result.7, result.8, result.9, result.10)\n",
      "returning status TRUE\n",
      "  |======================================================================| 100%\n"
     ]
    },
    {
     "name": "stdout",
     "output_type": "stream",
     "text": [
      "  |                                                                      |   0%progress will be called as each result is returned\n",
      "discovered package(s): \n",
      "automatically exporting the following variables from the local environment:\n",
      "  options, X, y \n",
      "explicitly exporting variables(s): feature_select_reg\n",
      "explicitly exporting package(s): glmnet\n",
      "numValues: 10, numResults: 0, stopped: TRUE\n",
      "numValues: 10, numResults: 1, stopped: TRUE\n",
      "returning status FALSE\n",
      "  |=======                                                               |  10%numValues: 10, numResults: 2, stopped: TRUE\n",
      "returning status FALSE\n",
      "  |==============                                                        |  20%numValues: 10, numResults: 3, stopped: TRUE\n",
      "returning status FALSE\n",
      "  |=====================                                                 |  30%numValues: 10, numResults: 4, stopped: TRUE\n",
      "returning status FALSE\n",
      "  |============================                                          |  40%numValues: 10, numResults: 5, stopped: TRUE\n",
      "returning status FALSE\n",
      "  |===================================                                   |  50%numValues: 10, numResults: 6, stopped: TRUE\n",
      "returning status FALSE\n",
      "  |==========================================                            |  60%numValues: 10, numResults: 7, stopped: TRUE\n",
      "returning status FALSE\n",
      "  |=================================================                     |  70%numValues: 10, numResults: 8, stopped: TRUE\n",
      "returning status FALSE\n",
      "  |========================================================              |  80%numValues: 10, numResults: 9, stopped: TRUE\n",
      "returning status FALSE\n",
      "  |===============================================================       |  90%numValues: 10, numResults: 10, stopped: TRUE\n",
      "first call to combine function\n",
      "evaluating call object to combine results:\n",
      "  fun(result.1, result.2, result.3, result.4, result.5, result.6, \n",
      "    result.7, result.8, result.9, result.10)\n",
      "returning status TRUE\n",
      "  |======================================================================| 100%\n",
      "  |                                                                      |   0%progress will be called as each result is returned\n",
      "discovered package(s): \n",
      "automatically exporting the following variables from the local environment:\n",
      "  options, X, y \n",
      "explicitly exporting variables(s): feature_select_reg\n",
      "explicitly exporting package(s): glmnet\n",
      "numValues: 10, numResults: 0, stopped: TRUE\n",
      "numValues: 10, numResults: 1, stopped: TRUE\n",
      "returning status FALSE\n",
      "  |=======                                                               |  10%numValues: 10, numResults: 2, stopped: TRUE\n",
      "returning status FALSE\n",
      "  |==============                                                        |  20%numValues: 10, numResults: 3, stopped: TRUE\n",
      "returning status FALSE\n",
      "  |=====================                                                 |  30%numValues: 10, numResults: 4, stopped: TRUE\n",
      "returning status FALSE\n",
      "  |============================                                          |  40%numValues: 10, numResults: 5, stopped: TRUE\n",
      "returning status FALSE\n",
      "  |===================================                                   |  50%numValues: 10, numResults: 6, stopped: TRUE\n",
      "returning status FALSE\n",
      "  |==========================================                            |  60%numValues: 10, numResults: 7, stopped: TRUE\n",
      "returning status FALSE\n",
      "  |=================================================                     |  70%numValues: 10, numResults: 8, stopped: TRUE\n",
      "returning status FALSE\n",
      "  |========================================================              |  80%numValues: 10, numResults: 9, stopped: TRUE\n",
      "returning status FALSE\n",
      "  |===============================================================       |  90%numValues: 10, numResults: 10, stopped: TRUE\n",
      "first call to combine function\n",
      "evaluating call object to combine results:\n",
      "  fun(result.1, result.2, result.3, result.4, result.5, result.6, \n",
      "    result.7, result.8, result.9, result.10)\n",
      "returning status TRUE\n",
      "  |======================================================================| 100%\n",
      "  |                                                                      |   0%progress will be called as each result is returned\n",
      "discovered package(s): \n",
      "automatically exporting the following variables from the local environment:\n",
      "  options, X, y \n",
      "explicitly exporting variables(s): feature_select_reg\n",
      "explicitly exporting package(s): glmnet\n",
      "numValues: 10, numResults: 0, stopped: TRUE\n",
      "numValues: 10, numResults: 1, stopped: TRUE\n",
      "returning status FALSE\n",
      "  |=======                                                               |  10%numValues: 10, numResults: 2, stopped: TRUE\n",
      "returning status FALSE\n",
      "  |==============                                                        |  20%numValues: 10, numResults: 3, stopped: TRUE\n",
      "returning status FALSE\n",
      "  |=====================                                                 |  30%numValues: 10, numResults: 4, stopped: TRUE\n",
      "returning status FALSE\n",
      "  |============================                                          |  40%numValues: 10, numResults: 5, stopped: TRUE\n",
      "returning status FALSE\n",
      "  |===================================                                   |  50%numValues: 10, numResults: 6, stopped: TRUE\n",
      "returning status FALSE\n",
      "  |==========================================                            |  60%numValues: 10, numResults: 7, stopped: TRUE\n",
      "returning status FALSE\n",
      "  |=================================================                     |  70%numValues: 10, numResults: 8, stopped: TRUE\n",
      "returning status FALSE\n",
      "  |========================================================              |  80%numValues: 10, numResults: 9, stopped: TRUE\n",
      "returning status FALSE\n",
      "  |===============================================================       |  90%numValues: 10, numResults: 10, stopped: TRUE\n",
      "first call to combine function\n",
      "evaluating call object to combine results:\n",
      "  fun(result.1, result.2, result.3, result.4, result.5, result.6, \n",
      "    result.7, result.8, result.9, result.10)\n",
      "returning status TRUE\n",
      "  |======================================================================| 100%\n",
      "  |                                                                      |   0%progress will be called as each result is returned\n",
      "discovered package(s): \n",
      "automatically exporting the following variables from the local environment:\n",
      "  options, X, y \n",
      "explicitly exporting variables(s): feature_select_reg\n",
      "explicitly exporting package(s): glmnet\n",
      "numValues: 10, numResults: 0, stopped: TRUE\n",
      "numValues: 10, numResults: 1, stopped: TRUE\n",
      "returning status FALSE\n",
      "  |=======                                                               |  10%numValues: 10, numResults: 2, stopped: TRUE\n",
      "returning status FALSE\n",
      "  |==============                                                        |  20%numValues: 10, numResults: 3, stopped: TRUE\n",
      "returning status FALSE\n",
      "  |=====================                                                 |  30%numValues: 10, numResults: 4, stopped: TRUE\n",
      "returning status FALSE\n",
      "  |============================                                          |  40%numValues: 10, numResults: 5, stopped: TRUE\n",
      "returning status FALSE\n",
      "  |===================================                                   |  50%numValues: 10, numResults: 6, stopped: TRUE\n",
      "returning status FALSE\n",
      "  |==========================================                            |  60%numValues: 10, numResults: 7, stopped: TRUE\n",
      "returning status FALSE\n",
      "  |=================================================                     |  70%numValues: 10, numResults: 8, stopped: TRUE\n",
      "returning status FALSE\n",
      "  |========================================================              |  80%numValues: 10, numResults: 9, stopped: TRUE\n",
      "returning status FALSE\n",
      "  |===============================================================       |  90%numValues: 10, numResults: 10, stopped: TRUE\n",
      "first call to combine function\n",
      "evaluating call object to combine results:\n",
      "  fun(result.1, result.2, result.3, result.4, result.5, result.6, \n",
      "    result.7, result.8, result.9, result.10)\n",
      "returning status TRUE\n",
      "  |======================================================================| 100%\n"
     ]
    },
    {
     "name": "stdout",
     "output_type": "stream",
     "text": [
      "  |                                                                      |   0%progress will be called as each result is returned\n",
      "discovered package(s): \n",
      "automatically exporting the following variables from the local environment:\n",
      "  options, X, y \n",
      "explicitly exporting variables(s): feature_select_reg\n",
      "explicitly exporting package(s): glmnet\n",
      "numValues: 10, numResults: 0, stopped: TRUE\n",
      "numValues: 10, numResults: 1, stopped: TRUE\n",
      "returning status FALSE\n",
      "  |=======                                                               |  10%numValues: 10, numResults: 2, stopped: TRUE\n",
      "returning status FALSE\n",
      "  |==============                                                        |  20%numValues: 10, numResults: 3, stopped: TRUE\n",
      "returning status FALSE\n",
      "  |=====================                                                 |  30%numValues: 10, numResults: 4, stopped: TRUE\n",
      "returning status FALSE\n",
      "  |============================                                          |  40%numValues: 10, numResults: 5, stopped: TRUE\n",
      "returning status FALSE\n",
      "  |===================================                                   |  50%numValues: 10, numResults: 6, stopped: TRUE\n",
      "returning status FALSE\n",
      "  |==========================================                            |  60%numValues: 10, numResults: 7, stopped: TRUE\n",
      "returning status FALSE\n",
      "  |=================================================                     |  70%numValues: 10, numResults: 8, stopped: TRUE\n",
      "returning status FALSE\n",
      "  |========================================================              |  80%numValues: 10, numResults: 9, stopped: TRUE\n",
      "returning status FALSE\n",
      "  |===============================================================       |  90%numValues: 10, numResults: 10, stopped: TRUE\n",
      "first call to combine function\n",
      "evaluating call object to combine results:\n",
      "  fun(result.1, result.2, result.3, result.4, result.5, result.6, \n",
      "    result.7, result.8, result.9, result.10)\n",
      "returning status TRUE\n",
      "  |======================================================================| 100%\n",
      "  |                                                                      |   0%progress will be called as each result is returned\n",
      "discovered package(s): \n",
      "automatically exporting the following variables from the local environment:\n",
      "  options, X, y \n",
      "explicitly exporting variables(s): feature_select_reg\n",
      "explicitly exporting package(s): glmnet\n",
      "numValues: 10, numResults: 0, stopped: TRUE\n",
      "numValues: 10, numResults: 1, stopped: TRUE\n",
      "returning status FALSE\n",
      "  |=======                                                               |  10%numValues: 10, numResults: 2, stopped: TRUE\n",
      "returning status FALSE\n",
      "  |==============                                                        |  20%numValues: 10, numResults: 3, stopped: TRUE\n",
      "returning status FALSE\n",
      "  |=====================                                                 |  30%numValues: 10, numResults: 4, stopped: TRUE\n",
      "returning status FALSE\n",
      "  |============================                                          |  40%numValues: 10, numResults: 5, stopped: TRUE\n",
      "returning status FALSE\n",
      "  |===================================                                   |  50%numValues: 10, numResults: 6, stopped: TRUE\n",
      "returning status FALSE\n",
      "  |==========================================                            |  60%numValues: 10, numResults: 7, stopped: TRUE\n",
      "returning status FALSE\n",
      "  |=================================================                     |  70%numValues: 10, numResults: 8, stopped: TRUE\n",
      "returning status FALSE\n",
      "  |========================================================              |  80%numValues: 10, numResults: 9, stopped: TRUE\n",
      "returning status FALSE\n",
      "  |===============================================================       |  90%numValues: 10, numResults: 10, stopped: TRUE\n",
      "first call to combine function\n",
      "evaluating call object to combine results:\n",
      "  fun(result.1, result.2, result.3, result.4, result.5, result.6, \n",
      "    result.7, result.8, result.9, result.10)\n",
      "returning status TRUE\n",
      "  |======================================================================| 100%\n"
     ]
    }
   ],
   "source": [
    "selected_train<-list()\n",
    "for (k in names(k_fold_split)){\n",
    "    train_index = k_fold_split[[k]][['train_index']]\n",
    "    X_train<-X[train_index, ]\n",
    "    y_train<-y[train_index, ]\n",
    "    selected_train[[k]]<-feature_select_iter(X_train, y_train, options = options,\n",
    "                                  par = T, n.cores = 20) \n",
    "}\n",
    "selected_train_all<-Reduce(union, lapply(selected_train, names))\n",
    "writeLines(selected_train_all, con = file.path(data_path, 'interim', 'depre_selected_train.txt'))\n"
   ]
  },
  {
   "cell_type": "code",
   "execution_count": 181,
   "id": "e58741b0",
   "metadata": {},
   "outputs": [
    {
     "data": {
      "text/html": [
       "124"
      ],
      "text/latex": [
       "124"
      ],
      "text/markdown": [
       "124"
      ],
      "text/plain": [
       "[1] 124"
      ]
     },
     "metadata": {},
     "output_type": "display_data"
    }
   ],
   "source": [
    "length(intersect(selected_train_all, names(selected_all)))"
   ]
  },
  {
   "cell_type": "code",
   "execution_count": 182,
   "id": "af1d8281",
   "metadata": {},
   "outputs": [
    {
     "data": {
      "text/html": [
       "279"
      ],
      "text/latex": [
       "279"
      ],
      "text/markdown": [
       "279"
      ],
      "text/plain": [
       "[1] 279"
      ]
     },
     "metadata": {},
     "output_type": "display_data"
    }
   ],
   "source": [
    "length(selected_train_all)"
   ]
  },
  {
   "cell_type": "code",
   "execution_count": null,
   "id": "fb41b265",
   "metadata": {},
   "outputs": [],
   "source": []
  },
  {
   "cell_type": "code",
   "execution_count": null,
   "id": "ada15215",
   "metadata": {},
   "outputs": [],
   "source": []
  }
 ],
 "metadata": {
  "kernelspec": {
   "display_name": "R [conda env:metastatic_potential]",
   "language": "R",
   "name": "conda-env-metastatic_potential-r"
  },
  "language_info": {
   "codemirror_mode": "r",
   "file_extension": ".r",
   "mimetype": "text/x-r-source",
   "name": "R",
   "pygments_lexer": "r",
   "version": "4.4.2"
  }
 },
 "nbformat": 4,
 "nbformat_minor": 5
}
