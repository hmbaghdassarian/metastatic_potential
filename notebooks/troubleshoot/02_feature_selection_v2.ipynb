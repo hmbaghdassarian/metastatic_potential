{
 "cells": [
  {
   "cell_type": "code",
   "execution_count": 1,
   "id": "06188f77",
   "metadata": {},
   "outputs": [
    {
     "name": "stderr",
     "output_type": "stream",
     "text": [
      "/nobackup/users/hmbaghda/Software/miniforge3/envs/mp_2/lib/python3.12/site-packages/tqdm/auto.py:21: TqdmWarning: IProgress not found. Please update jupyter and ipywidgets. See https://ipywidgets.readthedocs.io/en/stable/user_install.html\n",
      "  from .autonotebook import tqdm as notebook_tqdm\n"
     ]
    }
   ],
   "source": [
    "import os\n",
    "import itertools\n",
    "import pandas as pd\n",
    "import numpy as np\n",
    "import json\n",
    "\n",
    "\n",
    "import sys\n",
    "sys.path.insert(1, './')\n",
    "from BorutaShap import BorutaShap\n",
    "from sklearn.ensemble import RandomForestRegressor"
   ]
  },
  {
   "cell_type": "markdown",
   "id": "87dd166c",
   "metadata": {},
   "source": [
    "emulating: https://medium.com/analytics-vidhya/is-this-the-best-feature-selection-algorithm-borutashap-8bc238aa1677"
   ]
  },
  {
   "cell_type": "code",
   "execution_count": 2,
   "id": "9cfeba3a",
   "metadata": {},
   "outputs": [],
   "source": [
    "seed = 42\n",
    "n_cores = 20\n",
    "data_path = '/nobackup/users/hmbaghda/metastatic_potential/'"
   ]
  },
  {
   "cell_type": "code",
   "execution_count": 3,
   "id": "e4e87892",
   "metadata": {},
   "outputs": [],
   "source": [
    "X_train_val = pd.read_csv(os.path.join(data_path, 'interim', 'X_train_val.csv'), index_col = 0)\n",
    "y_train_val = pd.read_csv(os.path.join(data_path, 'interim', 'y_train_val.csv'), index_col = 0)"
   ]
  },
  {
   "cell_type": "code",
   "execution_count": 41,
   "id": "ac65ab58",
   "metadata": {},
   "outputs": [],
   "source": [
    "res = {}\n",
    "pvals = [0.1, 0.05]\n",
    "percentiles = [0.25, 0.5, 0.75, 1]\n",
    "\n",
    "combs = list(itertools.product(pvals, percentiles))\n",
    "\n",
    "for idx, comb in enumerate(combs):\n",
    "    pval, percentile = comb\n",
    "    default_rf_model = RandomForestRegressor(n_jobs = n_cores, \n",
    "                                             random_state = seed # gives variety per model fit\n",
    "                                            )\n",
    "\n",
    "    boruta_selector = BorutaShap(model = default_rf_model,\n",
    "                                 importance_measure='shap',\n",
    "                                 classification=False,\n",
    "                                 percentile = percentile, \n",
    "                                pvalue = pval)\n",
    "\n",
    "    boruta_selector.fit(X=X_train_val, \n",
    "                        y=y_train_val, \n",
    "                        n_trials=100,\n",
    "                        random_state=seed,\n",
    "                        train_or_test='train')\n",
    "    res[idx] = {'pval': pval, \n",
    "           'percentile': percentile, \n",
    "           'selected_features': boruta_selector.accepted}\n",
    "    with open(os.path.join(data_path, 'interim', 'depr_boruta_features.json'), \"w\") as json_file:\n",
    "        json.dump(res, json_file, indent=4)  "
   ]
  },
  {
   "cell_type": "code",
   "execution_count": 4,
   "id": "e7bfb40c",
   "metadata": {},
   "outputs": [],
   "source": [
    "import json\n",
    "\n",
    "with open(os.path.join(data_path, 'interim', 'depr_boruta_features.json'), 'r') as file:\n",
    "    selected_features_dict = json.load(file)\n"
   ]
  },
  {
   "cell_type": "code",
   "execution_count": 15,
   "id": "68bcb68e",
   "metadata": {},
   "outputs": [],
   "source": [
    "# lected_features = pd.read_csv(os.path.join(data_path, 'interim', 'depr_selected_features.csv'), index_col = 0)\n",
    "selected_features = pd.read_csv(os.path.join(data_path, 'interim', 'depr_selected_all_features.csv'), index_col = 0)\n",
    "\n",
    "selected_feature_index = selected_features.index.tolist()\n",
    "# selected_feature_index = open(os.path.join(data_path, 'interim', 'depre_selected_train.txt')).read().splitlines()\n",
    "\n",
    "\n",
    "selected_feature_index = ['-'.join(i.split('.')) for i in selected_feature_index] # formatting R --> python\n",
    "\n",
    "for idx, i in enumerate(selected_feature_index):\n",
    "    if i == 'X5S_rRNA':\n",
    "        selected_feature_index[idx] = '5S_rRNA'"
   ]
  },
  {
   "cell_type": "code",
   "execution_count": 18,
   "id": "8f9d5aac",
   "metadata": {},
   "outputs": [
    {
     "name": "stdout",
     "output_type": "stream",
     "text": [
      "pval: 0.10, percentile: 0.25, total features: 198, overlap features: 18\n",
      "pval: 0.10, percentile: 0.50, total features: 198, overlap features: 18\n",
      "pval: 0.10, percentile: 0.75, total features: 198, overlap features: 18\n",
      "pval: 0.10, percentile: 1.00, total features: 198, overlap features: 18\n",
      "pval: 0.05, percentile: 0.25, total features: 197, overlap features: 18\n",
      "pval: 0.05, percentile: 0.50, total features: 197, overlap features: 18\n",
      "pval: 0.05, percentile: 0.75, total features: 197, overlap features: 18\n",
      "pval: 0.05, percentile: 1.00, total features: 197, overlap features: 18\n"
     ]
    }
   ],
   "source": [
    "for k, res in selected_features_dict.items():\n",
    "    overlap = len(set(res['selected_features']).intersection(selected_feature_index))\n",
    "    print('pval: {:.2f}, percentile: {:.2f}, total features: {}, overlap features: {}'.format(res['pval'], res['percentile'], len(res['selected_features']), overlap))\n"
   ]
  },
  {
   "cell_type": "code",
   "execution_count": 17,
   "id": "d3093eba",
   "metadata": {},
   "outputs": [
    {
     "data": {
      "text/plain": [
       "18"
      ]
     },
     "execution_count": 17,
     "metadata": {},
     "output_type": "execute_result"
    }
   ],
   "source": []
  },
  {
   "cell_type": "code",
   "execution_count": 13,
   "id": "99a5e92a",
   "metadata": {},
   "outputs": [
    {
     "data": {
      "text/plain": [
       "(0.1, 0.25, 198)"
      ]
     },
     "execution_count": 13,
     "metadata": {},
     "output_type": "execute_result"
    }
   ],
   "source": []
  },
  {
   "cell_type": "code",
   "execution_count": null,
   "id": "92a69d10",
   "metadata": {},
   "outputs": [],
   "source": []
  }
 ],
 "metadata": {
  "kernelspec": {
   "display_name": "Python [conda env:mp_2]",
   "language": "python",
   "name": "conda-env-mp_2-py"
  },
  "language_info": {
   "codemirror_mode": {
    "name": "ipython",
    "version": 3
   },
   "file_extension": ".py",
   "mimetype": "text/x-python",
   "name": "python",
   "nbconvert_exporter": "python",
   "pygments_lexer": "ipython3",
   "version": "3.12.7"
  }
 },
 "nbformat": 4,
 "nbformat_minor": 5
}
