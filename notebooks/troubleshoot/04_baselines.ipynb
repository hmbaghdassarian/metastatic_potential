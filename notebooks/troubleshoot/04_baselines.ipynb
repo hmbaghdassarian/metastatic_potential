{
 "cells": [
  {
   "cell_type": "code",
   "execution_count": 20,
   "id": "6d06b519",
   "metadata": {},
   "outputs": [],
   "source": [
    "import os\n",
    "\n",
    "from tqdm import tqdm \n",
    "\n",
    "import pandas as pd\n",
    "import numpy as np\n",
    "\n",
    "from sklearn.ensemble import RandomForestRegressor\n",
    "from sklearn.model_selection import KFold\n",
    "from sklearn.metrics import mean_squared_error\n",
    "\n",
    "from scipy.stats import pearsonr\n",
    "import scipy.stats as stats\n",
    "from sklearn.linear_model import LinearRegression"
   ]
  },
  {
   "cell_type": "code",
   "execution_count": 21,
   "id": "92e1eda3",
   "metadata": {},
   "outputs": [],
   "source": [
    "seed = 42\n",
    "n_cores = 20\n",
    "data_path = '/nobackup/users/hmbaghda/metastatic_potential/'"
   ]
  },
  {
   "cell_type": "code",
   "execution_count": 71,
   "id": "fccd25a3",
   "metadata": {},
   "outputs": [],
   "source": [
    "X_train_val = pd.read_csv(os.path.join(data_path, 'interim', 'X_train_val.csv'), index_col = 0)\n",
    "y_train_val = pd.read_csv(os.path.join(data_path, 'interim', 'y_train_val.csv'), index_col = 0)\n",
    "\n",
    "X_test = pd.read_csv(os.path.join(data_path, 'interim', 'X_test.csv'), index_col = 0)\n",
    "y_test = pd.read_csv(os.path.join(data_path, 'interim', 'y_test.csv'), index_col = 0)\n",
    "y_test = y_test.values.flatten()"
   ]
  },
  {
   "cell_type": "code",
   "execution_count": 79,
   "id": "a5e67d44",
   "metadata": {},
   "outputs": [],
   "source": [
    "selected_features = pd.read_csv(os.path.join(data_path, 'interim', 'depr_selected_features.csv'), index_col = 0)\n",
    "selected_feature_index = selected_features.index.tolist()\n",
    "selected_feature_index = ['-'.join(i.split('.')) for i in selected_feature_index] # formatting R --> python\n",
    "\n",
    "X_train_val.columns = ['-'.join(col.split('.')) for col in X_train_val.columns]\n",
    "X_test.columns = ['-'.join(col.split('.')) for col in X_test.columns]\n",
    "\n",
    "X_train_val = X_train_val.loc[:, selected_feature_index]\n",
    "X_test = X_test.loc[:, selected_feature_index]"
   ]
  },
  {
   "cell_type": "code",
   "execution_count": 80,
   "id": "0797842f",
   "metadata": {},
   "outputs": [],
   "source": [
    "# res_ = res.infer_objects(copy = False).fillna('None')\n",
    "# hyperparam_names = ['n_estimators', 'max_features', 'max_samples', 'max_depth', 'min_samples_split', 'min_samples_leaf']\n",
    "# best_mse_params = list(res_.groupby(hyperparam_names)['mse'].mean().idxmin())\n",
    "# best_mse_params = [x if x != 'None' else None for x in best_mse_params]\n",
    "# best_mse_params = dict(zip(hyperparam_names, best_mse_params))\n",
    "\n",
    "# for hp in ['max_features', 'max_depth']:\n",
    "#     best_mse_params[hp] = int(best_mse_params[hp])\n",
    "\n",
    "# best_mse_params\n",
    "\n",
    "best_mse_params = {'n_estimators': np.int64(850),\n",
    " 'max_features': 1,\n",
    " 'max_samples': None,\n",
    " 'max_depth': 25,\n",
    " 'min_samples_split': np.int64(2),\n",
    " 'min_samples_leaf': np.int64(1)}\n"
   ]
  },
  {
   "cell_type": "code",
   "execution_count": 74,
   "id": "540d2794",
   "metadata": {},
   "outputs": [
    {
     "name": "stderr",
     "output_type": "stream",
     "text": [
      "10it [00:25,  2.57s/it]\n"
     ]
    }
   ],
   "source": [
    "rf_mse = []\n",
    "rf_pearson = []\n",
    "rf_spearman = []\n",
    "\n",
    "n_splits = 10\n",
    "kf = KFold(n_splits=n_splits, shuffle = True)\n",
    "\n",
    "for i, (train_index, val_index) in tqdm(enumerate(kf.split(X_train_val, y_train_val))): # iterate through folds for train-val split and do the below loop for each fold\n",
    "\n",
    "    X_train, _ = X_train_val.iloc[train_index], X_train_val.iloc[val_index]\n",
    "    y_train, _ = y_train_val.iloc[train_index], y_train_val.iloc[val_index]\n",
    "    y_train = y_train.values.flatten()\n",
    "\n",
    "    # ACTUAL MODEL\n",
    "    model = RandomForestRegressor(n_estimators = best_mse_params['n_estimators'],\n",
    "                                  max_features = best_mse_params['max_features'],\n",
    "                                  max_samples = best_mse_params['max_samples'],\n",
    "                                  max_depth = best_mse_params['max_depth'],\n",
    "                                  min_samples_split = best_mse_params['min_samples_split'],\n",
    "                                  min_samples_leaf = best_mse_params['min_samples_leaf'],\n",
    "                                  n_jobs = n_cores,\n",
    "                                  random_state = seed)\n",
    "    # # training on shuffled features (random baseline)\n",
    "    # y_train_shuffled = y_train.values.reshape(-1).copy()\n",
    "    # np.random.shuffle(y_train_shuffled)\n",
    "    model.fit(X_train, y_train) # fit on the shuffled data\n",
    "\n",
    "    # predict on non-shuffled features\n",
    "    y_pred = model.predict(X_test)\n",
    "\n",
    "    # store results\n",
    "    rf_mse.append(mean_squared_error(y_test, y_pred))\n",
    "    rf_pearson.append(pearsonr(y_test, y_pred))\n",
    "    rf_spearman.append(stats.spearmanr(y_test, y_pred))\n",
    "\n",
    "\n",
    "\n"
   ]
  },
  {
   "cell_type": "code",
   "execution_count": 75,
   "id": "b6c7fb03",
   "metadata": {},
   "outputs": [
    {
     "data": {
      "text/plain": [
       "np.float64(0.11514552894033234)"
      ]
     },
     "execution_count": 75,
     "metadata": {},
     "output_type": "execute_result"
    }
   ],
   "source": [
    "np.mean([p.statistic for p in rf_pearson])"
   ]
  },
  {
   "cell_type": "code",
   "execution_count": 70,
   "id": "01aece92",
   "metadata": {},
   "outputs": [
    {
     "data": {
      "text/plain": [
       "np.float64(0.2328315466085024)"
      ]
     },
     "execution_count": 70,
     "metadata": {},
     "output_type": "execute_result"
    }
   ],
   "source": [
    "np.mean([p.statistic for p in rf_pearson])"
   ]
  },
  {
   "cell_type": "code",
   "execution_count": null,
   "id": "ec861059",
   "metadata": {},
   "outputs": [],
   "source": []
  },
  {
   "cell_type": "code",
   "execution_count": null,
   "id": "3a004d86",
   "metadata": {},
   "outputs": [],
   "source": []
  },
  {
   "cell_type": "code",
   "execution_count": null,
   "id": "4fd5d301",
   "metadata": {},
   "outputs": [],
   "source": []
  },
  {
   "cell_type": "code",
   "execution_count": 81,
   "id": "699a5a74",
   "metadata": {},
   "outputs": [
    {
     "name": "stderr",
     "output_type": "stream",
     "text": [
      "10it [00:04,  2.23it/s]\n"
     ]
    }
   ],
   "source": [
    "rf_mse = []\n",
    "rf_pearson = []\n",
    "rf_spearman = []\n",
    "\n",
    "n_splits = 10\n",
    "kf = KFold(n_splits=n_splits, shuffle = True)\n",
    "\n",
    "for i, (train_index, val_index) in tqdm(enumerate(kf.split(X_train_val, y_train_val))): # iterate through folds for train-val split and do the below loop for each fold\n",
    "\n",
    "    X_train, X_val = X_train_val.iloc[train_index], X_train_val.iloc[val_index]\n",
    "    y_train, y_val = y_train_val.iloc[train_index], y_train_val.iloc[val_index]\n",
    "    y_train = y_train.values.flatten()\n",
    "    y_val = y_val.values.flatten()\n",
    "\n",
    "    # ACTUAL MODEL\n",
    "#     model = RandomForestRegressor(n_estimators = best_mse_params['n_estimators'],\n",
    "#                                   max_features = best_mse_params['max_features'],\n",
    "#                                   max_samples = best_mse_params['max_samples'],\n",
    "#                                   max_depth = best_mse_params['max_depth'],\n",
    "#                                   min_samples_split = best_mse_params['min_samples_split'],\n",
    "#                                   min_samples_leaf = best_mse_params['min_samples_leaf'],\n",
    "#                                   n_jobs = n_cores,\n",
    "#                                   random_state = seed)\n",
    "    \n",
    "    model = RandomForestRegressor(n_jobs = n_cores,\n",
    "                                  random_state = seed)\n",
    "    # # training on shuffled features (random baseline)\n",
    "    # y_train_shuffled = y_train.values.reshape(-1).copy()\n",
    "    # np.random.shuffle(y_train_shuffled)\n",
    "    model.fit(X_train, y_train) # fit on the shuffled data\n",
    "\n",
    "    # predict on non-shuffled features\n",
    "    y_pred = model.predict(X_val)\n",
    "\n",
    "    # store results\n",
    "    rf_mse.append(mean_squared_error(y_val, y_pred))\n",
    "    rf_pearson.append(pearsonr(y_val, y_pred))\n",
    "    rf_spearman.append(stats.spearmanr(y_val, y_pred))\n",
    "\n",
    "\n",
    "\n"
   ]
  },
  {
   "cell_type": "code",
   "execution_count": 82,
   "id": "1899d74c",
   "metadata": {},
   "outputs": [
    {
     "data": {
      "text/plain": [
       "np.float64(0.6231993793954163)"
      ]
     },
     "execution_count": 82,
     "metadata": {},
     "output_type": "execute_result"
    }
   ],
   "source": [
    "np.mean([p.statistic for p in rf_pearson])"
   ]
  },
  {
   "cell_type": "code",
   "execution_count": null,
   "id": "f0aabbf8",
   "metadata": {},
   "outputs": [],
   "source": []
  },
  {
   "cell_type": "code",
   "execution_count": null,
   "id": "02c5b4de",
   "metadata": {},
   "outputs": [],
   "source": []
  },
  {
   "cell_type": "code",
   "execution_count": null,
   "id": "82dcfd97",
   "metadata": {},
   "outputs": [],
   "source": []
  },
  {
   "cell_type": "code",
   "execution_count": 51,
   "id": "484cb8c9",
   "metadata": {},
   "outputs": [],
   "source": [
    "import seaborn as sns\n",
    "import matplotlib.pyplot as plt"
   ]
  },
  {
   "cell_type": "code",
   "execution_count": 58,
   "id": "b5101664",
   "metadata": {},
   "outputs": [
    {
     "name": "stderr",
     "output_type": "stream",
     "text": [
      "1it [00:00, 586.04it/s]\n"
     ]
    }
   ],
   "source": [
    "for i, (train_index, val_index) in tqdm(enumerate(kf.split(X_train_val, y_train_val))): # iterate through folds for train-val split and do the below loop for each fold\n",
    "    if i == 1:\n",
    "        X_train, X_val = X_train_val.iloc[train_index], X_train_val.iloc[val_index]\n",
    "        y_train, y_val = y_train_val.iloc[train_index], y_train_val.iloc[val_index]\n",
    "        y_train = y_train.values.flatten()\n",
    "        y_val = y_val.values.flatten()\n",
    "        break"
   ]
  },
  {
   "cell_type": "code",
   "execution_count": 61,
   "id": "60ccc073",
   "metadata": {},
   "outputs": [
    {
     "data": {
      "text/plain": [
       "<Axes: ylabel='Density'>"
      ]
     },
     "execution_count": 61,
     "metadata": {},
     "output_type": "execute_result"
    },
    {
     "data": {
      "image/png": "[encoded data removed]",
      "text/plain": [
       "<Figure size 640x480 with 1 Axes>"
      ]
     },
     "metadata": {},
     "output_type": "display_data"
    }
   ],
   "source": [
    "fig, ax = plt.subplots()\n",
    "sns.kdeplot(y_val, ax = ax, label = 'actual')\n",
    "sns.kdeplot(y_test, ax = ax, label = 'predicted')\n",
    "sns.kdeplot(y_train, ax = ax, label = 'predicted')"
   ]
  },
  {
   "cell_type": "code",
   "execution_count": null,
   "id": "160e0838",
   "metadata": {},
   "outputs": [],
   "source": []
  },
  {
   "cell_type": "code",
   "execution_count": 47,
   "id": "2eb9f7a7",
   "metadata": {},
   "outputs": [
    {
     "data": {
      "text/plain": [
       "<Axes: ylabel='Density'>"
      ]
     },
     "execution_count": 47,
     "metadata": {},
     "output_type": "execute_result"
    },
    {
     "data": {
      "image/png": "[encoded data removed]",
      "text/plain": [
       "<Figure size 640x480 with 1 Axes>"
      ]
     },
     "metadata": {},
     "output_type": "display_data"
    }
   ],
   "source": []
  },
  {
   "cell_type": "code",
   "execution_count": 48,
   "id": "73c9f6e8",
   "metadata": {},
   "outputs": [
    {
     "data": {
      "text/plain": [
       "<Axes: ylabel='Density'>"
      ]
     },
     "execution_count": 48,
     "metadata": {},
     "output_type": "execute_result"
    },
    {
     "data": {
      "image/png": "[encoded data removed]",
      "text/plain": [
       "<Figure size 640x480 with 1 Axes>"
      ]
     },
     "metadata": {},
     "output_type": "display_data"
    }
   ],
   "source": []
  },
  {
   "cell_type": "code",
   "execution_count": 39,
   "id": "7cf16acf",
   "metadata": {},
   "outputs": [
    {
     "data": {
      "text/plain": [
       "[np.float64(0.8502324794790702),\n",
       " np.float64(0.8900535930006648),\n",
       " np.float64(0.7044611563222472),\n",
       " np.float64(0.8577679818256351),\n",
       " np.float64(0.7720450360269476),\n",
       " np.float64(0.9254966538218722),\n",
       " np.float64(0.7286321793164049),\n",
       " np.float64(0.8850549002048388),\n",
       " np.float64(0.8441658384082422),\n",
       " np.float64(0.8746779426924304)]"
      ]
     },
     "execution_count": 39,
     "metadata": {},
     "output_type": "execute_result"
    }
   ],
   "source": [
    "[p.statistic for p in rf_pearson]"
   ]
  },
  {
   "cell_type": "code",
   "execution_count": 40,
   "id": "549e06f3",
   "metadata": {},
   "outputs": [
    {
     "data": {
      "text/plain": [
       "np.float64(0.8332587761098355)"
      ]
     },
     "execution_count": 40,
     "metadata": {},
     "output_type": "execute_result"
    }
   ],
   "source": [
    "np.mean([p.statistic for p in rf_pearson])"
   ]
  },
  {
   "cell_type": "code",
   "execution_count": 31,
   "id": "38e2c5e3",
   "metadata": {},
   "outputs": [
    {
     "data": {
      "text/plain": [
       "[np.float64(0.24836526477205806),\n",
       " np.float64(0.18882709428075695),\n",
       " np.float64(0.18949013024431577),\n",
       " np.float64(0.23436328095503733),\n",
       " np.float64(0.19517475053727948),\n",
       " np.float64(0.25758854784895835),\n",
       " np.float64(0.23366663323750464),\n",
       " np.float64(0.18581613685138776),\n",
       " np.float64(0.24730706719421192),\n",
       " np.float64(0.20350485930740875)]"
      ]
     },
     "execution_count": 31,
     "metadata": {},
     "output_type": "execute_result"
    }
   ],
   "source": [
    "[p.statistic for p in rf_pearson]"
   ]
  },
  {
   "cell_type": "code",
   "execution_count": 33,
   "id": "6d78beb6",
   "metadata": {},
   "outputs": [
    {
     "data": {
      "text/plain": [
       "np.float64(0.2184103765228919)"
      ]
     },
     "execution_count": 33,
     "metadata": {},
     "output_type": "execute_result"
    }
   ],
   "source": [
    "np.mean([p.statistic for p in rf_pearson])"
   ]
  },
  {
   "cell_type": "code",
   "execution_count": 32,
   "id": "d7232fcc",
   "metadata": {},
   "outputs": [
    {
     "data": {
      "text/plain": [
       "np.float64(0.2184103765228919)"
      ]
     },
     "execution_count": 32,
     "metadata": {},
     "output_type": "execute_result"
    }
   ],
   "source": [
    "np.mean([p.statistic for p in rf_pearson])"
   ]
  },
  {
   "cell_type": "code",
   "execution_count": 28,
   "id": "b8fbaad0",
   "metadata": {},
   "outputs": [
    {
     "data": {
      "text/plain": [
       "np.float64(0.21867134115565587)"
      ]
     },
     "execution_count": 28,
     "metadata": {},
     "output_type": "execute_result"
    }
   ],
   "source": [
    "np.mean([p.statistic for p in rf_pearson])"
   ]
  },
  {
   "cell_type": "code",
   "execution_count": 19,
   "id": "d304a4cf",
   "metadata": {},
   "outputs": [
    {
     "data": {
      "text/plain": [
       "np.float64(0.2107331891082349)"
      ]
     },
     "execution_count": 19,
     "metadata": {},
     "output_type": "execute_result"
    }
   ],
   "source": [
    "np.mean([p.statistic for p in rf_pearson])"
   ]
  },
  {
   "cell_type": "code",
   "execution_count": 6,
   "id": "6ad7e949",
   "metadata": {},
   "outputs": [
    {
     "data": {
      "text/plain": [
       "[PearsonRResult(statistic=np.float64(0.18898264232206188), pvalue=np.float64(0.20844997974107812)),\n",
       " PearsonRResult(statistic=np.float64(0.25235081577270346), pvalue=np.float64(0.09065944587794306)),\n",
       " PearsonRResult(statistic=np.float64(0.22664525294713517), pvalue=np.float64(0.1298569315371)),\n",
       " PearsonRResult(statistic=np.float64(0.21809065736466116), pvalue=np.float64(0.14537936977441845)),\n",
       " PearsonRResult(statistic=np.float64(0.23967531732667333), pvalue=np.float64(0.10864747813884885)),\n",
       " PearsonRResult(statistic=np.float64(0.20676344282093462), pvalue=np.float64(0.16798869576423942)),\n",
       " PearsonRResult(statistic=np.float64(0.2579772490696711), pvalue=np.float64(0.08345730186994711)),\n",
       " PearsonRResult(statistic=np.float64(0.22673880132389024), pvalue=np.float64(0.1296943452428685)),\n",
       " PearsonRResult(statistic=np.float64(0.25048789542465005), pvalue=np.float64(0.09314755138201866)),\n",
       " PearsonRResult(statistic=np.float64(0.24548905789357295), pvalue=np.float64(0.10008560002449428))]"
      ]
     },
     "execution_count": 6,
     "metadata": {},
     "output_type": "execute_result"
    }
   ],
   "source": [
    "rf_pearson"
   ]
  },
  {
   "cell_type": "code",
   "execution_count": 61,
   "id": "e3fbce9f",
   "metadata": {},
   "outputs": [
    {
     "data": {
      "text/plain": [
       "array([-1.56093728, -0.94204902, -1.6349899 , -1.41862062, -1.76053958,\n",
       "       -1.18147114, -1.8719264 , -1.37790161, -1.94459033, -1.71356756,\n",
       "       -1.56643192, -2.20652747, -1.46287334, -1.16829814, -1.29843077,\n",
       "       -1.04836812, -1.89047599, -2.03876644, -0.78611356, -1.28246168,\n",
       "       -2.28050832, -1.70636575, -1.46087174, -1.63282035, -1.67581432,\n",
       "       -1.69941386, -1.89251902, -1.68891085, -1.79536695, -1.68181596,\n",
       "       -0.98974806, -1.64609567, -1.61547171, -1.50081229, -1.78545324,\n",
       "       -1.75446019, -1.71656779, -1.96649416, -1.72883712, -2.01120151,\n",
       "       -1.24736955, -2.06782622, -1.49713663, -1.62209141, -1.38066736,\n",
       "       -0.89321234])"
      ]
     },
     "execution_count": 61,
     "metadata": {},
     "output_type": "execute_result"
    }
   ],
   "source": [
    "y_pred"
   ]
  },
  {
   "cell_type": "code",
   "execution_count": 29,
   "id": "f0796644",
   "metadata": {},
   "outputs": [
    {
     "data": {
      "text/plain": [
       "array([-1.68769417, -0.82605535, -1.69000056, -1.3477291 , -1.70552701,\n",
       "       -1.18819499, -1.76194308, -1.44865451, -1.93319881, -1.76671943,\n",
       "       -1.48143044, -2.0771705 , -1.39989795, -1.30339735, -1.34194877,\n",
       "       -1.00936808, -1.88674267, -2.04838034, -0.7545633 , -1.26668222,\n",
       "       -2.2501269 , -1.62513068, -1.46957948, -1.62690455, -1.67585733,\n",
       "       -1.59833999, -1.79910003, -1.63450723, -1.74151919, -1.6270904 ,\n",
       "       -0.95610886, -1.75031271, -1.61299769, -1.40687082, -1.73162797,\n",
       "       -1.74344652, -1.73968625, -2.00004862, -1.66168871, -1.9598469 ,\n",
       "       -1.19895341, -1.97431925, -1.40940372, -1.50373621, -1.34616631,\n",
       "       -1.03315551])"
      ]
     },
     "execution_count": 29,
     "metadata": {},
     "output_type": "execute_result"
    }
   ],
   "source": [
    "y_pred"
   ]
  },
  {
   "cell_type": "code",
   "execution_count": null,
   "id": "6de5d4c6",
   "metadata": {},
   "outputs": [],
   "source": []
  }
 ],
 "metadata": {
  "kernelspec": {
   "display_name": "Python [conda env:metastatic_potential]",
   "language": "python",
   "name": "conda-env-metastatic_potential-py"
  },
  "language_info": {
   "codemirror_mode": {
    "name": "ipython",
    "version": 3
   },
   "file_extension": ".py",
   "mimetype": "text/x-python",
   "name": "python",
   "nbconvert_exporter": "python",
   "pygments_lexer": "ipython3",
   "version": "3.13.0"
  }
 },
 "nbformat": 4,
 "nbformat_minor": 5
}
