{
 "cells": [
  {
   "cell_type": "code",
   "execution_count": 1,
   "id": "dcb1ad68",
   "metadata": {},
   "outputs": [
    {
     "name": "stderr",
     "output_type": "stream",
     "text": [
      "/nobackup/users/hmbaghda/Software/miniforge3/envs/metastatic_potential/lib/python3.13/site-packages/tqdm/auto.py:21: TqdmWarning: IProgress not found. Please update jupyter and ipywidgets. See https://ipywidgets.readthedocs.io/en/stable/user_install.html\n",
      "  from .autonotebook import tqdm as notebook_tqdm\n"
     ]
    }
   ],
   "source": [
    "import os\n",
    "import pickle\n",
    "import pathlib\n",
    "\n",
    "from tqdm import tqdm\n",
    "\n",
    "import numpy as np\n",
    "import pandas as pd\n",
    "\n",
    "import optuna\n",
    "from optuna.samplers import CmaEsSampler, TPESampler, RandomSampler\n",
    "from optuna.distributions import CategoricalDistribution\n",
    "\n",
    "from sklearn.model_selection import GridSearchCV, cross_val_score, KFold\n",
    "from sklearn.feature_selection import SelectFromModel\n",
    "from sklearn.pipeline import Pipeline\n",
    "from sklearn.preprocessing import StandardScaler\n",
    "from sklearn.decomposition import PCA\n",
    "from sklearn.cross_decomposition import PLSRegression\n",
    "from sklearn.linear_model import ElasticNet, Ridge\n",
    "from sklearn.svm import SVR\n",
    "from sklearn.ensemble import RandomForestRegressor\n",
    "from sklearn.base import BaseEstimator, TransformerMixin\n",
    "from sklearn.metrics import make_scorer, mean_squared_error\n",
    "from scipy.stats import pearsonr\n",
    "from sklearn.utils import shuffle"
   ]
  },
  {
   "cell_type": "code",
   "execution_count": 2,
   "id": "7c0dd2a4",
   "metadata": {},
   "outputs": [],
   "source": [
    "data_path = '/nobackup/users/hmbaghda/metastatic_potential/'\n",
    "random_state = 42 + 2\n",
    "\n",
    "n_cores = 80\n",
    "os.environ[\"OMP_NUM_THREADS\"] = str(n_cores)\n",
    "os.environ[\"MKL_NUM_THREADS\"] = str(n_cores)\n",
    "os.environ[\"OPENBLAS_NUM_THREADS\"] = str(n_cores)\n",
    "os.environ[\"VECLIB_MAXIMUM_THREADS\"] = str(n_cores)\n",
    "os.environ[\"NUMEXPR_NUM_THREADS\"] = str(n_cores)"
   ]
  },
  {
   "cell_type": "code",
   "execution_count": 3,
   "id": "0ccf071d",
   "metadata": {},
   "outputs": [],
   "source": [
    "def write_pickled_object(object_, file_name: str) -> None:\n",
    "    if '.' in file_name:\n",
    "        p = pathlib.Path(file_name)\n",
    "        extensions = \"\".join(p.suffixes)\n",
    "        file_name = str(p).replace(extensions, '.pickle')\n",
    "    else:\n",
    "        file_name = file_name + '.pickle'\n",
    "\n",
    "    with open(file_name, 'wb') as handle:\n",
    "        pickle.dump(object_, handle)"
   ]
  },
  {
   "cell_type": "code",
   "execution_count": 4,
   "id": "6133b0c8",
   "metadata": {},
   "outputs": [],
   "source": [
    "# Feature selection transformer\n",
    "class FeatureSelector(BaseEstimator, TransformerMixin):\n",
    "    def __init__(self, method='top_n_cv', n_features=None):\n",
    "        if method not in ['top_n_cv']:#, 'all_features']:\n",
    "            raise ValueError('Incorrect feature selection method implemented')\n",
    "        self.method = method\n",
    "        self.n_features = n_features\n",
    "\n",
    "    def fit(self, X, y=None):\n",
    "        if self.method == 'top_n_cv':\n",
    "            self.coefficient_of_variation_ = np.std(X, axis=0) / np.mean(X, axis=0)\n",
    "            self.top_indices_ = np.argsort(self.coefficient_of_variation_)[::-1][:self.n_features]\n",
    "#         elif self.method == 'all_features':\n",
    "#             self.top_indices_ = range(X.shape[1])\n",
    "        return self\n",
    "    def transform(self, X, y=None):\n",
    "        return X[:, self.top_indices_]\n",
    "    \n",
    "class MeanCenterer(TransformerMixin, BaseEstimator):\n",
    "    def fit(self, X, y=None):\n",
    "#         self.mean_ = np.mean(X, axis=0)\n",
    "        return self\n",
    "\n",
    "    def transform(self, X, y=None):\n",
    "        return X - np.mean(X, axis=0)\n",
    "    \n",
    "def pearson_corr_scorer(y_true, y_pred):\n",
    "    return pearsonr(y_true, y_pred)[0]\n",
    "\n",
    "class PLSRegression_X(PLSRegression):\n",
    "    def transform(self, X, y=None):\n",
    "        X_transformed = super().transform(X, y)\n",
    "        if isinstance(X_transformed, tuple):\n",
    "            X_transformed = X_transformed[0]\n",
    "        return X_transformed"
   ]
  },
  {
   "cell_type": "code",
   "execution_count": 6,
   "id": "23e5c234",
   "metadata": {},
   "outputs": [],
   "source": [
    "outer_folds=10\n",
    "inner_folds=5\n",
    "n_trials = 200"
   ]
  },
  {
   "cell_type": "markdown",
   "id": "8ac92a03",
   "metadata": {},
   "source": [
    "Let's take a look at the results:"
   ]
  },
  {
   "cell_type": "code",
   "execution_count": 7,
   "id": "e00769f9",
   "metadata": {},
   "outputs": [],
   "source": [
    "res = pd.read_csv(os.path.join(data_path, 'interim', 'pipeline_model_selection.csv'), index_col = 0)"
   ]
  },
  {
   "cell_type": "code",
   "execution_count": 8,
   "id": "ee329bbf",
   "metadata": {},
   "outputs": [
    {
     "data": {
      "text/plain": [
       "np.float64(0.5048246138993638)"
      ]
     },
     "execution_count": 8,
     "metadata": {},
     "output_type": "execute_result"
    }
   ],
   "source": [
    "res.test_corr.mean()"
   ]
  },
  {
   "cell_type": "markdown",
   "id": "9bfca240",
   "metadata": {},
   "source": [
    "Select a best consensus model and re-run on new folds to see the performance:"
   ]
  },
  {
   "cell_type": "code",
   "execution_count": 9,
   "id": "87ff1476",
   "metadata": {},
   "outputs": [
    {
     "name": "stdout",
     "output_type": "stream",
     "text": [
      "{'FeatureSelector__n_features': 19138, 'model_type': 'SVR', 'SVR__C': 0.0005719969499161776, 'SVR__epsilon': 0.754774672907146}\n",
      "------------------------------------------------------\n",
      "{'FeatureSelector__n_features': 19138, 'model_type': 'SVR', 'SVR__C': 0.13740150254792138, 'SVR__epsilon': 0.792875261527864}\n",
      "------------------------------------------------------\n",
      "{'FeatureSelector__n_features': 19138, 'model_type': 'SVR', 'SVR__C': 0.00012293594680558607, 'SVR__epsilon': 0.1414183067920836}\n",
      "------------------------------------------------------\n",
      "{'FeatureSelector__n_features': 19138, 'model_type': 'SVR', 'SVR__C': 0.0001309759625950283, 'SVR__epsilon': 0.0033638552879614743}\n",
      "------------------------------------------------------\n",
      "{'FeatureSelector__n_features': 19138, 'model_type': 'SVR', 'SVR__C': 62.549312779871485, 'SVR__epsilon': 1.083336855506116}\n",
      "------------------------------------------------------\n",
      "{'FeatureSelector__n_features': 19138, 'model_type': 'SVR', 'SVR__C': 0.00016889246955190422, 'SVR__epsilon': 0.14733259419339823}\n",
      "------------------------------------------------------\n",
      "{'FeatureSelector__n_features': 19138, 'model_type': 'SVR', 'SVR__C': 2.7715060286283206, 'SVR__epsilon': 0.798881092286122}\n",
      "------------------------------------------------------\n",
      "{'FeatureSelector__n_features': 19138, 'model_type': 'SVR', 'SVR__C': 0.00010336649157264855, 'SVR__epsilon': 0.09782619936839797}\n",
      "------------------------------------------------------\n",
      "{'FeatureSelector__n_features': 19138, 'model_type': 'SVR', 'SVR__C': 0.00016474326486340786, 'SVR__epsilon': 0.017541506203396645}\n",
      "------------------------------------------------------\n",
      "{'FeatureSelector__n_features': 19138, 'model_type': 'SVR', 'SVR__C': 0.00010043367616677316, 'SVR__epsilon': 0.5319014134662956}\n",
      "------------------------------------------------------\n"
     ]
    }
   ],
   "source": [
    "C_best = []\n",
    "epsilon_best = []\n",
    "for bp in res.best_params:\n",
    "    print(bp)\n",
    "    print('------------------------------------------------------')\n",
    "    C_best.append(float(bp.split(', ')[2].split(': ')[1]))\n",
    "    epsilon_best.append(float(bp.split(', ')[-1].split(': ')[1][:-1]))"
   ]
  },
  {
   "cell_type": "markdown",
   "id": "45dd30e3",
   "metadata": {},
   "source": [
    "Looks like consistently, the best performing model uses all features and a linear SVM. We will take the median C and epsiolon value across folds:"
   ]
  },
  {
   "cell_type": "code",
   "execution_count": 10,
   "id": "12362acf",
   "metadata": {},
   "outputs": [],
   "source": [
    "best_steps = [\n",
    "    (\"feature_reduction\", FeatureSelector(n_features = 19138)),\n",
    "    (\"mean_centering\", MeanCenterer()),\n",
    "]\n",
    "best_steps.append((\"model\", SVR(\n",
    "    kernel='linear',\n",
    "    C=np.median(C_best),\n",
    "    epsilon=np.median(epsilon_best)\n",
    "#     random_state=random_state,\n",
    "#     n_jobs=n_cores\n",
    ")))\n",
    "best_pipeline = Pipeline(best_steps)"
   ]
  },
  {
   "cell_type": "code",
   "execution_count": 11,
   "id": "27c0006a",
   "metadata": {},
   "outputs": [],
   "source": [
    "X = pd.read_csv(os.path.join(data_path, 'processed',  'expr.csv'), index_col = 0).values\n",
    "y = pd.read_csv(os.path.join(data_path, 'processed', 'metastatic_potential.csv'), index_col = 0)['mean'].values.ravel()"
   ]
  },
  {
   "cell_type": "code",
   "execution_count": 65,
   "id": "1b5808a4",
   "metadata": {},
   "outputs": [],
   "source": [
    "def mixup(X, y, n_synthetic, alpha=2, random_state=None):\n",
    "    \"\"\"\n",
    "    Create synthetic samples using the mixup technique.\n",
    "\n",
    "    Parameters:\n",
    "    - n_synthetic (int): Number of synthetic samples to generate.\n",
    "    - alpha (float): Parameter for the Beta distribution controlling the mixup ratio.\n",
    "    - random_seed (int, optional): Random seed for reproducibility.\n",
    "\n",
    "    Returns:\n",
    "    - synthetic_data (np.ndarray): A 2D array of shape (n_synthetic, features) with synthetic samples.\n",
    "    \"\"\"\n",
    "    if random_state is not None:\n",
    "        np.random.seed(random_state)\n",
    "    \n",
    "    n_samples, n_features = X.shape\n",
    "    synthetic_X = np.zeros((n_synthetic, n_features))\n",
    "    synthetic_y = np.zeros((n_synthetic, ))\n",
    "\n",
    "    for i in range(n_synthetic):\n",
    "        # Randomly select two samples to mix\n",
    "        idx1, idx2 = np.random.choice(n_samples, size=2, replace=False)\n",
    "        \n",
    "        # Generate mixup coefficient from a Beta distribution\n",
    "        lambda_ = np.random.beta(alpha, alpha)\n",
    "        \n",
    "        # Create a synthetic sample\n",
    "        synthetic_X[i] = lambda_ * X[idx1] + (1 - lambda_) * X[idx2]\n",
    "        synthetic_y[i] = lambda_ * y[idx1] + (1 - lambda_) * y[idx2]\n",
    "    \n",
    "    return synthetic_X, synthetic_y\n",
    "\n"
   ]
  },
  {
   "cell_type": "code",
   "execution_count": null,
   "id": "d82e3155",
   "metadata": {},
   "outputs": [
    {
     "name": "stderr",
     "output_type": "stream",
     "text": [
      "3it [01:00, 20.12s/it]"
     ]
    }
   ],
   "source": [
    "outer_cv = KFold(n_splits=10, shuffle=True, random_state=random_state+1)\n",
    "n_synthetic = 1000\n",
    "\n",
    "res = {}\n",
    "\n",
    "results = []\n",
    "for k, (train_idx, test_idx) in tqdm(enumerate(outer_cv.split(X, y))):\n",
    "    X_train, X_test = X[train_idx], X[test_idx]\n",
    "    y_train, y_test = y[train_idx], y[test_idx]\n",
    "    \n",
    "    # augment data\n",
    "    synthetic_X, synthetic_y = mixup(X, y, n_synthetic = n_synthetic, alpha = 2, random_state = random_state)\n",
    "    X_train = np.concatenate((X_train, synthetic_X), axis = 0)\n",
    "    y_train = np.concatenate((y_train, synthetic_y), axis = 0)\n",
    "    \n",
    "    \n",
    "    best_pipeline.fit(X_train, y_train)\n",
    "\n",
    "    y_train_pred = best_pipeline.predict(X_train)\n",
    "    y_test_pred = best_pipeline.predict(X_test)\n",
    "\n",
    "    train_corr = pearsonr(y_train, y_train_pred)[0]\n",
    "    test_corr = pearsonr(y_test, y_test_pred)[0]\n",
    "\n",
    "    results.append({\n",
    "        \"fold\": k,\n",
    "        \"train_corr\": train_corr,\n",
    "        \"test_corr\": test_corr,\n",
    "        })\n",
    "    best_res_df = pd.DataFrame(results)\n",
    "    res[k] = {'test': y_test, 'pred': y_test_pred, 'train': y_train}"
   ]
  },
  {
   "cell_type": "code",
   "execution_count": null,
   "id": "e49a91eb",
   "metadata": {},
   "outputs": [],
   "source": []
  },
  {
   "cell_type": "code",
   "execution_count": null,
   "id": "bbdd419d",
   "metadata": {},
   "outputs": [],
   "source": []
  },
  {
   "cell_type": "code",
   "execution_count": null,
   "id": "155c4d0d",
   "metadata": {},
   "outputs": [],
   "source": []
  },
  {
   "cell_type": "code",
   "execution_count": 59,
   "id": "5239d44a",
   "metadata": {},
   "outputs": [
    {
     "data": {
      "text/html": [
       "<div>\n",
       "<style scoped>\n",
       "    .dataframe tbody tr th:only-of-type {\n",
       "        vertical-align: middle;\n",
       "    }\n",
       "\n",
       "    .dataframe tbody tr th {\n",
       "        vertical-align: top;\n",
       "    }\n",
       "\n",
       "    .dataframe thead th {\n",
       "        text-align: right;\n",
       "    }\n",
       "</style>\n",
       "<table border=\"1\" class=\"dataframe\">\n",
       "  <thead>\n",
       "    <tr style=\"text-align: right;\">\n",
       "      <th></th>\n",
       "      <th>fold</th>\n",
       "      <th>train_corr</th>\n",
       "      <th>test_corr</th>\n",
       "    </tr>\n",
       "  </thead>\n",
       "  <tbody>\n",
       "    <tr>\n",
       "      <th>0</th>\n",
       "      <td>0</td>\n",
       "      <td>0.971755</td>\n",
       "      <td>0.850419</td>\n",
       "    </tr>\n",
       "    <tr>\n",
       "      <th>1</th>\n",
       "      <td>1</td>\n",
       "      <td>0.973514</td>\n",
       "      <td>0.808450</td>\n",
       "    </tr>\n",
       "    <tr>\n",
       "      <th>2</th>\n",
       "      <td>2</td>\n",
       "      <td>0.970723</td>\n",
       "      <td>0.791760</td>\n",
       "    </tr>\n",
       "    <tr>\n",
       "      <th>3</th>\n",
       "      <td>3</td>\n",
       "      <td>0.973460</td>\n",
       "      <td>0.825299</td>\n",
       "    </tr>\n",
       "    <tr>\n",
       "      <th>4</th>\n",
       "      <td>4</td>\n",
       "      <td>0.972731</td>\n",
       "      <td>0.857133</td>\n",
       "    </tr>\n",
       "    <tr>\n",
       "      <th>5</th>\n",
       "      <td>5</td>\n",
       "      <td>0.972461</td>\n",
       "      <td>0.758532</td>\n",
       "    </tr>\n",
       "    <tr>\n",
       "      <th>6</th>\n",
       "      <td>6</td>\n",
       "      <td>0.973004</td>\n",
       "      <td>0.775226</td>\n",
       "    </tr>\n",
       "    <tr>\n",
       "      <th>7</th>\n",
       "      <td>7</td>\n",
       "      <td>0.971306</td>\n",
       "      <td>0.841415</td>\n",
       "    </tr>\n",
       "    <tr>\n",
       "      <th>8</th>\n",
       "      <td>8</td>\n",
       "      <td>0.972276</td>\n",
       "      <td>0.832230</td>\n",
       "    </tr>\n",
       "    <tr>\n",
       "      <th>9</th>\n",
       "      <td>9</td>\n",
       "      <td>0.971810</td>\n",
       "      <td>0.909345</td>\n",
       "    </tr>\n",
       "  </tbody>\n",
       "</table>\n",
       "</div>"
      ],
      "text/plain": [
       "   fold  train_corr  test_corr\n",
       "0     0    0.971755   0.850419\n",
       "1     1    0.973514   0.808450\n",
       "2     2    0.970723   0.791760\n",
       "3     3    0.973460   0.825299\n",
       "4     4    0.972731   0.857133\n",
       "5     5    0.972461   0.758532\n",
       "6     6    0.973004   0.775226\n",
       "7     7    0.971306   0.841415\n",
       "8     8    0.972276   0.832230\n",
       "9     9    0.971810   0.909345"
      ]
     },
     "execution_count": 59,
     "metadata": {},
     "output_type": "execute_result"
    }
   ],
   "source": [
    "best_res_df"
   ]
  },
  {
   "cell_type": "code",
   "execution_count": 60,
   "id": "edb5c4e3",
   "metadata": {},
   "outputs": [
    {
     "data": {
      "text/html": [
       "<div>\n",
       "<style scoped>\n",
       "    .dataframe tbody tr th:only-of-type {\n",
       "        vertical-align: middle;\n",
       "    }\n",
       "\n",
       "    .dataframe tbody tr th {\n",
       "        vertical-align: top;\n",
       "    }\n",
       "\n",
       "    .dataframe thead th {\n",
       "        text-align: right;\n",
       "    }\n",
       "</style>\n",
       "<table border=\"1\" class=\"dataframe\">\n",
       "  <thead>\n",
       "    <tr style=\"text-align: right;\">\n",
       "      <th></th>\n",
       "      <th>fold</th>\n",
       "      <th>train_corr</th>\n",
       "      <th>test_corr</th>\n",
       "    </tr>\n",
       "  </thead>\n",
       "  <tbody>\n",
       "    <tr>\n",
       "      <th>0</th>\n",
       "      <td>0</td>\n",
       "      <td>0.941063</td>\n",
       "      <td>0.548148</td>\n",
       "    </tr>\n",
       "    <tr>\n",
       "      <th>1</th>\n",
       "      <td>1</td>\n",
       "      <td>0.938265</td>\n",
       "      <td>0.404039</td>\n",
       "    </tr>\n",
       "    <tr>\n",
       "      <th>2</th>\n",
       "      <td>2</td>\n",
       "      <td>0.940764</td>\n",
       "      <td>0.229311</td>\n",
       "    </tr>\n",
       "    <tr>\n",
       "      <th>3</th>\n",
       "      <td>3</td>\n",
       "      <td>0.939848</td>\n",
       "      <td>0.559639</td>\n",
       "    </tr>\n",
       "    <tr>\n",
       "      <th>4</th>\n",
       "      <td>4</td>\n",
       "      <td>0.937392</td>\n",
       "      <td>0.563501</td>\n",
       "    </tr>\n",
       "    <tr>\n",
       "      <th>5</th>\n",
       "      <td>5</td>\n",
       "      <td>0.942795</td>\n",
       "      <td>0.346068</td>\n",
       "    </tr>\n",
       "    <tr>\n",
       "      <th>6</th>\n",
       "      <td>6</td>\n",
       "      <td>0.938975</td>\n",
       "      <td>0.521602</td>\n",
       "    </tr>\n",
       "    <tr>\n",
       "      <th>7</th>\n",
       "      <td>7</td>\n",
       "      <td>0.936515</td>\n",
       "      <td>0.574523</td>\n",
       "    </tr>\n",
       "    <tr>\n",
       "      <th>8</th>\n",
       "      <td>8</td>\n",
       "      <td>0.935324</td>\n",
       "      <td>0.598116</td>\n",
       "    </tr>\n",
       "    <tr>\n",
       "      <th>9</th>\n",
       "      <td>9</td>\n",
       "      <td>0.934136</td>\n",
       "      <td>0.715371</td>\n",
       "    </tr>\n",
       "  </tbody>\n",
       "</table>\n",
       "</div>"
      ],
      "text/plain": [
       "   fold  train_corr  test_corr\n",
       "0     0    0.941063   0.548148\n",
       "1     1    0.938265   0.404039\n",
       "2     2    0.940764   0.229311\n",
       "3     3    0.939848   0.559639\n",
       "4     4    0.937392   0.563501\n",
       "5     5    0.942795   0.346068\n",
       "6     6    0.938975   0.521602\n",
       "7     7    0.936515   0.574523\n",
       "8     8    0.935324   0.598116\n",
       "9     9    0.934136   0.715371"
      ]
     },
     "execution_count": 60,
     "metadata": {},
     "output_type": "execute_result"
    }
   ],
   "source": [
    "best_res_df"
   ]
  },
  {
   "cell_type": "code",
   "execution_count": 63,
   "id": "403f815a",
   "metadata": {},
   "outputs": [
    {
     "data": {
      "text/plain": [
       "np.float64(0.8249808986851747)"
      ]
     },
     "execution_count": 63,
     "metadata": {},
     "output_type": "execute_result"
    }
   ],
   "source": [
    "best_res_df.test_corr.median()"
   ]
  },
  {
   "cell_type": "code",
   "execution_count": 64,
   "id": "e8df62ea",
   "metadata": {},
   "outputs": [
    {
     "data": {
      "text/plain": [
       "0.6723999999999999"
      ]
     },
     "execution_count": 64,
     "metadata": {},
     "output_type": "execute_result"
    }
   ],
   "source": [
    "0.82**2"
   ]
  },
  {
   "cell_type": "code",
   "execution_count": null,
   "id": "657fdea0",
   "metadata": {},
   "outputs": [],
   "source": []
  }
 ],
 "metadata": {
  "kernelspec": {
   "display_name": "Python [conda env:metastatic_potential]",
   "language": "python",
   "name": "conda-env-metastatic_potential-py"
  },
  "language_info": {
   "codemirror_mode": {
    "name": "ipython",
    "version": 3
   },
   "file_extension": ".py",
   "mimetype": "text/x-python",
   "name": "python",
   "nbconvert_exporter": "python",
   "pygments_lexer": "ipython3",
   "version": "3.13.0"
  }
 },
 "nbformat": 4,
 "nbformat_minor": 5
}
