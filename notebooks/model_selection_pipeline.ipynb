{
 "cells": [
  {
   "cell_type": "markdown",
   "id": "69ff9f2b",
   "metadata": {},
   "source": [
    "To do: load in non feature selected, non mean-centered data"
   ]
  },
  {
   "cell_type": "code",
   "execution_count": 1,
   "id": "dcb1ad68",
   "metadata": {},
   "outputs": [],
   "source": [
    "import os\n",
    "\n",
    "import numpy as np\n",
    "import pandas as pd\n",
    "\n",
    "from sklearn.model_selection import GridSearchCV, cross_val_score, KFold\n",
    "from sklearn.pipeline import Pipeline\n",
    "from sklearn.preprocessing import StandardScaler\n",
    "from sklearn.decomposition import PCA\n",
    "from sklearn.cross_decomposition import PLSRegression\n",
    "from sklearn.svm import SVR\n",
    "from sklearn.ensemble import RandomForestRegressor\n",
    "from sklearn.base import BaseEstimator, TransformerMixin\n",
    "from sklearn.metrics import make_scorer, mean_squared_error\n",
    "from scipy.stats import pearsonr\n",
    "from sklearn.utils import shuffle"
   ]
  },
  {
   "cell_type": "code",
   "execution_count": 3,
   "id": "6133b0c8",
   "metadata": {},
   "outputs": [],
   "source": [
    "# Feature selection transformer\n",
    "class FeatureSelector(BaseEstimator, TransformerMixin):\n",
    "    def __init__(self, method='top_n_cv', n_features=None):\n",
    "        if method not in ['top_n_cv']:#, 'all_features']:\n",
    "            raise ValueError('Incorrect feature selection method implemented')\n",
    "        self.method = method\n",
    "        self.n_features = n_features\n",
    "\n",
    "    def fit(self, X, y=None):\n",
    "        if self.method == 'top_n_cv':\n",
    "            self.coefficient_of_variation_ = np.std(X, axis=0) / np.mean(X, axis=0)\n",
    "            self.top_indices_ = np.argsort(self.coefficient_of_variation_)[::-1][:self.n_features]\n",
    "#         elif self.method == 'all_features':\n",
    "#             self.top_indices_ = range(X.shape[1])\n",
    "        return self\n",
    "    def transform(self, X, y=None):\n",
    "        return X[:, self.top_indices_]\n",
    "    \n",
    "class MeanCenterer(TransformerMixin, BaseEstimator):\n",
    "    def fit(self, X, y=None):\n",
    "        self.mean_ = np.mean(X, axis=0)\n",
    "        return self\n",
    "\n",
    "    def transform(self, X, y=None):\n",
    "        return X - self.mean_\n",
    "    \n",
    "def pearson_corr_scorer(y_true, y_pred):\n",
    "    return pearsonr(y_true, y_pred)[0]"
   ]
  },
  {
   "cell_type": "code",
   "execution_count": 4,
   "id": "d627a1cd",
   "metadata": {},
   "outputs": [],
   "source": [
    "def create_pipeline(n_cores, random_state):\n",
    "    # Step 1: Feature reduction/selection\n",
    "    feature_reduction = [\n",
    "        ('PLS', PLSRegression(scale = False)),\n",
    "        ('PCA', PCA(random_state=random_state)),\n",
    "        ('FeatureSelector', FeatureSelector(method='top_n_cv'))\n",
    "    ]\n",
    "    feature_reduction_params = [\n",
    "        {'PLS__n_components': [2, 5, 10, 25, 50, 100, 200]},\n",
    "        {'PCA__n_components': [2, 5, 10, 25, 50, 100, 200]},\n",
    "        {'FeatureSelector__n_features': [250, 500, 1000, 5000, 17879]} # last one is no selecting features\n",
    "    ]\n",
    "    \n",
    "    # Step 2: Modeling\n",
    "    models = [\n",
    "        ('SVR', SVR(gamma=0.001)),\n",
    "        ('RFR', RandomForestRegressor(random_state=random_state, n_jobs=n_cores))  # Pass random_state and n_jobs\n",
    "    ]\n",
    "    model_params = [\n",
    "        {\n",
    "            'SVR__kernel': ['rbf', 'poly'],\n",
    "            'SVR__C': [0.001, 0.01, 0.1, 1, 10, 100],\n",
    "            'SVR__degree': [2, 3, 4],\n",
    "            'SVR__coef0': [0, 0.1, 0.5, 1.0, 1.2, 2.0]\n",
    "        },\n",
    "        {\n",
    "            'RFR__n_estimators': range(100, 1001, 250),\n",
    "            'RFR__max_features': ['sqrt', 'log2', 0.5, 0.75, 1],\n",
    "            'RFR__max_samples': [0.25, 0.5, 0.75, None],\n",
    "            'RFR__max_depth': [None, 10, 25, 50, 100, 200]\n",
    "        }\n",
    "    ]\n",
    "\n",
    "    return feature_reduction, feature_reduction_params, models, model_params"
   ]
  },
  {
   "cell_type": "code",
   "execution_count": 2,
   "id": "dbeef354",
   "metadata": {},
   "outputs": [],
   "source": [
    "data_path = '/nobackup/users/hmbaghda/metastatic_potential/'\n",
    "random_state = 42\n",
    "\n",
    "n_cores = 30\n",
    "os.environ[\"OMP_NUM_THREADS\"] = str(n_cores)\n",
    "os.environ[\"MKL_NUM_THREADS\"] = str(n_cores)\n",
    "os.environ[\"OPENBLAS_NUM_THREADS\"] = str(n_cores)\n",
    "os.environ[\"VECLIB_MAXIMUM_THREADS\"] = str(n_cores)\n",
    "os.environ[\"NUMEXPR_NUM_THREADS\"] = str(n_cores)"
   ]
  },
  {
   "cell_type": "code",
   "execution_count": 5,
   "id": "b0b152e5",
   "metadata": {},
   "outputs": [],
   "source": [
    "X = pd.read_csv(os.path.join(data_path, 'processed',  'expr.csv'), index_col = 0).T.values\n",
    "y = pd.read_csv(os.path.join(data_path, 'processed', 'metastatic_potential.csv'), index_col = 0).values.ravel()"
   ]
  },
  {
   "cell_type": "code",
   "execution_count": 6,
   "id": "23e5c234",
   "metadata": {},
   "outputs": [],
   "source": [
    "outer_folds=10\n",
    "inner_folds=5"
   ]
  },
  {
   "cell_type": "code",
   "execution_count": null,
   "id": "5636eb4a",
   "metadata": {},
   "outputs": [],
   "source": [
    "mse_scorer = make_scorer(mean_squared_error, greater_is_better=False)\n",
    "outer_cv = KFold(n_splits=outer_folds, shuffle=True, random_state=random_state)\n",
    "inner_cv = KFold(n_splits=inner_folds, shuffle=True, random_state=random_state)\n",
    "feature_reduction, feature_reduction_params, models, model_params = create_pipeline(n_cores, random_state)\n",
    "\n",
    "\n",
    "results = []\n",
    "for feature_step, feature_params in zip(feature_reduction, feature_reduction_params):\n",
    "    for model_step, model_param in zip(models, model_params):\n",
    "        \n",
    "        # set up pipeline\n",
    "        steps = []\n",
    "        if feature_step[0] in ['PLS', 'PCA']:\n",
    "            steps.append(('mean_centering', MeanCenterer()))\n",
    "            steps.append(feature_step)\n",
    "        elif feature_step[0] == 'FeatureSelector':\n",
    "            steps.append(feature_step)\n",
    "            steps.append(('mean_centering', MeanCenterer()))\n",
    "\n",
    "        steps.append(model_step)\n",
    "\n",
    "        pipeline = Pipeline(steps)\n",
    "\n",
    "        param_grid = {**feature_params}\n",
    "        param_grid.update({k: v for k, v in model_param.items()})\n",
    "\n",
    "\n",
    "\n",
    "        grid = GridSearchCV(pipeline, param_grid, cv=inner_cv, \n",
    "                            return_train_score = True,\n",
    "                            scoring=mse_scorer, n_jobs=n_cores)\n",
    "        for k, (train_idx, test_idx) in enumerate(outer_cv.split(X, y)):\n",
    "            print('feature: ' + feature_step[0] + ' | ' + 'model: ' + model_step[0] + ' | k: {}'.format(k))\n",
    "            X_train, X_test = X[train_idx], X[test_idx]\n",
    "            y_train, y_test = y[train_idx], y[test_idx]\n",
    "\n",
    "            grid.fit(X_train, y_train)\n",
    "            best_model = grid.best_estimator_\n",
    "\n",
    "            y_train_pred = best_model.predict(X_train)\n",
    "            y_test_pred = best_model.predict(X_test)\n",
    "\n",
    "            train_corr = pearsonr(y_train, y_train_pred)[0]\n",
    "            test_corr = pearsonr(y_test, y_test_pred)[0]\n",
    "\n",
    "            results.append({\n",
    "                'outer_fold': k,\n",
    "                'feature_selection': feature_step[0],\n",
    "                'model': model_step[0],\n",
    "                'train_corr': train_corr,\n",
    "                'test_corr': test_corr,\n",
    "                'best_params': grid.best_params_,\n",
    "                'cv_results': grid.cv_results_\n",
    "            })\n",
    "            res_df = pd.DataFrame(results)\n",
    "            res_df.to_csv(os.path.join(data_path, 'interim', 'pipeline.csv'))"
   ]
  },
  {
   "cell_type": "markdown",
   "id": "08c92dc2",
   "metadata": {},
   "source": [
    "# Start"
   ]
  },
  {
   "cell_type": "code",
   "execution_count": 13,
   "id": "00e9363d",
   "metadata": {},
   "outputs": [
    {
     "data": {
      "text/plain": [
       "dict_keys(['scoring', 'estimator', 'n_jobs', 'refit', 'cv', 'verbose', 'pre_dispatch', 'error_score', 'return_train_score', 'param_grid'])"
      ]
     },
     "execution_count": 13,
     "metadata": {},
     "output_type": "execute_result"
    }
   ],
   "source": [
    "grid.__dict__.keys()"
   ]
  },
  {
   "cell_type": "code",
   "execution_count": 14,
   "id": "5984f4dd",
   "metadata": {},
   "outputs": [
    {
     "data": {
      "text/plain": [
       "{'FeatureSelector__n_features': [250, 500, 1000, 5000, 17879],\n",
       " 'SVR__kernel': ['rbf', 'poly'],\n",
       " 'SVR__C': [0.001, 0.01, 0.1, 1, 10, 100],\n",
       " 'SVR__degree': [2, 3, 4],\n",
       " 'SVR__coef0': [0, 0.1, 0.5, 1.0, 1.2, 2.0]}"
      ]
     },
     "execution_count": 14,
     "metadata": {},
     "output_type": "execute_result"
    }
   ],
   "source": [
    "grid.param_grid"
   ]
  },
  {
   "cell_type": "code",
   "execution_count": 15,
   "id": "c3d5ff8c",
   "metadata": {},
   "outputs": [
    {
     "data": {
      "text/plain": [
       "1080"
      ]
     },
     "execution_count": 15,
     "metadata": {},
     "output_type": "execute_result"
    }
   ],
   "source": [
    "5*2*6*3*6"
   ]
  },
  {
   "cell_type": "code",
   "execution_count": null,
   "id": "53352b44",
   "metadata": {},
   "outputs": [],
   "source": []
  }
 ],
 "metadata": {
  "kernelspec": {
   "display_name": "Python [conda env:metastatic_potential]",
   "language": "python",
   "name": "conda-env-metastatic_potential-py"
  },
  "language_info": {
   "codemirror_mode": {
    "name": "ipython",
    "version": 3
   },
   "file_extension": ".py",
   "mimetype": "text/x-python",
   "name": "python",
   "nbconvert_exporter": "python",
   "pygments_lexer": "ipython3",
   "version": "3.13.0"
  }
 },
 "nbformat": 4,
 "nbformat_minor": 5
}
