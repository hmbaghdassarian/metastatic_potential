{
 "cells": [
  {
   "cell_type": "code",
   "execution_count": 1,
   "id": "6e46115f",
   "metadata": {},
   "outputs": [],
   "source": [
    "import pandas as pd\n",
    "import os\n",
    "\n",
    "data_path = '/nobackup/users/hmbaghda/metastatic_potential/'"
   ]
  },
  {
   "cell_type": "markdown",
   "id": "fef071bf",
   "metadata": {},
   "source": [
    "### Table WW\n",
    "\n",
    "- Sheet 1: Consensus model hyperparameters selected (from results reported in Table WW)\n",
    "- Sheets 2-4: In each of 10-folds, the best performing hyper-parameters identified in Optuna from inner 5-fold CV and the performance metrics for that model in that fold.\n",
    "- Sheet 5: Hyperparameters used in consensus models"
   ]
  },
  {
   "cell_type": "markdown",
   "id": "56a657b9",
   "metadata": {},
   "source": [
    "#### Sheet 1:"
   ]
  },
  {
   "cell_type": "code",
   "execution_count": 55,
   "id": "922c2d97",
   "metadata": {},
   "outputs": [],
   "source": [
    "hps = pd.DataFrame(columns = ['hyperparameter', 'relevant models', 'values explored'])\n",
    "\n",
    "hps.loc[0,:] = ['Number of Selected Features', \n",
    "                'all', \n",
    "                '250, 500, 1000, 5000, all features']\n",
    "\n",
    "hps.loc[1, :] = ['C', 'SVR', 'between 1e-4 and 1e-2, log = True']\n",
    "hps.loc[2, :] = ['epsilon', 'SVR', 'between 1e-3 and 10, log = True']\n",
    "hps.loc[3, :] = ['gamma', 'SVR (rbf and poly kernels only)', \"'scale', 'auto'\"]\n",
    "hps.loc[4, :] = ['degree', 'SVR (poly kernel only)', \"2,3,4,5\"]\n",
    "hps.loc[5, :] = ['coef0', 'SVR (poly kernel only)', 'between 0 and 2 with a step size of 0.1']\n",
    "\n",
    "hps.loc[6, :] = ['n_components', 'PLSR', 'between 2 and 100 with a step size of 1']\n",
    "hps.loc[7, :] = ['alpha', 'Ridge, Lasso, ElasticNet', 'between 1e-3 and 1e2, log = True']\n",
    "hps.loc[8, :] = ['l1_ratio', 'ElasticNet', 'between 0.3 and 0.7 with a step size of 0.1']\n",
    "\n",
    "hps.loc[9, :] = ['n_estimators', 'Random Forest', 'between 300 and 1600 with a step size of 400']\n",
    "hps.loc[10, :] = ['max_features', 'Random Forest', '\"sqrt\", \"log2\", 0.5, 0.75, 1']\n",
    "hps.loc[11, :] = ['max_samples', 'Random Forest', '0.25, 0.5, 0.75, None']\n",
    "hps.loc[12, :] = ['max_depth', 'Random Forest', 'None, 10, 25, 50, 100, 200']\n",
    "\n",
    "hps.loc[13, :] = ['n_neighbors', 'KNN', 'between 15 and 25 with a step size of 1']\n",
    "hps.loc[14, :] = ['weights', 'KNN', \"'uniform', 'distance'\"]\n",
    "hps.loc[15, :] = ['metric', 'KNN', \"'minkowski', 'l1', 'l2', 'cosine'\"]"
   ]
  },
  {
   "cell_type": "markdown",
   "id": "42412058",
   "metadata": {},
   "source": [
    "#### Sheet 5: "
   ]
  },
  {
   "cell_type": "code",
   "execution_count": 56,
   "id": "552dfc8d",
   "metadata": {},
   "outputs": [],
   "source": [
    "rna_hp = pd.read_csv(os.path.join(data_path, 'interim', \n",
    "                                       'pipeline_model_selection_transcriptomics_individual.csv'), \n",
    "                    index_col = 0)\n",
    "\n",
    "protein_hp = pd.read_csv(os.path.join(data_path, 'interim', \n",
    "                                       'pipeline_model_selection_proteomics_individual.csv'), \n",
    "                    index_col = 0)\n",
    "\n",
    "joint_hp = pd.read_csv(os.path.join(data_path, 'interim', \n",
    "                                       'pipeline_model_selection_joint_individual.csv'), \n",
    "                    index_col = 0)\n"
   ]
  },
  {
   "cell_type": "code",
   "execution_count": 57,
   "id": "b86b4954",
   "metadata": {},
   "outputs": [],
   "source": [
    "hp_all = {'transcriptomics': rna_hp, \n",
    "         'proteomics': protein_hp, \n",
    "         'joint': joint_hp}\n",
    "cm_model_types = {'transcriptomics': ['SVR_linear', 'SVR_rbf', 'SVR_poly'], \n",
    "                 'proteomics': ['SVR_linear', 'SVR_rbf', 'SVR_poly', 'Ridge'], \n",
    "                 'joint': ['SVR_linear', 'SVR_rbf', 'SVR_poly', 'Ridge']}"
   ]
  },
  {
   "cell_type": "code",
   "execution_count": 58,
   "id": "535c8081",
   "metadata": {},
   "outputs": [],
   "source": [
    "cm_summary = pd.DataFrame(columns = ['modality', 'model_type', 'consensus hyperparameters'])\n",
    "for modality, df in hp_all.items():\n",
    "    model_types = cm_model_types[modality]\n",
    "    df = df[df.model_type.isin(model_types)]\n",
    "    break_ = False\n",
    "    for mt in model_types:\n",
    "        bp = pd.DataFrame(df[df.model_type == mt]['best_params'].apply(lambda x: eval(x)).tolist())\n",
    "        bp.columns = [x.split('__')[1] for x in bp.columns]\n",
    "\n",
    "        consensus_bp = {}\n",
    "        for col in bp.columns:\n",
    "            if col in ['n_features', 'n_features_rna', 'gamma', 'degree']:\n",
    "                consensus_bp[col] = bp[col].mode().tolist()[0]\n",
    "            elif col in ['n_features_protein']:\n",
    "                consensus_bp[col] = int(bp[col].median())\n",
    "            elif col in ['C', 'epsilon', 'coef0', 'alpha']:\n",
    "                consensus_bp[col] = float(bp[col].mean())\n",
    "            else:\n",
    "                print(col)\n",
    "                raise ValueError('Unexpected hyperparameter')\n",
    "        cm_summary.loc[cm_summary.shape[0], :] = [modality, mt, consensus_bp]"
   ]
  },
  {
   "cell_type": "markdown",
   "id": "3b1a41f0",
   "metadata": {},
   "source": [
    "#### Sheets 2-4:"
   ]
  },
  {
   "cell_type": "code",
   "execution_count": 59,
   "id": "ac3a1086",
   "metadata": {},
   "outputs": [],
   "source": [
    "def format_hp_res(df, modality):\n",
    "    df = df.copy()\n",
    "    df.drop(columns = ['inner_cv'], inplace = True)\n",
    "    df['best_params'] = df['best_params'].apply(lambda x: {k.split('__')[1]:v for k,v in eval(x).items()})\n",
    "    df['modality'] = modality\n",
    "    \n",
    "    return df"
   ]
  },
  {
   "cell_type": "code",
   "execution_count": 60,
   "id": "8de09f01",
   "metadata": {},
   "outputs": [],
   "source": [
    "rna_hp = format_hp_res(rna_hp, modality = 'transcriptomics')\n",
    "protein_hp = format_hp_res(protein_hp, modality = 'proteomics')\n",
    "joint_hp = format_hp_res(joint_hp, modality = 'joint')\n"
   ]
  },
  {
   "cell_type": "code",
   "execution_count": 62,
   "id": "332c70ab",
   "metadata": {},
   "outputs": [],
   "source": [
    "# Write to Excel with multiple sheets\n",
    "with pd.ExcelWriter(os.path.join(data_path, 'processed', 'TableWW.xlsx')) as writer:\n",
    "    hps.to_excel(writer, sheet_name=\"hyperparameters explored\", index=False)\n",
    "    rna_hp.to_excel(writer, sheet_name=\"transcriptomics Optuna results\", index=False)\n",
    "    protein_hp.to_excel(writer, sheet_name=\"proteomics Optuna results\", index=False)\n",
    "    joint_hp.to_excel(writer, sheet_name=\"joint Optuna results\", index=False)\n",
    "    cm_summary.to_excel(writer, sheet_name=\"consensus model hyperparameters\", index=False)"
   ]
  },
  {
   "cell_type": "markdown",
   "id": "ef7c43c1",
   "metadata": {},
   "source": [
    "### Table XX\n",
    "\n",
    "MWU p-values and Cohen's D comparing each of the performance metrics of the best models (reported in Table WW) across all 10-folds. "
   ]
  },
  {
   "cell_type": "code",
   "execution_count": 52,
   "id": "fa72b660",
   "metadata": {},
   "outputs": [],
   "source": [
    "with pd.ExcelWriter(os.path.join(data_path, 'processed', 'TableXX.xlsx')) as writer:\n",
    "    for modality in ['transcriptomics', 'proteomics', 'joint']:\n",
    "        df = pd.read_csv(os.path.join(data_path, 'processed', modality + '_comparison_stats.csv'), \n",
    "                        index_col = 0)\n",
    "        df['modality'] = modality\n",
    "        df.to_excel(writer, sheet_name=modality, index=False)"
   ]
  }
 ],
 "metadata": {
  "kernelspec": {
   "display_name": "Python [conda env:metastatic_potential]",
   "language": "python",
   "name": "conda-env-metastatic_potential-py"
  },
  "language_info": {
   "codemirror_mode": {
    "name": "ipython",
    "version": 3
   },
   "file_extension": ".py",
   "mimetype": "text/x-python",
   "name": "python",
   "nbconvert_exporter": "python",
   "pygments_lexer": "ipython3",
   "version": "3.13.0"
  }
 },
 "nbformat": 4,
 "nbformat_minor": 5
}
