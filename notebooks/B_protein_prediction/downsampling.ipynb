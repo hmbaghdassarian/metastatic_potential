{
 "cells": [
  {
   "cell_type": "markdown",
   "id": "1ef39c53",
   "metadata": {},
   "source": [
    "It is an unexpected result for the transcriptomics to outperform the proteomics, as we would expect for the most part, proteins to be closer to phenotype and mechanism than RNA. \n",
    "\n",
    "Here, we hypothesize that this may be due to the fact that transcriptomics covers a larger fraction of the genome than proteomics, resulting in more comprehensive coverage, including geneds more informative of metastatic mechanisms. This may be likely for two reasons: 1) the transcriptomics didn't outperform the proteomics too strongly (by MSE effect size and few significant comparisons in Pearson), and 2) the proteomics gained its performance with a small subset of total features, whereas transcriptomics required all features.\n",
    "\n",
    "In the previous notebook, we down-samples the sumple numbers of the transcriptomics as a comparison. Here, we will also downsample the transcriptomic features to that of the protein dataset to see how this effects model performance. "
   ]
  },
  {
   "cell_type": "code",
   "execution_count": 1,
   "id": "830bdcbc",
   "metadata": {},
   "outputs": [
    {
     "name": "stderr",
     "output_type": "stream",
     "text": [
      "/nobackup/users/hmbaghda/Software/miniforge3/envs/metastatic_potential/lib/python3.13/site-packages/tqdm/auto.py:21: TqdmWarning: IProgress not found. Please update jupyter and ipywidgets. See https://ipywidgets.readthedocs.io/en/stable/user_install.html\n",
      "  from .autonotebook import tqdm as notebook_tqdm\n"
     ]
    }
   ],
   "source": [
    "import os\n",
    "import json\n",
    "from tqdm import tqdm\n",
    "\n",
    "import pandas as pd\n",
    "import numpy as np\n",
    "\n",
    "import seaborn as sns\n",
    "import matplotlib.pyplot as plt\n",
    "\n",
    "import sys\n",
    "sys.path.insert(1, '../')\n",
    "from utils import read_pickled_object, cohen_d"
   ]
  },
  {
   "cell_type": "code",
   "execution_count": 2,
   "id": "5f457af1",
   "metadata": {},
   "outputs": [],
   "source": [
    "data_path = '/nobackup/users/hmbaghda/metastatic_potential/'\n",
    "random_state = 1024\n",
    "\n",
    "n_cores = 30\n",
    "os.environ[\"OMP_NUM_THREADS\"] = str(n_cores)\n",
    "os.environ[\"MKL_NUM_THREADS\"] = str(n_cores)\n",
    "os.environ[\"OPENBLAS_NUM_THREADS\"] = str(n_cores)\n",
    "os.environ[\"VECLIB_MAXIMUM_THREADS\"] = str(n_cores)\n",
    "os.environ[\"NUMEXPR_NUM_THREADS\"] = str(n_cores)"
   ]
  },
  {
   "cell_type": "markdown",
   "id": "c7033006",
   "metadata": {},
   "source": [
    "# 0. Map Features"
   ]
  },
  {
   "cell_type": "markdown",
   "id": "a75bff89",
   "metadata": {},
   "source": [
    "Load the files:"
   ]
  },
  {
   "cell_type": "code",
   "execution_count": 58,
   "id": "e9f09a65",
   "metadata": {},
   "outputs": [],
   "source": [
    "# protein\n",
    "expr_protein = pd.read_csv(os.path.join(data_path, 'processed',  'expr_protein.csv'), index_col = 0)\n",
    "protein_cols = expr_protein.columns\n",
    "\n",
    "mp_protein = pd.read_csv(os.path.join(data_path, 'processed', 'metastatic_potential_protein.csv'), index_col = 0)\n",
    "\n",
    "X_protein = expr_protein.values\n",
    "y_protein = mp_protein['mean'].values.ravel()\n",
    "\n",
    "# rna\n",
    "expr_rna = pd.read_csv(os.path.join(data_path, 'processed',  'expr.csv'), index_col = 0)\n",
    "rna_cols = expr_rna.columns\n",
    "mp_rna = pd.read_csv(os.path.join(data_path, 'processed', 'metastatic_potential.csv'), index_col = 0)\n",
    "\n",
    "X_rna = expr_rna.values\n",
    "y_rna = mp_rna['mean'].values.ravel()\n"
   ]
  },
  {
   "cell_type": "code",
   "execution_count": 4,
   "id": "5f6b37d6",
   "metadata": {},
   "outputs": [],
   "source": [
    "# map from uniprot ID to gene name\n",
    "# uniprot_ids = list(set([protein_id.split('|')[1].split('-')[0] for protein_id in protein_cols]))\n",
    "# mg = mygene.MyGeneInfo()\n",
    "# uid_maps = mg.querymany(uniprot_ids, scopes=\"uniprot\", fields=\"symbol\", species=\"human\")\n",
    "# uid_mapper = {pn.get('query'): pn.get('symbol', np.nan) for pn in uid_maps}\n",
    "# with open(os.path.join(data_path, 'processed', 'uniprot_mapper.json'), \"w\") as json_file:\n",
    "#     json.dump(uid_mapper, json_file, indent=4)\n",
    "with open(os.path.join(data_path, 'processed', 'uniprot_mapper.json'), \"r\") as json_file:\n",
    "    uid_mapper = json.load(json_file)\n",
    "    \n",
    "# manually mapped some that failed to map using uniprot ID\n",
    "manual_map = {'Q9TNN7': 'HLA-C',\n",
    "'P16189': 'HLA-A',\n",
    "'P30456': 'HLA-A',\n",
    "'P30443': 'HLA-A',\n",
    "'P05534': 'HLA-A',\n",
    "'P18462': 'HLA-A',\n",
    "'P01892': 'HLA-A',\n",
    "'P13746': 'HLA-A',\n",
    "'P01891': 'HLA-A',\n",
    "'P30483': 'HLA-B',\n",
    "'P30484': 'HLA-B',\n",
    "'P03989': 'HLA-B',\n",
    "'P30460': 'HLA-B',\n",
    "'P30461': 'HLA-B',\n",
    "'Q95365': 'HLA-B',\n",
    "'P16188': 'HLA-A',\n",
    "'Q95604': 'HLA-C',\n",
    "'Q07000': 'HLA-C',\n",
    "'P30499': 'HLA-C',\n",
    "'P30501': 'HLA-C',\n",
    "'P30504': 'HLA-C',\n",
    "'Q95IE3': 'HLA-DRB1',\n",
    "'P04229': 'HLA-DRB1',\n",
    "'P20039': 'HLA-DRB1',\n",
    "'P13760': 'HLA-DRB1',\n",
    "'Q5Y7A7': 'HLA-DRB1',\n",
    "'Q9GIY3': 'HLA-DRB1',\n",
    "'Q9TQE0': 'HLA-DRB1',\n",
    "'Q30134': 'HLA-DRB1'}\n",
    "    \n",
    "protein_names = []\n",
    "for protein_id in protein_cols:\n",
    "    uniprot_id = protein_id.split('|')[1].split('-')[0]\n",
    "    if pd.isna(uid_mapper[uniprot_id]):\n",
    "        gene_name = protein_id.split('|')[-1].split('_HUMAN')[0]\n",
    "        if gene_name[0].isdigit():\n",
    "            gene_name = manual_map[uniprot_id]\n",
    "    else:\n",
    "        gene_name = uid_mapper[uniprot_id]\n",
    "    protein_names.append(gene_name)\n",
    "# n_protein_names = len(set(protein_names))"
   ]
  },
  {
   "cell_type": "code",
   "execution_count": 5,
   "id": "0a7f062a",
   "metadata": {},
   "outputs": [
    {
     "name": "stdout",
     "output_type": "stream",
     "text": [
      "Of the 19138 RNA features and 10969 protein features, there are 10291 features in common\n"
     ]
    }
   ],
   "source": [
    "rna_names = [rna_id.split(' (')[0] for rna_id in rna_cols]\n",
    "# protein_names = [protein_id.split('|')[-1].split('_HUMAN')[0] for protein_id in protein_cols]\n",
    "intersect_names = set(rna_names).intersection(protein_names)\n",
    "\n",
    "n_features = [len(rna_names), len(protein_names), len(intersect_names)]\n",
    "print('Of the {} RNA features and {} protein features, there are {} features in common'.format(*n_features))\n",
    "\n",
    "rna_map = dict(zip(rna_cols, rna_names))\n",
    "protein_map = dict(zip(protein_cols, protein_names))"
   ]
  },
  {
   "cell_type": "markdown",
   "id": "4a57bb41",
   "metadata": {},
   "source": [
    "# 2. Intersection with Proteomic Features\n",
    "\n",
    "Here, we re-run our prediction pipeline, starting again from hyperparameter tuning. We proceed with the linear SVRs as explained above. However, to make the comparison fair, in this case, for both transcriptomics and proteomics, we start with the intersection of features. Furthermore, we only use the samples in common between the two (similar to the power analysis)."
   ]
  },
  {
   "cell_type": "code",
   "execution_count": null,
   "id": "a28e9a2f",
   "metadata": {},
   "outputs": [],
   "source": [
    "from scipy.stats import pearsonr\n",
    "\n",
    "from sklearn.metrics import mean_squared_error\n",
    "from sklearn.model_selection import cross_val_score, KFold\n",
    "from sklearn.svm import SVR\n",
    "from sklearn.pipeline import Pipeline\n",
    "\n",
    "import optuna\n",
    "from optuna.samplers import CmaEsSampler, TPESampler, RandomSampler\n",
    "\n",
    "from utils import FeatureSelector, MeanCenterer, HybridSampler, RandomTPESampler"
   ]
  },
  {
   "cell_type": "markdown",
   "id": "ae829145",
   "metadata": {},
   "source": [
    "## 2.0: Map samples between proteomics and transcriptomics:"
   ]
  },
  {
   "cell_type": "code",
   "execution_count": 59,
   "id": "eb59b0c5",
   "metadata": {},
   "outputs": [],
   "source": [
    "md = pd.read_csv(os.path.join(data_path, 'raw', 'Model.csv'), index_col = 0)\n",
    "\n",
    "expr_protein.index = pd.Series(expr_protein.index).apply(lambda x: x.split('_')[0])\n",
    "\n",
    "sample_mapper = md[md.StrippedCellLineName.isin(expr_protein.index)]\n",
    "sample_mapper = dict(zip(sample_mapper.StrippedCellLineName, sample_mapper.index))\n",
    "if len(sample_mapper) != expr_protein.shape[0]:\n",
    "    raise ValueError('Expect all samples to be mapped')\n",
    "expr_protein.index = expr_protein.index.map(sample_mapper)\n",
    "mp_protein.index = expr_protein.index\n",
    "\n",
    "with open(os.path.join(data_path, 'processed', 'proteomics_sample_mapper.json'), \"w\") as json_file:\n",
    "    json.dump(sample_mapper, json_file, indent=4)"
   ]
  },
  {
   "cell_type": "code",
   "execution_count": 61,
   "id": "5740000d",
   "metadata": {},
   "outputs": [
    {
     "name": "stdout",
     "output_type": "stream",
     "text": [
      "Of the 248 and 481 samples in protein and RNA datasets, respectively, 247 are shared\n"
     ]
    }
   ],
   "source": [
    "common_samples = sorted(set(expr_protein.index).intersection(expr_rna.index))\n",
    "print('Of the {} and {} samples in protein and RNA datasets, respectively, {} are shared'.format(expr_protein.shape[0], \n",
    "                                                                                                expr_rna.shape[0], \n",
    "                                                                                                len(common_samples)))"
   ]
  },
  {
   "cell_type": "code",
   "execution_count": 71,
   "id": "faed5d6d",
   "metadata": {},
   "outputs": [],
   "source": [
    "expr_protein_common = expr_protein.loc[common_samples, :]\n",
    "expr_rna_common = expr_rna.loc[common_samples, :]\n",
    "mp_common = mp_protein.loc[common_samples, :]\n",
    "\n",
    "y_common = mp_common['mean'].values.ravel()"
   ]
  },
  {
   "cell_type": "markdown",
   "id": "d2035e9b",
   "metadata": {},
   "source": [
    "## 2.1: Hyperparameter tuning\n",
    "\n",
    "This is conducted on all samples available to each dataset, as previously described in notebooks A/02 and B/02: "
   ]
  },
  {
   "cell_type": "code",
   "execution_count": 67,
   "id": "f670ba72",
   "metadata": {},
   "outputs": [
    {
     "name": "stdout",
     "output_type": "stream",
     "text": [
      "Due to a lack of 1-to-1 mapping between protein and RNA features, taking the intersection between them results in 10649 protein features and 10291 RNA features\n",
      "\n",
      "Compare this to the starting amount of features for each:  10969 and 19138 for protein and RNA, respectively\n"
     ]
    }
   ],
   "source": [
    "intersect_genes = set(rna_names).intersection(protein_names)\n",
    "\n",
    "rna_cols_intersect = [rna_cols[i] for i, rna_name in enumerate(rna_names) if rna_name in intersect_genes]\n",
    "protein_cols_intersect = [protein_cols[i] for i, protein_name in enumerate(protein_names) if protein_name in intersect_genes]\n",
    "\n",
    "n_protein_features = len(protein_cols_intersect) \n",
    "n_rna_features = len(rna_cols_intersect)\n",
    "if n_protein_features != n_rna_features:\n",
    "    msg = 'Due to a lack of 1-to-1 mapping between protein and RNA features, '\n",
    "    msg += 'taking the intersection between them results in {} '.format(n_protein_features)\n",
    "    msg += 'protein features and {} RNA features'.format(n_rna_features)\n",
    "    print(msg)\n",
    "    print('')\n",
    "    \n",
    "    msg = 'Compare this to the starting amount of features for each: '\n",
    "    msg += ' {} and {} for protein and RNA, respectively'.format(len(protein_cols), len(rna_cols))\n",
    "    print(msg)"
   ]
  },
  {
   "cell_type": "code",
   "execution_count": 68,
   "id": "d4d69995",
   "metadata": {},
   "outputs": [],
   "source": [
    "def optuna_objective(trial, X, y, inner_cv, n_cores, random_state):\n",
    "    model_type = 'SVR_linear'\n",
    "    \n",
    "    # Define feature reduction/selection method\n",
    "        \n",
    "    steps = [\n",
    "        (\"feature_reduction\", FeatureSelector(method=\"top_n_cv\", \n",
    "                                              n_features=trial.suggest_categorical(\"FeatureSelector__n_features\", [250, 500, 1000, 5000, X.shape[1]]))),\n",
    "        (\"mean_centering\", MeanCenterer()),\n",
    "    ]\n",
    "\n",
    "    steps.append((\"model\", SVR(\n",
    "        kernel='linear',\n",
    "        C=trial.suggest_float(model_type + \"__C\", 1e-4, 1e2, log = True),\n",
    "        epsilon=trial.suggest_float(model_type + \"__epsilon\", 1e-3, 10, log=True)\n",
    "    )))\n",
    "\n",
    "    # Create the pipeline\n",
    "    pipeline = Pipeline(steps)\n",
    "\n",
    "    # Evaluate with cross-validation\n",
    "    mse = -cross_val_score(pipeline, X, y, \n",
    "                           cv=inner_cv, \n",
    "                           scoring=\"neg_mean_squared_error\", \n",
    "                           n_jobs=inner_cv.n_splits).mean()\n",
    "\n",
    "    return mse\n",
    "\n",
    "def generate_best_pipeline(study):\n",
    "    best_params = study.best_params\n",
    "    steps = []\n",
    "    steps.append((\"feature_reduction\", FeatureSelector(method=\"top_n_cv\", n_features=best_params[\"FeatureSelector__n_features\"])))\n",
    "    steps.append((\"mean_centering\", MeanCenterer()))\n",
    "    \n",
    "    steps.append((\"model\", SVR(\n",
    "        kernel='linear',\n",
    "        C=best_params[\"SVR_linear__C\"],\n",
    "        epsilon=best_params['SVR_linear__epsilon']\n",
    "    )))\n",
    "    best_pipeline = Pipeline(steps)\n",
    "    return best_pipeline"
   ]
  },
  {
   "cell_type": "code",
   "execution_count": 75,
   "id": "d61d2d35",
   "metadata": {},
   "outputs": [],
   "source": [
    "X_protein = expr_protein_common[protein_cols_intersect].copy().values\n",
    "X_rna = expr_rna_common[rna_cols_intersect].copy().values\n",
    "\n",
    "\n",
    "outer_folds=10\n",
    "inner_folds=5\n",
    "n_trials = 100"
   ]
  },
  {
   "cell_type": "code",
   "execution_count": 76,
   "id": "a81c199f",
   "metadata": {},
   "outputs": [
    {
     "name": "stderr",
     "output_type": "stream",
     "text": [
      "/nobackup/users/hmbaghda/Software/miniforge3/envs/metastatic_potential/lib/python3.13/site-packages/optuna/_experimental.py:31: ExperimentalWarning: Argument ``restart_strategy`` is an experimental feature. The interface can change in the future.\n",
      "  warnings.warn(\n"
     ]
    }
   ],
   "source": [
    "cmaes_sampler = CmaEsSampler(seed=random_state, \n",
    "                             warn_independent_sampling=False, \n",
    "                            restart_strategy='bipop')\n",
    "\n",
    "exploration_sampler = RandomSampler(seed=random_state)\n",
    "tpe_sampler = RandomTPESampler(seed=random_state, \n",
    "                               n_startup_trials = 15,\n",
    "                               exploration_sampler = exploration_sampler, \n",
    "                               exploration_freq=20 # randomly sample every n trials\n",
    "                              )"
   ]
  },
  {
   "cell_type": "code",
   "execution_count": 85,
   "id": "2225814b",
   "metadata": {},
   "outputs": [
    {
     "name": "stdout",
     "output_type": "stream",
     "text": [
      "0\n"
     ]
    }
   ],
   "source": [
    "outer_cv = KFold(n_splits=outer_folds, shuffle=True, random_state=random_state)\n",
    "inner_cv = KFold(n_splits=inner_folds, shuffle=True, random_state=random_state)\n",
    "\n",
    "results = []\n",
    "res_df = None\n",
    "\n",
    "for k, (train_idx, test_idx) in enumerate(outer_cv.split(X_protein, y_common)):\n",
    "    print(k)\n",
    "    y_train, y_test = y_common[train_idx], y_common[test_idx]\n",
    "\n",
    "    X = {'Proteomics': {}, \n",
    "        'Transcriptomics': {}}\n",
    "\n",
    "    X['Proteomics']['train'], X['Proteomics']['test'] = X_protein[train_idx], X_protein[test_idx]\n",
    "    X['Transcriptomics']['train'], X['Transcriptomics']['test'] = X_rna[train_idx], X_rna[test_idx]\n",
    "\n",
    "    for modality in X:\n",
    "        pruner = optuna.pruners.SuccessiveHalvingPruner()\n",
    "        study = optuna.create_study(direction=\"minimize\", \n",
    "                                    sampler=HybridSampler(primary_sampler=cmaes_sampler, fallback_sampler=tpe_sampler), \n",
    "                                   pruner = pruner, \n",
    "                                   study_name = '{}_optuna'.format(k))\n",
    "        study.optimize(\n",
    "            lambda trial: optuna_objective(trial, X[modality]['train'], y_train, inner_cv, n_cores, random_state),\n",
    "            n_trials=n_trials, \n",
    "            catch=(ValueError,)\n",
    "        )\n",
    "        \n",
    "        best_pipeline = generate_best_pipeline(study)\n",
    "        best_pipeline.fit(X[modality]['train'], y_train)\n",
    "\n",
    "        y_train_pred = best_pipeline.predict(X[modality]['train'])\n",
    "        y_test_pred = best_pipeline.predict(X[modality]['test'])\n",
    "\n",
    "        train_corr = pearsonr(y_train, y_train_pred)[0]\n",
    "        test_corr = pearsonr(y_test, y_test_pred)[0]\n",
    "        train_mse = mean_squared_error(y_train, y_train_pred)\n",
    "        test_mse = mean_squared_error(y_test, y_test_pred)\n",
    "        \n",
    "        results.append({\n",
    "            \"modality\": modality,\n",
    "            \"fold\": k,\n",
    "            \"train_corr\": train_corr,\n",
    "            \"test_corr\": test_corr,\n",
    "            \"train_mse\": train_mse,\n",
    "            \"test_mse\": test_mse,\n",
    "            \"best_params\": study.best_params,\n",
    "            \"inner_cv\": study.trials_dataframe()\n",
    "            })\n",
    "        res_df = pd.DataFrame(results)\n",
    "        res_df.to_csv(os.path.join(data_path, 'interim', 'pipeline_model_selection_featureintersect.csv'))\n"
   ]
  }
 ],
 "metadata": {
  "kernelspec": {
   "display_name": "Python [conda env:metastatic_potential]",
   "language": "python",
   "name": "conda-env-metastatic_potential-py"
  },
  "language_info": {
   "codemirror_mode": {
    "name": "ipython",
    "version": 3
   },
   "file_extension": ".py",
   "mimetype": "text/x-python",
   "name": "python",
   "nbconvert_exporter": "python",
   "pygments_lexer": "ipython3",
   "version": "3.13.0"
  }
 },
 "nbformat": 4,
 "nbformat_minor": 5
}
