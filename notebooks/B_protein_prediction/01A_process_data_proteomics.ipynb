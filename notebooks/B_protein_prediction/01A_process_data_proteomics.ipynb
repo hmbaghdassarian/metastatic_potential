{
 "cells": [
  {
   "cell_type": "markdown",
   "id": "b065b040",
   "metadata": {},
   "source": [
    "Written by Arjana Begzati"
   ]
  },
  {
   "cell_type": "code",
   "execution_count": 3,
   "id": "20884f92",
   "metadata": {
    "ExecuteTime": {
     "end_time": "2025-01-14T22:32:51.581036Z",
     "start_time": "2025-01-14T22:32:50.351554Z"
    }
   },
   "outputs": [],
   "source": [
    "import pandas as pd\n",
    "import os\n",
    "pd.set_option('display.max_columns', None)\n",
    "pd.set_option('display.max_rows', None)\n",
    "pd.set_option('max_colwidth', None)\n",
    "\n",
    "data_path = '/nobackup/users/hmbaghda/metastatic_potential/'"
   ]
  },
  {
   "cell_type": "code",
   "execution_count": 8,
   "id": "566eee97",
   "metadata": {
    "ExecuteTime": {
     "end_time": "2025-01-14T23:09:17.655420Z",
     "start_time": "2025-01-14T23:06:29.774326Z"
    }
   },
   "outputs": [
    {
     "data": {
      "text/plain": [
       "(12755, 16384)"
      ]
     },
     "execution_count": 8,
     "metadata": {},
     "output_type": "execute_result"
    }
   ],
   "source": [
    "# load TableS2 from Nusinow et al., 2020, Cell 180, 387–402\n",
    "data_df = pd.read_excel(os.path.join(data_path, 'raw', 'TableS2.xlsx'), \n",
    "                                     sheet_name='Normalized Protein Expression')\n",
    "data_df.shape"
   ]
  },
  {
   "cell_type": "code",
   "execution_count": 3,
   "id": "92073708",
   "metadata": {
    "ExecuteTime": {
     "end_time": "2025-01-14T22:57:00.024115Z",
     "start_time": "2025-01-14T22:56:59.881102Z"
    }
   },
   "outputs": [
    {
     "data": {
      "text/plain": [
       "(12755, 384)"
      ]
     },
     "execution_count": 3,
     "metadata": {},
     "output_type": "execute_result"
    }
   ],
   "source": [
    "# remove columns that are detected peptide numbers\n",
    "data_df = data_df.iloc[:, [not (c.endswith('_Peptides') or c.startswith('Column')) for c in data_df.columns]]\n",
    "data_df.shape"
   ]
  },
  {
   "cell_type": "code",
   "execution_count": 4,
   "id": "39d54399",
   "metadata": {
    "ExecuteTime": {
     "end_time": "2025-01-14T22:57:01.272289Z",
     "start_time": "2025-01-14T22:57:01.226137Z"
    }
   },
   "outputs": [
    {
     "data": {
      "text/plain": [
       "302.40000000000003"
      ]
     },
     "execution_count": 4,
     "metadata": {},
     "output_type": "execute_result"
    }
   ],
   "source": [
    "# determine number of samples that corresponds to 80% of all samples\n",
    "p80_count = data_df.iloc[:, ['_TenPx' in c for c in data_df.columns]].shape[1]*0.8\n",
    "p80_count"
   ]
  },
  {
   "cell_type": "code",
   "execution_count": 5,
   "id": "8e075ebe",
   "metadata": {
    "ExecuteTime": {
     "end_time": "2025-01-14T22:57:05.121426Z",
     "start_time": "2025-01-14T22:57:05.032386Z"
    }
   },
   "outputs": [
    {
     "data": {
      "text/plain": [
       "(10969, 384)"
      ]
     },
     "execution_count": 5,
     "metadata": {},
     "output_type": "execute_result"
    }
   ],
   "source": [
    "# determine number of missing values per feature \n",
    "nan_count_per_row = data_df.iloc[:, ['_TenPx' in c for c in data_df.columns]].isna().sum(axis=1)\n",
    "# remove proteins that are missing in >80% samples\n",
    "cols_to_keep = nan_count_per_row[nan_count_per_row<p80_count].index\n",
    "data_df = data_df.iloc[cols_to_keep, :]\n",
    "data_df.shape"
   ]
  },
  {
   "cell_type": "code",
   "execution_count": 52,
   "id": "54e948d4",
   "metadata": {
    "ExecuteTime": {
     "end_time": "2025-01-03T19:22:47.483231Z",
     "start_time": "2025-01-03T19:22:32.592438Z"
    }
   },
   "outputs": [],
   "source": [
    "data_df.to_csv(os.path.join(data_path, 'interim', \n",
    "                            'TableS2_PepNumbColsRemoved_80pSamplesMissingProtsRemoved.csv'), \n",
    "               index=False)"
   ]
  },
  {
   "cell_type": "markdown",
   "id": "61eadf65",
   "metadata": {},
   "source": [
    "performed imputation of missing values in Perseus v2.1.3.0: used \"Replace missing values from normal distribution\" method (https://cox-labs.github.io/coxdocs/replacemissingfromgaussian.html), which fills NaNs with values sampled from protein's distribution shifted down by 1.8 std and squeezed to std*0.3"
   ]
  },
  {
   "cell_type": "markdown",
   "id": "d4251f7b",
   "metadata": {},
   "source": [
    "Summary:\n",
    "\n",
    "Normalized protein expression data from Nusinow et al. were used. Proteins missing values in more than 80% of samples (n=1,786 out of 12,755) were removed. The remaining missing values were then imputed in Perseus (version 2.1.3.0) by random sampling from the protein’s distribution after shifting it downward by 1.8 standard deviations and shrinking its standard deviation by a factor of 0.3."
   ]
  }
 ],
 "metadata": {
  "kernelspec": {
   "display_name": "Python [conda env:metastatic_potential]",
   "language": "python",
   "name": "conda-env-metastatic_potential-py"
  },
  "language_info": {
   "codemirror_mode": {
    "name": "ipython",
    "version": 3
   },
   "file_extension": ".py",
   "mimetype": "text/x-python",
   "name": "python",
   "nbconvert_exporter": "python",
   "pygments_lexer": "ipython3",
   "version": "3.13.0"
  },
  "toc": {
   "base_numbering": 1,
   "nav_menu": {},
   "number_sections": true,
   "sideBar": true,
   "skip_h1_title": false,
   "title_cell": "Table of Contents",
   "title_sidebar": "Contents",
   "toc_cell": false,
   "toc_position": {
    "height": "calc(100% - 180px)",
    "left": "10px",
    "top": "150px",
    "width": "165px"
   },
   "toc_section_display": true,
   "toc_window_display": false
  }
 },
 "nbformat": 4,
 "nbformat_minor": 5
}
