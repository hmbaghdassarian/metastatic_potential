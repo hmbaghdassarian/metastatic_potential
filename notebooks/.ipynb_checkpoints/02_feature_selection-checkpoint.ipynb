{
 "cells": [
  {
   "cell_type": "markdown",
   "id": "5548932f",
   "metadata": {},
   "source": [
    "Here we select a subset of the most informative features using elastic net regression:"
   ]
  },
  {
   "cell_type": "code",
   "execution_count": 1,
   "id": "fd620529",
   "metadata": {},
   "outputs": [],
   "source": [
    "suppressMessages({\n",
    "    suppressWarnings({\n",
    "        library(glmnet, quietly = TRUE)\n",
    "        library(RhpcBLASctl, quietly = TRUE)\n",
    "        library(foreach, quietly = TRUE)\n",
    "        library(doSNOW, quietly = TRUE)\n",
    "    })\n",
    "})"
   ]
  },
  {
   "cell_type": "code",
   "execution_count": 2,
   "id": "053eea5d",
   "metadata": {},
   "outputs": [],
   "source": [
    "data_path = '/nobackup/users/hmbaghda/metastatic_potential/'\n",
    "seed = 42"
   ]
  },
  {
   "cell_type": "code",
   "execution_count": 3,
   "id": "7f6a20ad",
   "metadata": {},
   "outputs": [],
   "source": [
    "feature_select_reg <- function(X, y, options = list(alpha = 1, subfolds = 3, error.measure = 'mse'), ...) {\n",
    "    # select features based on non-zero coefs returns from CV glm\n",
    "    # documentation: https://glmnet.stanford.edu/reference/glmnet.html, https://glmnet.stanford.edu/reference/cv.glmnet.html\n",
    "\n",
    "    # GLM type\n",
    "    if (is.factor(y)) {\n",
    "        if (nlevels(y) == 1) {\n",
    "          stop(\"y is a factor with only one level\")\n",
    "        } else if (nlevels(y) == 2) {\n",
    "          fam <- \"binomial\"\n",
    "        } else {\n",
    "          fam <- \"multinomial\"\n",
    "        }\n",
    "    } else if (is.numeric(y)) {\n",
    "        fam <- \"gaussian\"\n",
    "    } else {\n",
    "        stop(\"y must be of type factor or numeric vector\")\n",
    "    }\n",
    "    \n",
    "    if (!(\"alpha\" %in% names(options))) {\n",
    "        options$alpha <- 1 # lasso\n",
    "    }\n",
    "    if (!(\"error.measure\" %in% names(options))) {\n",
    "        options$error.measure <- 'mse' # lasso\n",
    "    }\n",
    "    \n",
    "    # cv.glmnet needs at least 3 folds, so we need at least three features\n",
    "    n_samples <- nrow(X)\n",
    "    if (n_samples < 3) {\n",
    "        stop(\"select_lasso() requires more than three samples for internal cross-validation\")\n",
    "    }\n",
    "\n",
    "    if (!(\"subfolds\" %in% names(options))) {\n",
    "    if (n_samples >= 5) {\n",
    "      options$subfolds <- 5\n",
    "    } else {\n",
    "      options$subfolds <- 3\n",
    "    }\n",
    "    } else {\n",
    "        if (options$subfolds > n_samples) {\n",
    "          message(\"Warning in select_lasso():\")\n",
    "          message(\"    options$subfolds greater than number of samples\")\n",
    "          message(\"    setting options$subfolds = number of samples\")\n",
    "          options$subfolds <- n_samples\n",
    "        }\n",
    "        if (options$subfolds < 3) {\n",
    "          message(\"Warning in select_lasso():\")\n",
    "          message(\"    options$subfolds was less than 3\")\n",
    "          message(\"    setting options$subfolds = 3\")\n",
    "          options$subfolds <- 3\n",
    "        }\n",
    "    }\n",
    "    \n",
    "    # fit an appropriate lasso model with cv validation\n",
    "    mod <- glmnet::cv.glmnet(X, y, type.measure = options$error.measure, alpha = options$alpha,\n",
    "                             family = fam, type.multinomial = \"grouped\",\n",
    "                             nfolds = options$subfolds, ...)\n",
    "        \n",
    "    # ID best fit model\n",
    "    indices <- which(mod$nzero > 0) # lambdas that generated atleast one non-zero coefficients\n",
    "    lambdas <- mod$lambda[indices] # lambda value \n",
    "    scores <- mod$cvm[indices] # mean cv score at that lambda\n",
    "    best <- which.min(scores) # if a tie, chooses the one with fewer features\n",
    "    mod_coeffs <- coef(mod, s = lambdas[best]) # ths can maybe be replaced with s = 'lambda.min'\n",
    "    \n",
    "    if (fam == \"multinomial\") {\n",
    "        # if the data has multiple responses, the coefficients are a matrix\n",
    "        # that is returned as a list of columns. type.multinomial = \"grouped\"\n",
    "        # forced features to be selected for all responses or for none, so we\n",
    "        # can get the selected features also by only considering the first\n",
    "        # column. we just replace lasso_coeffs by this column and proceed as usual\n",
    "        mod_coeffs <- mod_coeffs[[1]]\n",
    "    }\n",
    "    \n",
    "    mod_coeffs <- mod_coeffs[-1,] # remove intercept\n",
    "    mod_coeffs <- mod_coeffs[which(mod_coeffs != 0)] # remove non-zero coefs \n",
    "\n",
    "    return (names(mod_coeffs))\n",
    "}\n",
    "\n",
    "feature_select_iter <- function(X, y, options = list(n_trials = 100, threshold = 0.8, force_select = TRUE, \n",
    "                                                        alpha = 1, subfolds = 3, error.measure = 'mse'),\n",
    "                                par = F, n.cores = 1, ...) {\n",
    "  \n",
    "    # ----------------- BEGIN OPTIONS ----------------- #\n",
    "    # How often it should be repeated\n",
    "    if (!(\"n_trials\" %in% names(options))) {\n",
    "        options$n_trials <- 100\n",
    "    }\n",
    "    if (!(\"threshold\" %in% names(options))) {\n",
    "        options$threshold <- 0.8\n",
    "    }\n",
    "    # returns the whole data frame of how often a feature was selected\n",
    "    if (!(\"force_select\" %in% names(options))) {\n",
    "        options$force_select <- TRUE\n",
    "    }\n",
    "    if (!(\"alpha\" %in% names(options))) {\n",
    "        options$alpha <- 1\n",
    "    }\n",
    "    if (!(\"subfolds\" %in% names(options))) {\n",
    "        options$subfolds <- 3\n",
    "    }\n",
    "    if (!(\"error.measure\" %in% names(options))) {\n",
    "        options$error.measure <- 'mse'\n",
    "    }\n",
    "    # ----------------- END OPTIONS ----------------- #\n",
    "\n",
    "    # vector counting how often each feature is selected\n",
    "    if (is.null(colnames(X))){colnames(X)<-sapply(1:dim(X)[[2]], function(x) paste0('V', x))}\n",
    "    feature_count <- rep(0, ncol(X))\n",
    "    names(feature_count) <- colnames(X)\n",
    "  \n",
    "    # run the feature selector trials times and increment the counters\n",
    "    # for the features that are selected\n",
    "    if (!par){\n",
    "        for (trial in 1:options$n_trials) {\n",
    "            features <- feature_select_reg(X, y, options = list(alpha = options$alpha, subfolds = options$subfolds, \n",
    "                                                            error.measure = options$error.measure), ...)\n",
    "            feature_count[features] <- 1 + feature_count[features]\n",
    "            }\n",
    "    }\n",
    "    else{\n",
    "        RhpcBLASctl::blas_set_num_threads(round(n.cores/2)) # limit core usage\n",
    "        cl <- makeCluster(n.cores)\n",
    "        registerDoSNOW(cl)\n",
    "        pb <- txtProgressBar(max = options$n_trials, style = 3)\n",
    "        progress <- function(n_) setTxtProgressBar(pb, n_)\n",
    "        opts <- list(progress = progress)\n",
    "\n",
    "        features.all = foreach(trial = 1:options$n_trials, .combine = 'c', .packages = c('glmnet'), .export = c('feature_select_reg'),  \n",
    "                    .verbose = TRUE, .options.snow = opts) %dopar% {\n",
    "            features<-feature_select_reg(X, y, options = list(alpha = options$alpha, subfolds = options$subfolds, \n",
    "                                                            error.measure = options$error.measure), ...)\n",
    "        }\n",
    "        close(pb)\n",
    "        stopCluster(cl)\n",
    "\n",
    "        for (features in features.all) {\n",
    "                feature_count[features] <- 1 + feature_count[features]\n",
    "            }\n",
    "        }\n",
    "                                                \n",
    "    selected <- feature_count[-which(feature_count <= options$threshold * options$n_trials)] # those above thresh\n",
    "    if (length(selected) == 0 & options$force_select) {\n",
    "        selected <- feature_count[which(feature_count == max(feature_count))]\n",
    "    }\n",
    "    return(selected)\n",
    "}"
   ]
  },
  {
   "cell_type": "markdown",
   "id": "2715d691",
   "metadata": {},
   "source": [
    "Load files:"
   ]
  },
  {
   "cell_type": "code",
   "execution_count": 4,
   "id": "e0cc01a8",
   "metadata": {},
   "outputs": [],
   "source": [
    "y<-read.csv(file.path(data_path,'interim', 'y_train_val.csv'), row.names = 1)\n",
    "X<-read.csv(file.path(data_path,'interim', 'X_train_val.csv'), row.names = 1)\n",
    "\n",
    "X<-as.matrix(do.call(cbind, X))\n",
    "y<-as.matrix(do.call(cbind, y))"
   ]
  },
  {
   "cell_type": "markdown",
   "id": "7a5124c1",
   "metadata": {},
   "source": [
    "Run the lasso:"
   ]
  },
  {
   "cell_type": "code",
   "execution_count": 18,
   "id": "5b9b351f",
   "metadata": {
    "scrolled": true
   },
   "outputs": [],
   "source": [
    "options = list(n_trials = 1000, \n",
    "               threshold = 0.8, \n",
    "               force_select = TRUE, \n",
    "               alpha = 0.05, \n",
    "               subfolds = 10, \n",
    "               error.measure = 'mse')\n",
    "selected<-feature_select_iter(X, y, options = options,\n",
    "                              par = T, n.cores = 20) \n",
    "write.csv(as.matrix(selected), paste0(data_path, 'interim/', 'selected_features.csv'))"
   ]
  },
  {
   "cell_type": "code",
   "execution_count": 8,
   "id": "aed2e6a5",
   "metadata": {},
   "outputs": [
    {
     "data": {
      "text/html": [
       "'/nobackup/users/hmbaghda/metastatic_potential/interim/selected_features.csv'"
      ],
      "text/latex": [
       "'/nobackup/users/hmbaghda/metastatic\\_potential/interim/selected\\_features.csv'"
      ],
      "text/markdown": [
       "'/nobackup/users/hmbaghda/metastatic_potential/interim/selected_features.csv'"
      ],
      "text/plain": [
       "[1] \"/nobackup/users/hmbaghda/metastatic_potential/interim/selected_features.csv\""
      ]
     },
     "metadata": {},
     "output_type": "display_data"
    }
   ],
   "source": [
    "paste0(data_path, 'interim/', 'selected_features.csv')"
   ]
  },
  {
   "cell_type": "code",
   "execution_count": 7,
   "id": "fd77f104",
   "metadata": {},
   "outputs": [
    {
     "data": {
      "text/plain": [
       "R version 4.4.2 (2024-10-31)\n",
       "Platform: powerpc64le-conda-linux-gnu\n",
       "Running under: Red Hat Enterprise Linux 8.3 (Ootpa)\n",
       "\n",
       "Matrix products: default\n",
       "BLAS/LAPACK: /nobackup/users/hmbaghda/Software/miniforge3/envs/metastatic_potential/lib/libopenblasp-r0.3.28.so;  LAPACK version 3.12.0\n",
       "\n",
       "locale:\n",
       " [1] LC_CTYPE=en_US.UTF-8       LC_NUMERIC=C              \n",
       " [3] LC_TIME=en_US.UTF-8        LC_COLLATE=en_US.UTF-8    \n",
       " [5] LC_MONETARY=en_US.UTF-8    LC_MESSAGES=en_US.UTF-8   \n",
       " [7] LC_PAPER=en_US.UTF-8       LC_NAME=C                 \n",
       " [9] LC_ADDRESS=C               LC_TELEPHONE=C            \n",
       "[11] LC_MEASUREMENT=en_US.UTF-8 LC_IDENTIFICATION=C       \n",
       "\n",
       "time zone: America/New_York\n",
       "tzcode source: system (glibc)\n",
       "\n",
       "attached base packages:\n",
       "[1] stats     graphics  grDevices utils     datasets  methods   base     \n",
       "\n",
       "other attached packages:\n",
       "[1] doSNOW_1.0.20       snow_0.4-4          iterators_1.0.14   \n",
       "[4] foreach_1.5.2       RhpcBLASctl_0.23-42 glmnet_4.1-8       \n",
       "[7] Matrix_1.6-5       \n",
       "\n",
       "loaded via a namespace (and not attached):\n",
       " [1] crayon_1.5.3      vctrs_0.6.5       cli_3.6.3         rlang_1.1.4      \n",
       " [5] jsonlite_1.8.9    glue_1.8.0        htmltools_0.5.8.1 IRdisplay_1.1    \n",
       " [9] IRkernel_1.3.2    fansi_1.0.6       grid_4.4.2        evaluate_1.0.1   \n",
       "[13] fastmap_1.2.0     base64enc_0.1-3   lifecycle_1.0.4   compiler_4.4.2   \n",
       "[17] codetools_0.2-20  Rcpp_1.0.13-1     pbdZMQ_0.3-13     lattice_0.22-6   \n",
       "[21] digest_0.6.37     repr_1.1.7        utf8_1.2.4        parallel_4.4.2   \n",
       "[25] splines_4.4.2     pillar_1.9.0      shape_1.4.6.1     uuid_1.2-1       \n",
       "[29] tools_4.4.2       survival_3.7-0   "
      ]
     },
     "metadata": {},
     "output_type": "display_data"
    }
   ],
   "source": [
    "sessionInfo()"
   ]
  },
  {
   "cell_type": "code",
   "execution_count": null,
   "id": "fa945093",
   "metadata": {},
   "outputs": [],
   "source": []
  }
 ],
 "metadata": {
  "kernelspec": {
   "display_name": "R [conda env:metastatic_potential]",
   "language": "R",
   "name": "conda-env-metastatic_potential-r"
  },
  "language_info": {
   "codemirror_mode": "r",
   "file_extension": ".r",
   "mimetype": "text/x-r-source",
   "name": "R",
   "pygments_lexer": "r",
   "version": "4.4.2"
  }
 },
 "nbformat": 4,
 "nbformat_minor": 5
}
