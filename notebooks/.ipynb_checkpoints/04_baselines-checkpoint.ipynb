{
 "cells": [
  {
   "cell_type": "code",
   "execution_count": 4,
   "id": "6fa3833c",
   "metadata": {},
   "outputs": [],
   "source": [
    "import os\n",
    "\n",
    "import pandas as pd"
   ]
  },
  {
   "cell_type": "code",
   "execution_count": 5,
   "id": "07831e42",
   "metadata": {},
   "outputs": [],
   "source": [
    "seed = 42\n",
    "data_path = '/nobackup/users/hmbaghda/metastatic_potential/'"
   ]
  },
  {
   "cell_type": "code",
   "execution_count": 6,
   "id": "396418af",
   "metadata": {},
   "outputs": [],
   "source": [
    "X_train_val = pd.read_csv(os.path.join(data_path, 'interim', 'X_train_val_selected.csv'), index_col = 0)\n",
    "y_train_val = pd.read_csv(os.path.join(data_path, 'interim', 'y_train_val.csv'), index_col = 0)\n",
    "\n",
    "X_test = pd.read_csv(os.path.join(data_path, 'interim', 'X_test_selected.csv'), index_col = 0)\n",
    "y_test = pd.read_csv(os.path.join(data_path, 'interim', 'y_test.csv'), index_col = 0)\n",
    "\n",
    "res = pd.read_csv(os.path.join(data_path, 'interim', 'hyperparams.csv'), index_col = 0)"
   ]
  },
  {
   "cell_type": "code",
   "execution_count": 11,
   "id": "116db418",
   "metadata": {},
   "outputs": [
    {
     "name": "stdout",
     "output_type": "stream",
     "text": [
      "scp hmbaghda@satori-login-002.mit.edu:/nobackup/users/hmbaghda/metastatic_potential/interim/X_train_val_selected.csv .\n",
      "scp hmbaghda@satori-login-002.mit.edu:/nobackup/users/hmbaghda/metastatic_potential/interim/y_train_val.csv .\n",
      "scp hmbaghda@satori-login-002.mit.edu:/nobackup/users/hmbaghda/metastatic_potential/interim/X_test_selected.csv .\n",
      "scp hmbaghda@satori-login-002.mit.edu:/nobackup/users/hmbaghda/metastatic_potential/interim/y_test.csv .\n",
      "scp hmbaghda@satori-login-002.mit.edu:/nobackup/users/hmbaghda/metastatic_potential/interim/hyperparams.csv .\n"
     ]
    }
   ],
   "source": [
    "fns = [os.path.join(data_path, 'interim', 'X_train_val_selected.csv'), \n",
    "       os.path.join(data_path, 'interim', 'y_train_val.csv'), \n",
    "       os.path.join(data_path, 'interim', 'X_test_selected.csv'), \n",
    "       os.path.join(data_path, 'interim', 'y_test.csv'), \n",
    "      os.path.join(data_path, 'interim', 'hyperparams.csv')]\n",
    "for fn in fns:\n",
    "    print('scp hmbaghda@satori-login-002.mit.edu:' + fn + ' .')"
   ]
  },
  {
   "cell_type": "code",
   "execution_count": null,
   "id": "a25cd398",
   "metadata": {},
   "outputs": [],
   "source": []
  },
  {
   "cell_type": "code",
   "execution_count": null,
   "id": "fcdcab28",
   "metadata": {},
   "outputs": [],
   "source": []
  }
 ],
 "metadata": {
  "kernelspec": {
   "display_name": "Python [conda env:metastatic_potential]",
   "language": "python",
   "name": "conda-env-metastatic_potential-py"
  },
  "language_info": {
   "codemirror_mode": {
    "name": "ipython",
    "version": 3
   },
   "file_extension": ".py",
   "mimetype": "text/x-python",
   "name": "python",
   "nbconvert_exporter": "python",
   "pygments_lexer": "ipython3",
   "version": "3.13.0"
  }
 },
 "nbformat": 4,
 "nbformat_minor": 5
}
