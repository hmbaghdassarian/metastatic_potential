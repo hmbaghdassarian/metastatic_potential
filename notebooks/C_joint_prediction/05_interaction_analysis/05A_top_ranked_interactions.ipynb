{
 "cells": [
  {
   "cell_type": "markdown",
   "id": "c4c7cbc9",
   "metadata": {},
   "source": [
    "Since linear models don't capture interactions between features, here, we test for this. This can reveal synergies or antagonisms that have outsized effects on metastatic potential. \n",
    "\n",
    "Methodologically, we fit an OLS on regressing the residuals of the model error on the interaction between two features. "
   ]
  },
  {
   "cell_type": "code",
   "execution_count": 1,
   "id": "152080cf",
   "metadata": {},
   "outputs": [],
   "source": [
    "# import argparse\n",
    "# parser = argparse.ArgumentParser()\n",
    "# parser.add_argument(\"--feature_type\", type=str, required=True, help=\"how to filter features\")\n",
    "# args = parser.parse_args()\n",
    "# feature_type = args.feature_type\n",
    "\n",
    "# # python 05_perturbation_interactions_residuals_sets.py --feature_type all \n",
    "# # feature_type = 'all' # 'top400', 'enriched'"
   ]
  },
  {
   "cell_type": "code",
   "execution_count": 1,
   "id": "7031b884",
   "metadata": {},
   "outputs": [
    {
     "name": "stderr",
     "output_type": "stream",
     "text": [
      "/nobackup/users/hmbaghda/Software/miniforge3/envs/metastatic_potential/lib/python3.13/site-packages/tqdm/auto.py:21: TqdmWarning: IProgress not found. Please update jupyter and ipywidgets. See https://ipywidgets.readthedocs.io/en/stable/user_install.html\n",
      "  from .autonotebook import tqdm as notebook_tqdm\n"
     ]
    }
   ],
   "source": [
    "import os\n",
    "import itertools\n",
    "import random\n",
    "from multiprocessing import Pool\n",
    "from math import comb\n",
    "\n",
    "from tqdm import tqdm \n",
    "\n",
    "import pandas as pd\n",
    "import numpy as np\n",
    "\n",
    "import statsmodels.formula.api as smf\n",
    "from statsmodels.stats.multitest import multipletests\n",
    "\n",
    "import seaborn as sns\n",
    "import matplotlib.pyplot as plt \n",
    "\n",
    "import sys\n",
    "sys.path.insert(1, '../../')\n",
    "from utils import read_pickled_object"
   ]
  },
  {
   "cell_type": "code",
   "execution_count": 2,
   "id": "ad78a2a6",
   "metadata": {},
   "outputs": [],
   "source": [
    "data_path = '/nobackup/users/hmbaghda/metastatic_potential/'\n",
    "random_state = 42 + 3\n",
    "\n",
    "n_cores = 80\n",
    "os.environ[\"OMP_NUM_THREADS\"] = str(n_cores)\n",
    "os.environ[\"MKL_NUM_THREADS\"] = str(n_cores)\n",
    "os.environ[\"OPENBLAS_NUM_THREADS\"] = str(n_cores)\n",
    "os.environ[\"VECLIB_MAXIMUM_THREADS\"] = str(n_cores)\n",
    "os.environ[\"NUMEXPR_NUM_THREADS\"] = str(n_cores)"
   ]
  },
  {
   "cell_type": "markdown",
   "id": "1d0abae7",
   "metadata": {},
   "source": [
    "# Preprocess"
   ]
  },
  {
   "cell_type": "markdown",
   "id": "4c74d714",
   "metadata": {},
   "source": [
    "Load data:"
   ]
  },
  {
   "cell_type": "code",
   "execution_count": 57,
   "id": "a8f07970",
   "metadata": {},
   "outputs": [],
   "source": [
    "X = pd.read_csv(os.path.join(data_path, 'processed',  'expr_joint.csv'), index_col = 0)\n",
    "expr_joint = X.copy()\n",
    "\n",
    "mp_joint=pd.read_csv(os.path.join(data_path, 'processed', 'metastatic_potential_joint.csv'), index_col = 0)['mean']\n",
    "y = mp_joint.values.ravel()\n",
    "\n",
    "expr_protein = pd.read_csv(os.path.join(data_path, 'processed',  'expr_protein.csv'), index_col = 0)\n",
    "expr_rna = pd.read_csv(os.path.join(data_path, 'processed',  'expr.csv'), index_col = 0)\n",
    "\n",
    "protein_cols = expr_protein.columns\n",
    "rna_cols = expr_rna.columns\n",
    "\n",
    "X_protein = X[protein_cols].values\n",
    "X_rna = X[rna_cols].values\n"
   ]
  },
  {
   "cell_type": "markdown",
   "id": "b439c5ac",
   "metadata": {},
   "source": [
    "As in [Notebook 04](./04_feature_analysis.ipynb), we fit the consensus linear SVR on the entire dataset:"
   ]
  },
  {
   "cell_type": "code",
   "execution_count": 5,
   "id": "1ef90df4",
   "metadata": {},
   "outputs": [
    {
     "data": {
      "text/html": [
       "<style>#sk-container-id-1 {\n",
       "  /* Definition of color scheme common for light and dark mode */\n",
       "  --sklearn-color-text: black;\n",
       "  --sklearn-color-line: gray;\n",
       "  /* Definition of color scheme for unfitted estimators */\n",
       "  --sklearn-color-unfitted-level-0: #fff5e6;\n",
       "  --sklearn-color-unfitted-level-1: #f6e4d2;\n",
       "  --sklearn-color-unfitted-level-2: #ffe0b3;\n",
       "  --sklearn-color-unfitted-level-3: chocolate;\n",
       "  /* Definition of color scheme for fitted estimators */\n",
       "  --sklearn-color-fitted-level-0: #f0f8ff;\n",
       "  --sklearn-color-fitted-level-1: #d4ebff;\n",
       "  --sklearn-color-fitted-level-2: #b3dbfd;\n",
       "  --sklearn-color-fitted-level-3: cornflowerblue;\n",
       "\n",
       "  /* Specific color for light theme */\n",
       "  --sklearn-color-text-on-default-background: var(--sg-text-color, var(--theme-code-foreground, var(--jp-content-font-color1, black)));\n",
       "  --sklearn-color-background: var(--sg-background-color, var(--theme-background, var(--jp-layout-color0, white)));\n",
       "  --sklearn-color-border-box: var(--sg-text-color, var(--theme-code-foreground, var(--jp-content-font-color1, black)));\n",
       "  --sklearn-color-icon: #696969;\n",
       "\n",
       "  @media (prefers-color-scheme: dark) {\n",
       "    /* Redefinition of color scheme for dark theme */\n",
       "    --sklearn-color-text-on-default-background: var(--sg-text-color, var(--theme-code-foreground, var(--jp-content-font-color1, white)));\n",
       "    --sklearn-color-background: var(--sg-background-color, var(--theme-background, var(--jp-layout-color0, #111)));\n",
       "    --sklearn-color-border-box: var(--sg-text-color, var(--theme-code-foreground, var(--jp-content-font-color1, white)));\n",
       "    --sklearn-color-icon: #878787;\n",
       "  }\n",
       "}\n",
       "\n",
       "#sk-container-id-1 {\n",
       "  color: var(--sklearn-color-text);\n",
       "}\n",
       "\n",
       "#sk-container-id-1 pre {\n",
       "  padding: 0;\n",
       "}\n",
       "\n",
       "#sk-container-id-1 input.sk-hidden--visually {\n",
       "  border: 0;\n",
       "  clip: rect(1px 1px 1px 1px);\n",
       "  clip: rect(1px, 1px, 1px, 1px);\n",
       "  height: 1px;\n",
       "  margin: -1px;\n",
       "  overflow: hidden;\n",
       "  padding: 0;\n",
       "  position: absolute;\n",
       "  width: 1px;\n",
       "}\n",
       "\n",
       "#sk-container-id-1 div.sk-dashed-wrapped {\n",
       "  border: 1px dashed var(--sklearn-color-line);\n",
       "  margin: 0 0.4em 0.5em 0.4em;\n",
       "  box-sizing: border-box;\n",
       "  padding-bottom: 0.4em;\n",
       "  background-color: var(--sklearn-color-background);\n",
       "}\n",
       "\n",
       "#sk-container-id-1 div.sk-container {\n",
       "  /* jupyter's `normalize.less` sets `[hidden] { display: none; }`\n",
       "     but bootstrap.min.css set `[hidden] { display: none !important; }`\n",
       "     so we also need the `!important` here to be able to override the\n",
       "     default hidden behavior on the sphinx rendered scikit-learn.org.\n",
       "     See: https://github.com/scikit-learn/scikit-learn/issues/21755 */\n",
       "  display: inline-block !important;\n",
       "  position: relative;\n",
       "}\n",
       "\n",
       "#sk-container-id-1 div.sk-text-repr-fallback {\n",
       "  display: none;\n",
       "}\n",
       "\n",
       "div.sk-parallel-item,\n",
       "div.sk-serial,\n",
       "div.sk-item {\n",
       "  /* draw centered vertical line to link estimators */\n",
       "  background-image: linear-gradient(var(--sklearn-color-text-on-default-background), var(--sklearn-color-text-on-default-background));\n",
       "  background-size: 2px 100%;\n",
       "  background-repeat: no-repeat;\n",
       "  background-position: center center;\n",
       "}\n",
       "\n",
       "/* Parallel-specific style estimator block */\n",
       "\n",
       "#sk-container-id-1 div.sk-parallel-item::after {\n",
       "  content: \"\";\n",
       "  width: 100%;\n",
       "  border-bottom: 2px solid var(--sklearn-color-text-on-default-background);\n",
       "  flex-grow: 1;\n",
       "}\n",
       "\n",
       "#sk-container-id-1 div.sk-parallel {\n",
       "  display: flex;\n",
       "  align-items: stretch;\n",
       "  justify-content: center;\n",
       "  background-color: var(--sklearn-color-background);\n",
       "  position: relative;\n",
       "}\n",
       "\n",
       "#sk-container-id-1 div.sk-parallel-item {\n",
       "  display: flex;\n",
       "  flex-direction: column;\n",
       "}\n",
       "\n",
       "#sk-container-id-1 div.sk-parallel-item:first-child::after {\n",
       "  align-self: flex-end;\n",
       "  width: 50%;\n",
       "}\n",
       "\n",
       "#sk-container-id-1 div.sk-parallel-item:last-child::after {\n",
       "  align-self: flex-start;\n",
       "  width: 50%;\n",
       "}\n",
       "\n",
       "#sk-container-id-1 div.sk-parallel-item:only-child::after {\n",
       "  width: 0;\n",
       "}\n",
       "\n",
       "/* Serial-specific style estimator block */\n",
       "\n",
       "#sk-container-id-1 div.sk-serial {\n",
       "  display: flex;\n",
       "  flex-direction: column;\n",
       "  align-items: center;\n",
       "  background-color: var(--sklearn-color-background);\n",
       "  padding-right: 1em;\n",
       "  padding-left: 1em;\n",
       "}\n",
       "\n",
       "\n",
       "/* Toggleable style: style used for estimator/Pipeline/ColumnTransformer box that is\n",
       "clickable and can be expanded/collapsed.\n",
       "- Pipeline and ColumnTransformer use this feature and define the default style\n",
       "- Estimators will overwrite some part of the style using the `sk-estimator` class\n",
       "*/\n",
       "\n",
       "/* Pipeline and ColumnTransformer style (default) */\n",
       "\n",
       "#sk-container-id-1 div.sk-toggleable {\n",
       "  /* Default theme specific background. It is overwritten whether we have a\n",
       "  specific estimator or a Pipeline/ColumnTransformer */\n",
       "  background-color: var(--sklearn-color-background);\n",
       "}\n",
       "\n",
       "/* Toggleable label */\n",
       "#sk-container-id-1 label.sk-toggleable__label {\n",
       "  cursor: pointer;\n",
       "  display: block;\n",
       "  width: 100%;\n",
       "  margin-bottom: 0;\n",
       "  padding: 0.5em;\n",
       "  box-sizing: border-box;\n",
       "  text-align: center;\n",
       "}\n",
       "\n",
       "#sk-container-id-1 label.sk-toggleable__label-arrow:before {\n",
       "  /* Arrow on the left of the label */\n",
       "  content: \"▸\";\n",
       "  float: left;\n",
       "  margin-right: 0.25em;\n",
       "  color: var(--sklearn-color-icon);\n",
       "}\n",
       "\n",
       "#sk-container-id-1 label.sk-toggleable__label-arrow:hover:before {\n",
       "  color: var(--sklearn-color-text);\n",
       "}\n",
       "\n",
       "/* Toggleable content - dropdown */\n",
       "\n",
       "#sk-container-id-1 div.sk-toggleable__content {\n",
       "  max-height: 0;\n",
       "  max-width: 0;\n",
       "  overflow: hidden;\n",
       "  text-align: left;\n",
       "  /* unfitted */\n",
       "  background-color: var(--sklearn-color-unfitted-level-0);\n",
       "}\n",
       "\n",
       "#sk-container-id-1 div.sk-toggleable__content.fitted {\n",
       "  /* fitted */\n",
       "  background-color: var(--sklearn-color-fitted-level-0);\n",
       "}\n",
       "\n",
       "#sk-container-id-1 div.sk-toggleable__content pre {\n",
       "  margin: 0.2em;\n",
       "  border-radius: 0.25em;\n",
       "  color: var(--sklearn-color-text);\n",
       "  /* unfitted */\n",
       "  background-color: var(--sklearn-color-unfitted-level-0);\n",
       "}\n",
       "\n",
       "#sk-container-id-1 div.sk-toggleable__content.fitted pre {\n",
       "  /* unfitted */\n",
       "  background-color: var(--sklearn-color-fitted-level-0);\n",
       "}\n",
       "\n",
       "#sk-container-id-1 input.sk-toggleable__control:checked~div.sk-toggleable__content {\n",
       "  /* Expand drop-down */\n",
       "  max-height: 200px;\n",
       "  max-width: 100%;\n",
       "  overflow: auto;\n",
       "}\n",
       "\n",
       "#sk-container-id-1 input.sk-toggleable__control:checked~label.sk-toggleable__label-arrow:before {\n",
       "  content: \"▾\";\n",
       "}\n",
       "\n",
       "/* Pipeline/ColumnTransformer-specific style */\n",
       "\n",
       "#sk-container-id-1 div.sk-label input.sk-toggleable__control:checked~label.sk-toggleable__label {\n",
       "  color: var(--sklearn-color-text);\n",
       "  background-color: var(--sklearn-color-unfitted-level-2);\n",
       "}\n",
       "\n",
       "#sk-container-id-1 div.sk-label.fitted input.sk-toggleable__control:checked~label.sk-toggleable__label {\n",
       "  background-color: var(--sklearn-color-fitted-level-2);\n",
       "}\n",
       "\n",
       "/* Estimator-specific style */\n",
       "\n",
       "/* Colorize estimator box */\n",
       "#sk-container-id-1 div.sk-estimator input.sk-toggleable__control:checked~label.sk-toggleable__label {\n",
       "  /* unfitted */\n",
       "  background-color: var(--sklearn-color-unfitted-level-2);\n",
       "}\n",
       "\n",
       "#sk-container-id-1 div.sk-estimator.fitted input.sk-toggleable__control:checked~label.sk-toggleable__label {\n",
       "  /* fitted */\n",
       "  background-color: var(--sklearn-color-fitted-level-2);\n",
       "}\n",
       "\n",
       "#sk-container-id-1 div.sk-label label.sk-toggleable__label,\n",
       "#sk-container-id-1 div.sk-label label {\n",
       "  /* The background is the default theme color */\n",
       "  color: var(--sklearn-color-text-on-default-background);\n",
       "}\n",
       "\n",
       "/* On hover, darken the color of the background */\n",
       "#sk-container-id-1 div.sk-label:hover label.sk-toggleable__label {\n",
       "  color: var(--sklearn-color-text);\n",
       "  background-color: var(--sklearn-color-unfitted-level-2);\n",
       "}\n",
       "\n",
       "/* Label box, darken color on hover, fitted */\n",
       "#sk-container-id-1 div.sk-label.fitted:hover label.sk-toggleable__label.fitted {\n",
       "  color: var(--sklearn-color-text);\n",
       "  background-color: var(--sklearn-color-fitted-level-2);\n",
       "}\n",
       "\n",
       "/* Estimator label */\n",
       "\n",
       "#sk-container-id-1 div.sk-label label {\n",
       "  font-family: monospace;\n",
       "  font-weight: bold;\n",
       "  display: inline-block;\n",
       "  line-height: 1.2em;\n",
       "}\n",
       "\n",
       "#sk-container-id-1 div.sk-label-container {\n",
       "  text-align: center;\n",
       "}\n",
       "\n",
       "/* Estimator-specific */\n",
       "#sk-container-id-1 div.sk-estimator {\n",
       "  font-family: monospace;\n",
       "  border: 1px dotted var(--sklearn-color-border-box);\n",
       "  border-radius: 0.25em;\n",
       "  box-sizing: border-box;\n",
       "  margin-bottom: 0.5em;\n",
       "  /* unfitted */\n",
       "  background-color: var(--sklearn-color-unfitted-level-0);\n",
       "}\n",
       "\n",
       "#sk-container-id-1 div.sk-estimator.fitted {\n",
       "  /* fitted */\n",
       "  background-color: var(--sklearn-color-fitted-level-0);\n",
       "}\n",
       "\n",
       "/* on hover */\n",
       "#sk-container-id-1 div.sk-estimator:hover {\n",
       "  /* unfitted */\n",
       "  background-color: var(--sklearn-color-unfitted-level-2);\n",
       "}\n",
       "\n",
       "#sk-container-id-1 div.sk-estimator.fitted:hover {\n",
       "  /* fitted */\n",
       "  background-color: var(--sklearn-color-fitted-level-2);\n",
       "}\n",
       "\n",
       "/* Specification for estimator info (e.g. \"i\" and \"?\") */\n",
       "\n",
       "/* Common style for \"i\" and \"?\" */\n",
       "\n",
       ".sk-estimator-doc-link,\n",
       "a:link.sk-estimator-doc-link,\n",
       "a:visited.sk-estimator-doc-link {\n",
       "  float: right;\n",
       "  font-size: smaller;\n",
       "  line-height: 1em;\n",
       "  font-family: monospace;\n",
       "  background-color: var(--sklearn-color-background);\n",
       "  border-radius: 1em;\n",
       "  height: 1em;\n",
       "  width: 1em;\n",
       "  text-decoration: none !important;\n",
       "  margin-left: 1ex;\n",
       "  /* unfitted */\n",
       "  border: var(--sklearn-color-unfitted-level-1) 1pt solid;\n",
       "  color: var(--sklearn-color-unfitted-level-1);\n",
       "}\n",
       "\n",
       ".sk-estimator-doc-link.fitted,\n",
       "a:link.sk-estimator-doc-link.fitted,\n",
       "a:visited.sk-estimator-doc-link.fitted {\n",
       "  /* fitted */\n",
       "  border: var(--sklearn-color-fitted-level-1) 1pt solid;\n",
       "  color: var(--sklearn-color-fitted-level-1);\n",
       "}\n",
       "\n",
       "/* On hover */\n",
       "div.sk-estimator:hover .sk-estimator-doc-link:hover,\n",
       ".sk-estimator-doc-link:hover,\n",
       "div.sk-label-container:hover .sk-estimator-doc-link:hover,\n",
       ".sk-estimator-doc-link:hover {\n",
       "  /* unfitted */\n",
       "  background-color: var(--sklearn-color-unfitted-level-3);\n",
       "  color: var(--sklearn-color-background);\n",
       "  text-decoration: none;\n",
       "}\n",
       "\n",
       "div.sk-estimator.fitted:hover .sk-estimator-doc-link.fitted:hover,\n",
       ".sk-estimator-doc-link.fitted:hover,\n",
       "div.sk-label-container:hover .sk-estimator-doc-link.fitted:hover,\n",
       ".sk-estimator-doc-link.fitted:hover {\n",
       "  /* fitted */\n",
       "  background-color: var(--sklearn-color-fitted-level-3);\n",
       "  color: var(--sklearn-color-background);\n",
       "  text-decoration: none;\n",
       "}\n",
       "\n",
       "/* Span, style for the box shown on hovering the info icon */\n",
       ".sk-estimator-doc-link span {\n",
       "  display: none;\n",
       "  z-index: 9999;\n",
       "  position: relative;\n",
       "  font-weight: normal;\n",
       "  right: .2ex;\n",
       "  padding: .5ex;\n",
       "  margin: .5ex;\n",
       "  width: min-content;\n",
       "  min-width: 20ex;\n",
       "  max-width: 50ex;\n",
       "  color: var(--sklearn-color-text);\n",
       "  box-shadow: 2pt 2pt 4pt #999;\n",
       "  /* unfitted */\n",
       "  background: var(--sklearn-color-unfitted-level-0);\n",
       "  border: .5pt solid var(--sklearn-color-unfitted-level-3);\n",
       "}\n",
       "\n",
       ".sk-estimator-doc-link.fitted span {\n",
       "  /* fitted */\n",
       "  background: var(--sklearn-color-fitted-level-0);\n",
       "  border: var(--sklearn-color-fitted-level-3);\n",
       "}\n",
       "\n",
       ".sk-estimator-doc-link:hover span {\n",
       "  display: block;\n",
       "}\n",
       "\n",
       "/* \"?\"-specific style due to the `<a>` HTML tag */\n",
       "\n",
       "#sk-container-id-1 a.estimator_doc_link {\n",
       "  float: right;\n",
       "  font-size: 1rem;\n",
       "  line-height: 1em;\n",
       "  font-family: monospace;\n",
       "  background-color: var(--sklearn-color-background);\n",
       "  border-radius: 1rem;\n",
       "  height: 1rem;\n",
       "  width: 1rem;\n",
       "  text-decoration: none;\n",
       "  /* unfitted */\n",
       "  color: var(--sklearn-color-unfitted-level-1);\n",
       "  border: var(--sklearn-color-unfitted-level-1) 1pt solid;\n",
       "}\n",
       "\n",
       "#sk-container-id-1 a.estimator_doc_link.fitted {\n",
       "  /* fitted */\n",
       "  border: var(--sklearn-color-fitted-level-1) 1pt solid;\n",
       "  color: var(--sklearn-color-fitted-level-1);\n",
       "}\n",
       "\n",
       "/* On hover */\n",
       "#sk-container-id-1 a.estimator_doc_link:hover {\n",
       "  /* unfitted */\n",
       "  background-color: var(--sklearn-color-unfitted-level-3);\n",
       "  color: var(--sklearn-color-background);\n",
       "  text-decoration: none;\n",
       "}\n",
       "\n",
       "#sk-container-id-1 a.estimator_doc_link.fitted:hover {\n",
       "  /* fitted */\n",
       "  background-color: var(--sklearn-color-fitted-level-3);\n",
       "}\n",
       "</style><div id=\"sk-container-id-1\" class=\"sk-top-container\"><div class=\"sk-text-repr-fallback\"><pre>Pipeline(steps=[(&#x27;feature_processing&#x27;,\n",
       "                 FeatureUnion(transformer_list=[(&#x27;protein_pipeline&#x27;,\n",
       "                                                 Pipeline(steps=[(&#x27;select_protein&#x27;,\n",
       "                                                                  ModalitySelector(modality=&#x27;protein&#x27;)),\n",
       "                                                                 (&#x27;feature_selection_protein&#x27;,\n",
       "                                                                  FeatureSelector(n_features=500)),\n",
       "                                                                 (&#x27;mean_centering_protein&#x27;,\n",
       "                                                                  MeanCenterer())])),\n",
       "                                                (&#x27;rna_pipeline&#x27;,\n",
       "                                                 Pipeline(steps=[(&#x27;select_rna&#x27;,\n",
       "                                                                  ModalitySelector(modality=&#x27;rna&#x27;)),\n",
       "                                                                 (&#x27;feature_selection_rna&#x27;,\n",
       "                                                                  FeatureSelector(n_features=19138)),\n",
       "                                                                 (&#x27;mean_centering_rna&#x27;,\n",
       "                                                                  MeanCenterer())]))])),\n",
       "                (&#x27;model&#x27;,\n",
       "                 SVR(C=np.float64(0.8708199642350806),\n",
       "                     epsilon=np.float64(0.7444800190713263),\n",
       "                     kernel=&#x27;linear&#x27;))])</pre><b>In a Jupyter environment, please rerun this cell to show the HTML representation or trust the notebook. <br />On GitHub, the HTML representation is unable to render, please try loading this page with nbviewer.org.</b></div><div class=\"sk-container\" hidden><div class=\"sk-item sk-dashed-wrapped\"><div class=\"sk-label-container\"><div class=\"sk-label fitted sk-toggleable\"><input class=\"sk-toggleable__control sk-hidden--visually\" id=\"sk-estimator-id-1\" type=\"checkbox\" ><label for=\"sk-estimator-id-1\" class=\"sk-toggleable__label fitted sk-toggleable__label-arrow fitted\">&nbsp;&nbsp;Pipeline<a class=\"sk-estimator-doc-link fitted\" rel=\"noreferrer\" target=\"_blank\" href=\"https://scikit-learn.org/1.5/modules/generated/sklearn.pipeline.Pipeline.html\">?<span>Documentation for Pipeline</span></a><span class=\"sk-estimator-doc-link fitted\">i<span>Fitted</span></span></label><div class=\"sk-toggleable__content fitted\"><pre>Pipeline(steps=[(&#x27;feature_processing&#x27;,\n",
       "                 FeatureUnion(transformer_list=[(&#x27;protein_pipeline&#x27;,\n",
       "                                                 Pipeline(steps=[(&#x27;select_protein&#x27;,\n",
       "                                                                  ModalitySelector(modality=&#x27;protein&#x27;)),\n",
       "                                                                 (&#x27;feature_selection_protein&#x27;,\n",
       "                                                                  FeatureSelector(n_features=500)),\n",
       "                                                                 (&#x27;mean_centering_protein&#x27;,\n",
       "                                                                  MeanCenterer())])),\n",
       "                                                (&#x27;rna_pipeline&#x27;,\n",
       "                                                 Pipeline(steps=[(&#x27;select_rna&#x27;,\n",
       "                                                                  ModalitySelector(modality=&#x27;rna&#x27;)),\n",
       "                                                                 (&#x27;feature_selection_rna&#x27;,\n",
       "                                                                  FeatureSelector(n_features=19138)),\n",
       "                                                                 (&#x27;mean_centering_rna&#x27;,\n",
       "                                                                  MeanCenterer())]))])),\n",
       "                (&#x27;model&#x27;,\n",
       "                 SVR(C=np.float64(0.8708199642350806),\n",
       "                     epsilon=np.float64(0.7444800190713263),\n",
       "                     kernel=&#x27;linear&#x27;))])</pre></div> </div></div><div class=\"sk-serial\"><div class=\"sk-item sk-dashed-wrapped\"><div class=\"sk-label-container\"><div class=\"sk-label fitted sk-toggleable\"><input class=\"sk-toggleable__control sk-hidden--visually\" id=\"sk-estimator-id-2\" type=\"checkbox\" ><label for=\"sk-estimator-id-2\" class=\"sk-toggleable__label fitted sk-toggleable__label-arrow fitted\">&nbsp;feature_processing: FeatureUnion<a class=\"sk-estimator-doc-link fitted\" rel=\"noreferrer\" target=\"_blank\" href=\"https://scikit-learn.org/1.5/modules/generated/sklearn.pipeline.FeatureUnion.html\">?<span>Documentation for feature_processing: FeatureUnion</span></a></label><div class=\"sk-toggleable__content fitted\"><pre>FeatureUnion(transformer_list=[(&#x27;protein_pipeline&#x27;,\n",
       "                                Pipeline(steps=[(&#x27;select_protein&#x27;,\n",
       "                                                 ModalitySelector(modality=&#x27;protein&#x27;)),\n",
       "                                                (&#x27;feature_selection_protein&#x27;,\n",
       "                                                 FeatureSelector(n_features=500)),\n",
       "                                                (&#x27;mean_centering_protein&#x27;,\n",
       "                                                 MeanCenterer())])),\n",
       "                               (&#x27;rna_pipeline&#x27;,\n",
       "                                Pipeline(steps=[(&#x27;select_rna&#x27;,\n",
       "                                                 ModalitySelector(modality=&#x27;rna&#x27;)),\n",
       "                                                (&#x27;feature_selection_rna&#x27;,\n",
       "                                                 FeatureSelector(n_features=19138)),\n",
       "                                                (&#x27;mean_centering_rna&#x27;,\n",
       "                                                 MeanCenterer())]))])</pre></div> </div></div><div class=\"sk-parallel\"><div class=\"sk-parallel-item\"><div class=\"sk-item\"><div class=\"sk-label-container\"><div class=\"sk-label fitted sk-toggleable\"><label>protein_pipeline</label></div></div><div class=\"sk-serial\"><div class=\"sk-item\"><div class=\"sk-serial\"><div class=\"sk-item\"><div class=\"sk-estimator fitted sk-toggleable\"><input class=\"sk-toggleable__control sk-hidden--visually\" id=\"sk-estimator-id-3\" type=\"checkbox\" ><label for=\"sk-estimator-id-3\" class=\"sk-toggleable__label fitted sk-toggleable__label-arrow fitted\">ModalitySelector</label><div class=\"sk-toggleable__content fitted\"><pre>ModalitySelector(modality=&#x27;protein&#x27;)</pre></div> </div></div><div class=\"sk-item\"><div class=\"sk-estimator fitted sk-toggleable\"><input class=\"sk-toggleable__control sk-hidden--visually\" id=\"sk-estimator-id-4\" type=\"checkbox\" ><label for=\"sk-estimator-id-4\" class=\"sk-toggleable__label fitted sk-toggleable__label-arrow fitted\">FeatureSelector</label><div class=\"sk-toggleable__content fitted\"><pre>FeatureSelector(n_features=500)</pre></div> </div></div><div class=\"sk-item\"><div class=\"sk-estimator fitted sk-toggleable\"><input class=\"sk-toggleable__control sk-hidden--visually\" id=\"sk-estimator-id-5\" type=\"checkbox\" ><label for=\"sk-estimator-id-5\" class=\"sk-toggleable__label fitted sk-toggleable__label-arrow fitted\">MeanCenterer</label><div class=\"sk-toggleable__content fitted\"><pre>MeanCenterer()</pre></div> </div></div></div></div></div></div></div><div class=\"sk-parallel-item\"><div class=\"sk-item\"><div class=\"sk-label-container\"><div class=\"sk-label fitted sk-toggleable\"><label>rna_pipeline</label></div></div><div class=\"sk-serial\"><div class=\"sk-item\"><div class=\"sk-serial\"><div class=\"sk-item\"><div class=\"sk-estimator fitted sk-toggleable\"><input class=\"sk-toggleable__control sk-hidden--visually\" id=\"sk-estimator-id-6\" type=\"checkbox\" ><label for=\"sk-estimator-id-6\" class=\"sk-toggleable__label fitted sk-toggleable__label-arrow fitted\">ModalitySelector</label><div class=\"sk-toggleable__content fitted\"><pre>ModalitySelector(modality=&#x27;rna&#x27;)</pre></div> </div></div><div class=\"sk-item\"><div class=\"sk-estimator fitted sk-toggleable\"><input class=\"sk-toggleable__control sk-hidden--visually\" id=\"sk-estimator-id-7\" type=\"checkbox\" ><label for=\"sk-estimator-id-7\" class=\"sk-toggleable__label fitted sk-toggleable__label-arrow fitted\">FeatureSelector</label><div class=\"sk-toggleable__content fitted\"><pre>FeatureSelector(n_features=19138)</pre></div> </div></div><div class=\"sk-item\"><div class=\"sk-estimator fitted sk-toggleable\"><input class=\"sk-toggleable__control sk-hidden--visually\" id=\"sk-estimator-id-8\" type=\"checkbox\" ><label for=\"sk-estimator-id-8\" class=\"sk-toggleable__label fitted sk-toggleable__label-arrow fitted\">MeanCenterer</label><div class=\"sk-toggleable__content fitted\"><pre>MeanCenterer()</pre></div> </div></div></div></div></div></div></div></div></div><div class=\"sk-item\"><div class=\"sk-estimator fitted sk-toggleable\"><input class=\"sk-toggleable__control sk-hidden--visually\" id=\"sk-estimator-id-9\" type=\"checkbox\" ><label for=\"sk-estimator-id-9\" class=\"sk-toggleable__label fitted sk-toggleable__label-arrow fitted\">&nbsp;SVR<a class=\"sk-estimator-doc-link fitted\" rel=\"noreferrer\" target=\"_blank\" href=\"https://scikit-learn.org/1.5/modules/generated/sklearn.svm.SVR.html\">?<span>Documentation for SVR</span></a></label><div class=\"sk-toggleable__content fitted\"><pre>SVR(C=np.float64(0.8708199642350806), epsilon=np.float64(0.7444800190713263),\n",
       "    kernel=&#x27;linear&#x27;)</pre></div> </div></div></div></div></div></div>"
      ],
      "text/plain": [
       "Pipeline(steps=[('feature_processing',\n",
       "                 FeatureUnion(transformer_list=[('protein_pipeline',\n",
       "                                                 Pipeline(steps=[('select_protein',\n",
       "                                                                  ModalitySelector(modality='protein')),\n",
       "                                                                 ('feature_selection_protein',\n",
       "                                                                  FeatureSelector(n_features=500)),\n",
       "                                                                 ('mean_centering_protein',\n",
       "                                                                  MeanCenterer())])),\n",
       "                                                ('rna_pipeline',\n",
       "                                                 Pipeline(steps=[('select_rna',\n",
       "                                                                  ModalitySelector(modality='rna')),\n",
       "                                                                 ('feature_selection_rna',\n",
       "                                                                  FeatureSelector(n_features=19138)),\n",
       "                                                                 ('mean_centering_rna',\n",
       "                                                                  MeanCenterer())]))])),\n",
       "                ('model',\n",
       "                 SVR(C=np.float64(0.8708199642350806),\n",
       "                     epsilon=np.float64(0.7444800190713263),\n",
       "                     kernel='linear'))])"
      ]
     },
     "execution_count": 5,
     "metadata": {},
     "output_type": "execute_result"
    }
   ],
   "source": [
    "best_pipeline = read_pickled_object(os.path.join(data_path, 'processed', \n",
    "                                                 'best_model_svr_linear_joint.pickle'))\n",
    "X = (X_protein, X_rna)\n",
    "best_pipeline.fit(X, y)\n",
    "\n",
    "# load from notebook 04\n",
    "# best_pipeline = read_pickled_object(os.path.join(data_path, 'interim', 'best_linearSVR_joint_fitted_allsamples.pickle'))\n"
   ]
  },
  {
   "cell_type": "code",
   "execution_count": 6,
   "id": "dfda8e08",
   "metadata": {},
   "outputs": [],
   "source": [
    "model_coefs = pd.read_csv(os.path.join(data_path, 'interim', 'joint_features.csv'), \n",
    "                          index_col = 0)\n",
    "if not np.allclose(model_coefs['SVM coefficient'].values, \n",
    "                   best_pipeline.named_steps['model'].coef_.flatten()):\n",
    "    raise ValueError('Inconsitency between Notebook 04 and 05')\n",
    "model_coefs.sort_values(by='SVM coefficient', key=lambda x: x.abs(), ascending=False, inplace=True)\n",
    "model_coefs.set_index('feature_name', inplace = True)\n"
   ]
  },
  {
   "cell_type": "markdown",
   "id": "07ba701a",
   "metadata": {},
   "source": [
    "Get the prediction:"
   ]
  },
  {
   "cell_type": "code",
   "execution_count": 7,
   "id": "8da8b86f",
   "metadata": {},
   "outputs": [],
   "source": [
    "# get prediction\n",
    "y_pred = best_pipeline.predict(X)\n",
    "residuals = y - y_pred"
   ]
  },
  {
   "cell_type": "markdown",
   "id": "b6bdd04f",
   "metadata": {},
   "source": [
    "Center the data:"
   ]
  },
  {
   "cell_type": "code",
   "execution_count": 20,
   "id": "d9ba7c08",
   "metadata": {},
   "outputs": [],
   "source": [
    "# Start"
   ]
  },
  {
   "cell_type": "code",
   "execution_count": 6,
   "id": "3ffc6845",
   "metadata": {},
   "outputs": [],
   "source": [
    "# X_map = {'Transcriptomics': X_rna, 'Proteomics': X_protein}\n",
    "# X_map = {k: X_ - np.mean(X_, axis=0) for k, X_ in X_map.items()} # center the data"
   ]
  },
  {
   "cell_type": "markdown",
   "id": "2256745d",
   "metadata": {},
   "source": [
    "expr_rna"
   ]
  },
  {
   "cell_type": "code",
   "execution_count": 58,
   "id": "1a0749f0",
   "metadata": {},
   "outputs": [],
   "source": [
    "expr_joint.columns = [x.split(' (')[0] for x in expr_joint.columns]"
   ]
  },
  {
   "cell_type": "code",
   "execution_count": 59,
   "id": "debac2ef",
   "metadata": {},
   "outputs": [],
   "source": [
    "expr_joint_centered = expr_joint - expr_joint.mean(axis = 0)"
   ]
  },
  {
   "cell_type": "code",
   "execution_count": null,
   "id": "d7ab9490",
   "metadata": {},
   "outputs": [],
   "source": []
  },
  {
   "cell_type": "code",
   "execution_count": null,
   "id": "605a25d3",
   "metadata": {},
   "outputs": [],
   "source": []
  },
  {
   "cell_type": "code",
   "execution_count": 70,
   "id": "7e405ae1",
   "metadata": {},
   "outputs": [
    {
     "data": {
      "text/plain": [
       "np.float64(3.684867595459795)"
      ]
     },
     "execution_count": 70,
     "metadata": {},
     "output_type": "execute_result"
    }
   ],
   "source": [
    "np.ptp(expr_joint.loc[:, feature])"
   ]
  },
  {
   "cell_type": "code",
   "execution_count": 69,
   "id": "9e575709",
   "metadata": {},
   "outputs": [
    {
     "data": {
      "text/plain": [
       "<Axes: xlabel='SP1', ylabel='Count'>"
      ]
     },
     "execution_count": 69,
     "metadata": {},
     "output_type": "execute_result"
    },
    {
     "data": {
      "image/png": "[encoded data removed]",
      "text/plain": [
       "<Figure size 640x480 with 1 Axes>"
      ]
     },
     "metadata": {},
     "output_type": "display_data"
    }
   ],
   "source": [
    "feature = 'SP1'\n",
    "sns.histplot(expr_joint.loc[:, feature])\n",
    "\n",
    "\n"
   ]
  },
  {
   "cell_type": "code",
   "execution_count": 74,
   "id": "3e306513",
   "metadata": {},
   "outputs": [
    {
     "data": {
      "text/plain": [
       "np.float64(2.489980948178384)"
      ]
     },
     "execution_count": 74,
     "metadata": {},
     "output_type": "execute_result"
    }
   ],
   "source": [
    "np.min(expr_joint.loc[:, feature])"
   ]
  },
  {
   "cell_type": "code",
   "execution_count": 75,
   "id": "1c40dc65",
   "metadata": {},
   "outputs": [
    {
     "data": {
      "text/plain": [
       "np.float64(6.174848543638179)"
      ]
     },
     "execution_count": 75,
     "metadata": {},
     "output_type": "execute_result"
    }
   ],
   "source": [
    "np.max(expr_joint.loc[:, feature])"
   ]
  },
  {
   "cell_type": "code",
   "execution_count": null,
   "id": "39f06b83",
   "metadata": {},
   "outputs": [],
   "source": [
    "np.min(expr_joint_centered.loc[:, feature])"
   ]
  },
  {
   "cell_type": "code",
   "execution_count": null,
   "id": "70415b41",
   "metadata": {},
   "outputs": [],
   "source": []
  },
  {
   "cell_type": "code",
   "execution_count": 67,
   "id": "17603caf",
   "metadata": {},
   "outputs": [
    {
     "data": {
      "text/plain": [
       "<Axes: xlabel='SP1', ylabel='Count'>"
      ]
     },
     "execution_count": 67,
     "metadata": {},
     "output_type": "execute_result"
    },
    {
     "data": {
      "image/png": "[encoded data removed]",
      "text/plain": [
       "<Figure size 640x480 with 1 Axes>"
      ]
     },
     "metadata": {},
     "output_type": "display_data"
    }
   ],
   "source": [
    "feature = 'SP1'\n",
    "sns.histplot(expr_joint_centered.loc[:, feature])"
   ]
  },
  {
   "cell_type": "code",
   "execution_count": 76,
   "id": "90a0941d",
   "metadata": {},
   "outputs": [],
   "source": [
    "best_pipeline = read_pickled_object(os.path.join(data_path, 'processed', \n",
    "                                                 'best_model_svr_linear_joint.pickle'))"
   ]
  },
  {
   "cell_type": "code",
   "execution_count": 79,
   "id": "add82e5f",
   "metadata": {},
   "outputs": [
    {
     "data": {
      "text/plain": [
       "dict_keys(['steps', 'memory', 'verbose'])"
      ]
     },
     "execution_count": 79,
     "metadata": {},
     "output_type": "execute_result"
    }
   ],
   "source": [
    "best_pipeline.__dict__.keys()"
   ]
  },
  {
   "cell_type": "code",
   "execution_count": 83,
   "id": "595230e7",
   "metadata": {},
   "outputs": [
    {
     "data": {
      "text/plain": [
       "[('feature_processing',\n",
       "  FeatureUnion(transformer_list=[('protein_pipeline',\n",
       "                                  Pipeline(steps=[('select_protein',\n",
       "                                                   ModalitySelector(modality='protein')),\n",
       "                                                  ('feature_selection_protein',\n",
       "                                                   FeatureSelector(n_features=500)),\n",
       "                                                  ('mean_centering_protein',\n",
       "                                                   MeanCenterer())])),\n",
       "                                 ('rna_pipeline',\n",
       "                                  Pipeline(steps=[('select_rna',\n",
       "                                                   ModalitySelector(modality='rna')),\n",
       "                                                  ('feature_selection_rna',\n",
       "                                                   FeatureSelector(n_features=19138)),\n",
       "                                                  ('mean_centering_rna',\n",
       "                                                   MeanCenterer())]))])),\n",
       " ('model',\n",
       "  SVR(C=np.float64(0.8708199642350806), epsilon=np.float64(0.7444800190713263),\n",
       "      kernel='linear'))]"
      ]
     },
     "execution_count": 83,
     "metadata": {},
     "output_type": "execute_result"
    }
   ],
   "source": [
    "best_pipeline.steps"
   ]
  },
  {
   "cell_type": "code",
   "execution_count": null,
   "id": "ac62d0b3",
   "metadata": {},
   "outputs": [],
   "source": []
  },
  {
   "cell_type": "code",
   "execution_count": null,
   "id": "ea8eb853",
   "metadata": {},
   "outputs": [],
   "source": []
  },
  {
   "cell_type": "markdown",
   "id": "8c942bff",
   "metadata": {},
   "source": [
    "# End"
   ]
  },
  {
   "cell_type": "code",
   "execution_count": 8,
   "id": "2c53cc7e",
   "metadata": {},
   "outputs": [],
   "source": [
    "X_map = {'Transcriptomics': X_rna, 'Proteomics': X_protein}\n",
    "X_map = {k: X_ - np.mean(X_, axis=0) for k, X_ in X_map.items()} # center the data\n",
    "\n",
    "# # center and scale the data\n",
    "# from sklearn.preprocessing import StandardScaler\n",
    "# for k, X_ in X_map.items():\n",
    "#     scaler = StandardScaler()\n",
    "#     X_scaled = scaler.fit_transform(X_)\n",
    "#     X_map[k] = X_scaled\n",
    "    \n",
    "# for k, X_ in X_map.items():\n",
    "#     X_centered = X_ - np.mean(X_, axis=0) # mean center\n",
    "#     X_map[k] = X_centered\n",
    "#     X_scaled = X_centered / np.std(X_, axis=0) # scale\n",
    "#     X_map[k] = X_scaled"
   ]
  },
  {
   "cell_type": "markdown",
   "id": "283e4e33",
   "metadata": {},
   "source": [
    "# Top Genes"
   ]
  },
  {
   "cell_type": "markdown",
   "id": "4ab4ecff",
   "metadata": {},
   "source": [
    "Let's see whether there are interactions between the top 25, 50, or 100 features ranked by the model coefficient:"
   ]
  },
  {
   "cell_type": "code",
   "execution_count": 9,
   "id": "466a225a",
   "metadata": {},
   "outputs": [],
   "source": [
    "def get_interaction_value(feature_1: str, feature_2: str, residuals, X_map, model_coefs):\n",
    "    X_1 = X_map[model_coefs.loc[feature_1,'Modality']][:, model_coefs.loc[feature_1, 'feature_index']]\n",
    "    X_2 = X_map[model_coefs.loc[feature_2,'Modality']][:, model_coefs.loc[feature_2, 'feature_index']]\n",
    "\n",
    "    ols_df = pd.DataFrame({\"residual\": residuals, \n",
    "                           \"X_tilda\": X_1 * X_2})\n",
    "\n",
    "    ols_interaction = smf.ols(\"residual ~ X_tilda\", data=ols_df).fit()\n",
    "\n",
    "\n",
    "    coef = float(ols_interaction.params.X_tilda)\n",
    "    pval = float(ols_interaction.pvalues.X_tilda)\n",
    "    \n",
    "    se = ols_interaction.bse.X_tilda\n",
    "    \n",
    "    t_statistic = float(abs(coef))/se\n",
    "    \n",
    "    return coef, pval, t_statistic"
   ]
  },
  {
   "cell_type": "code",
   "execution_count": 16,
   "id": "a546a347",
   "metadata": {},
   "outputs": [
    {
     "name": "stderr",
     "output_type": "stream",
     "text": [
      "100%|██████████████████████████████████████████| 300/300 [00:01<00:00, 172.98it/s]\n"
     ]
    },
    {
     "name": "stdout",
     "output_type": "stream",
     "text": [
      "Considering the top 25 genes, there are 0 significant interactions out of a possible 300\n"
     ]
    },
    {
     "name": "stderr",
     "output_type": "stream",
     "text": [
      "100%|████████████████████████████████████████| 1225/1225 [00:07<00:00, 174.28it/s]\n"
     ]
    },
    {
     "name": "stdout",
     "output_type": "stream",
     "text": [
      "Considering the top 50 genes, there are 0 significant interactions out of a possible 1225\n"
     ]
    },
    {
     "name": "stderr",
     "output_type": "stream",
     "text": [
      "100%|████████████████████████████████████████| 4950/4950 [00:28<00:00, 174.61it/s]"
     ]
    },
    {
     "name": "stdout",
     "output_type": "stream",
     "text": [
      "Considering the top 100 genes, there are 0 significant interactions out of a possible 4950\n"
     ]
    },
    {
     "name": "stderr",
     "output_type": "stream",
     "text": [
      "\n"
     ]
    }
   ],
   "source": [
    "alpha = 0.2\n",
    "top_n_res = {}\n",
    "for top_n in [25, 50, 100]:\n",
    "    features = model_coefs.index.tolist()[:top_n]\n",
    "    feature_combs = list(itertools.combinations(features, 2))\n",
    "    \n",
    "    res_all = []\n",
    "    for feature_comb in tqdm(feature_combs):\n",
    "        res = get_interaction_value(feature_comb[0], feature_comb[1], residuals, X_map, model_coefs)[:-1]\n",
    "        res_all.append(res)\n",
    "\n",
    "    res_all = pd.DataFrame(res_all, columns = ['coef', 'pval'])\n",
    "    _, bh_fdr, _, _ = multipletests(res_all.pval, method='fdr_bh')\n",
    "    res_all['bh_fdr'] = bh_fdr\n",
    "\n",
    "    res_all = pd.concat([\n",
    "        pd.DataFrame(feature_combs, columns = ['feature_1', 'feature_2']),\n",
    "        res_all\n",
    "    ],\n",
    "        axis = 1)\n",
    "    \n",
    "    n_sig_hits = res_all[res_all.bh_fdr <= alpha].shape[0]\n",
    "    \n",
    "    print('Considering the top {} genes, there are {} significant interactions out of a possible {}'.format(top_n, \n",
    "                                                                                                            n_sig_hits, \n",
    "                                                                                                            comb(top_n, 2)))\n",
    "\n",
    "    top_n_res[top_n] = res_all"
   ]
  },
  {
   "cell_type": "markdown",
   "id": "68391540",
   "metadata": {},
   "source": [
    "We see that amongst the top ranked genes, there are no significant interactions. However, it is possible for interactions to occur non-intuitively across features that don't have high ranks. So, in the next notebook, let's use a genetic algorithm identify highly interacting genes. "
   ]
  }
 ],
 "metadata": {
  "kernelspec": {
   "display_name": "Python [conda env:metastatic_potential]",
   "language": "python",
   "name": "conda-env-metastatic_potential-py"
  },
  "language_info": {
   "codemirror_mode": {
    "name": "ipython",
    "version": 3
   },
   "file_extension": ".py",
   "mimetype": "text/x-python",
   "name": "python",
   "nbconvert_exporter": "python",
   "pygments_lexer": "ipython3",
   "version": "3.13.0"
  }
 },
 "nbformat": 4,
 "nbformat_minor": 5
}
