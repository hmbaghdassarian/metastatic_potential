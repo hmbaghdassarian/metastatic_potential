{
 "cells": [
  {
   "cell_type": "markdown",
   "id": "c4c7cbc9",
   "metadata": {},
   "source": [
    "Across the 3 feature spaces searched (all features (19638), those features that are present in the Cancer Cell Map) we will have 3x(25 choose 2) = 900 total interactions. \n",
    "\n",
    "We want to further filter these interactions according to effect size and significance. Since our genetic algorithm optimized for fitness using the t-statistic, we need alternative calculations of statistical significance. "
   ]
  },
  {
   "cell_type": "code",
   "execution_count": 1,
   "id": "7031b884",
   "metadata": {},
   "outputs": [
    {
     "name": "stderr",
     "output_type": "stream",
     "text": [
      "/nobackup/users/hmbaghda/Software/miniforge3/envs/metastatic_potential/lib/python3.13/site-packages/tqdm/auto.py:21: TqdmWarning: IProgress not found. Please update jupyter and ipywidgets. See https://ipywidgets.readthedocs.io/en/stable/user_install.html\n",
      "  from .autonotebook import tqdm as notebook_tqdm\n"
     ]
    }
   ],
   "source": [
    "import os\n",
    "import itertools\n",
    "import random\n",
    "from multiprocessing import Pool\n",
    "from math import comb\n",
    "import copy\n",
    "from collections import defaultdict\n",
    "\n",
    "\n",
    "from tqdm import tqdm, trange \n",
    "\n",
    "import pandas as pd\n",
    "import numpy as np\n",
    "\n",
    "from scipy import stats\n",
    "import statsmodels.formula.api as smf\n",
    "from statsmodels.stats.multitest import multipletests\n",
    "from sklearn.model_selection import KFold\n",
    "\n",
    "\n",
    "import seaborn as sns\n",
    "import matplotlib.pyplot as plt \n",
    "\n",
    "# import sys\n",
    "# sys.path.insert(1, '../../')\n",
    "# from utils import read_pickled_object, get_stats, cohen_d\n",
    "\n"
   ]
  },
  {
   "cell_type": "code",
   "execution_count": 2,
   "id": "ad78a2a6",
   "metadata": {},
   "outputs": [],
   "source": [
    "data_path = '/nobackup/users/hmbaghda/metastatic_potential/'\n",
    "random_state = 42 + 3\n",
    "\n",
    "n_cores = 80\n",
    "os.environ[\"OMP_NUM_THREADS\"] = str(n_cores)\n",
    "os.environ[\"MKL_NUM_THREADS\"] = str(n_cores)\n",
    "os.environ[\"OPENBLAS_NUM_THREADS\"] = str(n_cores)\n",
    "os.environ[\"VECLIB_MAXIMUM_THREADS\"] = str(n_cores)\n",
    "os.environ[\"NUMEXPR_NUM_THREADS\"] = str(n_cores)"
   ]
  },
  {
   "cell_type": "markdown",
   "id": "f9fd369a",
   "metadata": {},
   "source": [
    "# Preprocess\n",
    "\n",
    "Same as [Notebook 05A](./05A_top_ranked_interactions.ipynb)"
   ]
  },
  {
   "cell_type": "code",
   "execution_count": 3,
   "id": "a8f07970",
   "metadata": {},
   "outputs": [],
   "source": [
    "# load data\n",
    "X = pd.read_csv(os.path.join(data_path, 'processed',  'expr_joint.csv'), index_col = 0)\n",
    "expr_joint = X.copy()\n",
    "\n",
    "mp_joint=pd.read_csv(os.path.join(data_path, 'processed', 'metastatic_potential_joint.csv'), index_col = 0)['mean']\n",
    "y = mp_joint.values.ravel()\n",
    "\n",
    "expr_protein = pd.read_csv(os.path.join(data_path, 'processed',  'expr_protein.csv'), index_col = 0)\n",
    "expr_rna = pd.read_csv(os.path.join(data_path, 'processed',  'expr.csv'), index_col = 0)\n",
    "\n",
    "protein_cols = expr_protein.columns\n",
    "rna_cols = expr_rna.columns\n",
    "\n",
    "X_protein = X[protein_cols].values\n",
    "X_rna = X[rna_cols].values\n",
    "\n",
    "# fit model\n",
    "best_pipeline = read_pickled_object(os.path.join(data_path, 'processed', \n",
    "                                                 'best_model_svr_linear_joint.pickle'))\n",
    "\n",
    "model_coefs = pd.read_csv(os.path.join(data_path, 'interim', 'joint_features.csv'), \n",
    "                          index_col = 0)\n",
    "model_coefs.sort_values(by='SVM coefficient', key=lambda x: x.abs(), ascending=False, inplace=True)\n",
    "model_coefs.set_index('feature_name', inplace = True)\n",
    "model_coefs['rank'] = range(model_coefs.shape[0])\n",
    "\n",
    "\n",
    "X = (X_protein, X_rna)\n",
    "best_pipeline.fit(X, y)\n",
    "\n",
    "# get prediction\n",
    "y_pred = best_pipeline.predict(X)\n",
    "residuals = y - y_pred\n",
    "\n",
    "# center\n",
    "X_map = {'Transcriptomics': X_rna, 'Proteomics': X_protein}\n",
    "X_map = {k: X_ - np.mean(X_, axis=0) for k, X_ in X_map.items()} # center the data"
   ]
  },
  {
   "cell_type": "markdown",
   "id": "81de5940",
   "metadata": {},
   "source": [
    "# Assess Significance: Permutation Test"
   ]
  },
  {
   "cell_type": "code",
   "execution_count": 222,
   "id": "2382b976",
   "metadata": {},
   "outputs": [],
   "source": [
    "model_coefs = pd.read_csv(os.path.join(data_path, 'interim', 'joint_features.csv'), \n",
    "                          index_col = 0)\n",
    "model_coefs.set_index('feature_name', inplace = True)\n",
    "\n"
   ]
  },
  {
   "cell_type": "code",
   "execution_count": 2,
   "id": "47e0cf8f",
   "metadata": {},
   "outputs": [],
   "source": [
    "import os\n",
    "data_path = '/nobackup/users/hmbaghda/metastatic_potential/'\n"
   ]
  },
  {
   "cell_type": "code",
   "execution_count": 3,
   "id": "badc96cd",
   "metadata": {},
   "outputs": [
    {
     "data": {
      "text/plain": [
       "'/nobackup/users/hmbaghda/metastatic_potential/interim/joint_features.csv'"
      ]
     },
     "execution_count": 3,
     "metadata": {},
     "output_type": "execute_result"
    }
   ],
   "source": [
    "os.path.join(data_path, 'interim', 'joint_features.csv')"
   ]
  },
  {
   "cell_type": "code",
   "execution_count": null,
   "id": "797085fa",
   "metadata": {},
   "outputs": [],
   "source": []
  },
  {
   "cell_type": "markdown",
   "id": "207fb33d",
   "metadata": {},
   "source": [
    "1) Get the selected features from the fit on the full dataset and union of modalities. \n",
    "This is different from the 10-fold CV, where feature selection is run each time. We will use 10-fold CV, but on this consistent set of features which we are interested in testing interactions for. "
   ]
  },
  {
   "cell_type": "code",
   "execution_count": 19,
   "id": "7b0bc2e4",
   "metadata": {},
   "outputs": [],
   "source": [
    "X_map_selected = {}\n",
    "for modality, X in X_map.items():\n",
    "    modality_indices = model_coefs[model_coefs.Modality == modality]['feature_index'].values # selected_indices[modality]\n",
    "    X_map_selected[modality] = X[:, modality_indices]\n",
    "\n",
    "X_selected = np.concatenate([X_map_selected['Proteomics'], X_map_selected['Transcriptomics']], \n",
    "               axis = 1)\n"
   ]
  },
  {
   "cell_type": "markdown",
   "id": "e502b84c",
   "metadata": {},
   "source": [
    "2. Sanity check -- does fitting the model on this manual pipeline match the automated best_pipeline?"
   ]
  },
  {
   "cell_type": "code",
   "execution_count": 20,
   "id": "04b4eeee",
   "metadata": {},
   "outputs": [],
   "source": [
    "svr_model = copy.deepcopy(best_pipeline.named_steps['model'])"
   ]
  },
  {
   "cell_type": "code",
   "execution_count": 21,
   "id": "f75e721a",
   "metadata": {},
   "outputs": [],
   "source": [
    "svr_model.fit(X_selected, y)\n",
    "model_coefs_check = pd.DataFrame(data = {'SVM coefficient': svr_model.coef_.ravel()})\n",
    "model_coefs_check['feature_name'] = model_coefs.index.tolist()#selected_protein_cols + selected_rna_cols\n",
    "model_coefs_check.set_index('feature_name', inplace = True)\n",
    "\n",
    "if not np.allclose(model_coefs_check['SVM coefficient'].values, #model_coefs_check.loc[model_coefs.index,:]['SVM coefficient'].values, \n",
    "                   model_coefs['SVM coefficient'].values):\n",
    "    raise ValueError('Something in the manual processing pipeline does not match the automated best_pipeline')\n",
    "    \n",
    "else:\n",
    "    model_coefs['feature_index_selected'] = range(model_coefs.shape[0])\n",
    "    model_coefs.sort_values(by='SVM coefficient', key=lambda x: x.abs(), ascending=False, inplace=True)"
   ]
  },
  {
   "cell_type": "markdown",
   "id": "8cf1a60d",
   "metadata": {},
   "source": [
    "3. Run the permutation test:"
   ]
  },
  {
   "cell_type": "code",
   "execution_count": 22,
   "id": "1566c1d9",
   "metadata": {},
   "outputs": [],
   "source": [
    "# FOR NIKOS: can use feature name here as a string, not index\n",
    "def get_interaction_value_permutation(feature_1, \n",
    "                                      feature_2, \n",
    "                                      n_perm,\n",
    "                                      y = y,\n",
    "                                      random_state = random_state, \n",
    "                                      svr_model = svr_model, \n",
    "                                      X_selected = X_selected, \n",
    "                                      model_coefs = model_coefs):\n",
    "    X_interaction = X_selected.copy()\n",
    "\n",
    "    feature_1_index = model_coefs.loc[feature_1, 'feature_index_selected']\n",
    "    feature_2_index = model_coefs.loc[feature_2, 'feature_index_selected']\n",
    "    interaction = X_selected[:, feature_1_index]*X_selected[:, feature_2_index]\n",
    "\n",
    "    X_interaction = np.concatenate([X_interaction, interaction.reshape(-1, 1)], axis = 1)\n",
    "\n",
    "    svr_model.fit(X_interaction, y)\n",
    "    interaction_coef = svr_model.coef_[0, -1]\n",
    "\n",
    "    return interaction_coef, svr_model"
   ]
  }
 ],
 "metadata": {
  "kernelspec": {
   "display_name": "Python [conda env:metastatic_potential]",
   "language": "python",
   "name": "conda-env-metastatic_potential-py"
  },
  "language_info": {
   "codemirror_mode": {
    "name": "ipython",
    "version": 3
   },
   "file_extension": ".py",
   "mimetype": "text/x-python",
   "name": "python",
   "nbconvert_exporter": "python",
   "pygments_lexer": "ipython3",
   "version": "3.13.0"
  }
 },
 "nbformat": 4,
 "nbformat_minor": 5
}
