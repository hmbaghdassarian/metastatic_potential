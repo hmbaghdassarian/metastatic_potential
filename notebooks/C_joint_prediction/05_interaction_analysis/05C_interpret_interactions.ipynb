{
 "cells": [
  {
   "cell_type": "code",
   "execution_count": 175,
   "id": "ff78538b",
   "metadata": {},
   "outputs": [],
   "source": [
    "import os\n",
    "from tqdm import tqdm\n",
    "\n",
    "import pandas as pd\n",
    "import numpy as np\n",
    "\n",
    "import seaborn as sns\n",
    "import matplotlib.pyplot as plt \n",
    "\n",
    "from scipy import stats\n",
    "\n",
    "import sys"
   ]
  },
  {
   "cell_type": "code",
   "execution_count": 176,
   "id": "4868122f",
   "metadata": {},
   "outputs": [],
   "source": [
    "data_path = '/nobackup/users/hmbaghda/metastatic_potential/'\n",
    "random_state = 42 + 3\n",
    "\n",
    "n_cores = 30\n",
    "os.environ[\"OMP_NUM_THREADS\"] = str(n_cores)\n",
    "os.environ[\"MKL_NUM_THREADS\"] = str(n_cores)\n",
    "os.environ[\"OPENBLAS_NUM_THREADS\"] = str(n_cores)\n",
    "os.environ[\"VECLIB_MAXIMUM_THREADS\"] = str(n_cores)\n",
    "os.environ[\"NUMEXPR_NUM_THREADS\"] = str(n_cores)"
   ]
  },
  {
   "cell_type": "markdown",
   "id": "dbcdb20e",
   "metadata": {},
   "source": [
    "Load interaction results:"
   ]
  },
  {
   "cell_type": "code",
   "execution_count": 177,
   "id": "48946729",
   "metadata": {},
   "outputs": [],
   "source": [
    "res_all = pd.read_csv(os.path.join(data_path, 'processed', 'joint_ols_perm_interactions.csv'), \n",
    "                     index_col = 0)"
   ]
  },
  {
   "cell_type": "markdown",
   "id": "91343bfc",
   "metadata": {},
   "source": [
    "Filter for significant interactions by permutation test:"
   ]
  },
  {
   "cell_type": "code",
   "execution_count": 178,
   "id": "fa0b49f0",
   "metadata": {},
   "outputs": [
    {
     "name": "stdout",
     "output_type": "stream",
     "text": [
      "There are 31 significant interactions\n"
     ]
    }
   ],
   "source": [
    "alpha = 0.2\n",
    "res_all = res_all[res_all.bh_fdr_perm <= alpha]\n",
    "\n",
    "print('There are {} significant interactions'.format(res_all.shape[0]))"
   ]
  },
  {
   "cell_type": "markdown",
   "id": "2d3fbda4",
   "metadata": {},
   "source": [
    "Check for concordance between the OLS and permutation approach:"
   ]
  },
  {
   "cell_type": "code",
   "execution_count": 179,
   "id": "f0077a75",
   "metadata": {},
   "outputs": [
    {
     "data": {
      "text/plain": [
       "SignificanceResult(statistic=np.float64(0.39395161290322583), pvalue=np.float64(0.02831920552200202))"
      ]
     },
     "execution_count": 179,
     "metadata": {},
     "output_type": "execute_result"
    }
   ],
   "source": [
    "stats.spearmanr(res_all.coef_perm, \n",
    "                res_all.coef_OLS)"
   ]
  },
  {
   "cell_type": "markdown",
   "id": "3f9e3701",
   "metadata": {},
   "source": [
    "Identify which features occur in the most interactions:"
   ]
  },
  {
   "cell_type": "code",
   "execution_count": 180,
   "id": "fc6ff375",
   "metadata": {},
   "outputs": [
    {
     "data": {
      "text/plain": [
       "ZCCHC13 (389874)    6\n",
       "AXIN1 (8312)        5\n",
       "GPHN (10243)        5\n",
       "PA2G4 (5036)        4\n",
       "APC (324)           4\n",
       "POLR2A (5430)       3\n",
       "CLEC4E (26253)      3\n",
       "SEMG1 (6406)        3\n",
       "ARRB2 (409)         3\n",
       "SP1 (6667)          3\n",
       "REL (5966)          2\n",
       "STAT5B (6777)       2\n",
       "EP300 (2033)        2\n",
       "PCBP1 (5093)        2\n",
       "ADAD1 (132612)      2\n",
       "FPR2 (2358)         1\n",
       "ACVR1B (91)         1\n",
       "IL9 (3578)          1\n",
       "ANAPC2 (29882)      1\n",
       "TRAF6 (7189)        1\n",
       "AKAP9 (10142)       1\n",
       "BRCA1 (672)         1\n",
       "CDK9 (1025)         1\n",
       "C8A (731)           1\n",
       "MRGPRX1 (259249)    1\n",
       "NONO (4841)         1\n",
       "NCKIPSD (51517)     1\n",
       "STRN (6801)         1\n",
       "Name: count, dtype: int64"
      ]
     },
     "execution_count": 180,
     "metadata": {},
     "output_type": "execute_result"
    }
   ],
   "source": [
    "feature_counts = pd.Series(res_all.feature_1.tolist() + res_all.feature_2.tolist()).value_counts()\n",
    "feature_counts"
   ]
  },
  {
   "cell_type": "markdown",
   "id": "f2134b5c",
   "metadata": {},
   "source": [
    "Since we used feature sets, where the idea was to focus on modules of interactions, let's focus on these features that have multiple interactions:"
   ]
  },
  {
   "cell_type": "code",
   "execution_count": 181,
   "id": "af315e8e",
   "metadata": {},
   "outputs": [
    {
     "data": {
      "text/plain": [
       "ZCCHC13 (389874)    6\n",
       "AXIN1 (8312)        5\n",
       "GPHN (10243)        5\n",
       "PA2G4 (5036)        4\n",
       "APC (324)           4\n",
       "POLR2A (5430)       3\n",
       "CLEC4E (26253)      3\n",
       "SEMG1 (6406)        3\n",
       "ARRB2 (409)         3\n",
       "SP1 (6667)          3\n",
       "REL (5966)          2\n",
       "STAT5B (6777)       2\n",
       "EP300 (2033)        2\n",
       "PCBP1 (5093)        2\n",
       "ADAD1 (132612)      2\n",
       "Name: count, dtype: int64"
      ]
     },
     "execution_count": 181,
     "metadata": {},
     "output_type": "execute_result"
    }
   ],
   "source": [
    "multiple_interactions = feature_counts[feature_counts >= 2]\n",
    "multiple_interactions"
   ]
  },
  {
   "cell_type": "code",
   "execution_count": 182,
   "id": "6dfbcb20",
   "metadata": {},
   "outputs": [
    {
     "data": {
      "text/html": [
       "<div>\n",
       "<style scoped>\n",
       "    .dataframe tbody tr th:only-of-type {\n",
       "        vertical-align: middle;\n",
       "    }\n",
       "\n",
       "    .dataframe tbody tr th {\n",
       "        vertical-align: top;\n",
       "    }\n",
       "\n",
       "    .dataframe thead th {\n",
       "        text-align: right;\n",
       "    }\n",
       "</style>\n",
       "<table border=\"1\" class=\"dataframe\">\n",
       "  <thead>\n",
       "    <tr style=\"text-align: right;\">\n",
       "      <th></th>\n",
       "      <th>feature_1</th>\n",
       "      <th>feature_2</th>\n",
       "      <th>coef_perm</th>\n",
       "      <th>pval_perm</th>\n",
       "      <th>bh_fdr_perm</th>\n",
       "      <th>coef_OLS</th>\n",
       "      <th>t_statistic_OLS</th>\n",
       "      <th>feature_1_rank</th>\n",
       "      <th>feature_1_gene_name</th>\n",
       "      <th>feature_2_rank</th>\n",
       "      <th>feature_2_gene_name</th>\n",
       "    </tr>\n",
       "  </thead>\n",
       "  <tbody>\n",
       "    <tr>\n",
       "      <th>0</th>\n",
       "      <td>REL (5966)</td>\n",
       "      <td>GPHN (10243)</td>\n",
       "      <td>-3.221476e-03</td>\n",
       "      <td>0.002</td>\n",
       "      <td>0.098000</td>\n",
       "      <td>-0.365096</td>\n",
       "      <td>4.265245</td>\n",
       "      <td>5040</td>\n",
       "      <td>REL</td>\n",
       "      <td>12963</td>\n",
       "      <td>GPHN</td>\n",
       "    </tr>\n",
       "    <tr>\n",
       "      <th>1</th>\n",
       "      <td>GPHN (10243)</td>\n",
       "      <td>AXIN1 (8312)</td>\n",
       "      <td>-3.557160e-03</td>\n",
       "      <td>0.012</td>\n",
       "      <td>0.164500</td>\n",
       "      <td>-0.263427</td>\n",
       "      <td>3.768648</td>\n",
       "      <td>12963</td>\n",
       "      <td>GPHN</td>\n",
       "      <td>12842</td>\n",
       "      <td>AXIN1</td>\n",
       "    </tr>\n",
       "    <tr>\n",
       "      <th>2</th>\n",
       "      <td>CLEC4E (26253)</td>\n",
       "      <td>ADAD1 (132612)</td>\n",
       "      <td>1.359538e-05</td>\n",
       "      <td>0.022</td>\n",
       "      <td>0.164500</td>\n",
       "      <td>60.411815</td>\n",
       "      <td>3.758878</td>\n",
       "      <td>827</td>\n",
       "      <td>CLEC4E</td>\n",
       "      <td>17918</td>\n",
       "      <td>ADAD1</td>\n",
       "    </tr>\n",
       "    <tr>\n",
       "      <th>3</th>\n",
       "      <td>AXIN1 (8312)</td>\n",
       "      <td>PA2G4 (5036)</td>\n",
       "      <td>-1.994186e-03</td>\n",
       "      <td>0.040</td>\n",
       "      <td>0.164500</td>\n",
       "      <td>-0.345529</td>\n",
       "      <td>3.479151</td>\n",
       "      <td>12842</td>\n",
       "      <td>AXIN1</td>\n",
       "      <td>4460</td>\n",
       "      <td>PA2G4</td>\n",
       "    </tr>\n",
       "    <tr>\n",
       "      <th>4</th>\n",
       "      <td>AXIN1 (8312)</td>\n",
       "      <td>BRCA1 (672)</td>\n",
       "      <td>-2.166259e-03</td>\n",
       "      <td>0.047</td>\n",
       "      <td>0.164500</td>\n",
       "      <td>-0.283360</td>\n",
       "      <td>3.396296</td>\n",
       "      <td>12842</td>\n",
       "      <td>AXIN1</td>\n",
       "      <td>5869</td>\n",
       "      <td>BRCA1</td>\n",
       "    </tr>\n",
       "    <tr>\n",
       "      <th>7</th>\n",
       "      <td>PA2G4 (5036)</td>\n",
       "      <td>SP1 (6667)</td>\n",
       "      <td>-1.739785e-03</td>\n",
       "      <td>0.094</td>\n",
       "      <td>0.164500</td>\n",
       "      <td>-0.315179</td>\n",
       "      <td>3.295095</td>\n",
       "      <td>4460</td>\n",
       "      <td>PA2G4</td>\n",
       "      <td>7313</td>\n",
       "      <td>SP1</td>\n",
       "    </tr>\n",
       "    <tr>\n",
       "      <th>8</th>\n",
       "      <td>ARRB2 (409)</td>\n",
       "      <td>SP1 (6667)</td>\n",
       "      <td>-3.015380e-03</td>\n",
       "      <td>0.051</td>\n",
       "      <td>0.164500</td>\n",
       "      <td>-0.219638</td>\n",
       "      <td>3.274340</td>\n",
       "      <td>8164</td>\n",
       "      <td>ARRB2</td>\n",
       "      <td>7313</td>\n",
       "      <td>SP1</td>\n",
       "    </tr>\n",
       "    <tr>\n",
       "      <th>9</th>\n",
       "      <td>ARRB2 (409)</td>\n",
       "      <td>ANAPC2 (29882)</td>\n",
       "      <td>-3.081827e-03</td>\n",
       "      <td>0.057</td>\n",
       "      <td>0.164500</td>\n",
       "      <td>-0.206739</td>\n",
       "      <td>3.217382</td>\n",
       "      <td>8164</td>\n",
       "      <td>ARRB2</td>\n",
       "      <td>18562</td>\n",
       "      <td>ANAPC2</td>\n",
       "    </tr>\n",
       "    <tr>\n",
       "      <th>10</th>\n",
       "      <td>ADAD1 (132612)</td>\n",
       "      <td>ZCCHC13 (389874)</td>\n",
       "      <td>6.066973e-08</td>\n",
       "      <td>0.074</td>\n",
       "      <td>0.164500</td>\n",
       "      <td>9569.068494</td>\n",
       "      <td>3.192012</td>\n",
       "      <td>17918</td>\n",
       "      <td>ADAD1</td>\n",
       "      <td>18946</td>\n",
       "      <td>ZCCHC13</td>\n",
       "    </tr>\n",
       "    <tr>\n",
       "      <th>12</th>\n",
       "      <td>ZCCHC13 (389874)</td>\n",
       "      <td>SEMG1 (6406)</td>\n",
       "      <td>1.475527e-06</td>\n",
       "      <td>0.037</td>\n",
       "      <td>0.164500</td>\n",
       "      <td>395.149617</td>\n",
       "      <td>3.164289</td>\n",
       "      <td>18946</td>\n",
       "      <td>ZCCHC13</td>\n",
       "      <td>5245</td>\n",
       "      <td>SEMG1</td>\n",
       "    </tr>\n",
       "    <tr>\n",
       "      <th>13</th>\n",
       "      <td>STAT5B (6777)</td>\n",
       "      <td>SP1 (6667)</td>\n",
       "      <td>-2.227895e-03</td>\n",
       "      <td>0.036</td>\n",
       "      <td>0.164500</td>\n",
       "      <td>-0.268187</td>\n",
       "      <td>3.149872</td>\n",
       "      <td>11572</td>\n",
       "      <td>STAT5B</td>\n",
       "      <td>7313</td>\n",
       "      <td>SP1</td>\n",
       "    </tr>\n",
       "    <tr>\n",
       "      <th>15</th>\n",
       "      <td>PCBP1 (5093)</td>\n",
       "      <td>REL (5966)</td>\n",
       "      <td>-1.202423e-03</td>\n",
       "      <td>0.051</td>\n",
       "      <td>0.164500</td>\n",
       "      <td>-0.474553</td>\n",
       "      <td>3.109348</td>\n",
       "      <td>9916</td>\n",
       "      <td>PCBP1</td>\n",
       "      <td>5040</td>\n",
       "      <td>REL</td>\n",
       "    </tr>\n",
       "    <tr>\n",
       "      <th>16</th>\n",
       "      <td>CLEC4E (26253)</td>\n",
       "      <td>SEMG1 (6406)</td>\n",
       "      <td>2.728383e-04</td>\n",
       "      <td>0.015</td>\n",
       "      <td>0.164500</td>\n",
       "      <td>2.082773</td>\n",
       "      <td>3.088208</td>\n",
       "      <td>827</td>\n",
       "      <td>CLEC4E</td>\n",
       "      <td>5245</td>\n",
       "      <td>SEMG1</td>\n",
       "    </tr>\n",
       "    <tr>\n",
       "      <th>20</th>\n",
       "      <td>POLR2A (5430)</td>\n",
       "      <td>ACVR1B (91)</td>\n",
       "      <td>-3.125884e-03</td>\n",
       "      <td>0.072</td>\n",
       "      <td>0.164500</td>\n",
       "      <td>-0.170630</td>\n",
       "      <td>3.001813</td>\n",
       "      <td>5535</td>\n",
       "      <td>POLR2A</td>\n",
       "      <td>5492</td>\n",
       "      <td>ACVR1B</td>\n",
       "    </tr>\n",
       "    <tr>\n",
       "      <th>23</th>\n",
       "      <td>CLEC4E (26253)</td>\n",
       "      <td>ZCCHC13 (389874)</td>\n",
       "      <td>3.559873e-06</td>\n",
       "      <td>0.064</td>\n",
       "      <td>0.164500</td>\n",
       "      <td>119.729686</td>\n",
       "      <td>2.922291</td>\n",
       "      <td>827</td>\n",
       "      <td>CLEC4E</td>\n",
       "      <td>18946</td>\n",
       "      <td>ZCCHC13</td>\n",
       "    </tr>\n",
       "    <tr>\n",
       "      <th>24</th>\n",
       "      <td>APC (324)</td>\n",
       "      <td>PA2G4 (5036)</td>\n",
       "      <td>-1.592382e-03</td>\n",
       "      <td>0.086</td>\n",
       "      <td>0.164500</td>\n",
       "      <td>-0.273266</td>\n",
       "      <td>2.906075</td>\n",
       "      <td>6501</td>\n",
       "      <td>APC</td>\n",
       "      <td>4460</td>\n",
       "      <td>PA2G4</td>\n",
       "    </tr>\n",
       "    <tr>\n",
       "      <th>25</th>\n",
       "      <td>ZCCHC13 (389874)</td>\n",
       "      <td>FPR2 (2358)</td>\n",
       "      <td>2.079426e-06</td>\n",
       "      <td>0.126</td>\n",
       "      <td>0.199161</td>\n",
       "      <td>199.426359</td>\n",
       "      <td>2.896776</td>\n",
       "      <td>18946</td>\n",
       "      <td>ZCCHC13</td>\n",
       "      <td>5401</td>\n",
       "      <td>FPR2</td>\n",
       "    </tr>\n",
       "    <tr>\n",
       "      <th>26</th>\n",
       "      <td>APC (324)</td>\n",
       "      <td>AXIN1 (8312)</td>\n",
       "      <td>-1.886775e-03</td>\n",
       "      <td>0.078</td>\n",
       "      <td>0.164500</td>\n",
       "      <td>-0.266787</td>\n",
       "      <td>2.891695</td>\n",
       "      <td>6501</td>\n",
       "      <td>APC</td>\n",
       "      <td>12842</td>\n",
       "      <td>AXIN1</td>\n",
       "    </tr>\n",
       "    <tr>\n",
       "      <th>28</th>\n",
       "      <td>PA2G4 (5036)</td>\n",
       "      <td>EP300 (2033)</td>\n",
       "      <td>-2.434173e-03</td>\n",
       "      <td>0.034</td>\n",
       "      <td>0.164500</td>\n",
       "      <td>-0.219599</td>\n",
       "      <td>2.863802</td>\n",
       "      <td>4460</td>\n",
       "      <td>PA2G4</td>\n",
       "      <td>6932</td>\n",
       "      <td>EP300</td>\n",
       "    </tr>\n",
       "    <tr>\n",
       "      <th>33</th>\n",
       "      <td>POLR2A (5430)</td>\n",
       "      <td>APC (324)</td>\n",
       "      <td>-2.554954e-03</td>\n",
       "      <td>0.049</td>\n",
       "      <td>0.164500</td>\n",
       "      <td>-0.192054</td>\n",
       "      <td>2.806748</td>\n",
       "      <td>5535</td>\n",
       "      <td>POLR2A</td>\n",
       "      <td>6501</td>\n",
       "      <td>APC</td>\n",
       "    </tr>\n",
       "    <tr>\n",
       "      <th>36</th>\n",
       "      <td>POLR2A (5430)</td>\n",
       "      <td>GPHN (10243)</td>\n",
       "      <td>-2.666001e-03</td>\n",
       "      <td>0.114</td>\n",
       "      <td>0.186200</td>\n",
       "      <td>-0.159396</td>\n",
       "      <td>2.758261</td>\n",
       "      <td>5535</td>\n",
       "      <td>POLR2A</td>\n",
       "      <td>12963</td>\n",
       "      <td>GPHN</td>\n",
       "    </tr>\n",
       "    <tr>\n",
       "      <th>37</th>\n",
       "      <td>PCBP1 (5093)</td>\n",
       "      <td>APC (324)</td>\n",
       "      <td>-1.079006e-03</td>\n",
       "      <td>0.114</td>\n",
       "      <td>0.186200</td>\n",
       "      <td>-0.354923</td>\n",
       "      <td>2.754480</td>\n",
       "      <td>9916</td>\n",
       "      <td>PCBP1</td>\n",
       "      <td>6501</td>\n",
       "      <td>APC</td>\n",
       "    </tr>\n",
       "    <tr>\n",
       "      <th>39</th>\n",
       "      <td>ZCCHC13 (389874)</td>\n",
       "      <td>IL9 (3578)</td>\n",
       "      <td>2.112338e-07</td>\n",
       "      <td>0.094</td>\n",
       "      <td>0.164500</td>\n",
       "      <td>1698.755023</td>\n",
       "      <td>2.749183</td>\n",
       "      <td>18946</td>\n",
       "      <td>ZCCHC13</td>\n",
       "      <td>15958</td>\n",
       "      <td>IL9</td>\n",
       "    </tr>\n",
       "    <tr>\n",
       "      <th>40</th>\n",
       "      <td>STAT5B (6777)</td>\n",
       "      <td>GPHN (10243)</td>\n",
       "      <td>-2.253762e-03</td>\n",
       "      <td>0.075</td>\n",
       "      <td>0.164500</td>\n",
       "      <td>-0.202938</td>\n",
       "      <td>2.743250</td>\n",
       "      <td>11572</td>\n",
       "      <td>STAT5B</td>\n",
       "      <td>12963</td>\n",
       "      <td>GPHN</td>\n",
       "    </tr>\n",
       "    <tr>\n",
       "      <th>46</th>\n",
       "      <td>GPHN (10243)</td>\n",
       "      <td>STRN (6801)</td>\n",
       "      <td>-2.307561e-03</td>\n",
       "      <td>0.072</td>\n",
       "      <td>0.164500</td>\n",
       "      <td>-0.193963</td>\n",
       "      <td>2.727261</td>\n",
       "      <td>12963</td>\n",
       "      <td>GPHN</td>\n",
       "      <td>13552</td>\n",
       "      <td>STRN</td>\n",
       "    </tr>\n",
       "  </tbody>\n",
       "</table>\n",
       "</div>"
      ],
      "text/plain": [
       "           feature_1         feature_2     coef_perm  pval_perm  bh_fdr_perm  \\\n",
       "0         REL (5966)      GPHN (10243) -3.221476e-03      0.002     0.098000   \n",
       "1       GPHN (10243)      AXIN1 (8312) -3.557160e-03      0.012     0.164500   \n",
       "2     CLEC4E (26253)    ADAD1 (132612)  1.359538e-05      0.022     0.164500   \n",
       "3       AXIN1 (8312)      PA2G4 (5036) -1.994186e-03      0.040     0.164500   \n",
       "4       AXIN1 (8312)       BRCA1 (672) -2.166259e-03      0.047     0.164500   \n",
       "7       PA2G4 (5036)        SP1 (6667) -1.739785e-03      0.094     0.164500   \n",
       "8        ARRB2 (409)        SP1 (6667) -3.015380e-03      0.051     0.164500   \n",
       "9        ARRB2 (409)    ANAPC2 (29882) -3.081827e-03      0.057     0.164500   \n",
       "10    ADAD1 (132612)  ZCCHC13 (389874)  6.066973e-08      0.074     0.164500   \n",
       "12  ZCCHC13 (389874)      SEMG1 (6406)  1.475527e-06      0.037     0.164500   \n",
       "13     STAT5B (6777)        SP1 (6667) -2.227895e-03      0.036     0.164500   \n",
       "15      PCBP1 (5093)        REL (5966) -1.202423e-03      0.051     0.164500   \n",
       "16    CLEC4E (26253)      SEMG1 (6406)  2.728383e-04      0.015     0.164500   \n",
       "20     POLR2A (5430)       ACVR1B (91) -3.125884e-03      0.072     0.164500   \n",
       "23    CLEC4E (26253)  ZCCHC13 (389874)  3.559873e-06      0.064     0.164500   \n",
       "24         APC (324)      PA2G4 (5036) -1.592382e-03      0.086     0.164500   \n",
       "25  ZCCHC13 (389874)       FPR2 (2358)  2.079426e-06      0.126     0.199161   \n",
       "26         APC (324)      AXIN1 (8312) -1.886775e-03      0.078     0.164500   \n",
       "28      PA2G4 (5036)      EP300 (2033) -2.434173e-03      0.034     0.164500   \n",
       "33     POLR2A (5430)         APC (324) -2.554954e-03      0.049     0.164500   \n",
       "36     POLR2A (5430)      GPHN (10243) -2.666001e-03      0.114     0.186200   \n",
       "37      PCBP1 (5093)         APC (324) -1.079006e-03      0.114     0.186200   \n",
       "39  ZCCHC13 (389874)        IL9 (3578)  2.112338e-07      0.094     0.164500   \n",
       "40     STAT5B (6777)      GPHN (10243) -2.253762e-03      0.075     0.164500   \n",
       "46      GPHN (10243)       STRN (6801) -2.307561e-03      0.072     0.164500   \n",
       "\n",
       "       coef_OLS  t_statistic_OLS  feature_1_rank feature_1_gene_name  \\\n",
       "0     -0.365096         4.265245            5040                 REL   \n",
       "1     -0.263427         3.768648           12963                GPHN   \n",
       "2     60.411815         3.758878             827              CLEC4E   \n",
       "3     -0.345529         3.479151           12842               AXIN1   \n",
       "4     -0.283360         3.396296           12842               AXIN1   \n",
       "7     -0.315179         3.295095            4460               PA2G4   \n",
       "8     -0.219638         3.274340            8164               ARRB2   \n",
       "9     -0.206739         3.217382            8164               ARRB2   \n",
       "10  9569.068494         3.192012           17918               ADAD1   \n",
       "12   395.149617         3.164289           18946             ZCCHC13   \n",
       "13    -0.268187         3.149872           11572              STAT5B   \n",
       "15    -0.474553         3.109348            9916               PCBP1   \n",
       "16     2.082773         3.088208             827              CLEC4E   \n",
       "20    -0.170630         3.001813            5535              POLR2A   \n",
       "23   119.729686         2.922291             827              CLEC4E   \n",
       "24    -0.273266         2.906075            6501                 APC   \n",
       "25   199.426359         2.896776           18946             ZCCHC13   \n",
       "26    -0.266787         2.891695            6501                 APC   \n",
       "28    -0.219599         2.863802            4460               PA2G4   \n",
       "33    -0.192054         2.806748            5535              POLR2A   \n",
       "36    -0.159396         2.758261            5535              POLR2A   \n",
       "37    -0.354923         2.754480            9916               PCBP1   \n",
       "39  1698.755023         2.749183           18946             ZCCHC13   \n",
       "40    -0.202938         2.743250           11572              STAT5B   \n",
       "46    -0.193963         2.727261           12963                GPHN   \n",
       "\n",
       "    feature_2_rank feature_2_gene_name  \n",
       "0            12963                GPHN  \n",
       "1            12842               AXIN1  \n",
       "2            17918               ADAD1  \n",
       "3             4460               PA2G4  \n",
       "4             5869               BRCA1  \n",
       "7             7313                 SP1  \n",
       "8             7313                 SP1  \n",
       "9            18562              ANAPC2  \n",
       "10           18946             ZCCHC13  \n",
       "12            5245               SEMG1  \n",
       "13            7313                 SP1  \n",
       "15            5040                 REL  \n",
       "16            5245               SEMG1  \n",
       "20            5492              ACVR1B  \n",
       "23           18946             ZCCHC13  \n",
       "24            4460               PA2G4  \n",
       "25            5401                FPR2  \n",
       "26           12842               AXIN1  \n",
       "28            6932               EP300  \n",
       "33            6501                 APC  \n",
       "36           12963                GPHN  \n",
       "37            6501                 APC  \n",
       "39           15958                 IL9  \n",
       "40           12963                GPHN  \n",
       "46           13552                STRN  "
      ]
     },
     "execution_count": 182,
     "metadata": {},
     "output_type": "execute_result"
    }
   ],
   "source": [
    "res_multiple"
   ]
  },
  {
   "cell_type": "code",
   "execution_count": 183,
   "id": "b2b7c647",
   "metadata": {},
   "outputs": [
    {
     "data": {
      "text/plain": [
       "(25, 11)"
      ]
     },
     "execution_count": 183,
     "metadata": {},
     "output_type": "execute_result"
    }
   ],
   "source": [
    "res_multiple = res_all[(res_all.feature_1.isin(multiple_interactions.index)) | (res_all.feature_1.isin(multiple_interactions.index))]\n",
    "res_multiple.shape"
   ]
  },
  {
   "cell_type": "code",
   "execution_count": 184,
   "id": "2a4289a6",
   "metadata": {},
   "outputs": [
    {
     "name": "stdout",
     "output_type": "stream",
     "text": [
      "REL (5966) & GPHN (10243), GPHN (10243) & AXIN1 (8312), CLEC4E (26253) & ADAD1 (132612), AXIN1 (8312) & PA2G4 (5036), AXIN1 (8312) & BRCA1 (672), PA2G4 (5036) & SP1 (6667), ARRB2 (409) & SP1 (6667), ARRB2 (409) & ANAPC2 (29882), ADAD1 (132612) & ZCCHC13 (389874), ZCCHC13 (389874) & SEMG1 (6406), STAT5B (6777) & SP1 (6667), PCBP1 (5093) & REL (5966), CLEC4E (26253) & SEMG1 (6406), POLR2A (5430) & ACVR1B (91), CLEC4E (26253) & ZCCHC13 (389874), APC (324) & PA2G4 (5036), ZCCHC13 (389874) & FPR2 (2358), APC (324) & AXIN1 (8312), PA2G4 (5036) & EP300 (2033), POLR2A (5430) & APC (324), POLR2A (5430) & GPHN (10243), PCBP1 (5093) & APC (324), ZCCHC13 (389874) & IL9 (3578), STAT5B (6777) & GPHN (10243), GPHN (10243) & STRN (6801)\n"
     ]
    }
   ],
   "source": [
    "tuple_list = list(zip(res_multiple['feature_1'], res_multiple['feature_2']))\n",
    "tuple_list = [i[0] + ' & ' + i[1] for i in tuple_list]\n",
    "print(*tuple_list, sep = ', ')\n"
   ]
  },
  {
   "cell_type": "markdown",
   "id": "4fb623b3",
   "metadata": {},
   "source": [
    "# Biological Interpretation"
   ]
  },
  {
   "cell_type": "markdown",
   "id": "45838b2b",
   "metadata": {},
   "source": [
    "https://chatgpt.com/share/67f6e776-d2c4-800b-85e0-bbaa27e490fb"
   ]
  },
  {
   "cell_type": "markdown",
   "id": "7417744c",
   "metadata": {},
   "source": [
    "# Topology Based Interpretation"
   ]
  },
  {
   "cell_type": "code",
   "execution_count": 119,
   "id": "47da93e2",
   "metadata": {},
   "outputs": [],
   "source": [
    "from typing import Union, List\n",
    "import networkx as nx\n",
    "\n",
    "def flatten_list(list1) -> list:\n",
    "    return [item for sublist in list1 for item in sublist]\n",
    "\n",
    "def drop_duplicate_interactions(sn_ppis: pd.DataFrame, \n",
    "                             source_label: str = 'source_genesymbol',\n",
    "                             target_label: str = 'target_genesymbol',\n",
    "                             stimulation_label: str = 'consensus_stimulation',\n",
    "                             inhibition_label: str = 'consensus_inhibition'):\n",
    "    \"\"\"Systematically aggregate any duplicate interactions between the source and target node. \n",
    "\n",
    "    Parameters\n",
    "    ----------\n",
    "    sn_ppis : pd.DataFrame\n",
    "        an edge list representing the signaling network, output of `scLEMBAS.parse_network.load_network`\n",
    "    source_label : str\n",
    "        the column label for source nodes in the graph, by default 'source_genesymbol'\n",
    "    target_label : str\n",
    "        the column label for the target node in the graph, by default 'target_genesymbol'\n",
    "    stimulation_label : str, optional\n",
    "        column name of stimulating interactions, see `sn_ppis`, by default 'consensus_stimulation'\n",
    "    inhibition_label : str, optional\n",
    "        column name of inhibitory interactions, see `sn_ppis`, by default 'consensus_inhibition'\n",
    "\n",
    "    Returns\n",
    "    -------\n",
    "    sn_ppis : pd.DataFrame\n",
    "        a copy of the input interaction network with duplicates aggregated\n",
    "    \"\"\"\n",
    "\n",
    "    sn_ppis = sn_ppis.copy()\n",
    "    duplicated_interactions = sn_ppis[sn_ppis.duplicated(subset = [source_label, target_label], keep='first')].drop_duplicates(subset = [source_label, target_label])\n",
    "    unique_vals = pd.DataFrame(columns = sn_ppis.columns)\n",
    "    drop_indeces = []\n",
    "    for idx in tqdm(duplicated_interactions.index):\n",
    "        source = duplicated_interactions.loc[idx, source_label]\n",
    "        target = duplicated_interactions.loc[idx, target_label]\n",
    "\n",
    "        dup_int = sn_ppis[(sn_ppis[source_label] == source) & (sn_ppis[target_label] == target)].copy()\n",
    "        drop_indeces += dup_int.index.tolist()\n",
    "        dup_int.reset_index(inplace = True, drop = True)\n",
    "\n",
    "        if (dup_int[[source_label, target_label, stimulation_label, inhibition_label, 'n_references', 'curation_effort', 'references' ]].nunique() == 1).all():\n",
    "            dup_int = pd.DataFrame(dup_int.iloc[0, :]).T\n",
    "        else:\n",
    "            # filter by n_references\n",
    "            dup_int = dup_int[dup_int.n_references == dup_int.n_references.max()]\n",
    "            # filter by curation effort\n",
    "            if dup_int.shape[0] > 1:\n",
    "                dup_int = dup_int[dup_int.curation_effort == dup_int.curation_effort.max()]\n",
    "            # merge remaining\n",
    "            if dup_int.shape[0] > 1:\n",
    "                if dup_int[stimulation_label].nunique() > 1:\n",
    "                    dup_int[stimulation_label] = False\n",
    "                if dup_int[inhibition_label].nunique() > 1:\n",
    "                    dup_int[stimulation_label] = False\n",
    "                references = sorted(set(flatten_list([ref.split(';') if not (type(ref) == float and np.isnan(ref)) else [ref] for ref in dup_int.references.tolist()])))\n",
    "                references = [ref for ref in references if not (type(ref) == float and np.isnan(ref))]\n",
    "                n_references = len(references)\n",
    "                dup_int = dup_int.iloc[0, :]\n",
    "                dup_int['n_references'] = n_references\n",
    "                dup_int['references'] = ';'.join(references) if len(references) > 0 else np.nan\n",
    "                dup_int = pd.DataFrame(dup_int).T\n",
    "        if dup_int.shape[0] != 1:\n",
    "            raise ValueError('There are still duplicated interactions')\n",
    "\n",
    "        unique_vals = pd.concat([unique_vals, dup_int], axis = 0)\n",
    "\n",
    "    sn_ppis.drop(index = drop_indeces, inplace = True)\n",
    "    sn_ppis = pd.concat([sn_ppis, unique_vals], axis = 0)\n",
    "    sn_ppis.reset_index(inplace = True, drop = True)\n",
    "    if sn_ppis.duplicated(subset = [source_label, target_label]).any():\n",
    "        raise ValueError('Interaction DB still has duplicates')\n",
    "\n",
    "    return sn_ppis\n",
    "\n",
    "def correct_moa(sn_ppis: pd.DataFrame,\n",
    "                stimulation_label: str = 'consensus_stimulation',\n",
    "                inhibition_label: str = 'consensus_inhibition'):\n",
    "    \"\"\"In the case where mode of action is True for both stimulating and inhibiting, make this an unknown MOA.\n",
    "\n",
    "    Parameters\n",
    "    ----------\n",
    "    sn_ppis : pd.DataFrame\n",
    "        an edge list representing the signaling network, output of `scLEMBAS.parse_network.load_network`\n",
    "    stimulation_label : str, optional\n",
    "        column name of stimulating interactions, see `sn_ppis`, by default 'consensus_stimulation'\n",
    "    inhibition_label : str, optional\n",
    "        column name of inhibitory interactions, see `sn_ppis`, by default 'consensus_inhibition'\n",
    "\n",
    "    Returns\n",
    "    -------\n",
    "    sn_ppis : pd.DataFrame\n",
    "        a copy of the input interaction network with duplicates aggregated\n",
    "    \"\"\"\n",
    "    sn_ppis = sn_ppis.copy()\n",
    "    sn_ppis.loc[sn_ppis[(sn_ppis[stimulation_label] == 1) & (sn_ppis[inhibition_label] == 1)].index, \n",
    "    [stimulation_label, inhibition_label]] = [False, False]\n",
    "    \n",
    "    return sn_ppis\n",
    "\n",
    "def extract_network(sn_ppis: pd.DataFrame, \n",
    "                              curation_effort_thresh: int = 5, n_references_thresh: int = 3,\n",
    "                              resources: Union[List, str] = 'all',\n",
    "                            drop_self: bool = True,\n",
    "                             source_label: str = 'source_genesymbol',\n",
    "                             target_label: str = 'target_genesymbol',\n",
    "                             verbose: bool = True):\n",
    "    \"\"\"Various filters on the ppi network.\n",
    "\n",
    "    Parameters\n",
    "    ----------\n",
    "    sn_ppis : pd.DataFrame\n",
    "        an edge list representing the signaling network\n",
    "    curation_effort_thresh : int, optional\n",
    "        threshold of curation effort to retain interaction, by default 5\n",
    "    n_references_thresh : int, optional\n",
    "        threshold of number of references to retain interaction, by default 3\n",
    "    resources : Union[List, str], optional\n",
    "        resources from which to retain interactions, by default 'all' which won't filter out resources\n",
    "    drop_self : bool, optional\n",
    "        get rid of self-interacting nodes, by default True\n",
    "    source_label : str\n",
    "        the column label for source nodes in the graph, by default 'source_genesymbol'\n",
    "    target_label : str\n",
    "        the column label for the target node in the graph, by default 'target_genesymbol'\n",
    "    verbose : bool, optional\n",
    "        print status of network extraction, by default True\n",
    "\n",
    "    Returns\n",
    "    -------\n",
    "    sn_ppis : pd.DataFrame\n",
    "        an edge list representing the filtered signaling network\n",
    "    \"\"\"\n",
    "\n",
    "    n_int_a = sn_ppis.shape[0]\n",
    "    \n",
    "    sn_ppis = sn_ppis[(sn_ppis.n_references >= n_references_thresh) & (sn_ppis.curation_effort >= curation_effort_thresh)]\n",
    "    if verbose:\n",
    "        n_int_b = sn_ppis.shape[0]\n",
    "        print('The thresholds filtered {}  of {} interactions'.format(n_int_a - n_int_b, n_int_a))\n",
    "    \n",
    "    if resources and resources != 'all':\n",
    "        n_sources = sn_ppis.sources.apply(lambda x: len(set(x.split(';')).intersection(resources)))\n",
    "        sn_ppis = sn_ppis[n_sources > 0]\n",
    "        if verbose:\n",
    "            n_int_c = sn_ppis.shape[0]\n",
    "            print('The resources filtered {}  of {} interactions'.format(n_int_b - n_int_c, n_int_b))\n",
    "\n",
    "    if drop_self:\n",
    "        sn_ppis = sn_ppis[sn_ppis[[source_label, target_label]].apply(lambda x: x.nunique() == 2, axis = 1)]\n",
    "\n",
    "    return sn_ppis"
   ]
  },
  {
   "cell_type": "code",
   "execution_count": 120,
   "id": "b718f48f",
   "metadata": {},
   "outputs": [
    {
     "name": "stderr",
     "output_type": "stream",
     "text": [
      "  0%|                                                   | 0/493 [00:00<?, ?it/s]/tmp/ipykernel_3895593/444149904.py:67: FutureWarning: The behavior of DataFrame concatenation with empty or all-NA entries is deprecated. In a future version, this will no longer exclude empty or all-NA columns when determining the result dtypes. To retain the old behavior, exclude the relevant entries before the concat operation.\n",
      "  unique_vals = pd.concat([unique_vals, dup_int], axis = 0)\n",
      "100%|█████████████████████████████████████████| 493/493 [00:13<00:00, 36.47it/s]\n"
     ]
    },
    {
     "name": "stdout",
     "output_type": "stream",
     "text": [
      "The thresholds filtered 36590  of 133607 interactions\n"
     ]
    }
   ],
   "source": [
    "ppi_link = 'https://zenodo.org/records/11477837/files/organism_omnipath_ppi_05_24_24.csv'\n",
    "organism = 'human'\n",
    "sn_ppis = pd.read_csv(ppi_link.replace('organism', organism), index_col = 0) \n",
    "\n",
    "# some formatting and filtering\n",
    "sn_ppis['n_references'] = sn_ppis.n_references.fillna(sn_ppis.n_references.min() - 1)\n",
    "sn_ppis['curation_effort'] = sn_ppis.curation_effort.fillna(sn_ppis.curation_effort.min() - 1)\n",
    "\n",
    "sn_ppis = drop_duplicate_interactions(sn_ppis)\n",
    "sn_ppis = correct_moa(sn_ppis)\n",
    "sn_ppis = extract_network(sn_ppis,\n",
    "                curation_effort_thresh =  1, \n",
    "                n_references_thresh = 0, \n",
    "                resources = 'all', \n",
    "                drop_self = False)\n",
    "\n"
   ]
  },
  {
   "cell_type": "code",
   "execution_count": null,
   "id": "6acd1928",
   "metadata": {},
   "outputs": [],
   "source": [
    "G = nx.from_pandas_edgelist(sn_ppis, source_label, target_label,\n",
    "                            create_using = nx.DiGraph() if sn_ppis[sn_ppis.is_directed].shape[0] == sn_ppis.shape[0] else None)\n",
    "centrality = nx.degree_centrality(G)"
   ]
  },
  {
   "cell_type": "code",
   "execution_count": null,
   "id": "5c714bce",
   "metadata": {},
   "outputs": [],
   "source": []
  },
  {
   "cell_type": "code",
   "execution_count": 185,
   "id": "9fa80aca",
   "metadata": {},
   "outputs": [
    {
     "name": "stdout",
     "output_type": "stream",
     "text": [
      "The following genes are not present in Omnipath\n"
     ]
    },
    {
     "data": {
      "text/plain": [
       "ZCCHC13    6\n",
       "CLEC4E     3\n",
       "ADAD1      2\n",
       "Name: count, dtype: int64"
      ]
     },
     "execution_count": 185,
     "metadata": {},
     "output_type": "execute_result"
    }
   ],
   "source": [
    "interacting_genes = list(set(res_all.feature_1_gene_name.tolist() + res_all.feature_2_gene_name.tolist()))\n",
    "network_genes = set(sn_ppis.source_genesymbol.tolist() + sn_ppis.target_genesymbol.tolist())\n",
    "\n",
    "print('The following genes are not present in Omnipath')    \n",
    "missing_genes = list(set(interacting_genes).difference(network_genes))\n",
    "feature_counts.index = pd.Series(feature_counts.index).apply(lambda x: x.split(' (')[0]).tolist()\n",
    "\n",
    "feature_counts.loc[missing_genes]"
   ]
  },
  {
   "cell_type": "code",
   "execution_count": 214,
   "id": "ef4ad37b",
   "metadata": {},
   "outputs": [],
   "source": [
    "feature_counts = pd.DataFrame(feature_counts)\n",
    "feature_counts.rename(columns = {'count': 'n_interactions'}, inplace = True)\n",
    "feature_counts['centrality'] = feature_counts.index.map(centrality)"
   ]
  },
  {
   "cell_type": "code",
   "execution_count": 221,
   "id": "d0ba28ae",
   "metadata": {},
   "outputs": [
    {
     "data": {
      "text/plain": [
       "<Axes: xlabel='n_interactions', ylabel='centrality'>"
      ]
     },
     "execution_count": 221,
     "metadata": {},
     "output_type": "execute_result"
    },
    {
     "data": {
      "image/png": "[encoded data removed]",
      "text/plain": [
       "<Figure size 640x480 with 1 Axes>"
      ]
     },
     "metadata": {},
     "output_type": "display_data"
    }
   ],
   "source": [
    "sns.swarmplot(data = feature_counts, x = 'n_interactions', y = 'centrality')"
   ]
  },
  {
   "cell_type": "code",
   "execution_count": 235,
   "id": "1adf230c",
   "metadata": {},
   "outputs": [
    {
     "data": {
      "text/plain": [
       "SignificanceResult(statistic=np.float64(0.20099718939461514), pvalue=np.float64(0.33533931128634287))"
      ]
     },
     "execution_count": 235,
     "metadata": {},
     "output_type": "execute_result"
    }
   ],
   "source": [
    "stats.spearmanr(feature_counts[feature_counts.centrality.notna()].n_interactions, \n",
    "                feature_counts[feature_counts.centrality.notna()].centrality)"
   ]
  },
  {
   "cell_type": "code",
   "execution_count": 222,
   "id": "1f9c11d1",
   "metadata": {},
   "outputs": [],
   "source": [
    "model_coefs = pd.read_csv(os.path.join(data_path, 'interim', 'joint_features.csv'), \n",
    "                          index_col = 0)\n",
    "model_coefs.sort_values(by='SVM coefficient', key=lambda x: x.abs(), ascending=False, inplace=True)\n",
    "model_coefs.set_index('feature_name', inplace = True)\n",
    "# model_coefs['rank'] = range(model_coefs.shape[0])\n",
    "\n",
    "model_coefs['interacting'] = False\n",
    "interacting_features = list(set(res_all.feature_1.tolist() + res_all.feature_2.tolist()))\n",
    "model_coefs.loc[interacting_features, 'interacting'] = True\n",
    "model_coefs['centrality'] = model_coefs.gene_name.map(centrality)\n",
    "model_coefs = model_coefs[model_coefs.centrality.notna()]"
   ]
  },
  {
   "cell_type": "code",
   "execution_count": 225,
   "id": "f650f9dd",
   "metadata": {},
   "outputs": [
    {
     "data": {
      "text/plain": [
       "<Axes: xlabel='interacting', ylabel='centrality'>"
      ]
     },
     "execution_count": 225,
     "metadata": {},
     "output_type": "execute_result"
    },
    {
     "data": {
      "image/png": "[encoded data removed]",
      "text/plain": [
       "<Figure size 640x480 with 1 Axes>"
      ]
     },
     "metadata": {},
     "output_type": "display_data"
    }
   ],
   "source": [
    "sns.violinplot(data = model_coefs, x = 'interacting', y = 'centrality')"
   ]
  },
  {
   "cell_type": "code",
   "execution_count": 226,
   "id": "d21b7d3c",
   "metadata": {},
   "outputs": [
    {
     "data": {
      "text/plain": [
       "MannwhitneyuResult(statistic=np.float64(176991.5), pvalue=np.float64(2.648297937688177e-06))"
      ]
     },
     "execution_count": 226,
     "metadata": {},
     "output_type": "execute_result"
    }
   ],
   "source": [
    "stats.mannwhitneyu(model_coefs[model_coefs.interacting]['centrality'], \n",
    "                  model_coefs[~model_coefs.interacting]['centrality'], \n",
    "                  alternative = 'greater')"
   ]
  },
  {
   "cell_type": "code",
   "execution_count": null,
   "id": "848df96b",
   "metadata": {},
   "outputs": [],
   "source": [
    "import sys\n",
    "sys.path.insert(1, '../../')\n",
    "from utils import cohen_d"
   ]
  },
  {
   "cell_type": "code",
   "execution_count": 231,
   "id": "5fcecc37",
   "metadata": {},
   "outputs": [
    {
     "data": {
      "text/plain": [
       "np.float64(0.6811605252306309)"
      ]
     },
     "execution_count": 231,
     "metadata": {},
     "output_type": "execute_result"
    }
   ],
   "source": [
    "cohen_d(model_coefs[model_coefs.interacting]['centrality'], \n",
    "                  model_coefs[~model_coefs.interacting]['centrality'])\n",
    "\n",
    "# TODO: cliff's delta"
   ]
  }
 ],
 "metadata": {
  "kernelspec": {
   "display_name": "Python [conda env:metastatic_potential]",
   "language": "python",
   "name": "conda-env-metastatic_potential-py"
  },
  "language_info": {
   "codemirror_mode": {
    "name": "ipython",
    "version": 3
   },
   "file_extension": ".py",
   "mimetype": "text/x-python",
   "name": "python",
   "nbconvert_exporter": "python",
   "pygments_lexer": "ipython3",
   "version": "3.13.0"
  }
 },
 "nbformat": 4,
 "nbformat_minor": 5
}
