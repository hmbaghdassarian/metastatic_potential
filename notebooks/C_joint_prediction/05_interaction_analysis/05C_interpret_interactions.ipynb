{
 "cells": [
  {
   "cell_type": "code",
   "execution_count": 1,
   "id": "ff78538b",
   "metadata": {},
   "outputs": [
    {
     "name": "stderr",
     "output_type": "stream",
     "text": [
      "/nobackup/users/hmbaghda/Software/miniforge3/envs/metastatic_potential/lib/python3.13/site-packages/tqdm/auto.py:21: TqdmWarning: IProgress not found. Please update jupyter and ipywidgets. See https://ipywidgets.readthedocs.io/en/stable/user_install.html\n",
      "  from .autonotebook import tqdm as notebook_tqdm\n"
     ]
    }
   ],
   "source": [
    "import os\n",
    "from tqdm import tqdm\n",
    "\n",
    "import pandas as pd\n",
    "import numpy as np\n",
    "\n",
    "import seaborn as sns\n",
    "import matplotlib.pyplot as plt \n",
    "\n",
    "from scipy import stats\n",
    "from cliffs_delta import cliffs_delta\n",
    "\n",
    "import sys\n",
    "sys.path.insert(1, '../../')\n",
    "from utils import cohen_d\n",
    "\n",
    "import sys"
   ]
  },
  {
   "cell_type": "code",
   "execution_count": 2,
   "id": "4868122f",
   "metadata": {},
   "outputs": [],
   "source": [
    "data_path = '/nobackup/users/hmbaghda/metastatic_potential/'\n",
    "random_state = 42 + 3\n",
    "\n",
    "n_cores = 30\n",
    "os.environ[\"OMP_NUM_THREADS\"] = str(n_cores)\n",
    "os.environ[\"MKL_NUM_THREADS\"] = str(n_cores)\n",
    "os.environ[\"OPENBLAS_NUM_THREADS\"] = str(n_cores)\n",
    "os.environ[\"VECLIB_MAXIMUM_THREADS\"] = str(n_cores)\n",
    "os.environ[\"NUMEXPR_NUM_THREADS\"] = str(n_cores)"
   ]
  },
  {
   "cell_type": "markdown",
   "id": "dbcdb20e",
   "metadata": {},
   "source": [
    "Load interaction results:"
   ]
  },
  {
   "cell_type": "code",
   "execution_count": 3,
   "id": "48946729",
   "metadata": {},
   "outputs": [],
   "source": [
    "res_all = pd.read_csv(os.path.join(data_path, 'processed', 'joint_ols_perm_interactions.csv'), \n",
    "                     index_col = 0)"
   ]
  },
  {
   "cell_type": "markdown",
   "id": "91343bfc",
   "metadata": {},
   "source": [
    "Filter for significant interactions by permutation test:"
   ]
  },
  {
   "cell_type": "code",
   "execution_count": 4,
   "id": "fa0b49f0",
   "metadata": {},
   "outputs": [
    {
     "name": "stdout",
     "output_type": "stream",
     "text": [
      "There are 31 significant interactions\n"
     ]
    }
   ],
   "source": [
    "alpha = 0.2\n",
    "res_all = res_all[res_all.bh_fdr_perm <= alpha]\n",
    "\n",
    "print('There are {} significant interactions'.format(res_all.shape[0]))"
   ]
  },
  {
   "cell_type": "markdown",
   "id": "2d3fbda4",
   "metadata": {},
   "source": [
    "Check for concordance between the OLS and permutation approach:"
   ]
  },
  {
   "cell_type": "code",
   "execution_count": 5,
   "id": "f0077a75",
   "metadata": {},
   "outputs": [
    {
     "data": {
      "text/plain": [
       "SignificanceResult(statistic=np.float64(0.39395161290322583), pvalue=np.float64(0.02831920552200202))"
      ]
     },
     "execution_count": 5,
     "metadata": {},
     "output_type": "execute_result"
    }
   ],
   "source": [
    "stats.spearmanr(res_all.coef_perm, \n",
    "                res_all.coef_OLS)"
   ]
  },
  {
   "cell_type": "markdown",
   "id": "3f9e3701",
   "metadata": {},
   "source": [
    "Identify which features occur in the most interactions:"
   ]
  },
  {
   "cell_type": "code",
   "execution_count": 6,
   "id": "fc6ff375",
   "metadata": {},
   "outputs": [
    {
     "data": {
      "text/plain": [
       "ZCCHC13 (389874)    6\n",
       "AXIN1 (8312)        5\n",
       "GPHN (10243)        5\n",
       "PA2G4 (5036)        4\n",
       "APC (324)           4\n",
       "POLR2A (5430)       3\n",
       "CLEC4E (26253)      3\n",
       "SEMG1 (6406)        3\n",
       "ARRB2 (409)         3\n",
       "SP1 (6667)          3\n",
       "REL (5966)          2\n",
       "STAT5B (6777)       2\n",
       "EP300 (2033)        2\n",
       "PCBP1 (5093)        2\n",
       "ADAD1 (132612)      2\n",
       "FPR2 (2358)         1\n",
       "ACVR1B (91)         1\n",
       "IL9 (3578)          1\n",
       "ANAPC2 (29882)      1\n",
       "TRAF6 (7189)        1\n",
       "AKAP9 (10142)       1\n",
       "BRCA1 (672)         1\n",
       "CDK9 (1025)         1\n",
       "C8A (731)           1\n",
       "MRGPRX1 (259249)    1\n",
       "NONO (4841)         1\n",
       "NCKIPSD (51517)     1\n",
       "STRN (6801)         1\n",
       "Name: count, dtype: int64"
      ]
     },
     "execution_count": 6,
     "metadata": {},
     "output_type": "execute_result"
    }
   ],
   "source": [
    "feature_counts = pd.Series(res_all.feature_1.tolist() + res_all.feature_2.tolist()).value_counts()\n",
    "feature_counts"
   ]
  },
  {
   "cell_type": "code",
   "execution_count": 7,
   "id": "5c77b792",
   "metadata": {},
   "outputs": [
    {
     "data": {
      "text/plain": [
       "(28,)"
      ]
     },
     "execution_count": 7,
     "metadata": {},
     "output_type": "execute_result"
    }
   ],
   "source": [
    "feature_counts.shape"
   ]
  },
  {
   "cell_type": "code",
   "execution_count": 8,
   "id": "b63b101d",
   "metadata": {},
   "outputs": [
    {
     "data": {
      "text/plain": [
       "(15,)"
      ]
     },
     "execution_count": 8,
     "metadata": {},
     "output_type": "execute_result"
    }
   ],
   "source": [
    "feature_counts[feature_counts > 1].shape"
   ]
  },
  {
   "cell_type": "code",
   "execution_count": 9,
   "id": "a19ff171",
   "metadata": {},
   "outputs": [
    {
     "name": "stdout",
     "output_type": "stream",
     "text": [
      "9513.642857142857\n"
     ]
    },
    {
     "data": {
      "text/plain": [
       "Index([18946, 12842, 12963,  4460,  6501,  5535,   827,  5245,  8164,  7313,\n",
       "        5040, 11572,  6932,  9916, 17918,  5401,  5492, 15958, 18562,  7646,\n",
       "        1107,  5869, 18898, 13968, 15001,  5399,  5355, 13552],\n",
       "      dtype='int64')"
      ]
     },
     "execution_count": 9,
     "metadata": {},
     "output_type": "execute_result"
    }
   ],
   "source": [
    "model_coefs = pd.read_csv(os.path.join(data_path, 'interim', 'joint_features.csv'), \n",
    "                          index_col = 0)\n",
    "model_coefs.sort_values(by='SVM coefficient', key=lambda x: x.abs(), ascending=False, inplace=True)\n",
    "model_coefs.set_index('feature_name', inplace = True)\n",
    "feature_rank_map = dict(zip(model_coefs.index, range(model_coefs.shape[0] + 1)))\n",
    "print(np.mean(feature_counts.index.map(feature_rank_map)))\n",
    "feature_counts.index.map(feature_rank_map)"
   ]
  },
  {
   "cell_type": "markdown",
   "id": "f2134b5c",
   "metadata": {},
   "source": [
    "Since we used feature sets, where the idea was to focus on modules of interactions, let's focus on these features that have multiple interactions:"
   ]
  },
  {
   "cell_type": "code",
   "execution_count": 10,
   "id": "af315e8e",
   "metadata": {},
   "outputs": [
    {
     "data": {
      "text/plain": [
       "ZCCHC13 (389874)    6\n",
       "AXIN1 (8312)        5\n",
       "GPHN (10243)        5\n",
       "PA2G4 (5036)        4\n",
       "APC (324)           4\n",
       "POLR2A (5430)       3\n",
       "CLEC4E (26253)      3\n",
       "SEMG1 (6406)        3\n",
       "ARRB2 (409)         3\n",
       "SP1 (6667)          3\n",
       "REL (5966)          2\n",
       "STAT5B (6777)       2\n",
       "EP300 (2033)        2\n",
       "PCBP1 (5093)        2\n",
       "ADAD1 (132612)      2\n",
       "Name: count, dtype: int64"
      ]
     },
     "execution_count": 10,
     "metadata": {},
     "output_type": "execute_result"
    }
   ],
   "source": [
    "multiple_interactions = feature_counts[feature_counts >= 2]\n",
    "multiple_interactions"
   ]
  },
  {
   "cell_type": "code",
   "execution_count": 11,
   "id": "19189397",
   "metadata": {},
   "outputs": [
    {
     "data": {
      "text/plain": [
       "(15,)"
      ]
     },
     "execution_count": 11,
     "metadata": {},
     "output_type": "execute_result"
    }
   ],
   "source": [
    "multiple_interactions.shape"
   ]
  },
  {
   "cell_type": "code",
   "execution_count": 12,
   "id": "b2b7c647",
   "metadata": {},
   "outputs": [],
   "source": [
    "# res_multiple = res_all[(res_all.feature_1.isin(multiple_interactions.index)) | (res_all.feature_1.isin(multiple_interactions.index))]\n",
    "# res_multiple.shape"
   ]
  },
  {
   "cell_type": "code",
   "execution_count": 13,
   "id": "2a4289a6",
   "metadata": {},
   "outputs": [
    {
     "name": "stdout",
     "output_type": "stream",
     "text": [
      "REL (5966) & GPHN (10243), GPHN (10243) & AXIN1 (8312), CLEC4E (26253) & ADAD1 (132612), AXIN1 (8312) & PA2G4 (5036), AXIN1 (8312) & BRCA1 (672), NCKIPSD (51517) & AKAP9 (10142), PA2G4 (5036) & SP1 (6667), ARRB2 (409) & SP1 (6667), ARRB2 (409) & ANAPC2 (29882), ADAD1 (132612) & ZCCHC13 (389874), ZCCHC13 (389874) & SEMG1 (6406), STAT5B (6777) & SP1 (6667), PCBP1 (5093) & REL (5966), CLEC4E (26253) & SEMG1 (6406), NONO (4841) & AXIN1 (8312), POLR2A (5430) & ACVR1B (91), CLEC4E (26253) & ZCCHC13 (389874), APC (324) & PA2G4 (5036), ZCCHC13 (389874) & FPR2 (2358), APC (324) & AXIN1 (8312), PA2G4 (5036) & EP300 (2033), TRAF6 (7189) & EP300 (2033), MRGPRX1 (259249) & ZCCHC13 (389874), POLR2A (5430) & APC (324), POLR2A (5430) & GPHN (10243), PCBP1 (5093) & APC (324), ZCCHC13 (389874) & IL9 (3578), STAT5B (6777) & GPHN (10243), C8A (731) & SEMG1 (6406), GPHN (10243) & STRN (6801), CDK9 (1025) & ARRB2 (409)\n"
     ]
    }
   ],
   "source": [
    "# tuple_list = list(zip(res_multiple['feature_1'], res_multiple['feature_2']))\n",
    "tuple_list = list(zip(res_all['feature_1'], res_all['feature_2']))\n",
    "tuple_list = [i[0] + ' & ' + i[1] for i in tuple_list]\n",
    "print(*tuple_list, sep = ', ')\n",
    "\n",
    "# tuple_list = list(zip(res_multiple['feature_1'], res_multiple['feature_2']))\n",
    "# tuple_list = [i[0] + ' & ' + i[1] for i in tuple_list]\n",
    "# print(*tuple_list, sep = ', ')\n"
   ]
  },
  {
   "cell_type": "markdown",
   "id": "4fb623b3",
   "metadata": {},
   "source": [
    "# Biological Interpretation"
   ]
  },
  {
   "cell_type": "markdown",
   "id": "45838b2b",
   "metadata": {},
   "source": [
    "https://chatgpt.com/share/67fea334-0730-800b-8080-d5f8ac8f5e72"
   ]
  },
  {
   "cell_type": "markdown",
   "id": "7417744c",
   "metadata": {},
   "source": [
    "# Topology Based Interpretation"
   ]
  },
  {
   "cell_type": "code",
   "execution_count": 14,
   "id": "47da93e2",
   "metadata": {},
   "outputs": [],
   "source": [
    "from typing import Union, List\n",
    "import networkx as nx\n",
    "\n",
    "def flatten_list(list1) -> list:\n",
    "    return [item for sublist in list1 for item in sublist]\n",
    "\n",
    "def drop_duplicate_interactions(sn_ppis: pd.DataFrame, \n",
    "                             source_label: str = 'source_genesymbol',\n",
    "                             target_label: str = 'target_genesymbol',\n",
    "                             stimulation_label: str = 'consensus_stimulation',\n",
    "                             inhibition_label: str = 'consensus_inhibition'):\n",
    "    \"\"\"Systematically aggregate any duplicate interactions between the source and target node. \n",
    "\n",
    "    Parameters\n",
    "    ----------\n",
    "    sn_ppis : pd.DataFrame\n",
    "        an edge list representing the signaling network, output of `scLEMBAS.parse_network.load_network`\n",
    "    source_label : str\n",
    "        the column label for source nodes in the graph, by default 'source_genesymbol'\n",
    "    target_label : str\n",
    "        the column label for the target node in the graph, by default 'target_genesymbol'\n",
    "    stimulation_label : str, optional\n",
    "        column name of stimulating interactions, see `sn_ppis`, by default 'consensus_stimulation'\n",
    "    inhibition_label : str, optional\n",
    "        column name of inhibitory interactions, see `sn_ppis`, by default 'consensus_inhibition'\n",
    "\n",
    "    Returns\n",
    "    -------\n",
    "    sn_ppis : pd.DataFrame\n",
    "        a copy of the input interaction network with duplicates aggregated\n",
    "    \"\"\"\n",
    "\n",
    "    sn_ppis = sn_ppis.copy()\n",
    "    duplicated_interactions = sn_ppis[sn_ppis.duplicated(subset = [source_label, target_label], keep='first')].drop_duplicates(subset = [source_label, target_label])\n",
    "    unique_vals = pd.DataFrame(columns = sn_ppis.columns)\n",
    "    drop_indeces = []\n",
    "    for idx in tqdm(duplicated_interactions.index):\n",
    "        source = duplicated_interactions.loc[idx, source_label]\n",
    "        target = duplicated_interactions.loc[idx, target_label]\n",
    "\n",
    "        dup_int = sn_ppis[(sn_ppis[source_label] == source) & (sn_ppis[target_label] == target)].copy()\n",
    "        drop_indeces += dup_int.index.tolist()\n",
    "        dup_int.reset_index(inplace = True, drop = True)\n",
    "\n",
    "        if (dup_int[[source_label, target_label, stimulation_label, inhibition_label, 'n_references', 'curation_effort', 'references' ]].nunique() == 1).all():\n",
    "            dup_int = pd.DataFrame(dup_int.iloc[0, :]).T\n",
    "        else:\n",
    "            # filter by n_references\n",
    "            dup_int = dup_int[dup_int.n_references == dup_int.n_references.max()]\n",
    "            # filter by curation effort\n",
    "            if dup_int.shape[0] > 1:\n",
    "                dup_int = dup_int[dup_int.curation_effort == dup_int.curation_effort.max()]\n",
    "            # merge remaining\n",
    "            if dup_int.shape[0] > 1:\n",
    "                if dup_int[stimulation_label].nunique() > 1:\n",
    "                    dup_int[stimulation_label] = False\n",
    "                if dup_int[inhibition_label].nunique() > 1:\n",
    "                    dup_int[stimulation_label] = False\n",
    "                references = sorted(set(flatten_list([ref.split(';') if not (type(ref) == float and np.isnan(ref)) else [ref] for ref in dup_int.references.tolist()])))\n",
    "                references = [ref for ref in references if not (type(ref) == float and np.isnan(ref))]\n",
    "                n_references = len(references)\n",
    "                dup_int = dup_int.iloc[0, :]\n",
    "                dup_int['n_references'] = n_references\n",
    "                dup_int['references'] = ';'.join(references) if len(references) > 0 else np.nan\n",
    "                dup_int = pd.DataFrame(dup_int).T\n",
    "        if dup_int.shape[0] != 1:\n",
    "            raise ValueError('There are still duplicated interactions')\n",
    "\n",
    "        unique_vals = pd.concat([unique_vals, dup_int], axis = 0)\n",
    "\n",
    "    sn_ppis.drop(index = drop_indeces, inplace = True)\n",
    "    sn_ppis = pd.concat([sn_ppis, unique_vals], axis = 0)\n",
    "    sn_ppis.reset_index(inplace = True, drop = True)\n",
    "    if sn_ppis.duplicated(subset = [source_label, target_label]).any():\n",
    "        raise ValueError('Interaction DB still has duplicates')\n",
    "\n",
    "    return sn_ppis\n",
    "\n",
    "def correct_moa(sn_ppis: pd.DataFrame,\n",
    "                stimulation_label: str = 'consensus_stimulation',\n",
    "                inhibition_label: str = 'consensus_inhibition'):\n",
    "    \"\"\"In the case where mode of action is True for both stimulating and inhibiting, make this an unknown MOA.\n",
    "\n",
    "    Parameters\n",
    "    ----------\n",
    "    sn_ppis : pd.DataFrame\n",
    "        an edge list representing the signaling network, output of `scLEMBAS.parse_network.load_network`\n",
    "    stimulation_label : str, optional\n",
    "        column name of stimulating interactions, see `sn_ppis`, by default 'consensus_stimulation'\n",
    "    inhibition_label : str, optional\n",
    "        column name of inhibitory interactions, see `sn_ppis`, by default 'consensus_inhibition'\n",
    "\n",
    "    Returns\n",
    "    -------\n",
    "    sn_ppis : pd.DataFrame\n",
    "        a copy of the input interaction network with duplicates aggregated\n",
    "    \"\"\"\n",
    "    sn_ppis = sn_ppis.copy()\n",
    "    sn_ppis.loc[sn_ppis[(sn_ppis[stimulation_label] == 1) & (sn_ppis[inhibition_label] == 1)].index, \n",
    "    [stimulation_label, inhibition_label]] = [False, False]\n",
    "    \n",
    "    return sn_ppis\n",
    "\n",
    "def extract_network(sn_ppis: pd.DataFrame, \n",
    "                              curation_effort_thresh: int = 5, n_references_thresh: int = 3,\n",
    "                              resources: Union[List, str] = 'all',\n",
    "                            drop_self: bool = True,\n",
    "                             source_label: str = 'source_genesymbol',\n",
    "                             target_label: str = 'target_genesymbol',\n",
    "                             verbose: bool = True):\n",
    "    \"\"\"Various filters on the ppi network.\n",
    "\n",
    "    Parameters\n",
    "    ----------\n",
    "    sn_ppis : pd.DataFrame\n",
    "        an edge list representing the signaling network\n",
    "    curation_effort_thresh : int, optional\n",
    "        threshold of curation effort to retain interaction, by default 5\n",
    "    n_references_thresh : int, optional\n",
    "        threshold of number of references to retain interaction, by default 3\n",
    "    resources : Union[List, str], optional\n",
    "        resources from which to retain interactions, by default 'all' which won't filter out resources\n",
    "    drop_self : bool, optional\n",
    "        get rid of self-interacting nodes, by default True\n",
    "    source_label : str\n",
    "        the column label for source nodes in the graph, by default 'source_genesymbol'\n",
    "    target_label : str\n",
    "        the column label for the target node in the graph, by default 'target_genesymbol'\n",
    "    verbose : bool, optional\n",
    "        print status of network extraction, by default True\n",
    "\n",
    "    Returns\n",
    "    -------\n",
    "    sn_ppis : pd.DataFrame\n",
    "        an edge list representing the filtered signaling network\n",
    "    \"\"\"\n",
    "\n",
    "    n_int_a = sn_ppis.shape[0]\n",
    "    \n",
    "    sn_ppis = sn_ppis[(sn_ppis.n_references >= n_references_thresh) & (sn_ppis.curation_effort >= curation_effort_thresh)]\n",
    "    if verbose:\n",
    "        n_int_b = sn_ppis.shape[0]\n",
    "        print('The thresholds filtered {}  of {} interactions'.format(n_int_a - n_int_b, n_int_a))\n",
    "    \n",
    "    if resources and resources != 'all':\n",
    "        n_sources = sn_ppis.sources.apply(lambda x: len(set(x.split(';')).intersection(resources)))\n",
    "        sn_ppis = sn_ppis[n_sources > 0]\n",
    "        if verbose:\n",
    "            n_int_c = sn_ppis.shape[0]\n",
    "            print('The resources filtered {}  of {} interactions'.format(n_int_b - n_int_c, n_int_b))\n",
    "\n",
    "    if drop_self:\n",
    "        sn_ppis = sn_ppis[sn_ppis[[source_label, target_label]].apply(lambda x: x.nunique() == 2, axis = 1)]\n",
    "\n",
    "    return sn_ppis"
   ]
  },
  {
   "cell_type": "code",
   "execution_count": 15,
   "id": "b718f48f",
   "metadata": {},
   "outputs": [
    {
     "name": "stderr",
     "output_type": "stream",
     "text": [
      "  0%|                                                     | 0/493 [00:00<?, ?it/s]/tmp/ipykernel_148580/1927493514.py:69: FutureWarning: The behavior of DataFrame concatenation with empty or all-NA entries is deprecated. In a future version, this will no longer exclude empty or all-NA columns when determining the result dtypes. To retain the old behavior, exclude the relevant entries before the concat operation.\n",
      "  unique_vals = pd.concat([unique_vals, dup_int], axis = 0)\n",
      "100%|███████████████████████████████████████████| 493/493 [00:13<00:00, 36.71it/s]\n"
     ]
    },
    {
     "name": "stdout",
     "output_type": "stream",
     "text": [
      "The thresholds filtered 36590  of 133607 interactions\n"
     ]
    }
   ],
   "source": [
    "ppi_link = 'https://zenodo.org/records/11477837/files/organism_omnipath_ppi_05_24_24.csv'\n",
    "organism = 'human'\n",
    "sn_ppis = pd.read_csv(ppi_link.replace('organism', organism), index_col = 0) \n",
    "\n",
    "# some formatting and filtering\n",
    "sn_ppis['n_references'] = sn_ppis.n_references.fillna(sn_ppis.n_references.min() - 1)\n",
    "sn_ppis['curation_effort'] = sn_ppis.curation_effort.fillna(sn_ppis.curation_effort.min() - 1)\n",
    "\n",
    "sn_ppis = drop_duplicate_interactions(sn_ppis)\n",
    "sn_ppis = correct_moa(sn_ppis)\n",
    "sn_ppis = extract_network(sn_ppis,\n",
    "                curation_effort_thresh =  1, \n",
    "                n_references_thresh = 0, \n",
    "                resources = 'all', \n",
    "                drop_self = False)\n",
    "\n",
    "source_label = 'source_genesymbol'\n",
    "target_label = 'target_genesymbol'"
   ]
  },
  {
   "cell_type": "code",
   "execution_count": 16,
   "id": "6acd1928",
   "metadata": {},
   "outputs": [],
   "source": [
    "G = nx.from_pandas_edgelist(sn_ppis, source_label, target_label,\n",
    "                            create_using = nx.DiGraph() if sn_ppis[sn_ppis.is_directed].shape[0] == sn_ppis.shape[0] else None)\n",
    "degree_centrality = nx.degree_centrality(G)\n",
    "eigenvector_centrality = nx.eigenvector_centrality(G)\n"
   ]
  },
  {
   "cell_type": "code",
   "execution_count": 17,
   "id": "9fa80aca",
   "metadata": {},
   "outputs": [
    {
     "name": "stdout",
     "output_type": "stream",
     "text": [
      "The following genes are not present in Omnipath\n"
     ]
    },
    {
     "data": {
      "text/plain": [
       "ZCCHC13    6\n",
       "CLEC4E     3\n",
       "ADAD1      2\n",
       "Name: count, dtype: int64"
      ]
     },
     "execution_count": 17,
     "metadata": {},
     "output_type": "execute_result"
    }
   ],
   "source": [
    "interacting_genes = list(set(res_all.feature_1_gene_name.tolist() + res_all.feature_2_gene_name.tolist()))\n",
    "network_genes = set(sn_ppis.source_genesymbol.tolist() + sn_ppis.target_genesymbol.tolist())\n",
    "\n",
    "print('The following genes are not present in Omnipath')    \n",
    "missing_genes = list(set(interacting_genes).difference(network_genes))\n",
    "feature_counts.index = pd.Series(feature_counts.index).apply(lambda x: x.split(' (')[0]).tolist()\n",
    "\n",
    "feature_counts.loc[missing_genes]"
   ]
  },
  {
   "cell_type": "code",
   "execution_count": 18,
   "id": "ef4ad37b",
   "metadata": {},
   "outputs": [],
   "source": [
    "feature_counts = pd.DataFrame(feature_counts)\n",
    "feature_counts.rename(columns = {'count': 'n_interactions'}, inplace = True)\n",
    "feature_counts['degree_centrality'] = feature_counts.index.map(degree_centrality)\n",
    "feature_counts['eigenvector_centrality'] = feature_counts.index.map(eigenvector_centrality)\n",
    "\n",
    "feature_counts.to_csv(os.path.join(data_path, 'processed', \n",
    "                                   'high_confidence_interaction_features.csv'))\n",
    "\n",
    "feature_counts.to_csv(os.path.join(data_path, 'processed', \n",
    "                                   'high_confidence_interaction_features.csv'))"
   ]
  },
  {
   "cell_type": "code",
   "execution_count": 19,
   "id": "d0ba28ae",
   "metadata": {},
   "outputs": [
    {
     "data": {
      "text/plain": [
       "<Axes: xlabel='n_interactions', ylabel='eigenvector_centrality'>"
      ]
     },
     "execution_count": 19,
     "metadata": {},
     "output_type": "execute_result"
    },
    {
     "data": {
      "image/png": "[encoded data removed]",
      "text/plain": [
       "<Figure size 640x480 with 1 Axes>"
      ]
     },
     "metadata": {},
     "output_type": "display_data"
    }
   ],
   "source": [
    "sns.swarmplot(data = feature_counts, x = 'n_interactions', y = 'eigenvector_centrality')"
   ]
  },
  {
   "cell_type": "code",
   "execution_count": 20,
   "id": "1adf230c",
   "metadata": {},
   "outputs": [
    {
     "data": {
      "text/plain": [
       "SignificanceResult(statistic=np.float64(0.5094238314168862), pvalue=np.float64(0.009293841202128292))"
      ]
     },
     "execution_count": 20,
     "metadata": {},
     "output_type": "execute_result"
    }
   ],
   "source": [
    "stats.spearmanr(feature_counts[feature_counts.eigenvector_centrality.notna()].n_interactions, \n",
    "                feature_counts[feature_counts.eigenvector_centrality.notna()].eigenvector_centrality)"
   ]
  },
  {
   "cell_type": "code",
   "execution_count": 21,
   "id": "a2cb2313",
   "metadata": {},
   "outputs": [],
   "source": [
    "# mc = feature_counts[feature_counts.n_interactions > 1]\n",
    "# stats.spearmanr(mc[mc.centrality.notna()].n_interactions, \n",
    "#                 mc[mc.centrality.notna()].centrality)"
   ]
  },
  {
   "cell_type": "code",
   "execution_count": 22,
   "id": "1f9c11d1",
   "metadata": {},
   "outputs": [],
   "source": [
    "model_coefs = pd.read_csv(os.path.join(data_path, 'interim', 'joint_features.csv'), \n",
    "                          index_col = 0)\n",
    "model_coefs.sort_values(by='SVM coefficient', key=lambda x: x.abs(), ascending=False, inplace=True)\n",
    "model_coefs.set_index('feature_name', inplace = True)\n",
    "# model_coefs['rank'] = range(model_coefs.shape[0])\n",
    "\n",
    "model_coefs['interacting'] = False\n",
    "interacting_features = list(set(res_all.feature_1.tolist() + res_all.feature_2.tolist()))\n",
    "model_coefs.loc[interacting_features, 'interacting'] = True\n",
    "model_coefs['degree_centrality'] = model_coefs.gene_name.map(degree_centrality)\n",
    "model_coefs['eigenvector_centrality'] = model_coefs.gene_name.map(eigenvector_centrality)\n",
    "\n",
    "\n",
    "# model_coefs = model_coefs[model_coefs.centrality.notna()]\n"
   ]
  },
  {
   "cell_type": "code",
   "execution_count": 23,
   "id": "89e22a13",
   "metadata": {},
   "outputs": [
    {
     "data": {
      "image/png": "[encoded data removed]",
      "text/plain": [
       "<Figure size 1200x400 with 2 Axes>"
      ]
     },
     "metadata": {},
     "output_type": "display_data"
    }
   ],
   "source": [
    "fig, ax = plt.subplots(ncols = 2, figsize = (12, 4))\n",
    "\n",
    "\n",
    "for i, centrality in enumerate(['degree_centrality', 'eigenvector_centrality']):\n",
    "    viz_df = model_coefs.copy()\n",
    "    viz_df = viz_df[viz_df[centrality].notna()]\n",
    "    \n",
    "    a = viz_df[viz_df.interacting][centrality]\n",
    "    b = viz_df[~viz_df.interacting][centrality]\n",
    "    pval = stats.mannwhitneyu(a, b, alternative = 'greater').pvalue\n",
    "    ch_d = cohen_d(a, b)\n",
    "    cl_d = cliffs_delta(a, b)[0]\n",
    "    \n",
    "    y = 0.95 if centrality == 'degree_centrality' else 0.3\n",
    "    y_delta = 0.05\n",
    "    x = 0.6\n",
    "    ax[i].annotate('MWU p-val: {:.2E}'.format(pval), xy=(x, y), xycoords='axes fraction')\n",
    "    ax[i].annotate(\"Cohen's D: {:.2f}\".format(ch_d), xy=(x, y - y_delta), xycoords='axes fraction')\n",
    "    ax[i].annotate(\"Cliff's Delta: {:.2f}\".format(cl_d), xy=(x, y - (2*y_delta)), xycoords='axes fraction')\n",
    "    \n",
    "    \n",
    "    whis = 1.5 if centrality == 'degree_centrality' else (20, 95)\n",
    "    sns.boxplot(data = viz_df, x = 'interacting', y = centrality, whis = whis, ax = ax[i])\n",
    "    ax[i].set_yscale('log')\n",
    "    ax[i].set_ylabel(' '.join([s[0].upper() + s[1:] for s in centrality.split('_')]))\n",
    "    \n",
    "    ax[i].set_xlabel('Participates in a High-Confidence Interaction')\n",
    "    \n",
    "plt.savefig(os.path.join(data_path, 'figures', 'interaction_centrality_comparison.png'), \n",
    "            dpi=300, \n",
    "            bbox_inches=\"tight\")  "
   ]
  }
 ],
 "metadata": {
  "kernelspec": {
   "display_name": "Python [conda env:metastatic_potential]",
   "language": "python",
   "name": "conda-env-metastatic_potential-py"
  },
  "language_info": {
   "codemirror_mode": {
    "name": "ipython",
    "version": 3
   },
   "file_extension": ".py",
   "mimetype": "text/x-python",
   "name": "python",
   "nbconvert_exporter": "python",
   "pygments_lexer": "ipython3",
   "version": "3.13.0"
  }
 },
 "nbformat": 4,
 "nbformat_minor": 5
}
