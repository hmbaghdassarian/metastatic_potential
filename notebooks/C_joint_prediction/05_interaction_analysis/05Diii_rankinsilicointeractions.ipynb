{
 "cells": [
  {
   "cell_type": "code",
   "execution_count": 1,
   "id": "11f6611e",
   "metadata": {},
   "outputs": [],
   "source": [
    "import os\n",
    "\n",
    "import pandas as pd"
   ]
  },
  {
   "cell_type": "code",
   "execution_count": 2,
   "id": "0619ee7b",
   "metadata": {},
   "outputs": [],
   "source": [
    "data_path = '/nobackup/users/hmbaghda/metastatic_potential/'\n",
    "random_state = 42 + 3\n",
    "\n",
    "n_cores = 30\n",
    "os.environ[\"OMP_NUM_THREADS\"] = str(n_cores)\n",
    "os.environ[\"MKL_NUM_THREADS\"] = str(n_cores)\n",
    "os.environ[\"OPENBLAS_NUM_THREADS\"] = str(n_cores)\n",
    "os.environ[\"VECLIB_MAXIMUM_THREADS\"] = str(n_cores)\n",
    "os.environ[\"NUMEXPR_NUM_THREADS\"] = str(n_cores)"
   ]
  },
  {
   "cell_type": "code",
   "execution_count": 4,
   "id": "5744e50f",
   "metadata": {},
   "outputs": [
    {
     "data": {
      "text/plain": [
       "PA2G4^SP1          1.675429\n",
       "ARRB2^SP1          0.625910\n",
       "APC^AXIN1          0.517217\n",
       "PCBP1^APC          0.421898\n",
       "C8A^SEMG1          0.384124\n",
       "NONO^AXIN1         0.346124\n",
       "AXIN1^BRCA1        0.335942\n",
       "AXIN1^PA2G4        0.325634\n",
       "PA2G4^EP300        0.149517\n",
       "NCKIPSD^AKAP9      0.118229\n",
       "CDK9^ARRB2         0.080097\n",
       "CLEC4E^SEMG1       0.077530\n",
       "STAT5B^SP1         0.074151\n",
       "REL^GPHN           0.069992\n",
       "GPHN^STRN          0.042237\n",
       "GPHN^AXIN1         0.038739\n",
       "POLR2A^APC         0.032863\n",
       "APC^PA2G4          0.032837\n",
       "POLR2A^ACVR1B      0.019100\n",
       "TRAF6^EP300        0.013482\n",
       "ARRB2^ANAPC2       0.009345\n",
       "CLEC4E^ADAD1       0.006564\n",
       "PCBP1^REL          0.004757\n",
       "STAT5B^GPHN        0.002394\n",
       "POLR2A^GPHN        0.001832\n",
       "ZCCHC13^SEMG1      0.001453\n",
       "CLEC4E^ZCCHC13     0.000269\n",
       "ZCCHC13^IL9        0.000185\n",
       "ADAD1^ZCCHC13      0.000059\n",
       "ZCCHC13^FPR2       0.000057\n",
       "MRGPRX1^ZCCHC13    0.000011\n",
       "Name: 0, dtype: float64"
      ]
     },
     "execution_count": 4,
     "metadata": {},
     "output_type": "execute_result"
    }
   ],
   "source": [
    "sa_path = os.path.join(data_path, 'processed', 'synergy_analysis')\n",
    "fns = os.listdir(sa_path)\n",
    "fns = [fn for fn in fns if fn.endswith('_diff.csv')]\n",
    "\n",
    "max_diff = {}\n",
    "for fn in fns:\n",
    "    max_diff['^'.join(fn.split('_')[:2])] = pd.read_csv(os.path.join(sa_path, fn))['mean'].abs().max()\n",
    "    \n",
    "max_diff = pd.DataFrame(max_diff, index = [0]).T\n",
    "max_diff[0].sort_values(ascending = False)"
   ]
  },
  {
   "cell_type": "code",
   "execution_count": null,
   "id": "b483a289",
   "metadata": {},
   "outputs": [],
   "source": []
  }
 ],
 "metadata": {
  "kernelspec": {
   "display_name": "Python [conda env:metastatic_potential]",
   "language": "python",
   "name": "conda-env-metastatic_potential-py"
  },
  "language_info": {
   "codemirror_mode": {
    "name": "ipython",
    "version": 3
   },
   "file_extension": ".py",
   "mimetype": "text/x-python",
   "name": "python",
   "nbconvert_exporter": "python",
   "pygments_lexer": "ipython3",
   "version": "3.13.0"
  }
 },
 "nbformat": 4,
 "nbformat_minor": 5
}
