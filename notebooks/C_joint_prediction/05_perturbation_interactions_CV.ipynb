{
 "cells": [
  {
   "cell_type": "markdown",
   "id": "c4c7cbc9",
   "metadata": {},
   "source": [
    "Since linear models don't capture interactions between features, here, we test for this. This can reveal synergies or antagonisms that have outsized effects on metastatic potential. "
   ]
  },
  {
   "cell_type": "code",
   "execution_count": 181,
   "id": "7031b884",
   "metadata": {},
   "outputs": [],
   "source": [
    "import os\n",
    "import itertools\n",
    "import copy\n",
    "\n",
    "from tqdm import tqdm, trange\n",
    "\n",
    "import pandas as pd\n",
    "import numpy as np\n",
    "\n",
    "from sklearn.model_selection import KFold\n",
    "import statsmodels.formula.api as smf\n",
    "from statsmodels.stats.multitest import multipletests\n",
    "from scipy import stats\n",
    "\n",
    "import sys\n",
    "sys.path.insert(1, '../')\n",
    "from utils import read_pickled_object, get_stats, cohen_d"
   ]
  },
  {
   "cell_type": "code",
   "execution_count": 2,
   "id": "ad78a2a6",
   "metadata": {},
   "outputs": [],
   "source": [
    "data_path = '/nobackup/users/hmbaghda/metastatic_potential/'\n",
    "random_state = 42 + 3\n",
    "\n",
    "n_cores = 30\n",
    "os.environ[\"OMP_NUM_THREADS\"] = str(n_cores)\n",
    "os.environ[\"MKL_NUM_THREADS\"] = str(n_cores)\n",
    "os.environ[\"OPENBLAS_NUM_THREADS\"] = str(n_cores)\n",
    "os.environ[\"VECLIB_MAXIMUM_THREADS\"] = str(n_cores)\n",
    "os.environ[\"NUMEXPR_NUM_THREADS\"] = str(n_cores)"
   ]
  },
  {
   "cell_type": "markdown",
   "id": "4c74d714",
   "metadata": {},
   "source": [
    "Load data:"
   ]
  },
  {
   "cell_type": "code",
   "execution_count": 3,
   "id": "a8f07970",
   "metadata": {},
   "outputs": [],
   "source": [
    "X = pd.read_csv(os.path.join(data_path, 'processed',  'expr_joint.csv'), index_col = 0)\n",
    "expr_joint = X.copy()\n",
    "\n",
    "mp_joint=pd.read_csv(os.path.join(data_path, 'processed', 'metastatic_potential_joint.csv'), index_col = 0)['mean']\n",
    "y = mp_joint.values.ravel()\n",
    "\n",
    "expr_protein = pd.read_csv(os.path.join(data_path, 'processed',  'expr_protein.csv'), index_col = 0)\n",
    "expr_rna = pd.read_csv(os.path.join(data_path, 'processed',  'expr.csv'), index_col = 0)\n",
    "\n",
    "protein_cols = expr_protein.columns\n",
    "rna_cols = expr_rna.columns\n",
    "\n",
    "X_protein = X[protein_cols].values\n",
    "X_rna = X[rna_cols].values\n",
    "\n",
    "# model results from 04\n",
    "model_coefs = pd.read_csv(os.path.join(data_path, 'interim', 'joint_features.csv'), \n",
    "                          index_col = 0)\n",
    "model_coefs.set_index('feature_name', inplace = True)\n",
    "\n",
    "best_pipeline = read_pickled_object(os.path.join(data_path, 'processed', \n",
    "                                                 'best_model_svr_linear_joint.pickle'))"
   ]
  },
  {
   "cell_type": "markdown",
   "id": "847b1412",
   "metadata": {},
   "source": [
    "Fit the full data on the original model:"
   ]
  },
  {
   "cell_type": "code",
   "execution_count": 66,
   "id": "afe6c1bf",
   "metadata": {},
   "outputs": [],
   "source": [
    "# best_pipeline = read_pickled_object(os.path.join(data_path, 'processed', \n",
    "#                                                  'best_model_svr_linear_joint.pickle'))\n",
    "# X = (X_protein, X_rna)\n",
    "# best_pipeline.fit(X, y)"
   ]
  },
  {
   "cell_type": "code",
   "execution_count": 16,
   "id": "86182d0d",
   "metadata": {},
   "outputs": [],
   "source": [
    "# model_coefs = pd.read_csv(os.path.join(data_path, 'interim', 'joint_features.csv'), \n",
    "#                           index_col = 0)\n",
    "# if not np.allclose(model_coefs['SVM coefficient'].values, \n",
    "#                    best_pipeline.named_steps['model'].coef_.flatten()):\n",
    "#     raise ValueError('Inconsitency between Notebook 04 and 05')\n",
    "# # model_coefs.sort_values(by='SVM coefficient', key=lambda x: x.abs(), ascending=False, inplace=True)\n",
    "# model_coefs.set_index('feature_name', inplace = True)"
   ]
  },
  {
   "cell_type": "code",
   "execution_count": 20,
   "id": "a9822d1f",
   "metadata": {},
   "outputs": [],
   "source": [
    "# protein_indices = best_pipeline.named_steps['feature_processing'].transformer_list[0][1].named_steps['feature_selection_protein'].top_indices_\n",
    "# selected_protein_cols = [protein_cols[i] for i in protein_indices]\n",
    "\n",
    "# rna_indices = best_pipeline.named_steps['feature_processing'].transformer_list[1][1].named_steps['feature_selection_rna'].top_indices_\n",
    "# selected_rna_cols = [rna_cols[i] for i in rna_indices]\n",
    "\n",
    "# selected_indices = {'Transcriptomics': rna_indices, \n",
    "#                    'Proteomics': protein_indices}"
   ]
  },
  {
   "cell_type": "markdown",
   "id": "834a6984",
   "metadata": {},
   "source": [
    "## Set up the pipeline manually this time:\n",
    "\n",
    "1) Center the data for each modality:"
   ]
  },
  {
   "cell_type": "code",
   "execution_count": 45,
   "id": "9b00b04f",
   "metadata": {},
   "outputs": [],
   "source": [
    "X_map_untransformed = {'Transcriptomics': X_rna, 'Proteomics': X_protein}\n",
    "X_map = {k: X_ - np.mean(X_, axis=0) for k, X_ in X_map_untransformed.items()} # center the data"
   ]
  },
  {
   "cell_type": "markdown",
   "id": "aa68ad5f",
   "metadata": {},
   "source": [
    "2) Get the selected features from the fit on the full dataset and union of modalities. \n",
    "This is different from the 10-fold CV, where feature selection is run each time. We will use 10-fold CV, but on this consistent set of features which we are interested in testing interactions for. "
   ]
  },
  {
   "cell_type": "code",
   "execution_count": 8,
   "id": "b8847c7a",
   "metadata": {},
   "outputs": [],
   "source": [
    "X_map_selected = {}\n",
    "for modality, X in X_map.items():\n",
    "    modality_indices = model_coefs[model_coefs.Modality == modality]['feature_index'].values # selected_indices[modality]\n",
    "    X_map_selected[modality] = X[:, modality_indices]\n",
    "\n",
    "X_selected = np.concatenate([X_map_selected['Proteomics'], X_map_selected['Transcriptomics']], \n",
    "               axis = 1)\n"
   ]
  },
  {
   "cell_type": "markdown",
   "id": "fd4ad3aa",
   "metadata": {},
   "source": [
    "3. Sanity check -- does fitting the model on this manual pipeline match the automated best_pipeline?"
   ]
  },
  {
   "cell_type": "code",
   "execution_count": 11,
   "id": "7c25a625",
   "metadata": {},
   "outputs": [],
   "source": [
    "svr_model = copy.deepcopy(best_pipeline.named_steps['model'])"
   ]
  },
  {
   "cell_type": "code",
   "execution_count": 12,
   "id": "5774684b",
   "metadata": {},
   "outputs": [],
   "source": [
    "svr_model.fit(X_selected, y)\n",
    "model_coefs_check = pd.DataFrame(data = {'SVM coefficient': svr_model.coef_.ravel()})\n",
    "model_coefs_check['feature_name'] = model_coefs.index.tolist()#selected_protein_cols + selected_rna_cols\n",
    "model_coefs_check.set_index('feature_name', inplace = True)\n",
    "\n",
    "if not np.allclose(model_coefs_check['SVM coefficient'].values, #model_coefs_check.loc[model_coefs.index,:]['SVM coefficient'].values, \n",
    "                   model_coefs['SVM coefficient'].values):\n",
    "    raise ValueError('Something in the manual processing pipeline does not match the automated best_pipeline')\n",
    "    \n",
    "    "
   ]
  },
  {
   "cell_type": "markdown",
   "id": "ec752fcb",
   "metadata": {},
   "source": [
    "Format model coefs:"
   ]
  },
  {
   "cell_type": "code",
   "execution_count": 187,
   "id": "08e8f02b",
   "metadata": {},
   "outputs": [],
   "source": [
    "model_coefs = pd.read_csv(os.path.join(data_path, 'interim', 'joint_features.csv'), \n",
    "                          index_col = 0)\n",
    "model_coefs.set_index('feature_name', inplace = True)\n",
    "model_coefs['feature_index_selected'] = range(model_coefs.shape[0])\n",
    "model_coefs.sort_values(by='SVM coefficient', key=lambda x: x.abs(), ascending=False, inplace=True)\n"
   ]
  },
  {
   "cell_type": "markdown",
   "id": "efe4203c",
   "metadata": {},
   "source": [
    "## 10-fold CV\n",
    "Do the 10-fold CV on the X-block and the X-block with an added interaction term, and see if prediction improves:"
   ]
  },
  {
   "cell_type": "markdown",
   "id": "18a59c44",
   "metadata": {},
   "source": [
    "Get results for model with no interaction:"
   ]
  },
  {
   "cell_type": "code",
   "execution_count": 97,
   "id": "86682609",
   "metadata": {},
   "outputs": [
    {
     "name": "stderr",
     "output_type": "stream",
     "text": [
      "10it [00:06,  1.56it/s]\n"
     ]
    }
   ],
   "source": [
    "np.random.seed(random_state)\n",
    "outer_cv = KFold(n_splits=10, shuffle=True, random_state=random_state)\n",
    "\n",
    "results_nointeraction = {'test_corr': [], 'test_mse': []}\n",
    "for k, (train_idx, test_idx) in tqdm(enumerate(outer_cv.split(X_selected, y))):\n",
    "    X_train, X_test = X_selected[train_idx], X_selected[test_idx]\n",
    "    y_train, y_test = y[train_idx], y[test_idx]\n",
    "    \n",
    "    res = get_stats(svr_model, y_train, y_test, X_train, X_test)\n",
    "    train_corr, test_corr, train_mse, test_mse = res\n",
    "    \n",
    "    results_nointeraction['test_corr'].append(test_corr)\n",
    "    results_nointeraction['test_mse'].append(test_mse)\n",
    "    \n",
    "    "
   ]
  },
  {
   "cell_type": "markdown",
   "id": "d53cb0ec",
   "metadata": {},
   "source": [
    "For each interaction, runt the same 10-fold CV:"
   ]
  },
  {
   "cell_type": "code",
   "execution_count": 124,
   "id": "ac1c5e21",
   "metadata": {},
   "outputs": [],
   "source": [
    "def get_interaction_value(feature_1, feature_2, \n",
    "                          X_selected, model_coefs, outer_cv, results_nointeraction):\n",
    "    X_interaction = X_selected.copy()\n",
    "\n",
    "    feature_1_index = model_coefs.loc[feature_1, 'feature_index_selected']\n",
    "    feature_2_index = model_coefs.loc[feature_2, 'feature_index_selected']\n",
    "    interaction = X_selected[:, feature_1_index]*X_selected[:, feature_2_index]\n",
    "\n",
    "    X_interaction = np.concatenate([X_interaction, interaction.reshape(-1, 1)], axis = 1)\n",
    "\n",
    "    results = {'test_corr': [], 'test_mse': []}\n",
    "    for (train_idx, test_idx) in outer_cv.split(X_interaction, y):\n",
    "        X_train, X_test = X_interaction[train_idx], X_interaction[test_idx]\n",
    "        y_train, y_test = y[train_idx], y[test_idx]\n",
    "\n",
    "        res = get_stats(svr_model, y_train, y_test, X_train, X_test)\n",
    "        train_corr, test_corr, train_mse, test_mse = res\n",
    "\n",
    "        results['test_corr'].append(test_corr)\n",
    "        results['test_mse'].append(test_mse)\n",
    "\n",
    "    # compare to model with no interaction\n",
    "    pval_corr = stats.mannwhitneyu(results['test_corr'], results_nointeraction['test_corr'], \n",
    "                      alternative = 'greater').pvalue\n",
    "    cd_corr = cohen_d(results['test_corr'], results_nointeraction['test_corr'])\n",
    "\n",
    "    pval_mse = stats.mannwhitneyu(results['test_mse'], results_nointeraction['test_mse'], \n",
    "                      alternative = 'less').pvalue\n",
    "    cd_mse = cohen_d(results['test_mse'], results_nointeraction['test_mse'])\n",
    "    \n",
    "    return {'feature_1': feature_1,\n",
    "            'feature_2': feature_2,\n",
    "            'pval_corr': pval_corr, 'cd_corr': cd_corr, 'pval_mse': pval_mse, 'cd_mse': cd_mse}"
   ]
  },
  {
   "cell_type": "code",
   "execution_count": 135,
   "id": "e65cc9e4",
   "metadata": {},
   "outputs": [
    {
     "name": "stderr",
     "output_type": "stream",
     "text": [
      "100%|███████████████████████████████████████████| 45/45 [04:56<00:00,  6.59s/it]\n"
     ]
    }
   ],
   "source": [
    "top_n = 50\n",
    "features = model_coefs.index.tolist()[:top_n]\n",
    "feature_combs = list(itertools.combinations(features, 2))\n",
    "\n",
    "res_all = []\n",
    "for feature_comb in tqdm(feature_combs):\n",
    "    res = get_interaction_value(feature_1 = feature_comb[0], \n",
    "                                feature_2 = feature_comb[1],\n",
    "                                X_selected = X_selected,\n",
    "                                model_coefs = model_coefs, \n",
    "                                outer_cv = outer_cv, \n",
    "                                results_nointeraction = results_nointeraction)\n",
    "    res_all.append(res)\n",
    "    \n",
    "res_all = pd.DataFrame(res_all)\n",
    "\n",
    "_, bh_fdr, _, _ = multipletests(res_all.pval_corr, method='fdr_bh')\n",
    "res_all['bh_fdr_corr'] = bh_fdr\n",
    "\n",
    "_, bh_fdr, _, _ = multipletests(res_all.pval_mse, method='fdr_bh')\n",
    "res_all['bh_fdr_mse'] = bh_fdr\n",
    "res_all.to_csv(os.path.join(data_path, 'processed', 'joint_interaction_CV.csv'))"
   ]
  }
 ],
 "metadata": {
  "kernelspec": {
   "display_name": "Python [conda env:metastatic_potential]",
   "language": "python",
   "name": "conda-env-metastatic_potential-py"
  },
  "language_info": {
   "codemirror_mode": {
    "name": "ipython",
    "version": 3
   },
   "file_extension": ".py",
   "mimetype": "text/x-python",
   "name": "python",
   "nbconvert_exporter": "python",
   "pygments_lexer": "ipython3",
   "version": "3.13.0"
  }
 },
 "nbformat": 4,
 "nbformat_minor": 5
}
