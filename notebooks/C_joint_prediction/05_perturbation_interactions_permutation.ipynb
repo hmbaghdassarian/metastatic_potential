{
 "cells": [
  {
   "cell_type": "markdown",
   "id": "c4c7cbc9",
   "metadata": {},
   "source": [
    "Since linear models don't capture interactions between features, here, we test for this. This can reveal synergies or antagonisms that have outsized effects on metastatic potential. "
   ]
  },
  {
   "cell_type": "code",
   "execution_count": 1,
   "id": "7031b884",
   "metadata": {},
   "outputs": [
    {
     "name": "stderr",
     "output_type": "stream",
     "text": [
      "/nobackup/users/hmbaghda/Software/miniforge3/envs/metastatic_potential/lib/python3.13/site-packages/tqdm/auto.py:21: TqdmWarning: IProgress not found. Please update jupyter and ipywidgets. See https://ipywidgets.readthedocs.io/en/stable/user_install.html\n",
      "  from .autonotebook import tqdm as notebook_tqdm\n"
     ]
    }
   ],
   "source": [
    "import os\n",
    "import itertools\n",
    "import copy\n",
    "import multiprocessing\n",
    "import gc\n",
    "\n",
    "from tqdm import tqdm, trange\n",
    "\n",
    "import pandas as pd\n",
    "import numpy as np\n",
    "\n",
    "from sklearn.model_selection import KFold\n",
    "import statsmodels.formula.api as smf\n",
    "from statsmodels.stats.multitest import multipletests\n",
    "from scipy import stats\n",
    "\n",
    "import sys\n",
    "sys.path.insert(1, '../')\n",
    "from utils import read_pickled_object, get_stats, cohen_d"
   ]
  },
  {
   "cell_type": "code",
   "execution_count": 2,
   "id": "ad78a2a6",
   "metadata": {},
   "outputs": [],
   "source": [
    "data_path = '/nobackup/users/hmbaghda/metastatic_potential/'\n",
    "random_state = 42 + 3\n",
    "\n",
    "par = True\n",
    "\n",
    "n_cores = 80\n",
    "os.environ[\"OMP_NUM_THREADS\"] = str(n_cores)\n",
    "os.environ[\"MKL_NUM_THREADS\"] = str(n_cores)\n",
    "os.environ[\"OPENBLAS_NUM_THREADS\"] = str(n_cores)\n",
    "os.environ[\"VECLIB_MAXIMUM_THREADS\"] = str(n_cores)\n",
    "os.environ[\"NUMEXPR_NUM_THREADS\"] = str(n_cores)"
   ]
  },
  {
   "cell_type": "markdown",
   "id": "4c74d714",
   "metadata": {},
   "source": [
    "Load data:"
   ]
  },
  {
   "cell_type": "code",
   "execution_count": 3,
   "id": "a8f07970",
   "metadata": {},
   "outputs": [],
   "source": [
    "X = pd.read_csv(os.path.join(data_path, 'processed',  'expr_joint.csv'), index_col = 0)\n",
    "expr_joint = X.copy()\n",
    "\n",
    "mp_joint=pd.read_csv(os.path.join(data_path, 'processed', 'metastatic_potential_joint.csv'), index_col = 0)['mean']\n",
    "y = mp_joint.values.ravel()\n",
    "\n",
    "expr_protein = pd.read_csv(os.path.join(data_path, 'processed',  'expr_protein.csv'), index_col = 0)\n",
    "expr_rna = pd.read_csv(os.path.join(data_path, 'processed',  'expr.csv'), index_col = 0)\n",
    "\n",
    "protein_cols = expr_protein.columns\n",
    "rna_cols = expr_rna.columns\n",
    "\n",
    "X_protein = X[protein_cols].values\n",
    "X_rna = X[rna_cols].values\n",
    "\n",
    "# model results from 04\n",
    "model_coefs = pd.read_csv(os.path.join(data_path, 'interim', 'joint_features.csv'), \n",
    "                          index_col = 0)\n",
    "model_coefs.set_index('feature_name', inplace = True)\n",
    "\n",
    "best_pipeline = read_pickled_object(os.path.join(data_path, 'processed', \n",
    "                                                 'best_model_svr_linear_joint.pickle'))"
   ]
  },
  {
   "cell_type": "markdown",
   "id": "8f21e8f9",
   "metadata": {},
   "source": [
    "Fit the full data on the original model:"
   ]
  },
  {
   "cell_type": "code",
   "execution_count": 4,
   "id": "684e335b",
   "metadata": {},
   "outputs": [],
   "source": [
    "# best_pipeline = read_pickled_object(os.path.join(data_path, 'processed', \n",
    "#                                                  'best_model_svr_linear_joint.pickle'))\n",
    "# X = (X_protein, X_rna)\n",
    "# best_pipeline.fit(X, y)"
   ]
  },
  {
   "cell_type": "code",
   "execution_count": 5,
   "id": "d7cca9d5",
   "metadata": {},
   "outputs": [],
   "source": [
    "# model_coefs = pd.read_csv(os.path.join(data_path, 'interim', 'joint_features.csv'), \n",
    "#                           index_col = 0)\n",
    "# if not np.allclose(model_coefs['SVM coefficient'].values, \n",
    "#                    best_pipeline.named_steps['model'].coef_.flatten()):\n",
    "#     raise ValueError('Inconsitency between Notebook 04 and 05')\n",
    "# # model_coefs.sort_values(by='SVM coefficient', key=lambda x: x.abs(), ascending=False, inplace=True)\n",
    "# model_coefs.set_index('feature_name', inplace = True)"
   ]
  },
  {
   "cell_type": "code",
   "execution_count": 6,
   "id": "bc584711",
   "metadata": {},
   "outputs": [],
   "source": [
    "# protein_indices = best_pipeline.named_steps['feature_processing'].transformer_list[0][1].named_steps['feature_selection_protein'].top_indices_\n",
    "# selected_protein_cols = [protein_cols[i] for i in protein_indices]\n",
    "\n",
    "# rna_indices = best_pipeline.named_steps['feature_processing'].transformer_list[1][1].named_steps['feature_selection_rna'].top_indices_\n",
    "# selected_rna_cols = [rna_cols[i] for i in rna_indices]\n",
    "\n",
    "# selected_indices = {'Transcriptomics': rna_indices, \n",
    "#                    'Proteomics': protein_indices}"
   ]
  },
  {
   "cell_type": "markdown",
   "id": "d3571f65",
   "metadata": {},
   "source": [
    "## Set up the pipeline manually this time:\n",
    "\n",
    "1) Center the data for each modality:"
   ]
  },
  {
   "cell_type": "code",
   "execution_count": 7,
   "id": "d25b9e63",
   "metadata": {},
   "outputs": [],
   "source": [
    "X_map_untransformed = {'Transcriptomics': X_rna, 'Proteomics': X_protein}\n",
    "X_map = {k: X_ - np.mean(X_, axis=0) for k, X_ in X_map_untransformed.items()} # center the data"
   ]
  },
  {
   "cell_type": "markdown",
   "id": "d6c432ae",
   "metadata": {},
   "source": [
    "2) Get the selected features from the fit on the full dataset and union of modalities. \n",
    "This is different from the 10-fold CV, where feature selection is run each time. We will use 10-fold CV, but on this consistent set of features which we are interested in testing interactions for. "
   ]
  },
  {
   "cell_type": "code",
   "execution_count": 8,
   "id": "e94d4742",
   "metadata": {},
   "outputs": [],
   "source": [
    "X_map_selected = {}\n",
    "for modality, X in X_map.items():\n",
    "    modality_indices = model_coefs[model_coefs.Modality == modality]['feature_index'].values # selected_indices[modality]\n",
    "    X_map_selected[modality] = X[:, modality_indices]\n",
    "\n",
    "X_selected = np.concatenate([X_map_selected['Proteomics'], X_map_selected['Transcriptomics']], \n",
    "               axis = 1)\n"
   ]
  },
  {
   "cell_type": "markdown",
   "id": "305e22c5",
   "metadata": {},
   "source": [
    "3. Sanity check -- does fitting the model on this manual pipeline match the automated best_pipeline?"
   ]
  },
  {
   "cell_type": "code",
   "execution_count": 9,
   "id": "68aafd6d",
   "metadata": {},
   "outputs": [],
   "source": [
    "svr_model = copy.deepcopy(best_pipeline.named_steps['model'])"
   ]
  },
  {
   "cell_type": "code",
   "execution_count": 10,
   "id": "847b82c2",
   "metadata": {},
   "outputs": [],
   "source": [
    "svr_model.fit(X_selected, y)\n",
    "model_coefs_check = pd.DataFrame(data = {'SVM coefficient': svr_model.coef_.ravel()})\n",
    "model_coefs_check['feature_name'] = model_coefs.index.tolist()#selected_protein_cols + selected_rna_cols\n",
    "model_coefs_check.set_index('feature_name', inplace = True)\n",
    "\n",
    "if not np.allclose(model_coefs_check['SVM coefficient'].values, #model_coefs_check.loc[model_coefs.index,:]['SVM coefficient'].values, \n",
    "                   model_coefs['SVM coefficient'].values):\n",
    "    raise ValueError('Something in the manual processing pipeline does not match the automated best_pipeline')\n",
    "    \n",
    "    "
   ]
  },
  {
   "cell_type": "markdown",
   "id": "a4f41542",
   "metadata": {},
   "source": [
    "Format model coefs:"
   ]
  },
  {
   "cell_type": "code",
   "execution_count": 11,
   "id": "62c1536d",
   "metadata": {},
   "outputs": [],
   "source": [
    "model_coefs = pd.read_csv(os.path.join(data_path, 'interim', 'joint_features.csv'), \n",
    "                          index_col = 0)\n",
    "model_coefs.set_index('feature_name', inplace = True)\n",
    "model_coefs['feature_index_selected'] = range(model_coefs.shape[0])\n",
    "model_coefs.sort_values(by='SVM coefficient', key=lambda x: x.abs(), ascending=False, inplace=True)\n"
   ]
  },
  {
   "cell_type": "markdown",
   "id": "5ed26b53",
   "metadata": {},
   "source": [
    "# Permutation testing\n",
    "\n",
    "Instead of assesing improvement in model performance, here, we see whether the model coefficient is significantly large using a permutation test:"
   ]
  },
  {
   "cell_type": "code",
   "execution_count": 35,
   "id": "f3fb395a",
   "metadata": {},
   "outputs": [],
   "source": [
    "def get_interaction_value(feature_1, \n",
    "                          feature_2, \n",
    "                          n_perm,\n",
    "                          svr_model = svr_model, \n",
    "                          X_selected = X_selected, \n",
    "                          model_coefs = model_coefs):\n",
    "    X_interaction = X_selected.copy()\n",
    "\n",
    "    feature_1_index = model_coefs.loc[feature_1, 'feature_index_selected']\n",
    "    feature_2_index = model_coefs.loc[feature_2, 'feature_index_selected']\n",
    "    interaction = X_selected[:, feature_1_index]*X_selected[:, feature_2_index]\n",
    "\n",
    "    X_interaction = np.concatenate([X_interaction, interaction.reshape(-1, 1)], axis = 1)\n",
    "\n",
    "    svr_model.fit(X_interaction, y)\n",
    "    interaction_coef = svr_model.coef_[0, -1]\n",
    "\n",
    "    np.random.seed(random_state)\n",
    "\n",
    "    permuted_coefs = []\n",
    "    for i in range(n_perm):  \n",
    "        y_perm = np.random.permutation(y)\n",
    "        svr_model.fit(X_interaction, y_perm)\n",
    "\n",
    "        permuted_coefs.append(svr_model.coef_[0, -1])\n",
    "\n",
    "    # fraction of time permuted coefficients are greater than the interaction\n",
    "    pval = np.mean(np.abs(permuted_coefs) >= np.abs(interaction_coef)) \n",
    "    \n",
    "    return interaction_coef, pval"
   ]
  },
  {
   "cell_type": "code",
   "execution_count": 41,
   "id": "a99dcb92",
   "metadata": {},
   "outputs": [],
   "source": [
    "top_n, n_perm = 50, 100\n",
    "features = model_coefs.index.tolist()[:top_n]\n",
    "feature_combs = list(itertools.combinations(features, 2))\n",
    "\n",
    "if not par:\n",
    "    res_all = []\n",
    "    for feature_comb in tqdm(feature_combs):\n",
    "        res = get_interaction_value(feature_1 = feature_comb[0], \n",
    "                                    feature_2 = feature_comb[1],\n",
    "                                    n_perm = n_perm,\n",
    "                                    svr_model = svr_model,\n",
    "                                    X_selected = X_selected,\n",
    "                                    model_coefs = model_coefs)\n",
    "        res_all.append(res)\n",
    "else:\n",
    "    n_cores = min(len(feature_combs), n_cores)\n",
    "    pool = multiprocessing.Pool(processes = n_cores)\n",
    "    \n",
    "    feature_combs_sm = [(f1, f2, n_perm) for (f1, f2) in feature_combs]\n",
    "    try:\n",
    "        res_all = pool.starmap(get_interaction_value, feature_combs_sm)\n",
    "        pool.close()\n",
    "        pool.join()\n",
    "        gc.collect()\n",
    "    except:\n",
    "        pool.close()\n",
    "        pool.join()\n",
    "        gc.collect()\n",
    "        raise ValueError('Parallelization failed')\n",
    "    \n",
    "res_all = pd.DataFrame(res_all, columns = ['coef', 'pval'])\n",
    "_, bh_fdr, _, _ = multipletests(res_all.pval, method='fdr_bh')\n",
    "res_all['bh_fdr'] = bh_fdr\n",
    "res_all.to_csv(os.path.join(data_path, 'processed', 'joint_interaction_permutation.csv'))"
   ]
  }
 ],
 "metadata": {
  "kernelspec": {
   "display_name": "Python [conda env:metastatic_potential]",
   "language": "python",
   "name": "conda-env-metastatic_potential-py"
  },
  "language_info": {
   "codemirror_mode": {
    "name": "ipython",
    "version": 3
   },
   "file_extension": ".py",
   "mimetype": "text/x-python",
   "name": "python",
   "nbconvert_exporter": "python",
   "pygments_lexer": "ipython3",
   "version": "3.13.0"
  }
 },
 "nbformat": 4,
 "nbformat_minor": 5
}
