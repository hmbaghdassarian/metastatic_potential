{
 "cells": [
  {
   "cell_type": "code",
   "execution_count": 1,
   "id": "dcb1ad68",
   "metadata": {},
   "outputs": [],
   "source": [
    "import os\n",
    "\n",
    "from tqdm import tqdm\n",
    "\n",
    "import numpy as np\n",
    "import pandas as pd\n",
    "\n",
    "from sklearn.model_selection import GridSearchCV, cross_val_score, KFold\n",
    "from sklearn.pipeline import Pipeline, FeatureUnion\n",
    "from sklearn.feature_selection import SelectFromModel\n",
    "\n",
    "from sklearn.svm import SVR\n",
    "\n",
    "from sklearn.metrics import make_scorer, mean_squared_error\n",
    "from scipy.stats import pearsonr\n",
    "from sklearn.utils import shuffle\n",
    "from sklearn.linear_model import LinearRegression\n",
    "from sklearn.base import BaseEstimator, TransformerMixin\n",
    "\n",
    "import seaborn as sns\n",
    "import matplotlib.pyplot as plt\n",
    "\n",
    "import sys\n",
    "sys.path.insert(1, '../')\n",
    "from utils import get_stats, mixup, write_pickled_object\n",
    "from utils import FeatureSelector, MeanCenterer"
   ]
  },
  {
   "cell_type": "code",
   "execution_count": 2,
   "id": "7c0dd2a4",
   "metadata": {},
   "outputs": [],
   "source": [
    "data_path = '/nobackup/users/hmbaghda/metastatic_potential/'\n",
    "random_state = 42 + 5\n",
    "\n",
    "n_cores = 30\n",
    "os.environ[\"OMP_NUM_THREADS\"] = str(n_cores)\n",
    "os.environ[\"MKL_NUM_THREADS\"] = str(n_cores)\n",
    "os.environ[\"OPENBLAS_NUM_THREADS\"] = str(n_cores)\n",
    "os.environ[\"VECLIB_MAXIMUM_THREADS\"] = str(n_cores)\n",
    "os.environ[\"NUMEXPR_NUM_THREADS\"] = str(n_cores)"
   ]
  },
  {
   "cell_type": "code",
   "execution_count": 3,
   "id": "4208bc11",
   "metadata": {},
   "outputs": [],
   "source": [
    "class ModalitySelector(BaseEstimator, TransformerMixin):\n",
    "    def __init__(self, modality):\n",
    "        if modality not in ['protein', 'rna']:\n",
    "            raise ValueError(\"modality must be 'protein' or 'rna'\")\n",
    "        self.modality = modality\n",
    "\n",
    "    def fit(self, X, y=None):\n",
    "        return self\n",
    "\n",
    "    def transform(self, X):\n",
    "        # X is expected to be a tuple: (X_protein, X_rna)\n",
    "        if self.modality == 'protein':\n",
    "            return X[0]  # Return X_protein\n",
    "        elif self.modality == 'rna':\n",
    "            return X[1]  # Return X_rna"
   ]
  },
  {
   "cell_type": "code",
   "execution_count": 4,
   "id": "b0b152e5",
   "metadata": {},
   "outputs": [],
   "source": [
    "X = pd.read_csv(os.path.join(data_path, 'processed',  'expr_joint.csv'), index_col = 0)\n",
    "y = pd.read_csv(os.path.join(data_path, 'processed', 'metastatic_potential_joint.csv'), index_col = 0)['mean'].values.ravel()\n",
    "\n",
    "expr_protein = pd.read_csv(os.path.join(data_path, 'processed',  'expr_protein.csv'), index_col = 0)\n",
    "expr_rna = pd.read_csv(os.path.join(data_path, 'processed',  'expr.csv'), index_col = 0)\n",
    "\n",
    "protein_cols = expr_protein.columns\n",
    "rna_cols = expr_rna.columns\n",
    "\n",
    "X_protein = X[protein_cols].values\n",
    "X_rna = X[rna_cols].values\n",
    "\n",
    "X = X.values"
   ]
  },
  {
   "cell_type": "markdown",
   "id": "8ac92a03",
   "metadata": {},
   "source": [
    "Let's take a look at the results from the model selection:"
   ]
  },
  {
   "cell_type": "code",
   "execution_count": 4,
   "id": "e00769f9",
   "metadata": {},
   "outputs": [],
   "source": [
    "res = pd.read_csv(os.path.join(data_path, 'interim', 'pipeline_model_selection_joint.csv'), index_col = 0)"
   ]
  },
  {
   "cell_type": "code",
   "execution_count": 6,
   "id": "ee329bbf",
   "metadata": {},
   "outputs": [
    {
     "data": {
      "text/plain": [
       "np.float64(0.4999762101515235)"
      ]
     },
     "execution_count": 6,
     "metadata": {},
     "output_type": "execute_result"
    }
   ],
   "source": [
    "res.test_corr.median()"
   ]
  },
  {
   "cell_type": "code",
   "execution_count": 7,
   "id": "19129e13",
   "metadata": {},
   "outputs": [
    {
     "data": {
      "text/plain": [
       "np.float64(0.4187227101546025)"
      ]
     },
     "execution_count": 7,
     "metadata": {},
     "output_type": "execute_result"
    }
   ],
   "source": [
    "res.test_corr.mean()"
   ]
  },
  {
   "cell_type": "markdown",
   "id": "9bfca240",
   "metadata": {},
   "source": [
    "Select a best consensus model and re-run on new folds to see the performance:"
   ]
  },
  {
   "cell_type": "code",
   "execution_count": 23,
   "id": "87ff1476",
   "metadata": {},
   "outputs": [
    {
     "name": "stdout",
     "output_type": "stream",
     "text": [
      "{'FeatureSelector__n_features_protein': 1000, 'FeatureSelector__n_features_rna': 19138, 'SVR__C': 0.026086387887828258, 'SVR__epsilon': 0.9286935961490541}\n",
      "------------------------------------------------------\n",
      "{'FeatureSelector__n_features_protein': 250, 'FeatureSelector__n_features_rna': 19138, 'SVR__C': 0.008704273636852068, 'SVR__epsilon': 0.17757859001378923}\n",
      "------------------------------------------------------\n",
      "{'FeatureSelector__n_features_protein': 12755, 'FeatureSelector__n_features_rna': 19138, 'SVR__C': 0.0008197823321850357, 'SVR__epsilon': 0.5662105975031672}\n",
      "------------------------------------------------------\n",
      "{'FeatureSelector__n_features_protein': 250, 'FeatureSelector__n_features_rna': 19138, 'SVR__C': 0.6605425628026751, 'SVR__epsilon': 0.8391358275197625}\n",
      "------------------------------------------------------\n",
      "{'FeatureSelector__n_features_protein': 12755, 'FeatureSelector__n_features_rna': 5000, 'SVR__C': 0.0002904955381806338, 'SVR__epsilon': 0.00861497068083276}\n",
      "------------------------------------------------------\n",
      "{'FeatureSelector__n_features_protein': 1000, 'FeatureSelector__n_features_rna': 19138, 'SVR__C': 0.00012575123522807547, 'SVR__epsilon': 0.5704752358698599}\n",
      "------------------------------------------------------\n",
      "{'FeatureSelector__n_features_protein': 12755, 'FeatureSelector__n_features_rna': 19138, 'SVR__C': 0.4798608820788334, 'SVR__epsilon': 0.44910084798193867}\n",
      "------------------------------------------------------\n",
      "{'FeatureSelector__n_features_protein': 250, 'FeatureSelector__n_features_rna': 19138, 'SVR__C': 0.005865502213052719, 'SVR__epsilon': 0.7681124865143695}\n",
      "------------------------------------------------------\n",
      "{'FeatureSelector__n_features_protein': 12755, 'FeatureSelector__n_features_rna': 5000, 'SVR__C': 0.15239067586365385, 'SVR__epsilon': 0.0015062898995622687}\n",
      "------------------------------------------------------\n",
      "{'FeatureSelector__n_features_protein': 12755, 'FeatureSelector__n_features_rna': 19138, 'SVR__C': 0.07241531997745689, 'SVR__epsilon': 0.13606163446078676}\n",
      "------------------------------------------------------\n"
     ]
    }
   ],
   "source": [
    "C_best = []\n",
    "epsilon_best = []\n",
    "n_features_protein_best = []\n",
    "# n_features_rna_best = []\n",
    "for bp in res.best_params:\n",
    "    print(bp)\n",
    "    print('------------------------------------------------------')\n",
    "    C_best.append(float(bp.split(', ')[2].split(': ')[1]))\n",
    "    epsilon_best.append(float(bp.split(', ')[-1].split(': ')[1][:-1]))\n",
    "    n_features_protein_best.append(int(bp.split(', ')[0].split(': ')[1]))\n",
    "#     n_features_rna_best.append(int(bp.split(', ')[1].split(': ')[1]))"
   ]
  },
  {
   "cell_type": "markdown",
   "id": "0d7c89db",
   "metadata": {},
   "source": [
    "# Start"
   ]
  },
  {
   "cell_type": "markdown",
   "id": "3ef05826",
   "metadata": {},
   "source": [
    "Correlation of shared features:"
   ]
  },
  {
   "cell_type": "code",
   "execution_count": 195,
   "id": "89d0abf9",
   "metadata": {},
   "outputs": [
    {
     "name": "stdout",
     "output_type": "stream",
     "text": [
      "5541 features are shared between the 19138 in rna and 12755 in protein\n"
     ]
    }
   ],
   "source": [
    "X = pd.read_csv(os.path.join(data_path, 'processed',  'expr_joint.csv'), index_col = 0)\n",
    "y = pd.read_csv(os.path.join(data_path, 'processed', 'metastatic_potential_joint.csv'), index_col = 0)['mean'].values.ravel()\n",
    "\n",
    "expr_protein = pd.read_csv(os.path.join(data_path, 'processed',  'expr_protein.csv'), index_col = 0)\n",
    "expr_rna = pd.read_csv(os.path.join(data_path, 'processed',  'expr.csv'), index_col = 0)\n",
    "\n",
    "protein_cols = expr_protein.columns\n",
    "rna_cols = expr_rna.columns\n",
    "\n",
    "X_protein = X[protein_cols]\n",
    "X_rna = X[rna_cols]\n",
    "\n",
    "\n",
    "prot_names = [x.split('|')[-1].split('_HUMAN')[0] for x in X_protein.columns]\n",
    "rna_names = [x.split(' (')[0] for x in X_rna.columns]\n",
    "common_features = sorted(set(prot_names).intersection(rna_names))\n",
    "print('{} features are shared between the {} in rna and {} in protein'.format(len(common_features), \n",
    "                                                                             len(rna_names), \n",
    "                                                                             len(prot_names)))\n",
    "\n",
    "prot_feature_map = dict(zip(prot_names, X_protein.columns))\n",
    "rna_feature_map = dict(zip(rna_names, X_rna.columns))\n",
    "\n",
    "corr_res = pd.DataFrame(columns = ['feature', 'pearson_corr'])\n",
    "for feature in common_features:\n",
    "    corr_res.loc[corr_res.shape[0], :] = [feature, stats.pearsonr(X_rna[rna_feature_map[feature]], \n",
    "                                                                  X_protein[prot_feature_map[feature]]).statistic]\n",
    "    \n",
    "corr_res.pearson_corr = corr_res.pearson_corr.abs()    \n",
    "corr_res.sort_values(by = 'pearson_corr', ascending = False, inplace = True)\n",
    "\n",
    "filter_features = 5541\n",
    "exclude_features = [prot_feature_map[ef] for ef in corr_res.iloc[:filter_features, :].feature.tolist()]\n",
    "\n",
    "\n",
    "X_protein = X_protein.drop(columns = exclude_features)\n",
    "X = X[X_rna.columns.tolist() + X_protein.columns.tolist()].values\n",
    "X_rna = X_rna.values\n",
    "X_protein = X_protein.values\n"
   ]
  },
  {
   "cell_type": "markdown",
   "id": "95fb0dc7",
   "metadata": {},
   "source": [
    "Correlation with multiple features:"
   ]
  },
  {
   "cell_type": "code",
   "execution_count": 28,
   "id": "d8ca2c3a",
   "metadata": {},
   "outputs": [
    {
     "name": "stdout",
     "output_type": "stream",
     "text": [
      "4217\n"
     ]
    }
   ],
   "source": [
    "X = pd.read_csv(os.path.join(data_path, 'processed',  'expr_joint.csv'), index_col = 0)\n",
    "y = pd.read_csv(os.path.join(data_path, 'processed', 'metastatic_potential_joint.csv'), index_col = 0)['mean'].values.ravel()\n",
    "\n",
    "expr_protein = pd.read_csv(os.path.join(data_path, 'processed',  'expr_protein.csv'), index_col = 0)\n",
    "expr_rna = pd.read_csv(os.path.join(data_path, 'processed',  'expr.csv'), index_col = 0)\n",
    "\n",
    "protein_cols = expr_protein.columns\n",
    "rna_cols = expr_rna.columns\n",
    "\n",
    "X_protein = X[protein_cols]\n",
    "X_rna = X[rna_cols]\n",
    "\n",
    "rna_df = X_rna\n",
    "protein_df = X_protein\n",
    "\n",
    "cov_matrix = np.cov(rna_df.values.T, protein_df.values.T)[:rna_df.shape[1], rna_df.shape[1]:]\n",
    "rna_std = rna_df.std()\n",
    "protein_std = protein_df.std()\n",
    "\n",
    "correlation_matrix = cov_matrix / (rna_std.values[:, None] @ protein_std.values[None, :])\n",
    "correlation_matrix = pd.DataFrame(correlation_matrix, \n",
    "                                  columns = protein_df.columns, \n",
    "                                  index = rna_df.columns).abs()\n",
    "\n",
    "threshold = 0.4\n",
    "n = 5\n",
    "exclude_features = [\n",
    "    col for col in correlation_matrix.columns if (correlation_matrix[col] > threshold).sum() >= n\n",
    "]\n",
    "print(len(exclude_features))\n",
    "\n",
    "\n",
    "X_protein = X_protein.drop(columns = exclude_features)\n",
    "X = X[X_rna.columns.tolist() + X_protein.columns.tolist()].values\n",
    "X_rna = X_rna.values\n",
    "X_protein = X_protein.values"
   ]
  },
  {
   "cell_type": "markdown",
   "id": "4bf094dc",
   "metadata": {},
   "source": [
    "Most important features from each:"
   ]
  },
  {
   "cell_type": "code",
   "execution_count": 137,
   "id": "070f39d4",
   "metadata": {},
   "outputs": [],
   "source": [
    "import sys\n",
    "sys.path.insert(1, '../')\n",
    "from utils import read_pickled_object"
   ]
  },
  {
   "cell_type": "code",
   "execution_count": 145,
   "id": "848c250c",
   "metadata": {},
   "outputs": [],
   "source": [
    "best_pipeline_rna = read_pickled_object(os.path.join(data_path, 'processed', 'best_model.pickle'))\n",
    "best_pipeline_protein = read_pickled_object(os.path.join(data_path, 'processed', 'best_model_protein.pickle'))"
   ]
  },
  {
   "cell_type": "code",
   "execution_count": 146,
   "id": "6009130f",
   "metadata": {},
   "outputs": [],
   "source": [
    "X = pd.read_csv(os.path.join(data_path, 'processed',  'expr_joint.csv'), index_col = 0)\n",
    "y = pd.read_csv(os.path.join(data_path, 'processed', 'metastatic_potential_joint.csv'), index_col = 0)['mean'].values.ravel()\n",
    "\n",
    "expr_protein = pd.read_csv(os.path.join(data_path, 'processed',  'expr_protein.csv'), index_col = 0)\n",
    "expr_rna = pd.read_csv(os.path.join(data_path, 'processed',  'expr.csv'), index_col = 0)\n",
    "\n",
    "protein_cols = expr_protein.columns\n",
    "rna_cols = expr_rna.columns\n",
    "\n",
    "X_protein = X[protein_cols].values\n",
    "X_rna = X[rna_cols].values"
   ]
  },
  {
   "cell_type": "code",
   "execution_count": 147,
   "id": "0837b522",
   "metadata": {},
   "outputs": [],
   "source": [
    "best_pipeline_rna.fit(X_rna, y)\n",
    "best_pipeline_protein.fit(X_protein, y)\n",
    "\n",
    "svm_rna = best_pipeline_rna.steps[2][1]\n",
    "svm_protein = best_pipeline_protein.steps[2][1]\n",
    "\n",
    "feature_rank_rna = np.argsort(np.abs(svm_rna.coef_[0]))[::-1]\n",
    "feature_rank_protein = np.argsort(np.abs(svm_protein.coef_[0]))[::-1]\n",
    "\n",
    "top_n_rna = 7500#int(np.round(X_rna.shape[1]/3))\n",
    "top_n_protein = 2500#int(np.round(X_protein.shape[1]/3))\n",
    "\n",
    "top_rna = feature_rank_rna[:top_n_rna]\n",
    "top_protein = feature_rank_protein[:top_n_protein]\n",
    "\n",
    "X_protein = X_protein[:, top_protein]\n",
    "# X_rna = X_rna[:, top_rna]\n"
   ]
  },
  {
   "cell_type": "markdown",
   "id": "45dd30e3",
   "metadata": {},
   "source": [
    "Looks like consistently, the best performing model uses all features and a linear SVM. We will take the median C and epsiolon value across folds:"
   ]
  },
  {
   "cell_type": "code",
   "execution_count": 148,
   "id": "cee8ab84",
   "metadata": {},
   "outputs": [],
   "source": [
    "# X = pd.read_csv(os.path.join(data_path, 'processed',  'expr_joint.csv'), index_col = 0)\n",
    "# y = pd.read_csv(os.path.join(data_path, 'processed', 'metastatic_potential_joint.csv'), index_col = 0)['mean'].values.ravel()\n",
    "\n",
    "# expr_protein = pd.read_csv(os.path.join(data_path, 'processed',  'expr_protein.csv'), index_col = 0)\n",
    "# expr_rna = pd.read_csv(os.path.join(data_path, 'processed',  'expr.csv'), index_col = 0)\n",
    "\n",
    "# protein_cols = expr_protein.columns\n",
    "# rna_cols = expr_rna.columns\n",
    "\n",
    "# X_protein = X[protein_cols].values\n",
    "# X_rna = X[rna_cols].values\n",
    "\n",
    "# # X = X.values"
   ]
  },
  {
   "cell_type": "code",
   "execution_count": 149,
   "id": "d2d3be86",
   "metadata": {},
   "outputs": [],
   "source": [
    "protein_pipeline = Pipeline([\n",
    "    (\"select_protein\", ModalitySelector(modality=\"protein\")),\n",
    "#     (\"feature_selection_protein\", FeatureSelector(method=\"top_n_cv\", \n",
    "#                                                   n_features=0)),\n",
    "    (\"mean_centering_protein\", MeanCenterer()),  # Mean centering for protein data\n",
    "#     (\"feature_reduction\", PLSRegression_X(n_components=100))\n",
    "])\n",
    "\n",
    "# RNA-specific pipeline\n",
    "rna_pipeline = Pipeline([\n",
    "    (\"select_rna\", ModalitySelector(modality=\"rna\")),\n",
    "#     (\"feature_selection_rna\", FeatureSelector(method=\"top_n_cv\", \n",
    "#                                               n_features=X_rna.shape[1])),\n",
    "    (\"mean_centering_rna\", MeanCenterer()),  # Mean centering for RNA data\n",
    "#     (\"feature_reduction\", PLSRegression_X(n_components=100))\n",
    "])\n",
    "\n",
    "# Combine both pipelines\n",
    "combined_pipeline = FeatureUnion([\n",
    "    (\"protein_pipeline\", protein_pipeline),\n",
    "    (\"rna_pipeline\", rna_pipeline),\n",
    "])\n",
    "\n",
    "# Add the model\n",
    "best_steps = [\n",
    "    (\"feature_processing\", combined_pipeline),\n",
    "]\n",
    "\n",
    "# best_steps.append((\"feature_reduction\", PLSRegression(n_components=100)))\n",
    "\n",
    "best_steps.append((\"model\", SVR(\n",
    "    kernel='linear',\n",
    "    C=np.median(C_best),\n",
    "    epsilon=np.median(epsilon_best)\n",
    ")))\n",
    "best_pipeline = Pipeline(best_steps)\n",
    "# write_pickled_object(best_pipeline, \n",
    "#                     os.path.join(data_path, 'processed', 'best_model_joint.pickle'))"
   ]
  },
  {
   "cell_type": "code",
   "execution_count": 150,
   "id": "d82e3155",
   "metadata": {},
   "outputs": [
    {
     "name": "stderr",
     "output_type": "stream",
     "text": [
      "10it [00:09,  1.02it/s]\n"
     ]
    }
   ],
   "source": [
    "np.random.seed(random_state + 1)\n",
    "outer_cv = KFold(n_splits=10, shuffle=True, random_state=random_state+1)\n",
    "n_synthetic = 1000\n",
    "augment = False\n",
    "# res = {}\n",
    "\n",
    "baseline_linear = LinearRegression(n_jobs = n_cores)\n",
    "\n",
    "results = []\n",
    "for k, (train_idx, test_idx) in tqdm(enumerate(outer_cv.split(X_rna, y))):\n",
    "#     X_train_all, X_test_all = X[train_idx], X[test_idx]\n",
    "    y_train, y_test = y[train_idx], y[test_idx]\n",
    "\n",
    "    X_train_rna, X_test_rna = X_rna[train_idx], X_rna[test_idx]\n",
    "    X_train_protein, X_test_protein = X_protein[train_idx], X_protein[test_idx]\n",
    "    \n",
    "    X_train = (X_train_protein, X_train_rna)\n",
    "    X_test = (X_test_protein, X_test_rna)\n",
    "\n",
    "    train_corr, test_corr, train_mse, test_mse = get_stats(best_pipeline, y_train, y_test, X_train, X_test)\n",
    "    \n",
    "#     # random - y\n",
    "#     y_train_rand = np.random.permutation(y_train)\n",
    "#     res_y_rand = get_stats(best_pipeline, y_train_rand, y_test, X_train, X_test)\n",
    "#     _, test_corr_y_rand, _, test_mse_y_rand = res_y_rand    \n",
    "    \n",
    "#     # random - X (features)\n",
    "#     X_train_rand_protein = X_train_protein[:, np.random.permutation(X_train_protein.shape[1])]\n",
    "#     X_train_rand_rna = X_train_rna[:, np.random.permutation(X_train_rna.shape[1])]\n",
    "#     X_train_rand =  (X_train_rand_protein, X_train_rand_rna)\n",
    "#     res_X_rand = get_stats(best_pipeline, y_train, y_test, X_train_rand, X_test)\n",
    "#     _, test_corr_X_rand, _, test_mse_X_rand = res_X_rand  \n",
    "    \n",
    "#     # linear simple\n",
    "#     linear_res = get_stats(baseline_linear, y_train, y_test, X_train_all, X_test_all)\n",
    "#     _, test_corr_linear, _, test_mse_linear = linear_res\n",
    "    \n",
    "\n",
    "    results.append({\n",
    "        \"fold\": k,\n",
    "        \"train_corr\": train_corr,\n",
    "        \"test_corr\": test_corr,\n",
    "        'train_mse': train_mse, \n",
    "        'test_mse': test_mse,\n",
    "#         'random_y_test_corr': test_corr_y_rand, \n",
    "#         'random_y_test_mse': test_mse_y_rand, \n",
    "#         'random_X_test_corr': test_corr_X_rand, \n",
    "#         'random_X_test_mse': test_mse_X_rand, \n",
    "#         'linear_baseline_test_corr': test_corr_linear, \n",
    "#         'linear_baseline_test_mse': test_mse_linear, \n",
    "        })\n",
    "    best_res_df = pd.DataFrame(results)\n",
    "#     res[k] = {'test': y_test, 'pred': y_test_pred, 'train': y_train}"
   ]
  },
  {
   "cell_type": "code",
   "execution_count": 151,
   "id": "7bb9a309",
   "metadata": {},
   "outputs": [
    {
     "data": {
      "text/plain": [
       "np.float64(0.437142887730199)"
      ]
     },
     "execution_count": 151,
     "metadata": {},
     "output_type": "execute_result"
    }
   ],
   "source": [
    "best_res_df.test_corr.mean()"
   ]
  },
  {
   "cell_type": "code",
   "execution_count": 152,
   "id": "1ea7ada9",
   "metadata": {},
   "outputs": [
    {
     "data": {
      "text/plain": [
       "np.float64(0.43007705399299956)"
      ]
     },
     "execution_count": 152,
     "metadata": {},
     "output_type": "execute_result"
    }
   ],
   "source": [
    "best_res_df.test_corr.median()"
   ]
  },
  {
   "cell_type": "code",
   "execution_count": 22,
   "id": "b40ae23f",
   "metadata": {},
   "outputs": [],
   "source": [
    "# viz_df = best_res_df[[col for col in best_res_df if 'test' in col or col == 'fold']]\n",
    "# viz_df_corr = viz_df[[col for col in viz_df if 'corr' in col]]\n",
    "# viz_df_mse = viz_df[[col for col in viz_df if 'mse' in col]]\n",
    "# viz_dfs = {'Pearson Correlation': viz_df_corr, \n",
    "#           'Mean Squared Error': viz_df_mse}"
   ]
  },
  {
   "cell_type": "code",
   "execution_count": 102,
   "id": "5f3008a0",
   "metadata": {},
   "outputs": [],
   "source": [
    "# fig, ax = plt.subplots(ncols = 2, figsize = (10,5))\n",
    "\n",
    "# for i, (metric, viz_df) in enumerate(viz_dfs.items()):\n",
    "#     viz_df = pd.melt(viz_df, value_name=metric, var_name = 'Model Type')\n",
    "#     sns.violinplot(data = viz_df, x = 'Model Type', y = metric, ax = ax[i])\n",
    "#     ax[i].set_xticklabels(ax[i].get_xticklabels(), \n",
    "#                      rotation = 30, ha = 'center')"
   ]
  },
  {
   "cell_type": "code",
   "execution_count": 24,
   "id": "3bd10201",
   "metadata": {},
   "outputs": [
    {
     "data": {
      "text/plain": [
       "np.float64(0.4259590925001584)"
      ]
     },
     "execution_count": 24,
     "metadata": {},
     "output_type": "execute_result"
    }
   ],
   "source": [
    "best_res_df.test_corr.median()"
   ]
  },
  {
   "cell_type": "code",
   "execution_count": 25,
   "id": "31d73c9a",
   "metadata": {},
   "outputs": [
    {
     "data": {
      "text/plain": [
       "np.float64(0.4259590925001584)"
      ]
     },
     "execution_count": 25,
     "metadata": {},
     "output_type": "execute_result"
    }
   ],
   "source": [
    "best_res_df.test_corr.median()"
   ]
  },
  {
   "cell_type": "markdown",
   "id": "cb64d783",
   "metadata": {},
   "source": [
    "# To do:\n",
    "1) try a different seed?\n",
    "2) why is the model selection pipeline so much better than the best model here, when it wasn't anywhere else?"
   ]
  },
  {
   "cell_type": "code",
   "execution_count": null,
   "id": "ec258d12",
   "metadata": {},
   "outputs": [],
   "source": []
  }
 ],
 "metadata": {
  "kernelspec": {
   "display_name": "Python [conda env:metastatic_potential]",
   "language": "python",
   "name": "conda-env-metastatic_potential-py"
  },
  "language_info": {
   "codemirror_mode": {
    "name": "ipython",
    "version": 3
   },
   "file_extension": ".py",
   "mimetype": "text/x-python",
   "name": "python",
   "nbconvert_exporter": "python",
   "pygments_lexer": "ipython3",
   "version": "3.13.0"
  }
 },
 "nbformat": 4,
 "nbformat_minor": 5
}
