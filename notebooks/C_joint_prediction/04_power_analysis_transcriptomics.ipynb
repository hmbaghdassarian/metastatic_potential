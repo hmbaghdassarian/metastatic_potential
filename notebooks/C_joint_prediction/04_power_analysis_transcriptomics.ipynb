{
 "cells": [
  {
   "cell_type": "code",
   "execution_count": 2,
   "id": "1c6c14f0",
   "metadata": {},
   "outputs": [],
   "source": [
    "import os\n",
    "\n",
    "from tqdm import tqdm\n",
    "\n",
    "import pandas as pd\n",
    "import numpy as np\n",
    "\n",
    "from sklearn.model_selection import GridSearchCV, cross_val_score, KFold\n",
    "\n",
    "import seaborn as sns\n",
    "import matplotlib.pyplot as plt\n",
    "\n",
    "import sys\n",
    "sys.path.insert(1, '../')\n",
    "from utils import get_stats, read_pickled_object"
   ]
  },
  {
   "cell_type": "code",
   "execution_count": 3,
   "id": "9e4ba540",
   "metadata": {},
   "outputs": [],
   "source": [
    "data_path = '/nobackup/users/hmbaghda/metastatic_potential/'\n",
    "random_state = 42 + 4\n",
    "\n",
    "n_cores = 30\n",
    "os.environ[\"OMP_NUM_THREADS\"] = str(n_cores)\n",
    "os.environ[\"MKL_NUM_THREADS\"] = str(n_cores)\n",
    "os.environ[\"OPENBLAS_NUM_THREADS\"] = str(n_cores)\n",
    "os.environ[\"VECLIB_MAXIMUM_THREADS\"] = str(n_cores)\n",
    "os.environ[\"NUMEXPR_NUM_THREADS\"] = str(n_cores)"
   ]
  },
  {
   "cell_type": "code",
   "execution_count": null,
   "id": "28b62ab4",
   "metadata": {},
   "outputs": [],
   "source": [
    "best_pipeline = read_pickled_object(os.path.join(data_path, 'processed', 'best_model.pickle'))\n",
    "\n",
    "X = pd.read_csv(os.path.join(data_path, 'processed',  'expr.csv'), index_col = 0).values\n",
    "y = pd.read_csv(os.path.join(data_path, 'processed', 'metastatic_potential.csv'), index_col = 0)['mean'].values.ravel()\n",
    "\n",
    "# this is only available after running script 01 in notebook C\n",
    "y_joint = pd.read_csv(os.path.join(data_path, 'processed',  'metastatic_potential_joint.csv'), index_col = 0)\n"
   ]
  },
  {
   "cell_type": "markdown",
   "id": "a0806189",
   "metadata": {},
   "source": [
    "When iterating through sample sizes, we will keep the test dataset size the same (maximum amount -- 20% of the full dataset). This is to ensure metric stability. \n",
    "\n",
    "We also subset N times per sample size to ensure stability."
   ]
  },
  {
   "cell_type": "code",
   "execution_count": null,
   "id": "83cffc27",
   "metadata": {},
   "outputs": [],
   "source": [
    "# set up manual fold params\n",
    "n_splits = 10\n",
    "\n",
    "fold_size = X.shape[0] // n_splits\n",
    "train_samples_per_fold = int(np.round(X.shape[0] * ((100 - n_splits)/100)))\n",
    "\n",
    "# prepare sample sizes\n",
    "sample_sizes = np.arange(0.1,1.1, 0.1)\n",
    "\n",
    "n_samples_iter = [int(np.round(train_samples_per_fold*sample_size)) for sample_size in sample_sizes]\n",
    "if y_joint.shape[0] not in n_samples_iter:\n",
    "    n_samples_iter.append(y_joint.shape[0]) # ensure the actualy join omics sample size is included\n",
    "    n_samples_iter = sorted(n_samples_iter)\n",
    "\n",
    "# subsets per sample size\n",
    "n_subsets = 100"
   ]
  },
  {
   "cell_type": "code",
   "execution_count": null,
   "id": "7ecd81c5",
   "metadata": {},
   "outputs": [],
   "source": [
    "res = pd.DataFrame(columns = ['fold', 'train_sample_size', \n",
    "                             'train_corr', 'test_corr', 'train_mse', 'test_mse'])\n",
    "\n",
    "np.random.seed(random_state)\n",
    "for k in range(n_splits):\n",
    "    print(k)\n",
    "    # manually get splits in order to ensure the are the same size across all folds\n",
    "    shuffled_index = np.random.permutation(np.arange(X.shape[0]))\n",
    "    train_idx = shuffled_index[:train_samples_per_fold]\n",
    "    test_idx = shuffled_index[train_samples_per_fold:]\n",
    "    \n",
    "    X_train_full, X_test = X[train_idx], X[test_idx]\n",
    "    y_train_full, y_test = y[train_idx], y[test_idx]\n",
    "    \n",
    "    for n_samples in n_samples_iter:\n",
    "        if n_samples < train_samples_per_fold:\n",
    "            for i in range(n_subsets):\n",
    "                subset_idx = np.random.choice(train_samples_per_fold, n_samples, replace=False)\n",
    "                X_train = X_train_full[subset_idx, :]\n",
    "                y_train = y_train_full[subset_idx]\n",
    "\n",
    "                train_corr, test_corr, train_mse, test_mse = get_stats(best_pipeline, y_train, y_test, X_train, X_test)\n",
    "\n",
    "                res.loc[res.shape[0],:] = [k, n_samples, train_corr, test_corr, train_mse, test_mse]\n",
    "        else:\n",
    "            train_corr, test_corr, train_mse, test_mse = get_stats(best_pipeline, y_train_full, y_test, X_train_full, X_test)\n",
    "            res.loc[res.shape[0],:] = [k, n_samples, train_corr, test_corr, train_mse, test_mse]\n",
    "            \n",
    "    res.to_csv(os.path.join(data_path, 'processed', 'power_analysis_transcriptomics.csv'))\n",
    "            \n",
    "            \n",
    "            "
   ]
  },
  {
   "cell_type": "code",
   "execution_count": 4,
   "id": "92581e11",
   "metadata": {},
   "outputs": [],
   "source": [
    "res = pd.read_csv(os.path.join(data_path, 'processed', 'power_analysis_transcriptomics.csv'), index_col = 0)"
   ]
  },
  {
   "cell_type": "code",
   "execution_count": 5,
   "id": "cb37aa65",
   "metadata": {},
   "outputs": [
    {
     "data": {
      "text/plain": [
       "<Axes: xlabel='train_sample_size', ylabel='test_corr'>"
      ]
     },
     "execution_count": 5,
     "metadata": {},
     "output_type": "execute_result"
    },
    {
     "data": {
      "image/png": "[encoded data removed]",
      "text/plain": [
       "<Figure size 1000x500 with 1 Axes>"
      ]
     },
     "metadata": {},
     "output_type": "display_data"
    }
   ],
   "source": [
    "fig, ax = plt.subplots(figsize = (10,5))\n",
    "\n",
    "sns.boxplot(data = res, x = 'train_sample_size', y = 'test_corr')"
   ]
  },
  {
   "cell_type": "code",
   "execution_count": 6,
   "id": "c2cdb896",
   "metadata": {},
   "outputs": [
    {
     "data": {
      "text/plain": [
       "train_sample_size\n",
       "43     0.287465\n",
       "87     0.356229\n",
       "130    0.389205\n",
       "173    0.411719\n",
       "216    0.426523\n",
       "247    0.441144\n",
       "260    0.446577\n",
       "303    0.462566\n",
       "346    0.475902\n",
       "390    0.493869\n",
       "433    0.510644\n",
       "Name: test_corr, dtype: float64"
      ]
     },
     "execution_count": 6,
     "metadata": {},
     "output_type": "execute_result"
    }
   ],
   "source": [
    "res.groupby('train_sample_size')['test_corr'].median()"
   ]
  },
  {
   "cell_type": "code",
   "execution_count": null,
   "id": "a06c4956",
   "metadata": {},
   "outputs": [],
   "source": []
  }
 ],
 "metadata": {
  "kernelspec": {
   "display_name": "Python [conda env:metastatic_potential]",
   "language": "python",
   "name": "conda-env-metastatic_potential-py"
  },
  "language_info": {
   "codemirror_mode": {
    "name": "ipython",
    "version": 3
   },
   "file_extension": ".py",
   "mimetype": "text/x-python",
   "name": "python",
   "nbconvert_exporter": "python",
   "pygments_lexer": "ipython3",
   "version": "3.13.0"
  }
 },
 "nbformat": 4,
 "nbformat_minor": 5
}
