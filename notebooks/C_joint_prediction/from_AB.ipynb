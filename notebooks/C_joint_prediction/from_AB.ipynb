{
 "cells": [
  {
   "cell_type": "code",
   "execution_count": 1,
   "id": "811acbdf",
   "metadata": {
    "ExecuteTime": {
     "end_time": "2025-02-14T01:24:37.314764Z",
     "start_time": "2025-02-14T01:24:34.614717Z"
    }
   },
   "outputs": [],
   "source": [
    "import pandas as pd\n",
    "import json\n",
    "import numpy as np\n",
    "from collections import Counter\n",
    "import scipy.stats\n",
    "import matplotlib.pyplot as plt\n",
    "import seaborn as sns\n",
    "from tqdm import tqdm\n",
    "pd.set_option('display.max_rows', None)"
   ]
  },
  {
   "cell_type": "markdown",
   "id": "b26c98be",
   "metadata": {
    "heading_collapsed": true
   },
   "source": [
    "## load main data"
   ]
  },
  {
   "cell_type": "code",
   "execution_count": 2,
   "id": "dc1146f6",
   "metadata": {
    "ExecuteTime": {
     "end_time": "2025-02-14T01:24:45.459255Z",
     "start_time": "2025-02-14T01:24:37.318751Z"
    },
    "hidden": true
   },
   "outputs": [
    {
     "data": {
      "text/plain": [
       "(247, 30108)"
      ]
     },
     "execution_count": 2,
     "metadata": {},
     "output_type": "execute_result"
    }
   ],
   "source": [
    "data_df = pd.read_csv(r'../Data/Unprocessed/expr_joint.csv')\n",
    "data_df.shape"
   ]
  },
  {
   "cell_type": "code",
   "execution_count": 3,
   "id": "084421f8",
   "metadata": {
    "ExecuteTime": {
     "end_time": "2025-02-14T01:24:45.491279Z",
     "start_time": "2025-02-14T01:24:45.462259Z"
    },
    "hidden": true
   },
   "outputs": [
    {
     "data": {
      "text/html": [
       "<div>\n",
       "<style scoped>\n",
       "    .dataframe tbody tr th:only-of-type {\n",
       "        vertical-align: middle;\n",
       "    }\n",
       "\n",
       "    .dataframe tbody tr th {\n",
       "        vertical-align: top;\n",
       "    }\n",
       "\n",
       "    .dataframe thead th {\n",
       "        text-align: right;\n",
       "    }\n",
       "</style>\n",
       "<table border=\"1\" class=\"dataframe\">\n",
       "  <thead>\n",
       "    <tr style=\"text-align: right;\">\n",
       "      <th></th>\n",
       "      <th>Unnamed: 0</th>\n",
       "      <th>sp|P55011|S12A2_HUMAN</th>\n",
       "      <th>sp|O60341|KDM1A_HUMAN</th>\n",
       "      <th>sp|O00570|SOX1_HUMAN</th>\n",
       "      <th>sp|P48431|SOX2_HUMAN</th>\n",
       "    </tr>\n",
       "  </thead>\n",
       "  <tbody>\n",
       "    <tr>\n",
       "      <th>0</th>\n",
       "      <td>ACH-000007</td>\n",
       "      <td>2.784515</td>\n",
       "      <td>-0.625217</td>\n",
       "      <td>-1.009702</td>\n",
       "      <td>-0.686197</td>\n",
       "    </tr>\n",
       "    <tr>\n",
       "      <th>1</th>\n",
       "      <td>ACH-000008</td>\n",
       "      <td>-0.018971</td>\n",
       "      <td>-0.076679</td>\n",
       "      <td>-0.023220</td>\n",
       "      <td>1.799710</td>\n",
       "    </tr>\n",
       "  </tbody>\n",
       "</table>\n",
       "</div>"
      ],
      "text/plain": [
       "   Unnamed: 0  sp|P55011|S12A2_HUMAN  sp|O60341|KDM1A_HUMAN  \\\n",
       "0  ACH-000007               2.784515              -0.625217   \n",
       "1  ACH-000008              -0.018971              -0.076679   \n",
       "\n",
       "   sp|O00570|SOX1_HUMAN  sp|P48431|SOX2_HUMAN  \n",
       "0             -1.009702             -0.686197  \n",
       "1             -0.023220              1.799710  "
      ]
     },
     "execution_count": 3,
     "metadata": {},
     "output_type": "execute_result"
    }
   ],
   "source": [
    "data_df.iloc[:2,:5]"
   ]
  },
  {
   "cell_type": "code",
   "execution_count": 4,
   "id": "b65a812e",
   "metadata": {
    "ExecuteTime": {
     "end_time": "2025-02-14T01:24:45.601298Z",
     "start_time": "2025-02-14T01:24:45.497255Z"
    },
    "hidden": true
   },
   "outputs": [
    {
     "name": "stdout",
     "output_type": "stream",
     "text": [
      "(19638, 3)\n"
     ]
    },
    {
     "data": {
      "text/html": [
       "<div>\n",
       "<style scoped>\n",
       "    .dataframe tbody tr th:only-of-type {\n",
       "        vertical-align: middle;\n",
       "    }\n",
       "\n",
       "    .dataframe tbody tr th {\n",
       "        vertical-align: top;\n",
       "    }\n",
       "\n",
       "    .dataframe thead th {\n",
       "        text-align: right;\n",
       "    }\n",
       "</style>\n",
       "<table border=\"1\" class=\"dataframe\">\n",
       "  <thead>\n",
       "    <tr style=\"text-align: right;\">\n",
       "      <th></th>\n",
       "      <th>Feature Name</th>\n",
       "      <th>SVM coefficient</th>\n",
       "      <th>Modality</th>\n",
       "    </tr>\n",
       "  </thead>\n",
       "  <tbody>\n",
       "    <tr>\n",
       "      <th>0</th>\n",
       "      <td>RGS2 (5997)</td>\n",
       "      <td>0.008402</td>\n",
       "      <td>Transcriptomics</td>\n",
       "    </tr>\n",
       "    <tr>\n",
       "      <th>1</th>\n",
       "      <td>MME (4311)</td>\n",
       "      <td>0.008304</td>\n",
       "      <td>Transcriptomics</td>\n",
       "    </tr>\n",
       "  </tbody>\n",
       "</table>\n",
       "</div>"
      ],
      "text/plain": [
       "  Feature Name  SVM coefficient         Modality\n",
       "0  RGS2 (5997)         0.008402  Transcriptomics\n",
       "1   MME (4311)         0.008304  Transcriptomics"
      ]
     },
     "execution_count": 4,
     "metadata": {},
     "output_type": "execute_result"
    }
   ],
   "source": [
    "ranked_fts_df = pd.read_csv(r'../Data/Unprocessed/rank_ordered_joint_features.csv').iloc[:, 1:]\n",
    "print(ranked_fts_df.shape)\n",
    "ranked_fts_df.head(2)"
   ]
  },
  {
   "cell_type": "code",
   "execution_count": 5,
   "id": "c3d5d90e",
   "metadata": {
    "ExecuteTime": {
     "end_time": "2025-02-14T01:24:45.755296Z",
     "start_time": "2025-02-14T01:24:45.604299Z"
    },
    "hidden": true
   },
   "outputs": [
    {
     "data": {
      "text/plain": [
       "(10969, 19138)"
      ]
     },
     "execution_count": 5,
     "metadata": {},
     "output_type": "execute_result"
    }
   ],
   "source": [
    "with open(r'../Data/Unprocessed/protein_cols.txt', \"r\") as file: # edit\n",
    "    protein_cols = [line.strip() for line in file]\n",
    "with open(r'../Data/Unprocessed/rna_cols.txt', \"r\") as file: # edit\n",
    "    rna_cols = [line.strip() for line in file]\n",
    "len(protein_cols), len(rna_cols)"
   ]
  },
  {
   "cell_type": "markdown",
   "id": "2f52c1cd",
   "metadata": {
    "heading_collapsed": true,
    "jp-MarkdownHeadingCollapsed": true
   },
   "source": [
    "## process feature names"
   ]
  },
  {
   "cell_type": "code",
   "execution_count": 6,
   "id": "d76b30cd",
   "metadata": {
    "ExecuteTime": {
     "end_time": "2025-02-14T01:24:45.832250Z",
     "start_time": "2025-02-14T01:24:45.758294Z"
    },
    "code_folding": [
     0,
     4
    ],
    "hidden": true
   },
   "outputs": [],
   "source": [
    "with open(r'../Data/Unprocessed/uniprot_mapper.json') as json_file: # edit\n",
    "    uid_mapper = json.load(json_file)\n",
    "    \n",
    "# manually mapped some that failed to map using uniprot ID\n",
    "manual_map = {'Q9TNN7': 'HLA-C',\n",
    "                'P16189': 'HLA-A',\n",
    "                'P30456': 'HLA-A',\n",
    "                'P30443': 'HLA-A',\n",
    "                'P05534': 'HLA-A',\n",
    "                'P18462': 'HLA-A',\n",
    "                'P01892': 'HLA-A',\n",
    "                'P13746': 'HLA-A',\n",
    "                'P01891': 'HLA-A',\n",
    "                'P30483': 'HLA-B',\n",
    "                'P30484': 'HLA-B',\n",
    "                'P03989': 'HLA-B',\n",
    "                'P30460': 'HLA-B',\n",
    "                'P30461': 'HLA-B',\n",
    "                'Q95365': 'HLA-B',\n",
    "                'P16188': 'HLA-A',\n",
    "                'Q95604': 'HLA-C',\n",
    "                'Q07000': 'HLA-C',\n",
    "                'P30499': 'HLA-C',\n",
    "                'P30501': 'HLA-C',\n",
    "                'P30504': 'HLA-C',\n",
    "                'Q95IE3': 'HLA-DRB1',\n",
    "                'P04229': 'HLA-DRB1',\n",
    "                'P20039': 'HLA-DRB1',\n",
    "                'P13760': 'HLA-DRB1',\n",
    "                'Q5Y7A7': 'HLA-DRB1',\n",
    "                'Q9GIY3': 'HLA-DRB1',\n",
    "                'Q9TQE0': 'HLA-DRB1',\n",
    "                'Q30134': 'HLA-DRB1'}"
   ]
  },
  {
   "cell_type": "code",
   "execution_count": 7,
   "id": "646762a3",
   "metadata": {
    "ExecuteTime": {
     "end_time": "2025-02-14T01:24:45.879252Z",
     "start_time": "2025-02-14T01:24:45.835253Z"
    },
    "code_folding": [],
    "hidden": true
   },
   "outputs": [],
   "source": [
    "# protein_names = [] # edit\n",
    "# test = [] # edit\n",
    "protein_names_dict = {} # edit\n",
    "for protein_id in protein_cols:\n",
    "    uniprot_id = protein_id.split('|')[1].split('-')[0]\n",
    "    if pd.isna(uid_mapper[uniprot_id]):\n",
    "        gene_name = protein_id.split('|')[-1].split('_HUMAN')[0]\n",
    "        if gene_name[0].isdigit():\n",
    "            gene_name = manual_map[uniprot_id]\n",
    "    else:\n",
    "        gene_name = uid_mapper[uniprot_id]\n",
    "#     protein_names.append(gene_name) # edit\n",
    "    protein_names_dict[protein_id] = gene_name\n",
    "    \n",
    "    rna_names_dict = {rna_id:rna_id.split(' (')[0] for rna_id in rna_cols}"
   ]
  },
  {
   "cell_type": "code",
   "execution_count": 8,
   "id": "c86f0677",
   "metadata": {
    "ExecuteTime": {
     "end_time": "2025-02-14T01:24:45.910253Z",
     "start_time": "2025-02-14T01:24:45.882252Z"
    },
    "hidden": true
   },
   "outputs": [],
   "source": [
    "rna_names_dict = {rna_id:rna_id.split(' (')[0] for rna_id in rna_cols}"
   ]
  },
  {
   "cell_type": "code",
   "execution_count": 9,
   "id": "991cd073",
   "metadata": {
    "ExecuteTime": {
     "end_time": "2025-02-14T01:24:45.956253Z",
     "start_time": "2025-02-14T01:24:45.914250Z"
    },
    "hidden": true
   },
   "outputs": [],
   "source": [
    "assert list(ranked_fts_df['Modality'].unique())==['Transcriptomics', 'Proteomics']\n",
    "ranked_fts_df['Gene Name'] = np.where(ranked_fts_df['Modality']=='Transcriptomics',\n",
    "                                 ranked_fts_df['Feature Name'].map(rna_names_dict), \n",
    "                                 ranked_fts_df['Feature Name'].map(protein_names_dict))\n",
    "assert sum(ranked_fts_df['Gene Name'].isna())==0"
   ]
  },
  {
   "cell_type": "code",
   "execution_count": 10,
   "id": "31412fd7",
   "metadata": {
    "ExecuteTime": {
     "end_time": "2025-02-14T01:24:45.987249Z",
     "start_time": "2025-02-14T01:24:45.963252Z"
    },
    "hidden": true
   },
   "outputs": [
    {
     "data": {
      "text/plain": [
       "500"
      ]
     },
     "execution_count": 10,
     "metadata": {},
     "output_type": "execute_result"
    }
   ],
   "source": [
    "# number of proteins\n",
    "len(ranked_fts_df[ranked_fts_df['Modality']=='Proteomics']['Feature Name'].to_list())"
   ]
  },
  {
   "cell_type": "code",
   "execution_count": 11,
   "id": "ddd10c3d",
   "metadata": {
    "ExecuteTime": {
     "end_time": "2025-02-14T01:24:47.654296Z",
     "start_time": "2025-02-14T01:24:45.990251Z"
    },
    "hidden": true
   },
   "outputs": [
    {
     "name": "stdout",
     "output_type": "stream",
     "text": [
      "987\n"
     ]
    },
    {
     "data": {
      "text/plain": [
       "494"
      ]
     },
     "execution_count": 11,
     "metadata": {},
     "output_type": "execute_result"
    }
   ],
   "source": [
    "# number of proteins with rna feature\n",
    "ranked_fts_subdf = ranked_fts_df.groupby('Gene Name').filter(lambda g: \n",
    "                                                      {'Transcriptomics', 'Proteomics'}.issubset(set(g['Modality'])))\n",
    "print(ranked_fts_subdf.shape[0])\n",
    "prots_in_rankedfts_w_rna = ranked_fts_subdf[ranked_fts_subdf['Modality']=='Proteomics']['Feature Name'].to_list()\n",
    "len(prots_in_rankedfts_w_rna)"
   ]
  },
  {
   "cell_type": "code",
   "execution_count": 12,
   "id": "32a044da",
   "metadata": {
    "ExecuteTime": {
     "end_time": "2025-02-14T01:24:47.669260Z",
     "start_time": "2025-02-14T01:24:47.657297Z"
    },
    "hidden": true
   },
   "outputs": [
    {
     "data": {
      "text/plain": [
       "493"
      ]
     },
     "execution_count": 12,
     "metadata": {},
     "output_type": "execute_result"
    }
   ],
   "source": [
    "ranked_fts_subdf[ranked_fts_subdf['Modality']=='Proteomics']['Gene Name'].nunique()"
   ]
  },
  {
   "cell_type": "code",
   "execution_count": 13,
   "id": "9f0d4bac",
   "metadata": {
    "ExecuteTime": {
     "end_time": "2025-02-14T01:24:47.684264Z",
     "start_time": "2025-02-14T01:24:47.673257Z"
    },
    "hidden": true
   },
   "outputs": [
    {
     "data": {
      "text/html": [
       "<div>\n",
       "<style scoped>\n",
       "    .dataframe tbody tr th:only-of-type {\n",
       "        vertical-align: middle;\n",
       "    }\n",
       "\n",
       "    .dataframe tbody tr th {\n",
       "        vertical-align: top;\n",
       "    }\n",
       "\n",
       "    .dataframe thead th {\n",
       "        text-align: right;\n",
       "    }\n",
       "</style>\n",
       "<table border=\"1\" class=\"dataframe\">\n",
       "  <thead>\n",
       "    <tr style=\"text-align: right;\">\n",
       "      <th></th>\n",
       "      <th>Feature Name</th>\n",
       "      <th>SVM coefficient</th>\n",
       "      <th>Modality</th>\n",
       "      <th>Gene Name</th>\n",
       "    </tr>\n",
       "  </thead>\n",
       "  <tbody>\n",
       "    <tr>\n",
       "      <th>3347</th>\n",
       "      <td>sp|P07951|TPM2_HUMAN</td>\n",
       "      <td>-0.001350</td>\n",
       "      <td>Proteomics</td>\n",
       "      <td>TPM2</td>\n",
       "    </tr>\n",
       "    <tr>\n",
       "      <th>4711</th>\n",
       "      <td>sp|P07951-2|TPM2_HUMAN</td>\n",
       "      <td>0.001099</td>\n",
       "      <td>Proteomics</td>\n",
       "      <td>TPM2</td>\n",
       "    </tr>\n",
       "  </tbody>\n",
       "</table>\n",
       "</div>"
      ],
      "text/plain": [
       "                Feature Name  SVM coefficient    Modality Gene Name\n",
       "3347    sp|P07951|TPM2_HUMAN        -0.001350  Proteomics      TPM2\n",
       "4711  sp|P07951-2|TPM2_HUMAN         0.001099  Proteomics      TPM2"
      ]
     },
     "execution_count": 13,
     "metadata": {},
     "output_type": "execute_result"
    }
   ],
   "source": [
    "# (2*493) + 1, bc 1 gene has 2 prots\n",
    "ranked_fts_prot_subdf = ranked_fts_subdf[ranked_fts_subdf['Modality']=='Proteomics']\n",
    "ranked_fts_prot_subdf[ranked_fts_prot_subdf.duplicated(subset=['Modality', 'Gene Name'], keep=False)]"
   ]
  },
  {
   "cell_type": "code",
   "execution_count": 14,
   "id": "58231d3f",
   "metadata": {
    "ExecuteTime": {
     "end_time": "2025-02-14T01:24:47.716280Z",
     "start_time": "2025-02-14T01:24:47.687295Z"
    },
    "hidden": true
   },
   "outputs": [
    {
     "data": {
      "text/html": [
       "<div>\n",
       "<style scoped>\n",
       "    .dataframe tbody tr th:only-of-type {\n",
       "        vertical-align: middle;\n",
       "    }\n",
       "\n",
       "    .dataframe tbody tr th {\n",
       "        vertical-align: top;\n",
       "    }\n",
       "\n",
       "    .dataframe thead th {\n",
       "        text-align: right;\n",
       "    }\n",
       "</style>\n",
       "<table border=\"1\" class=\"dataframe\">\n",
       "  <thead>\n",
       "    <tr style=\"text-align: right;\">\n",
       "      <th></th>\n",
       "      <th>Feature Name</th>\n",
       "      <th>SVM coefficient</th>\n",
       "      <th>Modality</th>\n",
       "      <th>Gene Name</th>\n",
       "    </tr>\n",
       "  </thead>\n",
       "  <tbody>\n",
       "    <tr>\n",
       "      <th>3347</th>\n",
       "      <td>sp|P07951|TPM2_HUMAN</td>\n",
       "      <td>-0.001350</td>\n",
       "      <td>Proteomics</td>\n",
       "      <td>TPM2</td>\n",
       "    </tr>\n",
       "    <tr>\n",
       "      <th>4711</th>\n",
       "      <td>sp|P07951-2|TPM2_HUMAN</td>\n",
       "      <td>0.001099</td>\n",
       "      <td>Proteomics</td>\n",
       "      <td>TPM2</td>\n",
       "    </tr>\n",
       "    <tr>\n",
       "      <th>14888</th>\n",
       "      <td>TPM2 (7169)</td>\n",
       "      <td>-0.000193</td>\n",
       "      <td>Transcriptomics</td>\n",
       "      <td>TPM2</td>\n",
       "    </tr>\n",
       "  </tbody>\n",
       "</table>\n",
       "</div>"
      ],
      "text/plain": [
       "                 Feature Name  SVM coefficient         Modality Gene Name\n",
       "3347     sp|P07951|TPM2_HUMAN        -0.001350       Proteomics      TPM2\n",
       "4711   sp|P07951-2|TPM2_HUMAN         0.001099       Proteomics      TPM2\n",
       "14888             TPM2 (7169)        -0.000193  Transcriptomics      TPM2"
      ]
     },
     "execution_count": 14,
     "metadata": {},
     "output_type": "execute_result"
    }
   ],
   "source": [
    "ranked_fts_df[ranked_fts_df['Gene Name']=='TPM2']\n",
    "# below: since transcript is not in top_n rank until after both proteins, \n",
    "    # only encountered scenarios includes both pairs being in non-overlapping or overlapping set (feeding into that mean)"
   ]
  },
  {
   "cell_type": "markdown",
   "id": "4921a692",
   "metadata": {},
   "source": [
    "## calculate same gene correlations for protein genes"
   ]
  },
  {
   "cell_type": "code",
   "execution_count": 15,
   "id": "f2129cb7",
   "metadata": {
    "ExecuteTime": {
     "end_time": "2025-02-14T01:24:47.732258Z",
     "start_time": "2025-02-14T01:24:47.720278Z"
    },
    "code_folding": [
     1
    ]
   },
   "outputs": [],
   "source": [
    "def calc_corr(values_df, ft1, ft2, corr_type):\n",
    "    if corr_type=='pearson':\n",
    "        r, p = scipy.stats.pearsonr(values_df.loc[:,ft1].values, values_df.loc[:,ft2].values)\n",
    "    elif corr_type=='spearman':\n",
    "        r, p = scipy.stats.spearmanr(values_df.loc[:,ft1].values, values_df.loc[:,ft2].values)\n",
    "    else: raise('choose pearson or spearman')\n",
    "    return r,p"
   ]
  },
  {
   "cell_type": "markdown",
   "id": "51748b0a",
   "metadata": {
    "heading_collapsed": true
   },
   "source": [
    "### pearson"
   ]
  },
  {
   "cell_type": "code",
   "execution_count": 16,
   "id": "0d820703",
   "metadata": {
    "ExecuteTime": {
     "end_time": "2025-02-14T01:24:50.859297Z",
     "start_time": "2025-02-14T01:24:47.736276Z"
    },
    "code_folding": [],
    "hidden": true
   },
   "outputs": [
    {
     "name": "stderr",
     "output_type": "stream",
     "text": [
      "100%|███████████████████████████████████████████████████████████████████████████████| 494/494 [00:03<00:00, 160.24it/s]\n"
     ]
    },
    {
     "data": {
      "text/plain": [
       "(494, 4)"
      ]
     },
     "execution_count": 16,
     "metadata": {},
     "output_type": "execute_result"
    }
   ],
   "source": [
    "pearson_corr_df = pd.DataFrame(columns=['prot_ft', 'rna_ft', 'r', 'p'])\n",
    "for prot_ft in tqdm(prots_in_rankedfts_w_rna):\n",
    "    rna_df = ranked_fts_df[(ranked_fts_df['Gene Name']==protein_names_dict[prot_ft]) & \n",
    "                           (ranked_fts_df['Modality']=='Transcriptomics')]\n",
    "    assert rna_df.shape[0]==1\n",
    "    rna_ft = rna_df['Feature Name'].values[0]\n",
    "    r, p = calc_corr(values_df=data_df, ft1=prot_ft, ft2=rna_ft, corr_type='pearson')\n",
    "    new_row = pd.DataFrame({'prot_ft': [prot_ft],  'rna_ft':[rna_ft], 'r': [r], 'p': [p]})\n",
    "    pearson_corr_df = pd.concat([pearson_corr_df, new_row], ignore_index=True)\n",
    "pearson_corr_df.shape"
   ]
  },
  {
   "cell_type": "code",
   "execution_count": 17,
   "id": "638e389d",
   "metadata": {
    "ExecuteTime": {
     "end_time": "2025-02-14T01:24:50.891297Z",
     "start_time": "2025-02-14T01:24:50.861293Z"
    },
    "hidden": true
   },
   "outputs": [],
   "source": [
    "pearson_corr_df['Gene Name'] = pearson_corr_df['rna_ft'].map(rna_names_dict)"
   ]
  },
  {
   "cell_type": "code",
   "execution_count": 18,
   "id": "1095f0a8",
   "metadata": {
    "ExecuteTime": {
     "end_time": "2025-02-14T01:24:50.921300Z",
     "start_time": "2025-02-14T01:24:50.895267Z"
    },
    "hidden": true,
    "scrolled": true
   },
   "outputs": [
    {
     "data": {
      "text/html": [
       "<div>\n",
       "<style scoped>\n",
       "    .dataframe tbody tr th:only-of-type {\n",
       "        vertical-align: middle;\n",
       "    }\n",
       "\n",
       "    .dataframe tbody tr th {\n",
       "        vertical-align: top;\n",
       "    }\n",
       "\n",
       "    .dataframe thead th {\n",
       "        text-align: right;\n",
       "    }\n",
       "</style>\n",
       "<table border=\"1\" class=\"dataframe\">\n",
       "  <thead>\n",
       "    <tr style=\"text-align: right;\">\n",
       "      <th></th>\n",
       "      <th>prot_ft</th>\n",
       "      <th>rna_ft</th>\n",
       "      <th>r</th>\n",
       "      <th>p</th>\n",
       "      <th>Gene Name</th>\n",
       "    </tr>\n",
       "  </thead>\n",
       "  <tbody>\n",
       "    <tr>\n",
       "      <th>0</th>\n",
       "      <td>sp|P04792|HSPB1_HUMAN</td>\n",
       "      <td>HSPB1 (3315)</td>\n",
       "      <td>0.716928</td>\n",
       "      <td>2.912173e-40</td>\n",
       "      <td>HSPB1</td>\n",
       "    </tr>\n",
       "    <tr>\n",
       "      <th>1</th>\n",
       "      <td>sp|P27487|DPP4_HUMAN</td>\n",
       "      <td>DPP4 (1803)</td>\n",
       "      <td>0.870572</td>\n",
       "      <td>2.027148e-77</td>\n",
       "      <td>DPP4</td>\n",
       "    </tr>\n",
       "    <tr>\n",
       "      <th>2</th>\n",
       "      <td>sp|P00750|TPA_HUMAN</td>\n",
       "      <td>PLAT (5327)</td>\n",
       "      <td>0.778066</td>\n",
       "      <td>2.217055e-51</td>\n",
       "      <td>PLAT</td>\n",
       "    </tr>\n",
       "    <tr>\n",
       "      <th>3</th>\n",
       "      <td>sp|Q29983|MICA_HUMAN</td>\n",
       "      <td>MICA (100507436)</td>\n",
       "      <td>0.420408</td>\n",
       "      <td>5.352116e-12</td>\n",
       "      <td>MICA</td>\n",
       "    </tr>\n",
       "    <tr>\n",
       "      <th>4</th>\n",
       "      <td>sp|O94875-11|SRBS2_HUMAN</td>\n",
       "      <td>SORBS2 (8470)</td>\n",
       "      <td>0.776549</td>\n",
       "      <td>4.609672e-51</td>\n",
       "      <td>SORBS2</td>\n",
       "    </tr>\n",
       "  </tbody>\n",
       "</table>\n",
       "</div>"
      ],
      "text/plain": [
       "                    prot_ft            rna_ft         r             p  \\\n",
       "0     sp|P04792|HSPB1_HUMAN      HSPB1 (3315)  0.716928  2.912173e-40   \n",
       "1      sp|P27487|DPP4_HUMAN       DPP4 (1803)  0.870572  2.027148e-77   \n",
       "2       sp|P00750|TPA_HUMAN       PLAT (5327)  0.778066  2.217055e-51   \n",
       "3      sp|Q29983|MICA_HUMAN  MICA (100507436)  0.420408  5.352116e-12   \n",
       "4  sp|O94875-11|SRBS2_HUMAN     SORBS2 (8470)  0.776549  4.609672e-51   \n",
       "\n",
       "  Gene Name  \n",
       "0     HSPB1  \n",
       "1      DPP4  \n",
       "2      PLAT  \n",
       "3      MICA  \n",
       "4    SORBS2  "
      ]
     },
     "execution_count": 18,
     "metadata": {},
     "output_type": "execute_result"
    }
   ],
   "source": [
    "pearson_corr_df.head()"
   ]
  },
  {
   "cell_type": "code",
   "execution_count": null,
   "id": "14e13c33",
   "metadata": {
    "ExecuteTime": {
     "end_time": "2025-02-14T01:30:39.344344Z",
     "start_time": "2025-02-14T01:30:39.344344Z"
    },
    "hidden": true
   },
   "outputs": [],
   "source": [
    "# pearson_corr_df.to_csv(r'..\\Data\\Processed\\SameGenePearsonCorr.csv', index=False)"
   ]
  },
  {
   "cell_type": "markdown",
   "id": "021fe493",
   "metadata": {
    "heading_collapsed": true
   },
   "source": [
    "### spearman"
   ]
  },
  {
   "cell_type": "code",
   "execution_count": 20,
   "id": "2225ede0",
   "metadata": {
    "ExecuteTime": {
     "end_time": "2025-02-14T01:24:53.958280Z",
     "start_time": "2025-02-14T01:24:50.940256Z"
    },
    "code_folding": [],
    "hidden": true
   },
   "outputs": [
    {
     "name": "stderr",
     "output_type": "stream",
     "text": [
      "100%|███████████████████████████████████████████████████████████████████████████████| 494/494 [00:03<00:00, 164.56it/s]\n"
     ]
    },
    {
     "data": {
      "text/plain": [
       "(494, 4)"
      ]
     },
     "execution_count": 20,
     "metadata": {},
     "output_type": "execute_result"
    }
   ],
   "source": [
    "spearman_corr_df = pd.DataFrame(columns=['prot_ft', 'rna_ft', 'r', 'p'])\n",
    "for prot_ft in tqdm(prots_in_rankedfts_w_rna):\n",
    "    rna_df = ranked_fts_df[(ranked_fts_df['Gene Name']==protein_names_dict[prot_ft]) & \n",
    "                           (ranked_fts_df['Modality']=='Transcriptomics')]\n",
    "    assert rna_df.shape[0]==1\n",
    "    rna_ft = rna_df['Feature Name'].values[0]\n",
    "    r, p = calc_corr(values_df=data_df, ft1=prot_ft, ft2=rna_ft, corr_type='spearman')\n",
    "    new_row = pd.DataFrame({'prot_ft': [prot_ft],  'rna_ft':[rna_ft], 'r': [r], 'p': [p]})\n",
    "    spearman_corr_df = pd.concat([spearman_corr_df, new_row], ignore_index=True)\n",
    "spearman_corr_df.shape"
   ]
  },
  {
   "cell_type": "code",
   "execution_count": 21,
   "id": "c76e627b",
   "metadata": {
    "ExecuteTime": {
     "end_time": "2025-02-14T01:24:53.974298Z",
     "start_time": "2025-02-14T01:24:53.960279Z"
    },
    "hidden": true
   },
   "outputs": [],
   "source": [
    "spearman_corr_df['Gene Name'] = spearman_corr_df['rna_ft'].map(rna_names_dict)"
   ]
  },
  {
   "cell_type": "code",
   "execution_count": 22,
   "id": "3e244775",
   "metadata": {
    "ExecuteTime": {
     "end_time": "2025-02-14T01:24:53.990295Z",
     "start_time": "2025-02-14T01:24:53.976294Z"
    },
    "hidden": true,
    "scrolled": true
   },
   "outputs": [
    {
     "data": {
      "text/html": [
       "<div>\n",
       "<style scoped>\n",
       "    .dataframe tbody tr th:only-of-type {\n",
       "        vertical-align: middle;\n",
       "    }\n",
       "\n",
       "    .dataframe tbody tr th {\n",
       "        vertical-align: top;\n",
       "    }\n",
       "\n",
       "    .dataframe thead th {\n",
       "        text-align: right;\n",
       "    }\n",
       "</style>\n",
       "<table border=\"1\" class=\"dataframe\">\n",
       "  <thead>\n",
       "    <tr style=\"text-align: right;\">\n",
       "      <th></th>\n",
       "      <th>prot_ft</th>\n",
       "      <th>rna_ft</th>\n",
       "      <th>r</th>\n",
       "      <th>p</th>\n",
       "      <th>Gene Name</th>\n",
       "    </tr>\n",
       "  </thead>\n",
       "  <tbody>\n",
       "    <tr>\n",
       "      <th>0</th>\n",
       "      <td>sp|P04792|HSPB1_HUMAN</td>\n",
       "      <td>HSPB1 (3315)</td>\n",
       "      <td>0.722974</td>\n",
       "      <td>3.155940e-41</td>\n",
       "      <td>HSPB1</td>\n",
       "    </tr>\n",
       "    <tr>\n",
       "      <th>1</th>\n",
       "      <td>sp|P27487|DPP4_HUMAN</td>\n",
       "      <td>DPP4 (1803)</td>\n",
       "      <td>0.744633</td>\n",
       "      <td>6.605948e-45</td>\n",
       "      <td>DPP4</td>\n",
       "    </tr>\n",
       "    <tr>\n",
       "      <th>2</th>\n",
       "      <td>sp|P00750|TPA_HUMAN</td>\n",
       "      <td>PLAT (5327)</td>\n",
       "      <td>0.732360</td>\n",
       "      <td>8.890638e-43</td>\n",
       "      <td>PLAT</td>\n",
       "    </tr>\n",
       "    <tr>\n",
       "      <th>3</th>\n",
       "      <td>sp|Q29983|MICA_HUMAN</td>\n",
       "      <td>MICA (100507436)</td>\n",
       "      <td>0.413640</td>\n",
       "      <td>1.255344e-11</td>\n",
       "      <td>MICA</td>\n",
       "    </tr>\n",
       "    <tr>\n",
       "      <th>4</th>\n",
       "      <td>sp|O94875-11|SRBS2_HUMAN</td>\n",
       "      <td>SORBS2 (8470)</td>\n",
       "      <td>0.798185</td>\n",
       "      <td>7.547026e-56</td>\n",
       "      <td>SORBS2</td>\n",
       "    </tr>\n",
       "  </tbody>\n",
       "</table>\n",
       "</div>"
      ],
      "text/plain": [
       "                    prot_ft            rna_ft         r             p  \\\n",
       "0     sp|P04792|HSPB1_HUMAN      HSPB1 (3315)  0.722974  3.155940e-41   \n",
       "1      sp|P27487|DPP4_HUMAN       DPP4 (1803)  0.744633  6.605948e-45   \n",
       "2       sp|P00750|TPA_HUMAN       PLAT (5327)  0.732360  8.890638e-43   \n",
       "3      sp|Q29983|MICA_HUMAN  MICA (100507436)  0.413640  1.255344e-11   \n",
       "4  sp|O94875-11|SRBS2_HUMAN     SORBS2 (8470)  0.798185  7.547026e-56   \n",
       "\n",
       "  Gene Name  \n",
       "0     HSPB1  \n",
       "1      DPP4  \n",
       "2      PLAT  \n",
       "3      MICA  \n",
       "4    SORBS2  "
      ]
     },
     "execution_count": 22,
     "metadata": {},
     "output_type": "execute_result"
    }
   ],
   "source": [
    "spearman_corr_df.head()"
   ]
  },
  {
   "cell_type": "code",
   "execution_count": null,
   "id": "efdc09f3",
   "metadata": {
    "ExecuteTime": {
     "end_time": "2025-02-14T01:30:39.346346Z",
     "start_time": "2025-02-14T01:30:39.346346Z"
    },
    "hidden": true
   },
   "outputs": [],
   "source": [
    "# spearman_corr_df.to_csv(r'..\\Data\\Processed\\SameGeneSpearmanCorr.csv', index=False)"
   ]
  },
  {
   "cell_type": "markdown",
   "id": "87bf792d",
   "metadata": {
    "heading_collapsed": true
   },
   "source": [
    "### partial - see R code"
   ]
  },
  {
   "cell_type": "markdown",
   "id": "f79abc77",
   "metadata": {},
   "source": [
    "## calculate mean correlations split by overlapping vs not"
   ]
  },
  {
   "cell_type": "code",
   "execution_count": 24,
   "id": "ebdadafd",
   "metadata": {
    "ExecuteTime": {
     "end_time": "2025-02-14T01:24:54.038279Z",
     "start_time": "2025-02-14T01:24:54.010263Z"
    },
    "code_folding": [
     0
    ]
   },
   "outputs": [],
   "source": [
    "def calc_overlapping_vs_not_mean_correlations(top_n, cor_df, cor_col):\n",
    "    top_n_fts_df = ranked_fts_df.iloc[:top_n, :]\n",
    "    \n",
    "    rna_genes = set(top_n_fts_df[top_n_fts_df['Modality'] == 'Transcriptomics']['Gene Name'])\n",
    "    protein_genes = set(top_n_fts_df[top_n_fts_df['Modality'] == 'Proteomics']['Gene Name'])\n",
    "    \n",
    "    common_genes = protein_genes.intersection(rna_genes)\n",
    "    only_prot_genes = protein_genes.difference(rna_genes)\n",
    "    \n",
    "    numb_overlapping_genes = len(common_genes)\n",
    "    numb_nonoverlapping_genes = len(only_prot_genes)\n",
    "    \n",
    "    overlapping_cor_df = cor_df[cor_df['Gene Name'].isin(common_genes)]\n",
    "    nonoverlapping_cor_df = cor_df[cor_df['Gene Name'].isin(only_prot_genes)]\n",
    "    \n",
    "    if overlapping_cor_df.shape[0]>0:\n",
    "        mean_overlapping_cor = overlapping_cor_df[cor_col].mean()\n",
    "    else: \n",
    "        mean_overlapping_cor = np.nan\n",
    "    if nonoverlapping_cor_df.shape[0]>0:\n",
    "        mean_nonoverlapping_cor = nonoverlapping_cor_df[cor_col].mean()\n",
    "    else: \n",
    "        mean_nonoverlapping_cor = np.nan\n",
    "    return top_n, numb_overlapping_genes, mean_overlapping_cor, numb_nonoverlapping_genes, mean_nonoverlapping_cor"
   ]
  },
  {
   "cell_type": "code",
   "execution_count": 25,
   "id": "80e25661",
   "metadata": {
    "ExecuteTime": {
     "end_time": "2025-02-14T01:27:43.656815Z",
     "start_time": "2025-02-14T01:24:54.041252Z"
    },
    "code_folding": []
   },
   "outputs": [
    {
     "name": "stderr",
     "output_type": "stream",
     "text": [
      "100%|███████████████████████████████████████████████████████████████████████████| 19638/19638 [02:49<00:00, 115.80it/s]\n"
     ]
    },
    {
     "data": {
      "text/plain": [
       "(19638, 5)"
      ]
     },
     "execution_count": 25,
     "metadata": {},
     "output_type": "execute_result"
    }
   ],
   "source": [
    "ranked_split_mean_pearson_corr_df = pd.DataFrame(columns=['Feature Rank', \n",
    "                                                          'Number of Overlapping Genes', \n",
    "                                                          'Overlapping Mean Pearson Correlation', \n",
    "                                                          'Number of Non-overlapping Genes',\n",
    "                                                          'Non-overlapping Mean Pearson Correlation'])\n",
    "\n",
    "for rank in tqdm(range(1, ranked_fts_df.shape[0]+1)):\n",
    "    top_n, numb_o_genes, mean_o_cor, numb_no_genes, mean_no_cor = calc_overlapping_vs_not_mean_correlations(\n",
    "                                                                        top_n=rank, cor_df=pearson_corr_df, cor_col='r') \n",
    "    ranked_split_mean_pearson_corr_df = pd.concat([ranked_split_mean_pearson_corr_df, \n",
    "                                                   pd.DataFrame(\n",
    "                                                       [[top_n, numb_o_genes, mean_o_cor, numb_no_genes, mean_no_cor]], \n",
    "                                                        columns=ranked_split_mean_pearson_corr_df.columns)], \n",
    "                                                   ignore_index=True)\n",
    "ranked_split_mean_pearson_corr_df.shape"
   ]
  },
  {
   "cell_type": "code",
   "execution_count": 26,
   "id": "b296aa67",
   "metadata": {
    "ExecuteTime": {
     "end_time": "2025-02-14T01:27:43.874853Z",
     "start_time": "2025-02-14T01:27:43.660852Z"
    }
   },
   "outputs": [],
   "source": [
    "# ranked_split_mean_pearson_corr_df.to_csv(r'..\\Data\\Processed\\SameGeneSplitMeanPearsonCorr.csv', index=False)"
   ]
  },
  {
   "cell_type": "code",
   "execution_count": 27,
   "id": "e18c6d09",
   "metadata": {
    "ExecuteTime": {
     "end_time": "2025-02-14T01:30:37.242370Z",
     "start_time": "2025-02-14T01:27:43.876818Z"
    },
    "code_folding": [
     0
    ]
   },
   "outputs": [
    {
     "name": "stderr",
     "output_type": "stream",
     "text": [
      "100%|███████████████████████████████████████████████████████████████████████████| 19638/19638 [02:53<00:00, 113.29it/s]\n"
     ]
    },
    {
     "data": {
      "text/plain": [
       "(19638, 5)"
      ]
     },
     "execution_count": 27,
     "metadata": {},
     "output_type": "execute_result"
    }
   ],
   "source": [
    "ranked_split_mean_spearman_corr_df = pd.DataFrame(columns=['Feature Rank', \n",
    "                                                          'Number of Overlapping Genes', \n",
    "                                                          'Overlapping Mean Spearman Correlation', \n",
    "                                                          'Number of Non-overlapping Genes',\n",
    "                                                          'Non-overlapping Mean Spearman Correlation'])\n",
    "\n",
    "for rank in tqdm(range(1, ranked_fts_df.shape[0]+1)):\n",
    "    top_n, numb_o_genes, mean_o_cor, numb_no_genes, mean_no_cor = calc_overlapping_vs_not_mean_correlations(\n",
    "                                                                        top_n=rank, cor_df=spearman_corr_df, cor_col='r') \n",
    "    ranked_split_mean_spearman_corr_df = pd.concat([ranked_split_mean_spearman_corr_df, \n",
    "                                                   pd.DataFrame(\n",
    "                                                       [[top_n, numb_o_genes, mean_o_cor, numb_no_genes, mean_no_cor]], \n",
    "                                                        columns=ranked_split_mean_spearman_corr_df.columns)], \n",
    "                                                   ignore_index=True)\n",
    "ranked_split_mean_spearman_corr_df.shape"
   ]
  },
  {
   "cell_type": "code",
   "execution_count": 29,
   "id": "f4dfbe50",
   "metadata": {
    "ExecuteTime": {
     "end_time": "2025-02-14T01:31:01.523390Z",
     "start_time": "2025-02-14T01:31:01.285394Z"
    }
   },
   "outputs": [],
   "source": [
    "# ranked_split_mean_spearman_corr_df.to_csv(r'..\\Data\\Processed\\SameGeneSplitMeanSpearmanCorr.csv', index=False)"
   ]
  },
  {
   "cell_type": "markdown",
   "id": "18a24a38",
   "metadata": {},
   "source": [
    "### visualize"
   ]
  },
  {
   "cell_type": "markdown",
   "id": "380449e8",
   "metadata": {},
   "source": [
    "#### pearson"
   ]
  },
  {
   "cell_type": "code",
   "execution_count": 32,
   "id": "caad76fe",
   "metadata": {
    "ExecuteTime": {
     "end_time": "2025-02-14T01:31:24.175507Z",
     "start_time": "2025-02-14T01:31:21.634821Z"
    }
   },
   "outputs": [
    {
     "data": {
      "image/png": "[encoded data removed]",
      "text/plain": [
       "<Figure size 600x500 with 1 Axes>"
      ]
     },
     "metadata": {},
     "output_type": "display_data"
    }
   ],
   "source": [
    "fig, ax = plt.subplots(figsize = (6,5))\n",
    "sns.lineplot(data = ranked_split_mean_pearson_corr_df, x = 'Feature Rank', y = 'Overlapping Mean Pearson Correlation',\n",
    "             color='green', label='Overlapping Genes')\n",
    "sns.lineplot(data = ranked_split_mean_pearson_corr_df, x = 'Feature Rank', y = 'Non-overlapping Mean Pearson Correlation', \n",
    "             color='purple', label='Non-overlapping Genes')\n",
    "ax.axvline(x=500, color='red', linestyle='--', label='Rank=500')\n",
    "ax.set_ylabel('Mean Pearson Correlation')\n",
    "ax.set_xscale('log')\n",
    "ax.legend()\n",
    "# fig.savefig('..\\Figures\\SameGeneSplitMeanPearsonCorr_lines.png', dpi=300, bbox_inches=\"tight\");"
   ]
  },
  {
   "cell_type": "code",
   "execution_count": null,
   "id": "84945c54",
   "metadata": {
    "ExecuteTime": {
     "end_time": "2025-02-14T01:31:10.375671Z",
     "start_time": "2025-02-14T01:31:10.375671Z"
    }
   },
   "outputs": [],
   "source": [
    "fig, ax = plt.subplots(figsize = (6,5))\n",
    "sns.lineplot(data = ranked_split_mean_pearson_corr_df, x = 'Feature Rank', y = 'Number of Overlapping Genes',\n",
    "             color='green', label='Overlapping Genes')\n",
    "sns.lineplot(data = ranked_split_mean_pearson_corr_df, x = 'Feature Rank', y = 'Number of Non-overlapping Genes', \n",
    "             color='purple', label='Non-overlapping Genes')\n",
    "ax.axvline(x=500, color='red', linestyle='--', label='Rank=500')\n",
    "ax.set_ylabel('Number of Genes')\n",
    "ax.set_xscale('log')\n",
    "ax.legend();"
   ]
  },
  {
   "cell_type": "code",
   "execution_count": 33,
   "id": "ef17183a",
   "metadata": {
    "ExecuteTime": {
     "end_time": "2025-02-14T01:31:56.358743Z",
     "start_time": "2025-02-14T01:31:54.476163Z"
    }
   },
   "outputs": [
    {
     "data": {
      "image/png": "[encoded data removed]",
      "text/plain": [
       "<Figure size 700x500 with 1 Axes>"
      ]
     },
     "metadata": {},
     "output_type": "display_data"
    }
   ],
   "source": [
    "ranked_split_mean_pearson_corr_df['Difference'] = ranked_split_mean_pearson_corr_df[\n",
    "    'Overlapping Mean Pearson Correlation'] - ranked_split_mean_pearson_corr_df['Non-overlapping Mean Pearson Correlation']\n",
    "ranked_split_mean_pearson_corr_df['Normalized Difference'\n",
    "                ] = ranked_split_mean_pearson_corr_df.Difference / ranked_split_mean_pearson_corr_df['Difference'].mean()\n",
    "\n",
    "fig, ax = plt.subplots(figsize = (7,5))\n",
    "sns.lineplot(data = ranked_split_mean_pearson_corr_df, x = 'Feature Rank', y = 'Normalized Difference')\n",
    "\n",
    "xmin, xmax = ax.get_xlim()\n",
    "ymin, ymax = ax.get_ylim()\n",
    "ax.hlines(1, xmin = xmin, xmax = xmax, color = 'gray', linestyle = '--')\n",
    "ax.vlines(500, ymin = ymin, ymax = ymax, color = 'red', linestyle = '--')\n",
    "ax.set_xscale('log')\n",
    "ax.set_ylim(ymin, ymax)\n",
    "# fig.savefig('..\\Figures\\SameGeneNormalizedDiffPearsonCorr_lines.png', dpi=300, bbox_inches=\"tight\");"
   ]
  },
  {
   "cell_type": "markdown",
   "id": "7aca46e5",
   "metadata": {},
   "source": [
    "#### spearman"
   ]
  },
  {
   "cell_type": "code",
   "execution_count": 35,
   "id": "6446dc21",
   "metadata": {
    "ExecuteTime": {
     "end_time": "2025-02-14T01:32:04.188233Z",
     "start_time": "2025-02-14T01:32:01.546236Z"
    }
   },
   "outputs": [
    {
     "data": {
      "image/png": "[encoded data removed]",
      "text/plain": [
       "<Figure size 600x500 with 1 Axes>"
      ]
     },
     "metadata": {},
     "output_type": "display_data"
    }
   ],
   "source": [
    "fig, ax = plt.subplots(figsize = (6,5))\n",
    "sns.lineplot(data = ranked_split_mean_spearman_corr_df, x = 'Feature Rank', y = 'Overlapping Mean Spearman Correlation',\n",
    "             color='green', label='Overlapping Genes')\n",
    "sns.lineplot(data = ranked_split_mean_spearman_corr_df, x = 'Feature Rank', y = 'Non-overlapping Mean Spearman Correlation', \n",
    "             color='purple', label='Non-overlapping Genes')\n",
    "ax.axvline(x=500, color='red', linestyle='--', label='Rank=500')\n",
    "ax.set_ylabel('Mean Pearson Correlation')\n",
    "ax.set_xscale('log')\n",
    "ax.legend()\n",
    "# fig.savefig('..\\Figures\\SameGeneSplitMeanSpearmanCorr_lines.png', dpi=300, bbox_inches=\"tight\");"
   ]
  },
  {
   "cell_type": "code",
   "execution_count": 36,
   "id": "57fa1cd9",
   "metadata": {
    "ExecuteTime": {
     "end_time": "2025-02-14T01:32:05.902360Z",
     "start_time": "2025-02-14T01:32:04.361321Z"
    }
   },
   "outputs": [
    {
     "data": {
      "image/png": "[encoded data removed]",
      "text/plain": [
       "<Figure size 700x500 with 1 Axes>"
      ]
     },
     "metadata": {},
     "output_type": "display_data"
    }
   ],
   "source": [
    "ranked_split_mean_spearman_corr_df['Difference'] = ranked_split_mean_spearman_corr_df[\n",
    "    'Overlapping Mean Spearman Correlation'] - ranked_split_mean_spearman_corr_df['Non-overlapping Mean Spearman Correlation']\n",
    "ranked_split_mean_spearman_corr_df['Normalized Difference'\n",
    "                ] = ranked_split_mean_spearman_corr_df.Difference / ranked_split_mean_spearman_corr_df['Difference'].mean()\n",
    "\n",
    "fig, ax = plt.subplots(figsize = (7,5))\n",
    "sns.lineplot(data = ranked_split_mean_spearman_corr_df, x = 'Feature Rank', y = 'Normalized Difference')\n",
    "\n",
    "xmin, xmax = ax.get_xlim()\n",
    "ymin, ymax = ax.get_ylim()\n",
    "ax.hlines(1, xmin = xmin, xmax = xmax, color = 'gray', linestyle = '--')\n",
    "ax.vlines(500, ymin = ymin, ymax = ymax, color = 'red', linestyle = '--')\n",
    "ax.set_xscale('log')\n",
    "ax.set_ylim(ymin, ymax)\n",
    "# fig.savefig('..\\Figures\\SameGeneNormalizedDiffSpearmanCorr_lines.png', dpi=300, bbox_inches=\"tight\");"
   ]
  },
  {
   "cell_type": "markdown",
   "id": "02e7bf08",
   "metadata": {},
   "source": [
    "#### partial"
   ]
  },
  {
   "cell_type": "code",
   "execution_count": null,
   "id": "ece281c2",
   "metadata": {},
   "outputs": [],
   "source": []
  },
  {
   "cell_type": "code",
   "execution_count": 31,
   "id": "b804f272",
   "metadata": {
    "ExecuteTime": {
     "end_time": "2025-02-14T01:31:10.570842Z",
     "start_time": "2025-02-14T01:31:10.559841Z"
    }
   },
   "outputs": [],
   "source": [
    "# set to 0 if not sig & leave as is"
   ]
  },
  {
   "cell_type": "markdown",
   "id": "6568d1b5",
   "metadata": {},
   "source": [
    "## calculate mean correlations without splitting"
   ]
  },
  {
   "cell_type": "code",
   "execution_count": 37,
   "id": "10034b06",
   "metadata": {
    "ExecuteTime": {
     "end_time": "2025-02-14T01:32:29.099974Z",
     "start_time": "2025-02-14T01:32:29.081971Z"
    },
    "code_folding": []
   },
   "outputs": [],
   "source": [
    "def calc_overall_mean_correlations(top_n, cor_df, cor_col):\n",
    "    top_n_fts_df = ranked_fts_df.iloc[:top_n, :]\n",
    "    \n",
    "    protein_fts = set(top_n_fts_df[top_n_fts_df['Modality'] == 'Proteomics']['Feature Name'])\n",
    "    \n",
    "    sub_cor_df = cor_df[cor_df['prot_ft'].isin(protein_fts)]\n",
    "                        \n",
    "    if sub_cor_df.shape[0]>0:\n",
    "        mean_cor = sub_cor_df[cor_col].mean()\n",
    "    else: \n",
    "        mean_cor = np.nan\n",
    "    \n",
    "    return top_n,  mean_cor"
   ]
  },
  {
   "cell_type": "code",
   "execution_count": 38,
   "id": "2fc4a5d7",
   "metadata": {
    "ExecuteTime": {
     "end_time": "2025-02-14T01:33:28.497261Z",
     "start_time": "2025-02-14T01:32:31.333784Z"
    },
    "code_folding": []
   },
   "outputs": [
    {
     "name": "stderr",
     "output_type": "stream",
     "text": [
      "100%|███████████████████████████████████████████████████████████████████████████| 19638/19638 [00:57<00:00, 343.67it/s]\n"
     ]
    },
    {
     "data": {
      "text/plain": [
       "(19638, 2)"
      ]
     },
     "execution_count": 38,
     "metadata": {},
     "output_type": "execute_result"
    }
   ],
   "source": [
    "ranked_overall_mean_pearson_corr_df = pd.DataFrame(columns=['Feature Rank', 'Overall Mean Pearson Correlation'])\n",
    "\n",
    "for rank in tqdm(range(1, ranked_fts_df.shape[0]+1)):\n",
    "    top_n, mean_cor = calc_overall_mean_correlations(top_n=rank, cor_df=pearson_corr_df, cor_col='r') \n",
    "    ranked_overall_mean_pearson_corr_df = pd.concat([ranked_overall_mean_pearson_corr_df, \n",
    "                                                     pd.DataFrame([[top_n, mean_cor]], \n",
    "                                                        columns=ranked_overall_mean_pearson_corr_df.columns)], \n",
    "                                                   ignore_index=True)\n",
    "ranked_overall_mean_pearson_corr_df.shape"
   ]
  },
  {
   "cell_type": "code",
   "execution_count": 39,
   "id": "d53ec0f2",
   "metadata": {
    "ExecuteTime": {
     "end_time": "2025-02-14T01:33:28.635258Z",
     "start_time": "2025-02-14T01:33:28.500282Z"
    },
    "code_folding": []
   },
   "outputs": [],
   "source": [
    "# ranked_overall_mean_pearson_corr_df.to_csv(r'..\\Data\\Processed\\SameGeneOverallMeanPearsonCorr.csv', index=False)"
   ]
  },
  {
   "cell_type": "code",
   "execution_count": 40,
   "id": "e75cb15e",
   "metadata": {
    "ExecuteTime": {
     "end_time": "2025-02-14T01:34:23.738769Z",
     "start_time": "2025-02-14T01:33:28.638211Z"
    },
    "code_folding": []
   },
   "outputs": [
    {
     "name": "stderr",
     "output_type": "stream",
     "text": [
      "100%|███████████████████████████████████████████████████████████████████████████| 19638/19638 [00:55<00:00, 356.53it/s]\n"
     ]
    },
    {
     "data": {
      "text/plain": [
       "(19638, 2)"
      ]
     },
     "execution_count": 40,
     "metadata": {},
     "output_type": "execute_result"
    }
   ],
   "source": [
    "ranked_overall_mean_spearman_corr_df = pd.DataFrame(columns=['Feature Rank', 'Overall Mean Spearman Correlation'])\n",
    "\n",
    "for rank in tqdm(range(1, ranked_fts_df.shape[0]+1)):\n",
    "    top_n, mean_cor = calc_overall_mean_correlations(top_n=rank, cor_df=spearman_corr_df, cor_col='r') \n",
    "    ranked_overall_mean_spearman_corr_df = pd.concat([ranked_overall_mean_spearman_corr_df, \n",
    "                                                     pd.DataFrame([[top_n, mean_cor]], \n",
    "                                                        columns=ranked_overall_mean_spearman_corr_df.columns)], \n",
    "                                                   ignore_index=True)\n",
    "ranked_overall_mean_spearman_corr_df.shape"
   ]
  },
  {
   "cell_type": "code",
   "execution_count": 41,
   "id": "dcdccbe1",
   "metadata": {
    "ExecuteTime": {
     "end_time": "2025-02-14T01:34:23.893777Z",
     "start_time": "2025-02-14T01:34:23.744734Z"
    }
   },
   "outputs": [],
   "source": [
    "# ranked_overall_mean_spearman_corr_df.to_csv(r'..\\Data\\Processed\\SameGeneOverallMeanSpearmanCorr.csv', index=False)"
   ]
  },
  {
   "cell_type": "markdown",
   "id": "3e8036d4",
   "metadata": {},
   "source": [
    "### visualize"
   ]
  },
  {
   "cell_type": "code",
   "execution_count": 42,
   "id": "7142a73b",
   "metadata": {
    "ExecuteTime": {
     "end_time": "2025-02-14T01:34:25.465727Z",
     "start_time": "2025-02-14T01:34:23.896729Z"
    }
   },
   "outputs": [
    {
     "data": {
      "image/png": "[encoded data removed]",
      "text/plain": [
       "<Figure size 600x500 with 1 Axes>"
      ]
     },
     "metadata": {},
     "output_type": "display_data"
    }
   ],
   "source": [
    "fig, ax = plt.subplots(figsize = (6,5))\n",
    "sns.lineplot(data = ranked_overall_mean_pearson_corr_df, x = 'Feature Rank', y = 'Overall Mean Pearson Correlation')\n",
    "ax.axvline(x=500, color='red', linestyle='--', label='Rank=500')\n",
    "ax.set_ylabel('Overall Mean Pearson Correlation')\n",
    "ax.set_xscale('log')\n",
    "#ax.legend()\n",
    "# fig.savefig('..\\Figures\\SameGeneOverallMeanPearsonCorr_lines.png', dpi=300, bbox_inches=\"tight\");"
   ]
  },
  {
   "cell_type": "code",
   "execution_count": 43,
   "id": "d745eb66",
   "metadata": {
    "ExecuteTime": {
     "end_time": "2025-02-14T01:34:26.934251Z",
     "start_time": "2025-02-14T01:34:25.468729Z"
    }
   },
   "outputs": [
    {
     "data": {
      "image/png": "[encoded data removed]",
      "text/plain": [
       "<Figure size 600x500 with 1 Axes>"
      ]
     },
     "metadata": {},
     "output_type": "display_data"
    }
   ],
   "source": [
    "fig, ax = plt.subplots(figsize = (6,5))\n",
    "sns.lineplot(data = ranked_overall_mean_spearman_corr_df, x = 'Feature Rank', y = 'Overall Mean Spearman Correlation')\n",
    "ax.axvline(x=500, color='red', linestyle='--', label='Rank=500')\n",
    "ax.set_ylabel('Overall Mean Spearman Correlation')\n",
    "ax.set_xscale('log')\n",
    "#ax.legend()\n",
    "# fig.savefig('..\\Figures\\SameGeneOverallMeanSpearmanCorr_lines.png', dpi=300, bbox_inches=\"tight\");"
   ]
  },
  {
   "cell_type": "code",
   "execution_count": null,
   "id": "0fa631c8",
   "metadata": {},
   "outputs": [],
   "source": []
  }
 ],
 "metadata": {
  "kernelspec": {
   "display_name": "Python [conda env:metastatic_potential]",
   "language": "python",
   "name": "conda-env-metastatic_potential-py"
  },
  "language_info": {
   "codemirror_mode": {
    "name": "ipython",
    "version": 3
   },
   "file_extension": ".py",
   "mimetype": "text/x-python",
   "name": "python",
   "nbconvert_exporter": "python",
   "pygments_lexer": "ipython3",
   "version": "3.13.0"
  },
  "toc": {
   "base_numbering": 1,
   "nav_menu": {},
   "number_sections": true,
   "sideBar": true,
   "skip_h1_title": false,
   "title_cell": "Table of Contents",
   "title_sidebar": "Contents",
   "toc_cell": false,
   "toc_position": {
    "height": "calc(100% - 180px)",
    "left": "10px",
    "top": "150px",
    "width": "301px"
   },
   "toc_section_display": true,
   "toc_window_display": true
  }
 },
 "nbformat": 4,
 "nbformat_minor": 5
}
