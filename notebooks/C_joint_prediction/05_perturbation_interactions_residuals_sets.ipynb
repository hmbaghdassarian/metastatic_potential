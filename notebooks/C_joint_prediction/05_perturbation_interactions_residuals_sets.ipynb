{
 "cells": [
  {
   "cell_type": "markdown",
   "id": "c4c7cbc9",
   "metadata": {},
   "source": [
    "Since linear models don't capture interactions between features, here, we test for this. This can reveal synergies or antagonisms that have outsized effects on metastatic potential. "
   ]
  },
  {
   "cell_type": "code",
   "execution_count": null,
   "id": "152080cf",
   "metadata": {},
   "outputs": [],
   "source": [
    "import argparse\n",
    "parser = argparse.ArgumentParser()\n",
    "parser.add_argument(\"--feature_type\", type=str, required=True, help=\"how to filter features\")\n",
    "args = parser.parse_args()\n",
    "feature_type = args.feature_type\n",
    "\n",
    "# python 05_perturbation_interactions_residuals_sets.py --feature_type all \n",
    "# feature_type = 'all' # 'top400', 'enriched'"
   ]
  },
  {
   "cell_type": "code",
   "execution_count": 1,
   "id": "7031b884",
   "metadata": {},
   "outputs": [
    {
     "name": "stderr",
     "output_type": "stream",
     "text": [
      "/nobackup/users/hmbaghda/Software/miniforge3/envs/metastatic_potential/lib/python3.13/site-packages/tqdm/auto.py:21: TqdmWarning: IProgress not found. Please update jupyter and ipywidgets. See https://ipywidgets.readthedocs.io/en/stable/user_install.html\n",
      "  from .autonotebook import tqdm as notebook_tqdm\n"
     ]
    }
   ],
   "source": [
    "import os\n",
    "import itertools\n",
    "import random\n",
    "from multiprocessing import Pool\n",
    "from math import comb\n",
    "\n",
    "from tqdm import tqdm \n",
    "\n",
    "import pandas as pd\n",
    "import numpy as np\n",
    "\n",
    "import statsmodels.formula.api as smf\n",
    "from statsmodels.stats.multitest import multipletests\n",
    "\n",
    "import seaborn as sns\n",
    "import matplotlib.pyplot as plt \n",
    "\n",
    "import sys\n",
    "sys.path.insert(1, '../')\n",
    "from utils import read_pickled_object"
   ]
  },
  {
   "cell_type": "code",
   "execution_count": 2,
   "id": "ad78a2a6",
   "metadata": {},
   "outputs": [],
   "source": [
    "data_path = '/nobackup/users/hmbaghda/metastatic_potential/'\n",
    "random_state = 42 + 3\n",
    "\n",
    "n_cores = 80\n",
    "os.environ[\"OMP_NUM_THREADS\"] = str(n_cores)\n",
    "os.environ[\"MKL_NUM_THREADS\"] = str(n_cores)\n",
    "os.environ[\"OPENBLAS_NUM_THREADS\"] = str(n_cores)\n",
    "os.environ[\"VECLIB_MAXIMUM_THREADS\"] = str(n_cores)\n",
    "os.environ[\"NUMEXPR_NUM_THREADS\"] = str(n_cores)"
   ]
  },
  {
   "cell_type": "markdown",
   "id": "4c74d714",
   "metadata": {},
   "source": [
    "Load data:"
   ]
  },
  {
   "cell_type": "code",
   "execution_count": 3,
   "id": "a8f07970",
   "metadata": {},
   "outputs": [],
   "source": [
    "X = pd.read_csv(os.path.join(data_path, 'processed',  'expr_joint.csv'), index_col = 0)\n",
    "expr_joint = X.copy()\n",
    "\n",
    "mp_joint=pd.read_csv(os.path.join(data_path, 'processed', 'metastatic_potential_joint.csv'), index_col = 0)['mean']\n",
    "y = mp_joint.values.ravel()\n",
    "\n",
    "expr_protein = pd.read_csv(os.path.join(data_path, 'processed',  'expr_protein.csv'), index_col = 0)\n",
    "expr_rna = pd.read_csv(os.path.join(data_path, 'processed',  'expr.csv'), index_col = 0)\n",
    "\n",
    "protein_cols = expr_protein.columns\n",
    "rna_cols = expr_rna.columns\n",
    "\n",
    "X_protein = X[protein_cols].values\n",
    "X_rna = X[rna_cols].values"
   ]
  },
  {
   "cell_type": "markdown",
   "id": "b439c5ac",
   "metadata": {},
   "source": [
    "As in [Notebook 04](./04_feature_analysis.ipynb), we fit the consensus linear SVR on the entire dataset:"
   ]
  },
  {
   "cell_type": "code",
   "execution_count": 4,
   "id": "1ef90df4",
   "metadata": {},
   "outputs": [
    {
     "data": {
      "text/html": [
       "<style>#sk-container-id-1 {\n",
       "  /* Definition of color scheme common for light and dark mode */\n",
       "  --sklearn-color-text: black;\n",
       "  --sklearn-color-line: gray;\n",
       "  /* Definition of color scheme for unfitted estimators */\n",
       "  --sklearn-color-unfitted-level-0: #fff5e6;\n",
       "  --sklearn-color-unfitted-level-1: #f6e4d2;\n",
       "  --sklearn-color-unfitted-level-2: #ffe0b3;\n",
       "  --sklearn-color-unfitted-level-3: chocolate;\n",
       "  /* Definition of color scheme for fitted estimators */\n",
       "  --sklearn-color-fitted-level-0: #f0f8ff;\n",
       "  --sklearn-color-fitted-level-1: #d4ebff;\n",
       "  --sklearn-color-fitted-level-2: #b3dbfd;\n",
       "  --sklearn-color-fitted-level-3: cornflowerblue;\n",
       "\n",
       "  /* Specific color for light theme */\n",
       "  --sklearn-color-text-on-default-background: var(--sg-text-color, var(--theme-code-foreground, var(--jp-content-font-color1, black)));\n",
       "  --sklearn-color-background: var(--sg-background-color, var(--theme-background, var(--jp-layout-color0, white)));\n",
       "  --sklearn-color-border-box: var(--sg-text-color, var(--theme-code-foreground, var(--jp-content-font-color1, black)));\n",
       "  --sklearn-color-icon: #696969;\n",
       "\n",
       "  @media (prefers-color-scheme: dark) {\n",
       "    /* Redefinition of color scheme for dark theme */\n",
       "    --sklearn-color-text-on-default-background: var(--sg-text-color, var(--theme-code-foreground, var(--jp-content-font-color1, white)));\n",
       "    --sklearn-color-background: var(--sg-background-color, var(--theme-background, var(--jp-layout-color0, #111)));\n",
       "    --sklearn-color-border-box: var(--sg-text-color, var(--theme-code-foreground, var(--jp-content-font-color1, white)));\n",
       "    --sklearn-color-icon: #878787;\n",
       "  }\n",
       "}\n",
       "\n",
       "#sk-container-id-1 {\n",
       "  color: var(--sklearn-color-text);\n",
       "}\n",
       "\n",
       "#sk-container-id-1 pre {\n",
       "  padding: 0;\n",
       "}\n",
       "\n",
       "#sk-container-id-1 input.sk-hidden--visually {\n",
       "  border: 0;\n",
       "  clip: rect(1px 1px 1px 1px);\n",
       "  clip: rect(1px, 1px, 1px, 1px);\n",
       "  height: 1px;\n",
       "  margin: -1px;\n",
       "  overflow: hidden;\n",
       "  padding: 0;\n",
       "  position: absolute;\n",
       "  width: 1px;\n",
       "}\n",
       "\n",
       "#sk-container-id-1 div.sk-dashed-wrapped {\n",
       "  border: 1px dashed var(--sklearn-color-line);\n",
       "  margin: 0 0.4em 0.5em 0.4em;\n",
       "  box-sizing: border-box;\n",
       "  padding-bottom: 0.4em;\n",
       "  background-color: var(--sklearn-color-background);\n",
       "}\n",
       "\n",
       "#sk-container-id-1 div.sk-container {\n",
       "  /* jupyter's `normalize.less` sets `[hidden] { display: none; }`\n",
       "     but bootstrap.min.css set `[hidden] { display: none !important; }`\n",
       "     so we also need the `!important` here to be able to override the\n",
       "     default hidden behavior on the sphinx rendered scikit-learn.org.\n",
       "     See: https://github.com/scikit-learn/scikit-learn/issues/21755 */\n",
       "  display: inline-block !important;\n",
       "  position: relative;\n",
       "}\n",
       "\n",
       "#sk-container-id-1 div.sk-text-repr-fallback {\n",
       "  display: none;\n",
       "}\n",
       "\n",
       "div.sk-parallel-item,\n",
       "div.sk-serial,\n",
       "div.sk-item {\n",
       "  /* draw centered vertical line to link estimators */\n",
       "  background-image: linear-gradient(var(--sklearn-color-text-on-default-background), var(--sklearn-color-text-on-default-background));\n",
       "  background-size: 2px 100%;\n",
       "  background-repeat: no-repeat;\n",
       "  background-position: center center;\n",
       "}\n",
       "\n",
       "/* Parallel-specific style estimator block */\n",
       "\n",
       "#sk-container-id-1 div.sk-parallel-item::after {\n",
       "  content: \"\";\n",
       "  width: 100%;\n",
       "  border-bottom: 2px solid var(--sklearn-color-text-on-default-background);\n",
       "  flex-grow: 1;\n",
       "}\n",
       "\n",
       "#sk-container-id-1 div.sk-parallel {\n",
       "  display: flex;\n",
       "  align-items: stretch;\n",
       "  justify-content: center;\n",
       "  background-color: var(--sklearn-color-background);\n",
       "  position: relative;\n",
       "}\n",
       "\n",
       "#sk-container-id-1 div.sk-parallel-item {\n",
       "  display: flex;\n",
       "  flex-direction: column;\n",
       "}\n",
       "\n",
       "#sk-container-id-1 div.sk-parallel-item:first-child::after {\n",
       "  align-self: flex-end;\n",
       "  width: 50%;\n",
       "}\n",
       "\n",
       "#sk-container-id-1 div.sk-parallel-item:last-child::after {\n",
       "  align-self: flex-start;\n",
       "  width: 50%;\n",
       "}\n",
       "\n",
       "#sk-container-id-1 div.sk-parallel-item:only-child::after {\n",
       "  width: 0;\n",
       "}\n",
       "\n",
       "/* Serial-specific style estimator block */\n",
       "\n",
       "#sk-container-id-1 div.sk-serial {\n",
       "  display: flex;\n",
       "  flex-direction: column;\n",
       "  align-items: center;\n",
       "  background-color: var(--sklearn-color-background);\n",
       "  padding-right: 1em;\n",
       "  padding-left: 1em;\n",
       "}\n",
       "\n",
       "\n",
       "/* Toggleable style: style used for estimator/Pipeline/ColumnTransformer box that is\n",
       "clickable and can be expanded/collapsed.\n",
       "- Pipeline and ColumnTransformer use this feature and define the default style\n",
       "- Estimators will overwrite some part of the style using the `sk-estimator` class\n",
       "*/\n",
       "\n",
       "/* Pipeline and ColumnTransformer style (default) */\n",
       "\n",
       "#sk-container-id-1 div.sk-toggleable {\n",
       "  /* Default theme specific background. It is overwritten whether we have a\n",
       "  specific estimator or a Pipeline/ColumnTransformer */\n",
       "  background-color: var(--sklearn-color-background);\n",
       "}\n",
       "\n",
       "/* Toggleable label */\n",
       "#sk-container-id-1 label.sk-toggleable__label {\n",
       "  cursor: pointer;\n",
       "  display: block;\n",
       "  width: 100%;\n",
       "  margin-bottom: 0;\n",
       "  padding: 0.5em;\n",
       "  box-sizing: border-box;\n",
       "  text-align: center;\n",
       "}\n",
       "\n",
       "#sk-container-id-1 label.sk-toggleable__label-arrow:before {\n",
       "  /* Arrow on the left of the label */\n",
       "  content: \"▸\";\n",
       "  float: left;\n",
       "  margin-right: 0.25em;\n",
       "  color: var(--sklearn-color-icon);\n",
       "}\n",
       "\n",
       "#sk-container-id-1 label.sk-toggleable__label-arrow:hover:before {\n",
       "  color: var(--sklearn-color-text);\n",
       "}\n",
       "\n",
       "/* Toggleable content - dropdown */\n",
       "\n",
       "#sk-container-id-1 div.sk-toggleable__content {\n",
       "  max-height: 0;\n",
       "  max-width: 0;\n",
       "  overflow: hidden;\n",
       "  text-align: left;\n",
       "  /* unfitted */\n",
       "  background-color: var(--sklearn-color-unfitted-level-0);\n",
       "}\n",
       "\n",
       "#sk-container-id-1 div.sk-toggleable__content.fitted {\n",
       "  /* fitted */\n",
       "  background-color: var(--sklearn-color-fitted-level-0);\n",
       "}\n",
       "\n",
       "#sk-container-id-1 div.sk-toggleable__content pre {\n",
       "  margin: 0.2em;\n",
       "  border-radius: 0.25em;\n",
       "  color: var(--sklearn-color-text);\n",
       "  /* unfitted */\n",
       "  background-color: var(--sklearn-color-unfitted-level-0);\n",
       "}\n",
       "\n",
       "#sk-container-id-1 div.sk-toggleable__content.fitted pre {\n",
       "  /* unfitted */\n",
       "  background-color: var(--sklearn-color-fitted-level-0);\n",
       "}\n",
       "\n",
       "#sk-container-id-1 input.sk-toggleable__control:checked~div.sk-toggleable__content {\n",
       "  /* Expand drop-down */\n",
       "  max-height: 200px;\n",
       "  max-width: 100%;\n",
       "  overflow: auto;\n",
       "}\n",
       "\n",
       "#sk-container-id-1 input.sk-toggleable__control:checked~label.sk-toggleable__label-arrow:before {\n",
       "  content: \"▾\";\n",
       "}\n",
       "\n",
       "/* Pipeline/ColumnTransformer-specific style */\n",
       "\n",
       "#sk-container-id-1 div.sk-label input.sk-toggleable__control:checked~label.sk-toggleable__label {\n",
       "  color: var(--sklearn-color-text);\n",
       "  background-color: var(--sklearn-color-unfitted-level-2);\n",
       "}\n",
       "\n",
       "#sk-container-id-1 div.sk-label.fitted input.sk-toggleable__control:checked~label.sk-toggleable__label {\n",
       "  background-color: var(--sklearn-color-fitted-level-2);\n",
       "}\n",
       "\n",
       "/* Estimator-specific style */\n",
       "\n",
       "/* Colorize estimator box */\n",
       "#sk-container-id-1 div.sk-estimator input.sk-toggleable__control:checked~label.sk-toggleable__label {\n",
       "  /* unfitted */\n",
       "  background-color: var(--sklearn-color-unfitted-level-2);\n",
       "}\n",
       "\n",
       "#sk-container-id-1 div.sk-estimator.fitted input.sk-toggleable__control:checked~label.sk-toggleable__label {\n",
       "  /* fitted */\n",
       "  background-color: var(--sklearn-color-fitted-level-2);\n",
       "}\n",
       "\n",
       "#sk-container-id-1 div.sk-label label.sk-toggleable__label,\n",
       "#sk-container-id-1 div.sk-label label {\n",
       "  /* The background is the default theme color */\n",
       "  color: var(--sklearn-color-text-on-default-background);\n",
       "}\n",
       "\n",
       "/* On hover, darken the color of the background */\n",
       "#sk-container-id-1 div.sk-label:hover label.sk-toggleable__label {\n",
       "  color: var(--sklearn-color-text);\n",
       "  background-color: var(--sklearn-color-unfitted-level-2);\n",
       "}\n",
       "\n",
       "/* Label box, darken color on hover, fitted */\n",
       "#sk-container-id-1 div.sk-label.fitted:hover label.sk-toggleable__label.fitted {\n",
       "  color: var(--sklearn-color-text);\n",
       "  background-color: var(--sklearn-color-fitted-level-2);\n",
       "}\n",
       "\n",
       "/* Estimator label */\n",
       "\n",
       "#sk-container-id-1 div.sk-label label {\n",
       "  font-family: monospace;\n",
       "  font-weight: bold;\n",
       "  display: inline-block;\n",
       "  line-height: 1.2em;\n",
       "}\n",
       "\n",
       "#sk-container-id-1 div.sk-label-container {\n",
       "  text-align: center;\n",
       "}\n",
       "\n",
       "/* Estimator-specific */\n",
       "#sk-container-id-1 div.sk-estimator {\n",
       "  font-family: monospace;\n",
       "  border: 1px dotted var(--sklearn-color-border-box);\n",
       "  border-radius: 0.25em;\n",
       "  box-sizing: border-box;\n",
       "  margin-bottom: 0.5em;\n",
       "  /* unfitted */\n",
       "  background-color: var(--sklearn-color-unfitted-level-0);\n",
       "}\n",
       "\n",
       "#sk-container-id-1 div.sk-estimator.fitted {\n",
       "  /* fitted */\n",
       "  background-color: var(--sklearn-color-fitted-level-0);\n",
       "}\n",
       "\n",
       "/* on hover */\n",
       "#sk-container-id-1 div.sk-estimator:hover {\n",
       "  /* unfitted */\n",
       "  background-color: var(--sklearn-color-unfitted-level-2);\n",
       "}\n",
       "\n",
       "#sk-container-id-1 div.sk-estimator.fitted:hover {\n",
       "  /* fitted */\n",
       "  background-color: var(--sklearn-color-fitted-level-2);\n",
       "}\n",
       "\n",
       "/* Specification for estimator info (e.g. \"i\" and \"?\") */\n",
       "\n",
       "/* Common style for \"i\" and \"?\" */\n",
       "\n",
       ".sk-estimator-doc-link,\n",
       "a:link.sk-estimator-doc-link,\n",
       "a:visited.sk-estimator-doc-link {\n",
       "  float: right;\n",
       "  font-size: smaller;\n",
       "  line-height: 1em;\n",
       "  font-family: monospace;\n",
       "  background-color: var(--sklearn-color-background);\n",
       "  border-radius: 1em;\n",
       "  height: 1em;\n",
       "  width: 1em;\n",
       "  text-decoration: none !important;\n",
       "  margin-left: 1ex;\n",
       "  /* unfitted */\n",
       "  border: var(--sklearn-color-unfitted-level-1) 1pt solid;\n",
       "  color: var(--sklearn-color-unfitted-level-1);\n",
       "}\n",
       "\n",
       ".sk-estimator-doc-link.fitted,\n",
       "a:link.sk-estimator-doc-link.fitted,\n",
       "a:visited.sk-estimator-doc-link.fitted {\n",
       "  /* fitted */\n",
       "  border: var(--sklearn-color-fitted-level-1) 1pt solid;\n",
       "  color: var(--sklearn-color-fitted-level-1);\n",
       "}\n",
       "\n",
       "/* On hover */\n",
       "div.sk-estimator:hover .sk-estimator-doc-link:hover,\n",
       ".sk-estimator-doc-link:hover,\n",
       "div.sk-label-container:hover .sk-estimator-doc-link:hover,\n",
       ".sk-estimator-doc-link:hover {\n",
       "  /* unfitted */\n",
       "  background-color: var(--sklearn-color-unfitted-level-3);\n",
       "  color: var(--sklearn-color-background);\n",
       "  text-decoration: none;\n",
       "}\n",
       "\n",
       "div.sk-estimator.fitted:hover .sk-estimator-doc-link.fitted:hover,\n",
       ".sk-estimator-doc-link.fitted:hover,\n",
       "div.sk-label-container:hover .sk-estimator-doc-link.fitted:hover,\n",
       ".sk-estimator-doc-link.fitted:hover {\n",
       "  /* fitted */\n",
       "  background-color: var(--sklearn-color-fitted-level-3);\n",
       "  color: var(--sklearn-color-background);\n",
       "  text-decoration: none;\n",
       "}\n",
       "\n",
       "/* Span, style for the box shown on hovering the info icon */\n",
       ".sk-estimator-doc-link span {\n",
       "  display: none;\n",
       "  z-index: 9999;\n",
       "  position: relative;\n",
       "  font-weight: normal;\n",
       "  right: .2ex;\n",
       "  padding: .5ex;\n",
       "  margin: .5ex;\n",
       "  width: min-content;\n",
       "  min-width: 20ex;\n",
       "  max-width: 50ex;\n",
       "  color: var(--sklearn-color-text);\n",
       "  box-shadow: 2pt 2pt 4pt #999;\n",
       "  /* unfitted */\n",
       "  background: var(--sklearn-color-unfitted-level-0);\n",
       "  border: .5pt solid var(--sklearn-color-unfitted-level-3);\n",
       "}\n",
       "\n",
       ".sk-estimator-doc-link.fitted span {\n",
       "  /* fitted */\n",
       "  background: var(--sklearn-color-fitted-level-0);\n",
       "  border: var(--sklearn-color-fitted-level-3);\n",
       "}\n",
       "\n",
       ".sk-estimator-doc-link:hover span {\n",
       "  display: block;\n",
       "}\n",
       "\n",
       "/* \"?\"-specific style due to the `<a>` HTML tag */\n",
       "\n",
       "#sk-container-id-1 a.estimator_doc_link {\n",
       "  float: right;\n",
       "  font-size: 1rem;\n",
       "  line-height: 1em;\n",
       "  font-family: monospace;\n",
       "  background-color: var(--sklearn-color-background);\n",
       "  border-radius: 1rem;\n",
       "  height: 1rem;\n",
       "  width: 1rem;\n",
       "  text-decoration: none;\n",
       "  /* unfitted */\n",
       "  color: var(--sklearn-color-unfitted-level-1);\n",
       "  border: var(--sklearn-color-unfitted-level-1) 1pt solid;\n",
       "}\n",
       "\n",
       "#sk-container-id-1 a.estimator_doc_link.fitted {\n",
       "  /* fitted */\n",
       "  border: var(--sklearn-color-fitted-level-1) 1pt solid;\n",
       "  color: var(--sklearn-color-fitted-level-1);\n",
       "}\n",
       "\n",
       "/* On hover */\n",
       "#sk-container-id-1 a.estimator_doc_link:hover {\n",
       "  /* unfitted */\n",
       "  background-color: var(--sklearn-color-unfitted-level-3);\n",
       "  color: var(--sklearn-color-background);\n",
       "  text-decoration: none;\n",
       "}\n",
       "\n",
       "#sk-container-id-1 a.estimator_doc_link.fitted:hover {\n",
       "  /* fitted */\n",
       "  background-color: var(--sklearn-color-fitted-level-3);\n",
       "}\n",
       "</style><div id=\"sk-container-id-1\" class=\"sk-top-container\"><div class=\"sk-text-repr-fallback\"><pre>Pipeline(steps=[(&#x27;feature_processing&#x27;,\n",
       "                 FeatureUnion(transformer_list=[(&#x27;protein_pipeline&#x27;,\n",
       "                                                 Pipeline(steps=[(&#x27;select_protein&#x27;,\n",
       "                                                                  ModalitySelector(modality=&#x27;protein&#x27;)),\n",
       "                                                                 (&#x27;feature_selection_protein&#x27;,\n",
       "                                                                  FeatureSelector(n_features=500)),\n",
       "                                                                 (&#x27;mean_centering_protein&#x27;,\n",
       "                                                                  MeanCenterer())])),\n",
       "                                                (&#x27;rna_pipeline&#x27;,\n",
       "                                                 Pipeline(steps=[(&#x27;select_rna&#x27;,\n",
       "                                                                  ModalitySelector(modality=&#x27;rna&#x27;)),\n",
       "                                                                 (&#x27;feature_selection_rna&#x27;,\n",
       "                                                                  FeatureSelector(n_features=19138)),\n",
       "                                                                 (&#x27;mean_centering_rna&#x27;,\n",
       "                                                                  MeanCenterer())]))])),\n",
       "                (&#x27;model&#x27;,\n",
       "                 SVR(C=np.float64(0.8708199642350806),\n",
       "                     epsilon=np.float64(0.7444800190713263),\n",
       "                     kernel=&#x27;linear&#x27;))])</pre><b>In a Jupyter environment, please rerun this cell to show the HTML representation or trust the notebook. <br />On GitHub, the HTML representation is unable to render, please try loading this page with nbviewer.org.</b></div><div class=\"sk-container\" hidden><div class=\"sk-item sk-dashed-wrapped\"><div class=\"sk-label-container\"><div class=\"sk-label fitted sk-toggleable\"><input class=\"sk-toggleable__control sk-hidden--visually\" id=\"sk-estimator-id-1\" type=\"checkbox\" ><label for=\"sk-estimator-id-1\" class=\"sk-toggleable__label fitted sk-toggleable__label-arrow fitted\">&nbsp;&nbsp;Pipeline<a class=\"sk-estimator-doc-link fitted\" rel=\"noreferrer\" target=\"_blank\" href=\"https://scikit-learn.org/1.5/modules/generated/sklearn.pipeline.Pipeline.html\">?<span>Documentation for Pipeline</span></a><span class=\"sk-estimator-doc-link fitted\">i<span>Fitted</span></span></label><div class=\"sk-toggleable__content fitted\"><pre>Pipeline(steps=[(&#x27;feature_processing&#x27;,\n",
       "                 FeatureUnion(transformer_list=[(&#x27;protein_pipeline&#x27;,\n",
       "                                                 Pipeline(steps=[(&#x27;select_protein&#x27;,\n",
       "                                                                  ModalitySelector(modality=&#x27;protein&#x27;)),\n",
       "                                                                 (&#x27;feature_selection_protein&#x27;,\n",
       "                                                                  FeatureSelector(n_features=500)),\n",
       "                                                                 (&#x27;mean_centering_protein&#x27;,\n",
       "                                                                  MeanCenterer())])),\n",
       "                                                (&#x27;rna_pipeline&#x27;,\n",
       "                                                 Pipeline(steps=[(&#x27;select_rna&#x27;,\n",
       "                                                                  ModalitySelector(modality=&#x27;rna&#x27;)),\n",
       "                                                                 (&#x27;feature_selection_rna&#x27;,\n",
       "                                                                  FeatureSelector(n_features=19138)),\n",
       "                                                                 (&#x27;mean_centering_rna&#x27;,\n",
       "                                                                  MeanCenterer())]))])),\n",
       "                (&#x27;model&#x27;,\n",
       "                 SVR(C=np.float64(0.8708199642350806),\n",
       "                     epsilon=np.float64(0.7444800190713263),\n",
       "                     kernel=&#x27;linear&#x27;))])</pre></div> </div></div><div class=\"sk-serial\"><div class=\"sk-item sk-dashed-wrapped\"><div class=\"sk-label-container\"><div class=\"sk-label fitted sk-toggleable\"><input class=\"sk-toggleable__control sk-hidden--visually\" id=\"sk-estimator-id-2\" type=\"checkbox\" ><label for=\"sk-estimator-id-2\" class=\"sk-toggleable__label fitted sk-toggleable__label-arrow fitted\">&nbsp;feature_processing: FeatureUnion<a class=\"sk-estimator-doc-link fitted\" rel=\"noreferrer\" target=\"_blank\" href=\"https://scikit-learn.org/1.5/modules/generated/sklearn.pipeline.FeatureUnion.html\">?<span>Documentation for feature_processing: FeatureUnion</span></a></label><div class=\"sk-toggleable__content fitted\"><pre>FeatureUnion(transformer_list=[(&#x27;protein_pipeline&#x27;,\n",
       "                                Pipeline(steps=[(&#x27;select_protein&#x27;,\n",
       "                                                 ModalitySelector(modality=&#x27;protein&#x27;)),\n",
       "                                                (&#x27;feature_selection_protein&#x27;,\n",
       "                                                 FeatureSelector(n_features=500)),\n",
       "                                                (&#x27;mean_centering_protein&#x27;,\n",
       "                                                 MeanCenterer())])),\n",
       "                               (&#x27;rna_pipeline&#x27;,\n",
       "                                Pipeline(steps=[(&#x27;select_rna&#x27;,\n",
       "                                                 ModalitySelector(modality=&#x27;rna&#x27;)),\n",
       "                                                (&#x27;feature_selection_rna&#x27;,\n",
       "                                                 FeatureSelector(n_features=19138)),\n",
       "                                                (&#x27;mean_centering_rna&#x27;,\n",
       "                                                 MeanCenterer())]))])</pre></div> </div></div><div class=\"sk-parallel\"><div class=\"sk-parallel-item\"><div class=\"sk-item\"><div class=\"sk-label-container\"><div class=\"sk-label fitted sk-toggleable\"><label>protein_pipeline</label></div></div><div class=\"sk-serial\"><div class=\"sk-item\"><div class=\"sk-serial\"><div class=\"sk-item\"><div class=\"sk-estimator fitted sk-toggleable\"><input class=\"sk-toggleable__control sk-hidden--visually\" id=\"sk-estimator-id-3\" type=\"checkbox\" ><label for=\"sk-estimator-id-3\" class=\"sk-toggleable__label fitted sk-toggleable__label-arrow fitted\">ModalitySelector</label><div class=\"sk-toggleable__content fitted\"><pre>ModalitySelector(modality=&#x27;protein&#x27;)</pre></div> </div></div><div class=\"sk-item\"><div class=\"sk-estimator fitted sk-toggleable\"><input class=\"sk-toggleable__control sk-hidden--visually\" id=\"sk-estimator-id-4\" type=\"checkbox\" ><label for=\"sk-estimator-id-4\" class=\"sk-toggleable__label fitted sk-toggleable__label-arrow fitted\">FeatureSelector</label><div class=\"sk-toggleable__content fitted\"><pre>FeatureSelector(n_features=500)</pre></div> </div></div><div class=\"sk-item\"><div class=\"sk-estimator fitted sk-toggleable\"><input class=\"sk-toggleable__control sk-hidden--visually\" id=\"sk-estimator-id-5\" type=\"checkbox\" ><label for=\"sk-estimator-id-5\" class=\"sk-toggleable__label fitted sk-toggleable__label-arrow fitted\">MeanCenterer</label><div class=\"sk-toggleable__content fitted\"><pre>MeanCenterer()</pre></div> </div></div></div></div></div></div></div><div class=\"sk-parallel-item\"><div class=\"sk-item\"><div class=\"sk-label-container\"><div class=\"sk-label fitted sk-toggleable\"><label>rna_pipeline</label></div></div><div class=\"sk-serial\"><div class=\"sk-item\"><div class=\"sk-serial\"><div class=\"sk-item\"><div class=\"sk-estimator fitted sk-toggleable\"><input class=\"sk-toggleable__control sk-hidden--visually\" id=\"sk-estimator-id-6\" type=\"checkbox\" ><label for=\"sk-estimator-id-6\" class=\"sk-toggleable__label fitted sk-toggleable__label-arrow fitted\">ModalitySelector</label><div class=\"sk-toggleable__content fitted\"><pre>ModalitySelector(modality=&#x27;rna&#x27;)</pre></div> </div></div><div class=\"sk-item\"><div class=\"sk-estimator fitted sk-toggleable\"><input class=\"sk-toggleable__control sk-hidden--visually\" id=\"sk-estimator-id-7\" type=\"checkbox\" ><label for=\"sk-estimator-id-7\" class=\"sk-toggleable__label fitted sk-toggleable__label-arrow fitted\">FeatureSelector</label><div class=\"sk-toggleable__content fitted\"><pre>FeatureSelector(n_features=19138)</pre></div> </div></div><div class=\"sk-item\"><div class=\"sk-estimator fitted sk-toggleable\"><input class=\"sk-toggleable__control sk-hidden--visually\" id=\"sk-estimator-id-8\" type=\"checkbox\" ><label for=\"sk-estimator-id-8\" class=\"sk-toggleable__label fitted sk-toggleable__label-arrow fitted\">MeanCenterer</label><div class=\"sk-toggleable__content fitted\"><pre>MeanCenterer()</pre></div> </div></div></div></div></div></div></div></div></div><div class=\"sk-item\"><div class=\"sk-estimator fitted sk-toggleable\"><input class=\"sk-toggleable__control sk-hidden--visually\" id=\"sk-estimator-id-9\" type=\"checkbox\" ><label for=\"sk-estimator-id-9\" class=\"sk-toggleable__label fitted sk-toggleable__label-arrow fitted\">&nbsp;SVR<a class=\"sk-estimator-doc-link fitted\" rel=\"noreferrer\" target=\"_blank\" href=\"https://scikit-learn.org/1.5/modules/generated/sklearn.svm.SVR.html\">?<span>Documentation for SVR</span></a></label><div class=\"sk-toggleable__content fitted\"><pre>SVR(C=np.float64(0.8708199642350806), epsilon=np.float64(0.7444800190713263),\n",
       "    kernel=&#x27;linear&#x27;)</pre></div> </div></div></div></div></div></div>"
      ],
      "text/plain": [
       "Pipeline(steps=[('feature_processing',\n",
       "                 FeatureUnion(transformer_list=[('protein_pipeline',\n",
       "                                                 Pipeline(steps=[('select_protein',\n",
       "                                                                  ModalitySelector(modality='protein')),\n",
       "                                                                 ('feature_selection_protein',\n",
       "                                                                  FeatureSelector(n_features=500)),\n",
       "                                                                 ('mean_centering_protein',\n",
       "                                                                  MeanCenterer())])),\n",
       "                                                ('rna_pipeline',\n",
       "                                                 Pipeline(steps=[('select_rna',\n",
       "                                                                  ModalitySelector(modality='rna')),\n",
       "                                                                 ('feature_selection_rna',\n",
       "                                                                  FeatureSelector(n_features=19138)),\n",
       "                                                                 ('mean_centering_rna',\n",
       "                                                                  MeanCenterer())]))])),\n",
       "                ('model',\n",
       "                 SVR(C=np.float64(0.8708199642350806),\n",
       "                     epsilon=np.float64(0.7444800190713263),\n",
       "                     kernel='linear'))])"
      ]
     },
     "execution_count": 4,
     "metadata": {},
     "output_type": "execute_result"
    }
   ],
   "source": [
    "best_pipeline = read_pickled_object(os.path.join(data_path, 'processed', \n",
    "                                                 'best_model_svr_linear_joint.pickle'))\n",
    "X = (X_protein, X_rna)\n",
    "best_pipeline.fit(X, y)\n",
    "\n",
    "# load from notebook 04\n",
    "# best_pipeline = read_pickled_object(os.path.join(data_path, 'interim', 'best_linearSVR_joint_fitted_allsamples.pickle'))\n"
   ]
  },
  {
   "cell_type": "code",
   "execution_count": 5,
   "id": "dfda8e08",
   "metadata": {},
   "outputs": [],
   "source": [
    "model_coefs = pd.read_csv(os.path.join(data_path, 'interim', 'joint_features.csv'), \n",
    "                          index_col = 0)\n",
    "if not np.allclose(model_coefs['SVM coefficient'].values, \n",
    "                   best_pipeline.named_steps['model'].coef_.flatten()):\n",
    "    raise ValueError('Inconsitency between Notebook 04 and 05')\n",
    "model_coefs.sort_values(by='SVM coefficient', key=lambda x: x.abs(), ascending=False, inplace=True)\n",
    "model_coefs.set_index('feature_name', inplace = True)\n"
   ]
  },
  {
   "cell_type": "markdown",
   "id": "07ba701a",
   "metadata": {},
   "source": [
    "Get the prediction:"
   ]
  },
  {
   "cell_type": "code",
   "execution_count": 6,
   "id": "8da8b86f",
   "metadata": {},
   "outputs": [],
   "source": [
    "# get prediction\n",
    "y_pred = best_pipeline.predict(X)\n",
    "residuals = y - y_pred"
   ]
  },
  {
   "cell_type": "markdown",
   "id": "b6bdd04f",
   "metadata": {},
   "source": [
    "Center the data:"
   ]
  },
  {
   "cell_type": "code",
   "execution_count": 7,
   "id": "2c53cc7e",
   "metadata": {},
   "outputs": [],
   "source": [
    "X_map = {'Transcriptomics': X_rna, 'Proteomics': X_protein}\n",
    "X_map = {k: X_ - np.mean(X_, axis=0) for k, X_ in X_map.items()} # center the data\n",
    "\n",
    "# # center and scale the data\n",
    "# from sklearn.preprocessing import StandardScaler\n",
    "# for k, X_ in X_map.items():\n",
    "#     scaler = StandardScaler()\n",
    "#     X_scaled = scaler.fit_transform(X_)\n",
    "#     X_map[k] = X_scaled\n",
    "    \n",
    "# for k, X_ in X_map.items():\n",
    "#     X_centered = X_ - np.mean(X_, axis=0) # mean center\n",
    "#     X_map[k] = X_centered\n",
    "#     X_scaled = X_centered / np.std(X_, axis=0) # scale\n",
    "#     X_map[k] = X_scaled"
   ]
  },
  {
   "cell_type": "markdown",
   "id": "4ab4ecff",
   "metadata": {},
   "source": [
    "Get the interactions:"
   ]
  },
  {
   "cell_type": "code",
   "execution_count": 50,
   "id": "466a225a",
   "metadata": {},
   "outputs": [],
   "source": [
    "def get_interaction_value(feature_1: str, feature_2: str, residuals, X_map, model_coefs):\n",
    "    X_1 = X_map[model_coefs.loc[feature_1,'Modality']][:, model_coefs.loc[feature_1, 'feature_index']]\n",
    "    X_2 = X_map[model_coefs.loc[feature_2,'Modality']][:, model_coefs.loc[feature_2, 'feature_index']]\n",
    "\n",
    "    ols_df = pd.DataFrame({\"residual\": residuals, \n",
    "                           \"X_tilda\": X_1 * X_2})\n",
    "\n",
    "    ols_interaction = smf.ols(\"residual ~ X_tilda\", data=ols_df).fit()\n",
    "\n",
    "\n",
    "    coef = float(ols_interaction.params.X_tilda)\n",
    "    pval = float(ols_interaction.pvalues.X_tilda)\n",
    "    \n",
    "    se = ols_interaction.bse.X_tilda\n",
    "    \n",
    "    t_statistic = float(abs(coef))/se\n",
    "    \n",
    "    return coef, pval, t_statistic"
   ]
  },
  {
   "cell_type": "code",
   "execution_count": 9,
   "id": "d209e147",
   "metadata": {},
   "outputs": [],
   "source": [
    "top_n = 50\n",
    "features = model_coefs.index.tolist()[:top_n]\n",
    "feature_combs = list(itertools.combinations(features, 2))"
   ]
  },
  {
   "cell_type": "code",
   "execution_count": 10,
   "id": "65630ed8",
   "metadata": {},
   "outputs": [
    {
     "name": "stderr",
     "output_type": "stream",
     "text": [
      "100%|██████████████████████████████████████| 1225/1225 [00:06<00:00, 180.14it/s]\n"
     ]
    }
   ],
   "source": [
    "res_all = []\n",
    "for feature_comb in tqdm(feature_combs):\n",
    "    res = get_interaction_value(feature_comb[0], feature_comb[1], residuals, X_map, model_coefs)[:-1]\n",
    "    res_all.append(res)\n",
    "\n",
    "res_all = pd.DataFrame(res_all, columns = ['coef', 'pval'])\n",
    "_, bh_fdr, _, _ = multipletests(res_all.pval, method='fdr_bh')\n",
    "res_all['bh_fdr'] = bh_fdr\n",
    "\n",
    "res_all = pd.concat([\n",
    "    pd.DataFrame(feature_combs, columns = ['feature_1', 'feature_2']),\n",
    "    res_all\n",
    "],\n",
    "    axis = 1)\n",
    "res_all.to_csv(os.path.join(data_path, 'processed', 'joint_interaction_residuals.csv'))"
   ]
  },
  {
   "cell_type": "code",
   "execution_count": 11,
   "id": "a7176420",
   "metadata": {},
   "outputs": [
    {
     "data": {
      "text/html": [
       "<div>\n",
       "<style scoped>\n",
       "    .dataframe tbody tr th:only-of-type {\n",
       "        vertical-align: middle;\n",
       "    }\n",
       "\n",
       "    .dataframe tbody tr th {\n",
       "        vertical-align: top;\n",
       "    }\n",
       "\n",
       "    .dataframe thead th {\n",
       "        text-align: right;\n",
       "    }\n",
       "</style>\n",
       "<table border=\"1\" class=\"dataframe\">\n",
       "  <thead>\n",
       "    <tr style=\"text-align: right;\">\n",
       "      <th></th>\n",
       "      <th>feature_1</th>\n",
       "      <th>feature_2</th>\n",
       "      <th>coef</th>\n",
       "      <th>pval</th>\n",
       "      <th>bh_fdr</th>\n",
       "    </tr>\n",
       "  </thead>\n",
       "  <tbody>\n",
       "  </tbody>\n",
       "</table>\n",
       "</div>"
      ],
      "text/plain": [
       "Empty DataFrame\n",
       "Columns: [feature_1, feature_2, coef, pval, bh_fdr]\n",
       "Index: []"
      ]
     },
     "execution_count": 11,
     "metadata": {},
     "output_type": "execute_result"
    }
   ],
   "source": [
    "res_all[res_all.bh_fdr <= 0.1]"
   ]
  },
  {
   "cell_type": "markdown",
   "id": "d1fe2ba0",
   "metadata": {},
   "source": [
    "## GA\n",
    "The top 50 features have no significant interactions. However, it is possible for interactions to occur non-intuitively across features that don't have high ranks. So, let's use a genetic algorithm to find a set of 50 features with the highest coefficients and see what that set of features looks like:"
   ]
  },
  {
   "cell_type": "code",
   "execution_count": 9,
   "id": "11d84fe8",
   "metadata": {},
   "outputs": [],
   "source": [
    "def get_interaction_value_ga(feature_1: str, feature_2: str, \n",
    "                             residuals = residuals, \n",
    "                             X_map = X_map, \n",
    "                             model_coefs = model_coefs):\n",
    "    X_1 = X_map[model_coefs.loc[feature_1,'Modality']][:, model_coefs.loc[feature_1, 'feature_index']]\n",
    "    X_2 = X_map[model_coefs.loc[feature_2,'Modality']][:, model_coefs.loc[feature_2, 'feature_index']]\n",
    "\n",
    "    ols_df = pd.DataFrame({\"residual\": residuals, \n",
    "                           \"X_tilda\": X_1 * X_2})\n",
    "\n",
    "    ols_interaction = smf.ols(\"residual ~ X_tilda\", data=ols_df).fit()\n",
    "\n",
    "\n",
    "    coef = abs(ols_interaction.params.X_tilda)\n",
    "    se = ols_interaction.bse.X_tilda\n",
    "    \n",
    "    t_statistic = float(coef)/se\n",
    "    \n",
    "    return coef, t_statistic\n",
    "\n",
    "def generate_individual(seed, n_genes):\n",
    "    random.seed(seed)\n",
    "    return random.sample(all_features, n_genes)\n",
    "\n",
    "\n",
    "# --- Fitness function ---\n",
    "def evaluate_solution(feature_subset):\n",
    "    \"\"\"Evaluates by a hybrid scoring of t-statistic and abs coefficient. \n",
    "    \n",
    "    T-statistic controls for the SE. Since t-statistic is normalized and coefficient is not, \n",
    "    we min-max scale both. \n",
    "    \n",
    "    alpha controls weighting of coef vs t-statistic on score. \n",
    "    \n",
    "    \"\"\"\n",
    "    ALPHA=0.2\n",
    "    \n",
    "    pairs = itertools.combinations(feature_subset, 2)\n",
    "    coefs = []\n",
    "    t_stats = []\n",
    "    for f1, f2 in pairs:\n",
    "        coef, t_statistic = get_interaction_value_ga(f1, f2)\n",
    "        coefs.append(coef)\n",
    "        t_stats.append(t_statistic)\n",
    "\n",
    "    coef_norm = np.log1p(np.array(coefs))\n",
    "    tstat_norm = np.log1p(np.array(t_stats))\n",
    "\n",
    "#     # log-transform due to extreme range of coefs\n",
    "#     coef_arr = np.log1p(np.array(coefs)) \n",
    "#     tstat_arr = np.log1p(np.array(t_stats))\n",
    "    \n",
    "#     # Min-max normalize both arrays -- not doing because makes changes too sublte\n",
    "#     # Avoid divide-by-zero with epsilon\n",
    "#     eps = 1e-8\n",
    "#     coef_norm = (coef_arr - coef_arr.min()) / (coef_arr.max() - coef_arr.min() + eps)\n",
    "#     tstat_norm = (tstat_arr - tstat_arr.min()) / (tstat_arr.max() - tstat_arr.min() + eps)\n",
    "\n",
    "    # Combine with weight alpha\n",
    "    hybrid_scores = ALPHA * coef_norm + (1 - ALPHA) * tstat_norm\n",
    "\n",
    "    return float(np.median(hybrid_scores))\n",
    "\n",
    "def rank_selection(seed, pop, scores, num_selected):\n",
    "    '''Assign probability of selection according to rank order of the population'''\n",
    "    \n",
    "    # rank order by lowest fitness to highest fitness\n",
    "    sorted_pop = [x for _, x in sorted(zip(scores, pop), key=lambda x: x[0])] \n",
    "    ranks = list(range(1, len(sorted_pop) + 1))\n",
    "    probs = [r / sum(ranks) for r in ranks]\n",
    "    \n",
    "    # select according to probability of rank\n",
    "    random.seed(seed)\n",
    "    selected_pop = random.choices(sorted_pop, weights=probs, k=num_selected)\n",
    "    return selected_pop\n"
   ]
  },
  {
   "cell_type": "code",
   "execution_count": 10,
   "id": "babbb036",
   "metadata": {},
   "outputs": [],
   "source": [
    "class SeedTracker:\n",
    "    def __init__(self):\n",
    "        self._gi_seed = 42\n",
    "        self._rs_seed = 888\n",
    "        self._offspring_1 = 2024\n",
    "        self._offspring_2 = 4048\n",
    "        self._offspring_3 = 8096\n",
    "        self._mutation_seed_1 = 16192\n",
    "        self._mutation_seed_2 = 32384\n",
    "\n",
    "    @property\n",
    "    def gi_seed(self):\n",
    "        self._gi_seed += 1\n",
    "        return self._gi_seed\n",
    "    \n",
    "    @property\n",
    "    def rs_seed(self):\n",
    "        self._rs_seed += 1\n",
    "        return self._rs_seed\n",
    "    \n",
    "    @property\n",
    "    def offspring_1(self):\n",
    "        self._offspring_1 += 1\n",
    "        return self._offspring_1\n",
    "    \n",
    "    @property\n",
    "    def offspring_2(self):\n",
    "        self._offspring_2 += 1\n",
    "        return self._offspring_2\n",
    "\n",
    "    @property\n",
    "    def offspring_3(self):\n",
    "        self._offspring_3 += 1\n",
    "        return self._offspring_3\n",
    "    \n",
    "    @property\n",
    "    def mutation_seed_1(self):\n",
    "        self._mutation_seed_1 += 1\n",
    "        return self._mutation_seed_1\n",
    "\n",
    "    @property\n",
    "    def mutation_seed_2(self):\n",
    "        self._mutation_seed_2 += 1\n",
    "        return self._mutation_seed_2\n",
    "    \n",
    "seed_tracker = SeedTracker()\n"
   ]
  },
  {
   "cell_type": "code",
   "execution_count": 366,
   "id": "08b4c659",
   "metadata": {},
   "outputs": [],
   "source": [
    "# --- Parameters ---\n",
    "POP_SIZE = 80*18 # no. of solutions\n",
    "n_cores = min(n_cores, POP_SIZE)\n",
    "N_GENES = 25 # feature set per solution (find n highly interacting genes)\n",
    "N_GENERATIONS = 300 # no. of iterations of GA\n",
    "#MUTATION_RATE = 0.2\n",
    "GENE_MUTATION_RATE = 0.1 # probability of mutating each gene in each child\n",
    "\n",
    "\n",
    "# injecting some randomness and monitoring convergence\n",
    "patience = min(15, np.round(N_GENERATIONS / 10)) # early stopping after plateau for n iterations\n",
    "n_restart_individuals = max(int(np.round(POP_SIZE*0.15)), 2) # randomly replace the bottom 15% of the population \n",
    "restart_n_iterations = int(np.round(N_GENERATIONS)*0.2) # randomly replace every n generations\n",
    "\n",
    "n_restarts_prior_to_break = 3 # allows n restarted prior to breaking\n",
    "mutation_increase = 0.05\n",
    "mgnr = GENE_MUTATION_RATE + n_restarts_prior_to_break*mutation_increase\n",
    "\n"
   ]
  },
  {
   "cell_type": "markdown",
   "id": "def6aea8",
   "metadata": {},
   "source": [
    "Define a subset of features to search:"
   ]
  },
  {
   "cell_type": "code",
   "execution_count": 474,
   "id": "39820f9d",
   "metadata": {},
   "outputs": [],
   "source": [
    "if feature_type == 'all':\n",
    "    all_features = model_coefs.index.tolist()\n",
    "    fn = ''\n",
    "elif feature_type == 'top400':\n",
    "    top_n = 400\n",
    "    all_features = model_coefs.index.tolist()[:top_n]\n",
    "    fn = 'top{}'.format(top_n)\n",
    "elif feature_type == 'enriched':\n",
    "    for key in ['negative', 'positive']:\n",
    "        enriched_genes = set()\n",
    "        ms = pd.read_excel(os.path.join(data_path, 'processed', key + '_joint_metascape_results.xlsx'), \n",
    "                           sheet_name = 'Enrichment',\n",
    "                           index_col = None)\n",
    "        enriched_genes = enriched_genes.union(set.union(*ms.Symbols.apply(lambda x: set(x.split(','))).tolist()))\n",
    "    all_features = model_coefs[model_coefs.gene_name.isin(enriched_genes)].index.tolist()\n",
    "    fn = 'enriched'\n",
    "elif feature_type == 'transcription_factors':\n",
    "    # from scLEMBAS, load the static collectri network as of June 2024\n",
    "    grn_link = 'https://zenodo.org/records/11477837/files/grn_organism_06_04_24.csv'\n",
    "    grn = 'collectri'\n",
    "    organism = 'human'\n",
    "    net = pd.read_csv(grn_link.replace('grn', grn).replace('organism', organism), index_col = 0)\n",
    "    tfs = net.source.unique().tolist()\n",
    "    all_features = model_coefs[model_coefs.gene_name.isin(tfs)].index.tolist()\n",
    "    fn = 'tfs'\n",
    "elif feature_type == 'cancer_cell_map':\n",
    "    # from scLEMBAS, load the statist omnipath DB and parse the cancer cell map\n",
    "    ppi_link = 'https://zenodo.org/records/11477837/files/organism_omnipath_ppi_05_24_24.csv'\n",
    "    organism = 'human'\n",
    "    sn_ppis = pd.read_csv(ppi_link.replace('organism', organism), index_col = 0) \n",
    "\n",
    "    sn_ppis.sources = sn_ppis.sources.apply(lambda x: x.split(';'))\n",
    "    ccm = sn_ppis[sn_ppis.sources.apply(lambda x: 'CancerCellMap' in x)]\n",
    "\n",
    "    ccm_genes = sorted(set(ccm.source_genesymbol.tolist() + ccm.target_genesymbol.tolist()))\n",
    "    all_features = model_coefs[model_coefs.gene_name.isin(ccm_genes)].index.tolist()\n",
    "    fn = 'ccm'\n",
    "elif feature_type == 'cancer_gene_consensus':\n",
    "    cgc = pd.read_csv(os.path.join(data_path, 'raw', 'Cosmic_CancerGeneCensus_v101_GRCh38_04_07_25.tsv'), \n",
    "                  sep = '\\t')\n",
    "    cgc = cgc.GENE_SYMBOL.unique().tolist()\n",
    "    all_features = model_coefs[model_coefs.gene_name.isin(cgc)].index.tolist()\n",
    "    fn = 'cgc'"
   ]
  },
  {
   "cell_type": "code",
   "execution_count": 256,
   "id": "e2d661d9",
   "metadata": {},
   "outputs": [
    {
     "name": "stdout",
     "output_type": "stream",
     "text": [
      "Generation 1/10\n"
     ]
    },
    {
     "name": "stderr",
     "output_type": "stream",
     "text": [
      "100%|███████████████████████████████████████████| 10/10 [00:02<00:00,  4.13it/s]\n"
     ]
    },
    {
     "name": "stdout",
     "output_type": "stream",
     "text": [
      "Generation 2/10\n"
     ]
    },
    {
     "name": "stderr",
     "output_type": "stream",
     "text": [
      "100%|███████████████████████████████████████████| 10/10 [00:02<00:00,  4.13it/s]\n"
     ]
    },
    {
     "name": "stdout",
     "output_type": "stream",
     "text": [
      "Generation 3/10\n"
     ]
    },
    {
     "name": "stderr",
     "output_type": "stream",
     "text": [
      "100%|███████████████████████████████████████████| 10/10 [00:02<00:00,  4.13it/s]\n"
     ]
    },
    {
     "name": "stdout",
     "output_type": "stream",
     "text": [
      "Generation 4/10\n"
     ]
    },
    {
     "name": "stderr",
     "output_type": "stream",
     "text": [
      "100%|███████████████████████████████████████████| 10/10 [00:02<00:00,  4.14it/s]\n"
     ]
    },
    {
     "name": "stdout",
     "output_type": "stream",
     "text": [
      "Generation 5/10\n"
     ]
    },
    {
     "name": "stderr",
     "output_type": "stream",
     "text": [
      "100%|███████████████████████████████████████████| 10/10 [00:02<00:00,  4.14it/s]\n"
     ]
    },
    {
     "name": "stdout",
     "output_type": "stream",
     "text": [
      "Generation 6/10\n"
     ]
    },
    {
     "name": "stderr",
     "output_type": "stream",
     "text": [
      "100%|███████████████████████████████████████████| 10/10 [00:02<00:00,  4.14it/s]\n"
     ]
    }
   ],
   "source": [
    "\n",
    "score_tracker = pd.DataFrame(columns = range(POP_SIZE))\n",
    "\n",
    "population = [generate_individual(seed_tracker.gi_seed, N_GENES) for _ in range(POP_SIZE)] # initialize solutions\n",
    "best_so_far = -np.inf\n",
    "best_set = []\n",
    "broken = False\n",
    "no_improvement = 0\n",
    "\n",
    "for gen in range(N_GENERATIONS):\n",
    "    print(f\"Generation {gen + 1}/{N_GENERATIONS}\")\n",
    "    \n",
    "    # evaluate fitness of each solution\n",
    "    if n_cores in [1, 0, None]:\n",
    "        fitness_scores = [evaluate_solution(ind) for ind in tqdm(population)]\n",
    "    else:\n",
    "        with Pool(n_cores) as pool:\n",
    "            fitness_scores = list(tqdm(pool.imap(evaluate_solution, population), total=len(population)))\n",
    "\n",
    "    # track # of iterations that have no improvement in best fitness score\n",
    "    current_best = max(fitness_scores)\n",
    "    if current_best > best_so_far:\n",
    "        best_so_far = current_best\n",
    "        best_set = population[np.argmax(fitness_scores)]\n",
    "        no_improvement = 0\n",
    "    else:\n",
    "        no_improvement += 1\n",
    "        \n",
    "    if no_improvement >= patience:\n",
    "        if GENE_MUTATION_RATE < mgnr: # diversify \n",
    "            # increase gene mutation rate\n",
    "            GENE_MUTATION_RATE += mutation_increase\n",
    "            \n",
    "            # randomly replace bottom percent of individuals \n",
    "            sorted_population = [x for _, x in sorted(zip(fitness_scores, population), key=lambda pair: pair[0], reverse=True)]\n",
    "            population = sorted_population[:-n_restart_individuals] + [generate_individual(seed_tracker.gi_seed, N_GENES) for _ in range(n_restart_individuals)]\n",
    "            no_improvement = 0 # reset \n",
    "        else: # early stopping\n",
    "            broken = True\n",
    "            break\n",
    "            \n",
    "    # randomly replace bottom percent of individuals every n generations\n",
    "    if gen % restart_n_iterations == 0 and gen != 0:\n",
    "        # randomly replace a subet of the population\n",
    "        sorted_population = [x for _, x in sorted(zip(fitness_scores, population), key=lambda pair: pair[0], reverse=True)]\n",
    "        population = sorted_population[:-n_restart_individuals] + [generate_individual(seed_tracker.gi_seed, N_GENES) for _ in range(n_restart_individuals)]\n",
    "        \n",
    "    \n",
    "    score_tracker.loc[gen, :] = fitness_scores\n",
    "    \n",
    "#     # Selection: keep top 50% (elitism)\n",
    "#     sorted_pop = [x for _, x in sorted(zip(fitness_scores, population), key=lambda pair: pair[0], reverse=True)]\n",
    "#     population = sorted_pop[:POP_SIZE // 2]\n",
    "\n",
    "    # Selection: Rank selection\n",
    "    population = rank_selection(seed = seed_tracker.rs_seed, \n",
    "                                pop = population, \n",
    "                                scores = fitness_scores, \n",
    "                                num_selected = POP_SIZE //2)\n",
    "\n",
    "    # Reproduction: crossover\n",
    "    offspring = []\n",
    "#     while len(offspring) + len(population) < POP_SIZE:\n",
    "    while len(offspring) < POP_SIZE - len(population):\n",
    "        random.seed(seed_tracker.offspring_1)\n",
    "        p1, p2 = random.sample(population, 2)\n",
    "        \n",
    "        # limit cut range from 20 - 80% of parents\n",
    "        min_cut = int(N_GENES * 0.2)\n",
    "        max_cut = int(N_GENES * 0.8)\n",
    "        \n",
    "        random.seed(seed_tracker.offspring_2)\n",
    "        cut = random.randint(min_cut, max_cut) # random.randint(1, N_GENES - 2)\n",
    "        child = list(dict.fromkeys(p1[:cut] + p2[cut:]))  # remove duplicates while preserving order\n",
    "\n",
    "        # If child has < 50 genes, fill with random unused features\n",
    "        unused = list(set(all_features) - set(child))\n",
    "        random.seed(seed_tracker.offspring_3)\n",
    "        child += random.sample(unused, N_GENES - len(child))\n",
    "        offspring.append(child)\n",
    "        \n",
    "    # MUTATION\n",
    "    for child in offspring:\n",
    "        for i in range(N_GENES):\n",
    "            random.seed(seed_tracker.mutation_seed_1)\n",
    "            if random.random() < GENE_MUTATION_RATE:\n",
    "                # Replace current gene with a random, unused gene\n",
    "                available_genes = list(set(all_features) - set(child))\n",
    "                if available_genes:  # make sure there's something to choose from\n",
    "                    random.seed(seed_tracker.mutation_seed_2)\n",
    "                    new_gene = random.choice(available_genes)\n",
    "                    child[i] = new_gene\n",
    "\n",
    "    # Form new population\n",
    "    population += offspring\n",
    "    if len(population) != POP_SIZE:\n",
    "        raise ValueError('Something went wrong here')\n",
    "        \n",
    "        \n",
    "    if (gen % 10 == 0) and gen != 0:\n",
    "        score_tracker.to_csv(os.path.join(data_path, 'processed', 'joint_interaction_residuals_ga_scores_sets' + fn + '.csv'))\n",
    "\n",
    "        with open(os.path.join(data_path, 'interim', 'joint_interaction_residuals_ga_solution_sets' + fn + '.txt'), \"w\") as f:\n",
    "            for item in best_set:\n",
    "                f.write(f\"{item}\\n\")\n",
    "\n",
    "# --- Final evaluation ---\n",
    "if not broken:\n",
    "    final_scores = [evaluate_solution(ind) for ind in tqdm(population)]\n",
    "    score_tracker.loc[score_tracker.shape[0], :] = final_scores\n",
    "    \n",
    "score_tracker.to_csv(os.path.join(data_path, 'processed', 'joint_interaction_residuals_ga_scores_sets' + fn + '.csv'))\n",
    "\n",
    "with open(os.path.join(data_path, 'interim', 'joint_interaction_residuals_ga_solution_sets' + fn + '.txt'), \"w\") as f:\n",
    "    for item in best_set:\n",
    "        f.write(f\"{item}\\n\")\n"
   ]
  },
  {
   "cell_type": "markdown",
   "id": "918f4780",
   "metadata": {},
   "source": [
    "# checkpoint: waiting on top400"
   ]
  },
  {
   "cell_type": "code",
   "execution_count": 156,
   "id": "d8beceff",
   "metadata": {},
   "outputs": [
    {
     "name": "stdout",
     "output_type": "stream",
     "text": [
      "Best score: 1.0666\n"
     ]
    }
   ],
   "source": [
    "feature_type = 'transcription_factors'\n",
    "fn_map = {'all': '', 'top400': \n",
    "          'top400', \n",
    "          'enriched': 'enriched', \n",
    "         'transcription_factors': 'tfs', \n",
    "         'cancer_gene_consensus': 'cgc', \n",
    "         'cancer_cell_map': 'ccm'}\n",
    "fn = fn_map[feature_type]\n",
    "\n",
    "score_tracker = pd.read_csv(os.path.join(data_path, 'processed', 'joint_interaction_residuals_ga_scores_sets' + fn + '.csv'), \n",
    "                           index_col = 0)\n",
    "with open(os.path.join(data_path, 'interim', 'joint_interaction_residuals_ga_solution_sets' + fn + '.txt'), \"r\") as f:\n",
    "    best_set = [line.strip() for line in f]\n",
    "    \n",
    "if not np.allclose(evaluate_solution(best_set), \n",
    "                   score_tracker.max().max()):\n",
    "    raise ValueError('The best set is incongruous with the final generation')\n",
    "    \n",
    "model_coefs = pd.read_csv(os.path.join(data_path, 'interim', 'joint_features.csv'), \n",
    "                          index_col = 0)\n",
    "model_coefs.sort_values(by='SVM coefficient', key=lambda x: x.abs(), ascending=False, inplace=True)\n",
    "model_coefs.set_index('feature_name', inplace = True)\n",
    "\n",
    "print(\"Best score: {:.4f}\".format(score_tracker.max().max()))\n"
   ]
  },
  {
   "cell_type": "code",
   "execution_count": 157,
   "id": "5d621415",
   "metadata": {},
   "outputs": [
    {
     "data": {
      "text/plain": [
       "''"
      ]
     },
     "execution_count": 157,
     "metadata": {},
     "output_type": "execute_result"
    },
    {
     "data": {
      "image/png": "[encoded data removed]",
      "text/plain": [
       "<Figure size 500x500 with 1 Axes>"
      ]
     },
     "metadata": {},
     "output_type": "display_data"
    }
   ],
   "source": [
    "fig , ax = plt.subplots(ncols = 1, figsize = (5,5))\n",
    "\n",
    "viz_df = score_tracker.copy()\n",
    "viz_df['generation'] = range(viz_df.shape[0])\n",
    "viz_df = pd.melt(viz_df, id_vars='generation', value_name='fitness_score')\n",
    "sns.lineplot(data = viz_df, x = 'generation', y = 'fitness_score', label = 'Average Fitness')\n",
    "\n",
    "viz_df = pd.DataFrame(score_tracker.max(axis = 1), columns = ['fitness_score'])\n",
    "viz_df.reset_index(names = 'generation', inplace = True)\n",
    "sns.lineplot(data = viz_df, x = 'generation', y = 'fitness_score', label = 'Maximum Fitness')\n",
    "ax.set_ylabel('Fitness Score')\n",
    ";\n"
   ]
  },
  {
   "cell_type": "code",
   "execution_count": 160,
   "id": "c9442225",
   "metadata": {},
   "outputs": [],
   "source": [
    "features = best_set\n",
    "feature_combs = list(itertools.combinations(features, 2))\n"
   ]
  },
  {
   "cell_type": "code",
   "execution_count": 161,
   "id": "7f5c7d4d",
   "metadata": {},
   "outputs": [
    {
     "name": "stderr",
     "output_type": "stream",
     "text": [
      "100%|████████████████████████████████████████| 300/300 [00:02<00:00, 142.04it/s]\n"
     ]
    }
   ],
   "source": [
    "res_all = []\n",
    "for feature_comb in tqdm(feature_combs):\n",
    "    res = get_interaction_value(feature_comb[0], feature_comb[1], residuals, X_map, model_coefs)\n",
    "    res_all.append(res)\n",
    "\n",
    "res_all = pd.DataFrame(res_all, columns = ['coef', 'pval', 't_statistic'])\n",
    "_, bh_fdr, _, _ = multipletests(res_all.pval, method='fdr_bh')\n",
    "res_all['bh_fdr'] = bh_fdr\n",
    "\n",
    "res_all = pd.concat([\n",
    "    pd.DataFrame(feature_combs, columns = ['feature_1', 'feature_2']),\n",
    "    res_all\n",
    "],\n",
    "    axis = 1)\n"
   ]
  },
  {
   "cell_type": "markdown",
   "id": "7f287ed2",
   "metadata": {},
   "source": [
    "Let's see how the t-statistic vs coefficient contributed to thes score:"
   ]
  },
  {
   "cell_type": "code",
   "execution_count": 162,
   "id": "5cecf589",
   "metadata": {},
   "outputs": [],
   "source": [
    "ALPHA = 0.2\n",
    "res_all['coef_scaled'] = np.log1p(res_all.coef.abs())*ALPHA\n",
    "\n",
    "res_all['t_statistic_scaled'] = np.log1p(res_all.t_statistic) * (1-ALPHA)\n",
    "\n",
    "res_all['fitness_score'] = res_all.coef_scaled + res_all.t_statistic_scaled\n",
    "\n",
    "if not np.isclose(np.median(res_all.fitness_score), \n",
    "                  score_tracker.max().max()):\n",
    "    raise ValueError('Something went wrong in recreating the score')\n",
    "                  "
   ]
  },
  {
   "cell_type": "code",
   "execution_count": 163,
   "id": "3f2999ba",
   "metadata": {},
   "outputs": [
    {
     "data": {
      "text/plain": [
       "<Axes: xlabel='t_statistic_scaled', ylabel='coef_scaled'>"
      ]
     },
     "execution_count": 163,
     "metadata": {},
     "output_type": "execute_result"
    },
    {
     "data": {
      "image/png": "[encoded data removed]",
      "text/plain": [
       "<Figure size 640x480 with 1 Axes>"
      ]
     },
     "metadata": {},
     "output_type": "display_data"
    }
   ],
   "source": [
    "fig, ax = plt.subplots()\n",
    "sns.scatterplot(data = res_all, y = 'coef_scaled', x = 't_statistic_scaled')\n"
   ]
  },
  {
   "cell_type": "code",
   "execution_count": 164,
   "id": "492f9e45",
   "metadata": {},
   "outputs": [
    {
     "data": {
      "text/plain": [
       "np.float64(0.008580421228270622)"
      ]
     },
     "execution_count": 164,
     "metadata": {},
     "output_type": "execute_result"
    }
   ],
   "source": [
    "res_all.pval.min()"
   ]
  },
  {
   "cell_type": "code",
   "execution_count": 165,
   "id": "bbbb234c",
   "metadata": {},
   "outputs": [
    {
     "data": {
      "text/plain": [
       "np.float64(0.6542741575814762)"
      ]
     },
     "execution_count": 165,
     "metadata": {},
     "output_type": "execute_result"
    }
   ],
   "source": [
    "res_all.bh_fdr.min()"
   ]
  },
  {
   "cell_type": "code",
   "execution_count": 166,
   "id": "dd6d3cdf",
   "metadata": {},
   "outputs": [
    {
     "data": {
      "text/plain": [
       "(0, 9)"
      ]
     },
     "execution_count": 166,
     "metadata": {},
     "output_type": "execute_result"
    }
   ],
   "source": [
    "res_all[res_all.bh_fdr <= 0.2].shape"
   ]
  },
  {
   "cell_type": "code",
   "execution_count": 168,
   "id": "4d629641",
   "metadata": {},
   "outputs": [
    {
     "data": {
      "text/plain": [
       "np.float64(1027.9854501046964)"
      ]
     },
     "execution_count": 168,
     "metadata": {},
     "output_type": "execute_result"
    }
   ],
   "source": [
    "res_all.coef.abs().max()"
   ]
  },
  {
   "cell_type": "markdown",
   "id": "1a156c10",
   "metadata": {},
   "source": [
    "# to do: calculate p-values as done in metabolomics"
   ]
  },
  {
   "cell_type": "markdown",
   "id": "72d4a73a",
   "metadata": {},
   "source": [
    "# to do: use permutation test from other script to ensure that optimizing fitness on t-statistic doesn't mean p-hacking"
   ]
  },
  {
   "cell_type": "code",
   "execution_count": null,
   "id": "7f94f191",
   "metadata": {},
   "outputs": [],
   "source": []
  }
 ],
 "metadata": {
  "kernelspec": {
   "display_name": "Python [conda env:metastatic_potential]",
   "language": "python",
   "name": "conda-env-metastatic_potential-py"
  },
  "language_info": {
   "codemirror_mode": {
    "name": "ipython",
    "version": 3
   },
   "file_extension": ".py",
   "mimetype": "text/x-python",
   "name": "python",
   "nbconvert_exporter": "python",
   "pygments_lexer": "ipython3",
   "version": "3.13.0"
  }
 },
 "nbformat": 4,
 "nbformat_minor": 5
}
