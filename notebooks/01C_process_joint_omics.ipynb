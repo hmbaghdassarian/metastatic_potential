{
 "cells": [
  {
   "cell_type": "code",
   "execution_count": 4,
   "id": "758bde8d",
   "metadata": {},
   "outputs": [],
   "source": [
    "import os\n",
    "\n",
    "import pandas as pd"
   ]
  },
  {
   "cell_type": "code",
   "execution_count": 5,
   "id": "b14b6f03",
   "metadata": {},
   "outputs": [],
   "source": [
    "seed = 42\n",
    "data_path = '/nobackup/users/hmbaghda/metastatic_potential/'"
   ]
  },
  {
   "cell_type": "code",
   "execution_count": 56,
   "id": "d3a94544",
   "metadata": {},
   "outputs": [],
   "source": [
    "expr_protein = pd.read_csv(os.path.join(data_path, 'processed',  'expr_protein.csv'), index_col = 0)\n",
    "mp_protein = pd.read_csv(os.path.join(data_path, 'processed', 'metastatic_potential_protein.csv'), index_col = 0)\n",
    "\n",
    "expr_rna = pd.read_csv(os.path.join(data_path, 'processed',  'expr.csv'), index_col = 0)\n",
    "mp_rna = pd.read_csv(os.path.join(data_path, 'processed',  'expr.csv'))\n",
    "\n",
    "md = pd.read_csv(os.path.join(data_path, 'raw', 'Model.csv'), index_col = 0)\n"
   ]
  },
  {
   "cell_type": "code",
   "execution_count": 59,
   "id": "cc416f46",
   "metadata": {},
   "outputs": [],
   "source": [
    "expr_protein.index = pd.Series(expr_protein.index).apply(lambda x: x.split('_')[0])\n",
    "\n",
    "sample_mapper = md[md.StrippedCellLineName.isin(expr_protein.index)]\n",
    "sample_mapper = dict(zip(sample_mapper.StrippedCellLineName, sample_mapper.index))\n",
    "if len(sample_mapper) != expr_protein.shape[0]:\n",
    "    raise ValueError('Expect all samples to be mapped')\n",
    "expr_protein.index = expr_protein.index.map(sample_mapper)\n",
    "mp_protein.index = expr_protein.index"
   ]
  },
  {
   "cell_type": "code",
   "execution_count": 65,
   "id": "69866518",
   "metadata": {},
   "outputs": [
    {
     "name": "stdout",
     "output_type": "stream",
     "text": [
      "Of the 251 and 481 samples in protein and RNA datasets, respectively, 250 are shared\n"
     ]
    }
   ],
   "source": [
    "common_samples = sorted(set(expr_protein.index).intersection(expr_rna.index))\n",
    "\n",
    "print('Of the {} and {} samples in protein and RNA datasets, respectively, {} are shared'.format(expr_protein.shape[0], \n",
    "                                                                                                expr_rna.shape[0], \n",
    "                                                                                                len(common_samples)))"
   ]
  },
  {
   "cell_type": "code",
   "execution_count": 66,
   "id": "ab3f056f",
   "metadata": {},
   "outputs": [],
   "source": [
    "expr_protein = expr_protein.loc[common_samples, :]\n",
    "expr_rna = expr_rna.loc[common_samples, :]\n",
    "mp = mp_protein.loc[common_samples, :]\n",
    "\n",
    "expr = pd.concat([expr_protein, expr_rna], axis = 1, ignore_index = False)\n",
    "mp.to_csv(os.path.join(data_path, 'processed', 'metastatic_potential_joint.csv'))\n",
    "expr.to_csv(os.path.join(data_path, 'processed', 'expr_joint.csv'))"
   ]
  }
 ],
 "metadata": {
  "kernelspec": {
   "display_name": "Python [conda env:metastatic_potential]",
   "language": "python",
   "name": "conda-env-metastatic_potential-py"
  },
  "language_info": {
   "codemirror_mode": {
    "name": "ipython",
    "version": 3
   },
   "file_extension": ".py",
   "mimetype": "text/x-python",
   "name": "python",
   "nbconvert_exporter": "python",
   "pygments_lexer": "ipython3",
   "version": "3.13.0"
  }
 },
 "nbformat": 4,
 "nbformat_minor": 5
}
